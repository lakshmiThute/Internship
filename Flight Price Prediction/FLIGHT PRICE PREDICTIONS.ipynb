{
 "cells": [
  {
   "cell_type": "code",
   "execution_count": 1,
   "id": "380a25ee",
   "metadata": {},
   "outputs": [],
   "source": [
    "# Importing necessary libraries.\n",
    "\n",
    "import pandas as pd\n",
    "import numpy as np\n",
    "import seaborn as sns\n",
    "import matplotlib.pyplot as plt\n",
    "import warnings\n",
    "warnings.filterwarnings('ignore')"
   ]
  },
  {
   "cell_type": "markdown",
   "id": "1dca4297",
   "metadata": {},
   "source": [
    "# Data Collection And Pre-processing"
   ]
  },
  {
   "cell_type": "code",
   "execution_count": 2,
   "id": "a4d2fb6a",
   "metadata": {},
   "outputs": [],
   "source": [
    "# Collectiong data from a csv file.\n",
    "data=pd.read_csv('Flight_data.csv')"
   ]
  },
  {
   "cell_type": "code",
   "execution_count": 3,
   "id": "eb732aed",
   "metadata": {},
   "outputs": [
    {
     "data": {
      "text/html": [
       "<div>\n",
       "<style scoped>\n",
       "    .dataframe tbody tr th:only-of-type {\n",
       "        vertical-align: middle;\n",
       "    }\n",
       "\n",
       "    .dataframe tbody tr th {\n",
       "        vertical-align: top;\n",
       "    }\n",
       "\n",
       "    .dataframe thead th {\n",
       "        text-align: right;\n",
       "    }\n",
       "</style>\n",
       "<table border=\"1\" class=\"dataframe\">\n",
       "  <thead>\n",
       "    <tr style=\"text-align: right;\">\n",
       "      <th></th>\n",
       "      <th>Unnamed: 0</th>\n",
       "      <th>Airline</th>\n",
       "      <th>Destination</th>\n",
       "      <th>Source</th>\n",
       "      <th>Arrival_time</th>\n",
       "      <th>Departure_time</th>\n",
       "      <th>Total_Stops</th>\n",
       "      <th>Total_Duration</th>\n",
       "      <th>Additional_Info</th>\n",
       "      <th>Price</th>\n",
       "    </tr>\n",
       "  </thead>\n",
       "  <tbody>\n",
       "    <tr>\n",
       "      <th>0</th>\n",
       "      <td>0</td>\n",
       "      <td>SpiceJet</td>\n",
       "      <td>Goa</td>\n",
       "      <td>Chennai</td>\n",
       "      <td>22:00</td>\n",
       "      <td>03:15\\n+ 1 day</td>\n",
       "      <td>1 Stop</td>\n",
       "      <td>5h 15m</td>\n",
       "      <td>Free Meal</td>\n",
       "      <td>7,198</td>\n",
       "    </tr>\n",
       "    <tr>\n",
       "      <th>1</th>\n",
       "      <td>1</td>\n",
       "      <td>SpiceJet</td>\n",
       "      <td>Goa</td>\n",
       "      <td>Chennai</td>\n",
       "      <td>22:00</td>\n",
       "      <td>17:05\\n+ 1 day</td>\n",
       "      <td>1 Stop</td>\n",
       "      <td>19h 05m</td>\n",
       "      <td>Free Meal</td>\n",
       "      <td>7,198</td>\n",
       "    </tr>\n",
       "    <tr>\n",
       "      <th>2</th>\n",
       "      <td>2</td>\n",
       "      <td>IndiGo</td>\n",
       "      <td>Goa</td>\n",
       "      <td>Chennai</td>\n",
       "      <td>22:20</td>\n",
       "      <td>06:15\\n+ 1 day</td>\n",
       "      <td>1 Stop</td>\n",
       "      <td>7h 55m</td>\n",
       "      <td>Free Meal</td>\n",
       "      <td>7,476</td>\n",
       "    </tr>\n",
       "    <tr>\n",
       "      <th>3</th>\n",
       "      <td>3</td>\n",
       "      <td>Air India</td>\n",
       "      <td>Goa</td>\n",
       "      <td>Chennai</td>\n",
       "      <td>15:25</td>\n",
       "      <td>22:20</td>\n",
       "      <td>1 Stop</td>\n",
       "      <td>6h 55m</td>\n",
       "      <td>Free Meal</td>\n",
       "      <td>7,587</td>\n",
       "    </tr>\n",
       "    <tr>\n",
       "      <th>4</th>\n",
       "      <td>4</td>\n",
       "      <td>Air India</td>\n",
       "      <td>Goa</td>\n",
       "      <td>Chennai</td>\n",
       "      <td>21:40</td>\n",
       "      <td>22:20\\n+ 1 day</td>\n",
       "      <td>1 Stop</td>\n",
       "      <td>24h 40m</td>\n",
       "      <td>Free Meal</td>\n",
       "      <td>7,587</td>\n",
       "    </tr>\n",
       "  </tbody>\n",
       "</table>\n",
       "</div>"
      ],
      "text/plain": [
       "   Unnamed: 0    Airline Destination   Source Arrival_time  Departure_time  \\\n",
       "0           0   SpiceJet         Goa  Chennai        22:00  03:15\\n+ 1 day   \n",
       "1           1   SpiceJet         Goa  Chennai        22:00  17:05\\n+ 1 day   \n",
       "2           2     IndiGo         Goa  Chennai        22:20  06:15\\n+ 1 day   \n",
       "3           3  Air India         Goa  Chennai        15:25           22:20   \n",
       "4           4  Air India         Goa  Chennai        21:40  22:20\\n+ 1 day   \n",
       "\n",
       "  Total_Stops Total_Duration Additional_Info  Price  \n",
       "0      1 Stop         5h 15m       Free Meal  7,198  \n",
       "1      1 Stop        19h 05m       Free Meal  7,198  \n",
       "2      1 Stop         7h 55m       Free Meal  7,476  \n",
       "3      1 Stop         6h 55m       Free Meal  7,587  \n",
       "4      1 Stop        24h 40m       Free Meal  7,587  "
      ]
     },
     "execution_count": 3,
     "metadata": {},
     "output_type": "execute_result"
    }
   ],
   "source": [
    "data.head()"
   ]
  },
  {
   "cell_type": "code",
   "execution_count": 4,
   "id": "3f37f0b5",
   "metadata": {},
   "outputs": [],
   "source": [
    "# Replacing the ',' character from price column.\n",
    "data['Price']=data['Price'].str.replace(',','')"
   ]
  },
  {
   "cell_type": "code",
   "execution_count": 5,
   "id": "57e26ab1",
   "metadata": {},
   "outputs": [
    {
     "data": {
      "text/html": [
       "<div>\n",
       "<style scoped>\n",
       "    .dataframe tbody tr th:only-of-type {\n",
       "        vertical-align: middle;\n",
       "    }\n",
       "\n",
       "    .dataframe tbody tr th {\n",
       "        vertical-align: top;\n",
       "    }\n",
       "\n",
       "    .dataframe thead th {\n",
       "        text-align: right;\n",
       "    }\n",
       "</style>\n",
       "<table border=\"1\" class=\"dataframe\">\n",
       "  <thead>\n",
       "    <tr style=\"text-align: right;\">\n",
       "      <th></th>\n",
       "      <th>Unnamed: 0</th>\n",
       "      <th>Airline</th>\n",
       "      <th>Destination</th>\n",
       "      <th>Source</th>\n",
       "      <th>Arrival_time</th>\n",
       "      <th>Departure_time</th>\n",
       "      <th>Total_Stops</th>\n",
       "      <th>Total_Duration</th>\n",
       "      <th>Additional_Info</th>\n",
       "      <th>Price</th>\n",
       "    </tr>\n",
       "  </thead>\n",
       "  <tbody>\n",
       "    <tr>\n",
       "      <th>0</th>\n",
       "      <td>0</td>\n",
       "      <td>SpiceJet</td>\n",
       "      <td>Goa</td>\n",
       "      <td>Chennai</td>\n",
       "      <td>22:00</td>\n",
       "      <td>03:15\\n+ 1 day</td>\n",
       "      <td>1 Stop</td>\n",
       "      <td>5h 15m</td>\n",
       "      <td>Free Meal</td>\n",
       "      <td>7198</td>\n",
       "    </tr>\n",
       "    <tr>\n",
       "      <th>1</th>\n",
       "      <td>1</td>\n",
       "      <td>SpiceJet</td>\n",
       "      <td>Goa</td>\n",
       "      <td>Chennai</td>\n",
       "      <td>22:00</td>\n",
       "      <td>17:05\\n+ 1 day</td>\n",
       "      <td>1 Stop</td>\n",
       "      <td>19h 05m</td>\n",
       "      <td>Free Meal</td>\n",
       "      <td>7198</td>\n",
       "    </tr>\n",
       "  </tbody>\n",
       "</table>\n",
       "</div>"
      ],
      "text/plain": [
       "   Unnamed: 0   Airline Destination   Source Arrival_time  Departure_time  \\\n",
       "0           0  SpiceJet         Goa  Chennai        22:00  03:15\\n+ 1 day   \n",
       "1           1  SpiceJet         Goa  Chennai        22:00  17:05\\n+ 1 day   \n",
       "\n",
       "  Total_Stops Total_Duration Additional_Info Price  \n",
       "0      1 Stop         5h 15m       Free Meal  7198  \n",
       "1      1 Stop        19h 05m       Free Meal  7198  "
      ]
     },
     "execution_count": 5,
     "metadata": {},
     "output_type": "execute_result"
    }
   ],
   "source": [
    "data.head(2)"
   ]
  },
  {
   "cell_type": "code",
   "execution_count": 6,
   "id": "5ff3ff7d",
   "metadata": {},
   "outputs": [
    {
     "data": {
      "text/html": [
       "<div>\n",
       "<style scoped>\n",
       "    .dataframe tbody tr th:only-of-type {\n",
       "        vertical-align: middle;\n",
       "    }\n",
       "\n",
       "    .dataframe tbody tr th {\n",
       "        vertical-align: top;\n",
       "    }\n",
       "\n",
       "    .dataframe thead th {\n",
       "        text-align: right;\n",
       "    }\n",
       "</style>\n",
       "<table border=\"1\" class=\"dataframe\">\n",
       "  <thead>\n",
       "    <tr style=\"text-align: right;\">\n",
       "      <th></th>\n",
       "      <th>Unnamed: 0</th>\n",
       "      <th>Airline</th>\n",
       "      <th>Destination</th>\n",
       "      <th>Source</th>\n",
       "      <th>Arrival_time</th>\n",
       "      <th>Departure_time</th>\n",
       "      <th>Total_Stops</th>\n",
       "      <th>Total_Duration</th>\n",
       "      <th>Additional_Info</th>\n",
       "      <th>Price</th>\n",
       "    </tr>\n",
       "  </thead>\n",
       "  <tbody>\n",
       "    <tr>\n",
       "      <th>1587</th>\n",
       "      <td>1587</td>\n",
       "      <td>Vistara</td>\n",
       "      <td>Goa</td>\n",
       "      <td>Bangalore</td>\n",
       "      <td>07:00</td>\n",
       "      <td>21:20</td>\n",
       "      <td>1 Stop</td>\n",
       "      <td>14h 20m</td>\n",
       "      <td>NaN</td>\n",
       "      <td>24799</td>\n",
       "    </tr>\n",
       "    <tr>\n",
       "      <th>1588</th>\n",
       "      <td>1588</td>\n",
       "      <td>Vistara</td>\n",
       "      <td>Goa</td>\n",
       "      <td>Bangalore</td>\n",
       "      <td>06:40</td>\n",
       "      <td>12:45</td>\n",
       "      <td>1 Stop</td>\n",
       "      <td>6h 05m</td>\n",
       "      <td>NaN</td>\n",
       "      <td>26059</td>\n",
       "    </tr>\n",
       "    <tr>\n",
       "      <th>1589</th>\n",
       "      <td>1589</td>\n",
       "      <td>Air India</td>\n",
       "      <td>Goa</td>\n",
       "      <td>Bangalore</td>\n",
       "      <td>21:20</td>\n",
       "      <td>00:40\\n+ 2 days</td>\n",
       "      <td>1 Stop</td>\n",
       "      <td>27h 20m</td>\n",
       "      <td>NaN</td>\n",
       "      <td>27634</td>\n",
       "    </tr>\n",
       "    <tr>\n",
       "      <th>1590</th>\n",
       "      <td>1590</td>\n",
       "      <td>Air India</td>\n",
       "      <td>Goa</td>\n",
       "      <td>Bangalore</td>\n",
       "      <td>21:20</td>\n",
       "      <td>13:35\\n+ 1 day</td>\n",
       "      <td>1 Stop</td>\n",
       "      <td>16h 15m</td>\n",
       "      <td>NaN</td>\n",
       "      <td>30364</td>\n",
       "    </tr>\n",
       "    <tr>\n",
       "      <th>1591</th>\n",
       "      <td>1591</td>\n",
       "      <td>Vistara</td>\n",
       "      <td>Goa</td>\n",
       "      <td>Bangalore</td>\n",
       "      <td>09:30</td>\n",
       "      <td>21:20</td>\n",
       "      <td>3 Stop(s)</td>\n",
       "      <td>11h 50m</td>\n",
       "      <td>NaN</td>\n",
       "      <td>32956</td>\n",
       "    </tr>\n",
       "  </tbody>\n",
       "</table>\n",
       "</div>"
      ],
      "text/plain": [
       "      Unnamed: 0    Airline Destination     Source Arrival_time  \\\n",
       "1587        1587    Vistara         Goa  Bangalore        07:00   \n",
       "1588        1588    Vistara         Goa  Bangalore        06:40   \n",
       "1589        1589  Air India         Goa  Bangalore        21:20   \n",
       "1590        1590  Air India         Goa  Bangalore        21:20   \n",
       "1591        1591    Vistara         Goa  Bangalore        09:30   \n",
       "\n",
       "       Departure_time Total_Stops Total_Duration Additional_Info  Price  \n",
       "1587            21:20      1 Stop        14h 20m             NaN  24799  \n",
       "1588            12:45      1 Stop         6h 05m             NaN  26059  \n",
       "1589  00:40\\n+ 2 days      1 Stop        27h 20m             NaN  27634  \n",
       "1590   13:35\\n+ 1 day      1 Stop        16h 15m             NaN  30364  \n",
       "1591            21:20   3 Stop(s)        11h 50m             NaN  32956  "
      ]
     },
     "execution_count": 6,
     "metadata": {},
     "output_type": "execute_result"
    }
   ],
   "source": [
    "data.tail()"
   ]
  },
  {
   "cell_type": "code",
   "execution_count": 7,
   "id": "a6426a2c",
   "metadata": {},
   "outputs": [
    {
     "data": {
      "text/plain": [
       "(1592, 10)"
      ]
     },
     "execution_count": 7,
     "metadata": {},
     "output_type": "execute_result"
    }
   ],
   "source": [
    "# Checking Shape of dataset.\n",
    "data.shape"
   ]
  },
  {
   "cell_type": "markdown",
   "id": "50f9fe2f",
   "metadata": {},
   "source": [
    "The dataset contains 1592 rows and 10 columns."
   ]
  },
  {
   "cell_type": "code",
   "execution_count": 8,
   "id": "3394310c",
   "metadata": {},
   "outputs": [
    {
     "name": "stdout",
     "output_type": "stream",
     "text": [
      "<class 'pandas.core.frame.DataFrame'>\n",
      "RangeIndex: 1592 entries, 0 to 1591\n",
      "Data columns (total 10 columns):\n",
      " #   Column           Non-Null Count  Dtype \n",
      "---  ------           --------------  ----- \n",
      " 0   Unnamed: 0       1592 non-null   int64 \n",
      " 1   Airline          1592 non-null   object\n",
      " 2   Destination      1592 non-null   object\n",
      " 3   Source           1592 non-null   object\n",
      " 4   Arrival_time     1592 non-null   object\n",
      " 5   Departure_time   1592 non-null   object\n",
      " 6   Total_Stops      1592 non-null   object\n",
      " 7   Total_Duration   1592 non-null   object\n",
      " 8   Additional_Info  1028 non-null   object\n",
      " 9   Price            1592 non-null   object\n",
      "dtypes: int64(1), object(9)\n",
      "memory usage: 124.5+ KB\n"
     ]
    }
   ],
   "source": [
    "# Data summary.\n",
    "data.info()"
   ]
  },
  {
   "cell_type": "code",
   "execution_count": 9,
   "id": "8fb7215e",
   "metadata": {},
   "outputs": [
    {
     "data": {
      "text/plain": [
       "Unnamed: 0           0\n",
       "Airline              0\n",
       "Destination          0\n",
       "Source               0\n",
       "Arrival_time         0\n",
       "Departure_time       0\n",
       "Total_Stops          0\n",
       "Total_Duration       0\n",
       "Additional_Info    564\n",
       "Price                0\n",
       "dtype: int64"
      ]
     },
     "execution_count": 9,
     "metadata": {},
     "output_type": "execute_result"
    }
   ],
   "source": [
    "# Checking null values.\n",
    "data.isnull().sum()"
   ]
  },
  {
   "cell_type": "markdown",
   "id": "e11ac83a",
   "metadata": {},
   "source": [
    "Here after checking the null values and data info, we can see only additional info column contain null values."
   ]
  },
  {
   "cell_type": "code",
   "execution_count": 10,
   "id": "c9ab5288",
   "metadata": {},
   "outputs": [
    {
     "data": {
      "text/plain": [
       "<AxesSubplot:>"
      ]
     },
     "execution_count": 10,
     "metadata": {},
     "output_type": "execute_result"
    },
    {
     "data": {
      "image/png": "[encoded data removed]",
      "text/plain": [
       "<Figure size 432x288 with 2 Axes>"
      ]
     },
     "metadata": {
      "needs_background": "light"
     },
     "output_type": "display_data"
    }
   ],
   "source": [
    "# Checking the null values using heatmap.\n",
    "sns.heatmap(data.isnull())"
   ]
  },
  {
   "cell_type": "markdown",
   "id": "7011e41d",
   "metadata": {},
   "source": [
    "We will handle missing values using mode imputation as it is categorical column."
   ]
  },
  {
   "cell_type": "code",
   "execution_count": 11,
   "id": "3c40acea",
   "metadata": {},
   "outputs": [],
   "source": [
    "data['Additional_Info'].fillna(data['Additional_Info'].mode()[0], inplace=True)"
   ]
  },
  {
   "cell_type": "code",
   "execution_count": 12,
   "id": "a37f1995",
   "metadata": {},
   "outputs": [
    {
     "data": {
      "text/plain": [
       "<AxesSubplot:>"
      ]
     },
     "execution_count": 12,
     "metadata": {},
     "output_type": "execute_result"
    },
    {
     "data": {
      "image/png": "[encoded data removed]",
      "text/plain": [
       "<Figure size 432x288 with 2 Axes>"
      ]
     },
     "metadata": {
      "needs_background": "light"
     },
     "output_type": "display_data"
    }
   ],
   "source": [
    "sns.heatmap(data.isnull())"
   ]
  },
  {
   "cell_type": "markdown",
   "id": "c3009aa7",
   "metadata": {},
   "source": [
    "We have successfully handle the missing value."
   ]
  },
  {
   "cell_type": "code",
   "execution_count": 13,
   "id": "014f8bd0",
   "metadata": {},
   "outputs": [
    {
     "data": {
      "text/plain": [
       "Unnamed: 0         1592\n",
       "Airline               7\n",
       "Destination           8\n",
       "Source                7\n",
       "Arrival_time        221\n",
       "Departure_time      331\n",
       "Total_Stops           4\n",
       "Total_Duration      339\n",
       "Additional_Info       2\n",
       "Price               658\n",
       "dtype: int64"
      ]
     },
     "execution_count": 13,
     "metadata": {},
     "output_type": "execute_result"
    }
   ],
   "source": [
    "# Checking the unique values.\n",
    "data.nunique()"
   ]
  },
  {
   "cell_type": "markdown",
   "id": "d0d8fb2e",
   "metadata": {},
   "source": [
    "Almost all column contains unique values."
   ]
  },
  {
   "cell_type": "code",
   "execution_count": 14,
   "id": "986f194b",
   "metadata": {},
   "outputs": [],
   "source": [
    "# We will remove the 'unnamed column' as it is irrelevent and only contain unique values.\n",
    "data.drop('Unnamed: 0',axis=1,inplace=True)"
   ]
  },
  {
   "cell_type": "code",
   "execution_count": 15,
   "id": "d7dcc96f",
   "metadata": {},
   "outputs": [
    {
     "data": {
      "text/plain": [
       "Index(['Airline', 'Destination', 'Source', 'Arrival_time', 'Departure_time',\n",
       "       'Total_Stops', 'Total_Duration', 'Additional_Info', 'Price'],\n",
       "      dtype='object')"
      ]
     },
     "execution_count": 15,
     "metadata": {},
     "output_type": "execute_result"
    }
   ],
   "source": [
    "# Checking the dataset columns.\n",
    "data.columns"
   ]
  },
  {
   "cell_type": "markdown",
   "id": "4cd164e7",
   "metadata": {},
   "source": [
    "# Exploratory Data Analysis"
   ]
  },
  {
   "cell_type": "markdown",
   "id": "d57884ae",
   "metadata": {},
   "source": [
    "# Univariate data analysis"
   ]
  },
  {
   "cell_type": "code",
   "execution_count": 16,
   "id": "a62d49fe",
   "metadata": {},
   "outputs": [
    {
     "data": {
      "image/png": "[encoded data removed]",
      "text/plain": [
       "<Figure size 576x576 with 1 Axes>"
      ]
     },
     "metadata": {
      "needs_background": "light"
     },
     "output_type": "display_data"
    },
    {
     "data": {
      "text/plain": [
       "Vistara         561\n",
       "Air India       445\n",
       "IndiGo          386\n",
       "Air Asia         86\n",
       "Go First         64\n",
       "SpiceJet         48\n",
       "Alliance Air      2\n",
       "Name: Airline, dtype: int64"
      ]
     },
     "execution_count": 16,
     "metadata": {},
     "output_type": "execute_result"
    }
   ],
   "source": [
    "# Visualizing the Airline column using countplot.\n",
    "\n",
    "plt.subplots(figsize=(8,8))\n",
    "sns.countplot(x='Airline', data=data)\n",
    "plt.title(\"Countplot of Airline\")\n",
    "plt.xticks(rotation=90)\n",
    "plt.xlabel('Airline')\n",
    "plt.ylabel(\"count\")\n",
    "plt.show()\n",
    "\n",
    "data['Airline'].value_counts()"
   ]
  },
  {
   "cell_type": "code",
   "execution_count": 17,
   "id": "6cbadcb8",
   "metadata": {},
   "outputs": [
    {
     "data": {
      "image/png": "[encoded data removed]",
      "text/plain": [
       "<Figure size 576x576 with 1 Axes>"
      ]
     },
     "metadata": {
      "needs_background": "light"
     },
     "output_type": "display_data"
    },
    {
     "data": {
      "text/plain": [
       "New Delhi    363\n",
       "Chennai      362\n",
       "Bangalore    308\n",
       "Mumbai       298\n",
       "Pune         122\n",
       "Hyderabad     93\n",
       "Kolkata       46\n",
       "Name: Source, dtype: int64"
      ]
     },
     "execution_count": 17,
     "metadata": {},
     "output_type": "execute_result"
    }
   ],
   "source": [
    "# Visualizing Source column using countplot.\n",
    "\n",
    "plt.subplots(figsize=(8,8))\n",
    "sns.countplot(x='Source', data=data)\n",
    "plt.title(\"Countplot of Source\")\n",
    "plt.xticks(rotation=90)\n",
    "plt.xlabel('Source')\n",
    "plt.ylabel(\"count\")\n",
    "plt.show()\n",
    "\n",
    "data['Source'].value_counts()"
   ]
  },
  {
   "cell_type": "code",
   "execution_count": 18,
   "id": "06c851f4",
   "metadata": {},
   "outputs": [
    {
     "data": {
      "image/png": "[encoded data removed]",
      "text/plain": [
       "<Figure size 576x576 with 1 Axes>"
      ]
     },
     "metadata": {
      "needs_background": "light"
     },
     "output_type": "display_data"
    },
    {
     "data": {
      "text/plain": [
       "New Delhi    363\n",
       "Chennai      362\n",
       "Bangalore    308\n",
       "Mumbai       298\n",
       "Pune         122\n",
       "Hyderabad     93\n",
       "Kolkata       46\n",
       "Name: Source, dtype: int64"
      ]
     },
     "execution_count": 18,
     "metadata": {},
     "output_type": "execute_result"
    }
   ],
   "source": [
    "# Visualizing Destination column using countplot.\n",
    "\n",
    "plt.subplots(figsize=(8,8))\n",
    "sns.countplot(x='Destination', data=data)\n",
    "plt.title(\"Countplot of Destination\")\n",
    "plt.xticks(rotation=90)\n",
    "plt.xlabel('Destination')\n",
    "plt.ylabel(\"count\")\n",
    "plt.show()\n",
    "\n",
    "data['Source'].value_counts()"
   ]
  },
  {
   "cell_type": "code",
   "execution_count": 19,
   "id": "57c57e8e",
   "metadata": {},
   "outputs": [
    {
     "data": {
      "image/png": "[encoded data removed]",
      "text/plain": [
       "<Figure size 576x576 with 1 Axes>"
      ]
     },
     "metadata": {
      "needs_background": "light"
     },
     "output_type": "display_data"
    },
    {
     "data": {
      "text/plain": [
       "1 Stop       1078\n",
       "2 Stop(s)     276\n",
       "Non Stop      228\n",
       "3 Stop(s)      10\n",
       "Name: Total_Stops, dtype: int64"
      ]
     },
     "execution_count": 19,
     "metadata": {},
     "output_type": "execute_result"
    }
   ],
   "source": [
    "# Visualizing Total_Stops column using countplot.\n",
    "\n",
    "plt.subplots(figsize=(8,8))\n",
    "sns.countplot(x='Total_Stops', data=data)\n",
    "plt.title(\"Countplot of Total_Stops\")\n",
    "plt.xticks(rotation=90)\n",
    "plt.xlabel('Total_Stops')\n",
    "plt.ylabel(\"count\")\n",
    "plt.show()\n",
    "\n",
    "data['Total_Stops'].value_counts()"
   ]
  },
  {
   "cell_type": "code",
   "execution_count": 20,
   "id": "e1211d8d",
   "metadata": {},
   "outputs": [
    {
     "data": {
      "image/png": "[encoded data removed]",
      "text/plain": [
       "<Figure size 360x360 with 1 Axes>"
      ]
     },
     "metadata": {
      "needs_background": "light"
     },
     "output_type": "display_data"
    },
    {
     "name": "stdout",
     "output_type": "stream",
     "text": [
      "Free Meal       1590\n",
      "No Meal Fare       2\n",
      "Name: Additional_Info, dtype: int64\n"
     ]
    }
   ],
   "source": [
    "# Visualizing Addional_Info column using countplot.\n",
    "\n",
    "plt.figure(figsize = (5,5))\n",
    "ax=sns.countplot(x=\"Additional_Info\", data=data) \n",
    "ax.set_xticklabels(ax.get_xticklabels(), rotation=30)\n",
    "plt.title(\"Countplot of Additional_Info\", fontsize = 10)\n",
    "plt.show()\n",
    "print(data['Additional_Info'].value_counts())"
   ]
  },
  {
   "cell_type": "markdown",
   "id": "cfc8555c",
   "metadata": {},
   "source": [
    "# Observations of Univariate Analysis"
   ]
  },
  {
   "cell_type": "markdown",
   "id": "4d3143cd",
   "metadata": {},
   "source": [
    "1.Most of the Airline that flies belongs to Vistara and very less are of Alliance air.\n",
    "\n",
    "2.Most of the flights took off from New Delhi and Chennai and very less from Kolkata.\n",
    "\n",
    "3.Most of the flights reached to Goa and kolkata and very less to Pune.\n",
    "\n",
    "4.Most of the flights only take 1 stop and very less 3 stops."
   ]
  },
  {
   "cell_type": "markdown",
   "id": "b0e7cd7a",
   "metadata": {},
   "source": [
    "# Feature Engineering"
   ]
  },
  {
   "cell_type": "code",
   "execution_count": 21,
   "id": "d68e4a82",
   "metadata": {},
   "outputs": [],
   "source": [
    "# Replacing String to numeric for better prediction.\n",
    "\n",
    "data.replace({\"Non Stop\": 0, \n",
    "                      \"1 Stop\": 1, \n",
    "                      \"2 Stop(s)\": 2, \n",
    "                      \"3 Stop(s)\": 3, \n",
    "                     }, inplace = True)"
   ]
  },
  {
   "cell_type": "code",
   "execution_count": 22,
   "id": "e9cbaa41",
   "metadata": {},
   "outputs": [
    {
     "data": {
      "text/html": [
       "<div>\n",
       "<style scoped>\n",
       "    .dataframe tbody tr th:only-of-type {\n",
       "        vertical-align: middle;\n",
       "    }\n",
       "\n",
       "    .dataframe tbody tr th {\n",
       "        vertical-align: top;\n",
       "    }\n",
       "\n",
       "    .dataframe thead th {\n",
       "        text-align: right;\n",
       "    }\n",
       "</style>\n",
       "<table border=\"1\" class=\"dataframe\">\n",
       "  <thead>\n",
       "    <tr style=\"text-align: right;\">\n",
       "      <th></th>\n",
       "      <th>Airline</th>\n",
       "      <th>Destination</th>\n",
       "      <th>Source</th>\n",
       "      <th>Arrival_time</th>\n",
       "      <th>Departure_time</th>\n",
       "      <th>Total_Stops</th>\n",
       "      <th>Total_Duration</th>\n",
       "      <th>Additional_Info</th>\n",
       "      <th>Price</th>\n",
       "    </tr>\n",
       "  </thead>\n",
       "  <tbody>\n",
       "    <tr>\n",
       "      <th>1587</th>\n",
       "      <td>Vistara</td>\n",
       "      <td>Goa</td>\n",
       "      <td>Bangalore</td>\n",
       "      <td>07:00</td>\n",
       "      <td>21:20</td>\n",
       "      <td>1</td>\n",
       "      <td>14h 20m</td>\n",
       "      <td>Free Meal</td>\n",
       "      <td>24799</td>\n",
       "    </tr>\n",
       "    <tr>\n",
       "      <th>1588</th>\n",
       "      <td>Vistara</td>\n",
       "      <td>Goa</td>\n",
       "      <td>Bangalore</td>\n",
       "      <td>06:40</td>\n",
       "      <td>12:45</td>\n",
       "      <td>1</td>\n",
       "      <td>6h 05m</td>\n",
       "      <td>Free Meal</td>\n",
       "      <td>26059</td>\n",
       "    </tr>\n",
       "    <tr>\n",
       "      <th>1589</th>\n",
       "      <td>Air India</td>\n",
       "      <td>Goa</td>\n",
       "      <td>Bangalore</td>\n",
       "      <td>21:20</td>\n",
       "      <td>00:40\\n+ 2 days</td>\n",
       "      <td>1</td>\n",
       "      <td>27h 20m</td>\n",
       "      <td>Free Meal</td>\n",
       "      <td>27634</td>\n",
       "    </tr>\n",
       "    <tr>\n",
       "      <th>1590</th>\n",
       "      <td>Air India</td>\n",
       "      <td>Goa</td>\n",
       "      <td>Bangalore</td>\n",
       "      <td>21:20</td>\n",
       "      <td>13:35\\n+ 1 day</td>\n",
       "      <td>1</td>\n",
       "      <td>16h 15m</td>\n",
       "      <td>Free Meal</td>\n",
       "      <td>30364</td>\n",
       "    </tr>\n",
       "    <tr>\n",
       "      <th>1591</th>\n",
       "      <td>Vistara</td>\n",
       "      <td>Goa</td>\n",
       "      <td>Bangalore</td>\n",
       "      <td>09:30</td>\n",
       "      <td>21:20</td>\n",
       "      <td>3</td>\n",
       "      <td>11h 50m</td>\n",
       "      <td>Free Meal</td>\n",
       "      <td>32956</td>\n",
       "    </tr>\n",
       "  </tbody>\n",
       "</table>\n",
       "</div>"
      ],
      "text/plain": [
       "        Airline Destination     Source Arrival_time   Departure_time  \\\n",
       "1587    Vistara         Goa  Bangalore        07:00            21:20   \n",
       "1588    Vistara         Goa  Bangalore        06:40            12:45   \n",
       "1589  Air India         Goa  Bangalore        21:20  00:40\\n+ 2 days   \n",
       "1590  Air India         Goa  Bangalore        21:20   13:35\\n+ 1 day   \n",
       "1591    Vistara         Goa  Bangalore        09:30            21:20   \n",
       "\n",
       "      Total_Stops Total_Duration Additional_Info  Price  \n",
       "1587            1        14h 20m       Free Meal  24799  \n",
       "1588            1         6h 05m       Free Meal  26059  \n",
       "1589            1        27h 20m       Free Meal  27634  \n",
       "1590            1        16h 15m       Free Meal  30364  \n",
       "1591            3        11h 50m       Free Meal  32956  "
      ]
     },
     "execution_count": 22,
     "metadata": {},
     "output_type": "execute_result"
    }
   ],
   "source": [
    "data.tail()"
   ]
  },
  {
   "cell_type": "code",
   "execution_count": 23,
   "id": "81c31bc2",
   "metadata": {},
   "outputs": [],
   "source": [
    "# Converting Duration from string to numbers.\n",
    "# Converting hours and mins into single figure for model prediction.\n",
    "\n",
    "data['hour'] = data['Total_Duration'].str.split(\"h\").str[0]\n",
    "data['nothing'] = data['Total_Duration'].str.split(\" \").str[1]\n",
    "data['minute'] = data['nothing'].str.split(\"m\").str[0]\n",
    "data.drop('nothing',axis=1,inplace=True)"
   ]
  },
  {
   "cell_type": "code",
   "execution_count": 24,
   "id": "5f856bd9",
   "metadata": {},
   "outputs": [],
   "source": [
    "# We will change hours to zero and mins to 5.\n",
    "\n",
    "for i in range(0,1591):\n",
    "    if(data['hour'][i] == '5m'):\n",
    "        data[\"hour\"][i] = 0\n",
    "        data[\"minute\"][i] = 5"
   ]
  },
  {
   "cell_type": "code",
   "execution_count": 25,
   "id": "bc7cce8d",
   "metadata": {},
   "outputs": [
    {
     "data": {
      "text/html": [
       "<div>\n",
       "<style scoped>\n",
       "    .dataframe tbody tr th:only-of-type {\n",
       "        vertical-align: middle;\n",
       "    }\n",
       "\n",
       "    .dataframe tbody tr th {\n",
       "        vertical-align: top;\n",
       "    }\n",
       "\n",
       "    .dataframe thead th {\n",
       "        text-align: right;\n",
       "    }\n",
       "</style>\n",
       "<table border=\"1\" class=\"dataframe\">\n",
       "  <thead>\n",
       "    <tr style=\"text-align: right;\">\n",
       "      <th></th>\n",
       "      <th>Airline</th>\n",
       "      <th>Destination</th>\n",
       "      <th>Source</th>\n",
       "      <th>Arrival_time</th>\n",
       "      <th>Departure_time</th>\n",
       "      <th>Total_Stops</th>\n",
       "      <th>Total_Duration</th>\n",
       "      <th>Additional_Info</th>\n",
       "      <th>Price</th>\n",
       "      <th>Duration</th>\n",
       "    </tr>\n",
       "  </thead>\n",
       "  <tbody>\n",
       "    <tr>\n",
       "      <th>0</th>\n",
       "      <td>SpiceJet</td>\n",
       "      <td>Goa</td>\n",
       "      <td>Chennai</td>\n",
       "      <td>22:00</td>\n",
       "      <td>03:15\\n+ 1 day</td>\n",
       "      <td>1</td>\n",
       "      <td>5h 15m</td>\n",
       "      <td>Free Meal</td>\n",
       "      <td>7198</td>\n",
       "      <td>315</td>\n",
       "    </tr>\n",
       "    <tr>\n",
       "      <th>1</th>\n",
       "      <td>SpiceJet</td>\n",
       "      <td>Goa</td>\n",
       "      <td>Chennai</td>\n",
       "      <td>22:00</td>\n",
       "      <td>17:05\\n+ 1 day</td>\n",
       "      <td>1</td>\n",
       "      <td>19h 05m</td>\n",
       "      <td>Free Meal</td>\n",
       "      <td>7198</td>\n",
       "      <td>1145</td>\n",
       "    </tr>\n",
       "    <tr>\n",
       "      <th>2</th>\n",
       "      <td>IndiGo</td>\n",
       "      <td>Goa</td>\n",
       "      <td>Chennai</td>\n",
       "      <td>22:20</td>\n",
       "      <td>06:15\\n+ 1 day</td>\n",
       "      <td>1</td>\n",
       "      <td>7h 55m</td>\n",
       "      <td>Free Meal</td>\n",
       "      <td>7476</td>\n",
       "      <td>475</td>\n",
       "    </tr>\n",
       "    <tr>\n",
       "      <th>3</th>\n",
       "      <td>Air India</td>\n",
       "      <td>Goa</td>\n",
       "      <td>Chennai</td>\n",
       "      <td>15:25</td>\n",
       "      <td>22:20</td>\n",
       "      <td>1</td>\n",
       "      <td>6h 55m</td>\n",
       "      <td>Free Meal</td>\n",
       "      <td>7587</td>\n",
       "      <td>415</td>\n",
       "    </tr>\n",
       "    <tr>\n",
       "      <th>4</th>\n",
       "      <td>Air India</td>\n",
       "      <td>Goa</td>\n",
       "      <td>Chennai</td>\n",
       "      <td>21:40</td>\n",
       "      <td>22:20\\n+ 1 day</td>\n",
       "      <td>1</td>\n",
       "      <td>24h 40m</td>\n",
       "      <td>Free Meal</td>\n",
       "      <td>7587</td>\n",
       "      <td>1480</td>\n",
       "    </tr>\n",
       "  </tbody>\n",
       "</table>\n",
       "</div>"
      ],
      "text/plain": [
       "     Airline Destination   Source Arrival_time  Departure_time  Total_Stops  \\\n",
       "0   SpiceJet         Goa  Chennai        22:00  03:15\\n+ 1 day            1   \n",
       "1   SpiceJet         Goa  Chennai        22:00  17:05\\n+ 1 day            1   \n",
       "2     IndiGo         Goa  Chennai        22:20  06:15\\n+ 1 day            1   \n",
       "3  Air India         Goa  Chennai        15:25           22:20            1   \n",
       "4  Air India         Goa  Chennai        21:40  22:20\\n+ 1 day            1   \n",
       "\n",
       "  Total_Duration Additional_Info Price  Duration  \n",
       "0         5h 15m       Free Meal  7198       315  \n",
       "1        19h 05m       Free Meal  7198      1145  \n",
       "2         7h 55m       Free Meal  7476       475  \n",
       "3         6h 55m       Free Meal  7587       415  \n",
       "4        24h 40m       Free Meal  7587      1480  "
      ]
     },
     "execution_count": 25,
     "metadata": {},
     "output_type": "execute_result"
    }
   ],
   "source": [
    "# Converting hours and mins into only minutes.\n",
    "# Replacing null values with 0.\n",
    "\n",
    "data['hour'] = pd.to_numeric(data['hour']) \n",
    "data['minute'] = pd.to_numeric(data['minute']) \n",
    "data['minute']=data['minute'].replace(np.NaN,0) \n",
    "data['minute'] = data['minute'].astype('int64') \n",
    "data['Duration'] =data['hour']*60 + data['minute'] \n",
    "data.drop('hour',axis=1,inplace=True)\n",
    "data.drop('minute',axis=1,inplace=True) \n",
    "data.head() \n"
   ]
  },
  {
   "cell_type": "code",
   "execution_count": 26,
   "id": "f127b658",
   "metadata": {},
   "outputs": [],
   "source": [
    "# Converting hour and minute into a fix figure.\n",
    "data['Arrival_time'] = pd.to_datetime(data['Arrival_time'],format = '%H:%M').dt.hour*60 + pd.to_datetime(data['Arrival_time'],format = '%H:%M').dt.minute\n"
   ]
  },
  {
   "cell_type": "code",
   "execution_count": 27,
   "id": "fbea520e",
   "metadata": {},
   "outputs": [
    {
     "data": {
      "text/html": [
       "<div>\n",
       "<style scoped>\n",
       "    .dataframe tbody tr th:only-of-type {\n",
       "        vertical-align: middle;\n",
       "    }\n",
       "\n",
       "    .dataframe tbody tr th {\n",
       "        vertical-align: top;\n",
       "    }\n",
       "\n",
       "    .dataframe thead th {\n",
       "        text-align: right;\n",
       "    }\n",
       "</style>\n",
       "<table border=\"1\" class=\"dataframe\">\n",
       "  <thead>\n",
       "    <tr style=\"text-align: right;\">\n",
       "      <th></th>\n",
       "      <th>Airline</th>\n",
       "      <th>Destination</th>\n",
       "      <th>Source</th>\n",
       "      <th>Arrival_time</th>\n",
       "      <th>Departure_time</th>\n",
       "      <th>Total_Stops</th>\n",
       "      <th>Total_Duration</th>\n",
       "      <th>Additional_Info</th>\n",
       "      <th>Price</th>\n",
       "      <th>Duration</th>\n",
       "    </tr>\n",
       "  </thead>\n",
       "  <tbody>\n",
       "    <tr>\n",
       "      <th>0</th>\n",
       "      <td>SpiceJet</td>\n",
       "      <td>Goa</td>\n",
       "      <td>Chennai</td>\n",
       "      <td>1320</td>\n",
       "      <td>03:15\\n+ 1 day</td>\n",
       "      <td>1</td>\n",
       "      <td>5h 15m</td>\n",
       "      <td>Free Meal</td>\n",
       "      <td>7198</td>\n",
       "      <td>315</td>\n",
       "    </tr>\n",
       "    <tr>\n",
       "      <th>1</th>\n",
       "      <td>SpiceJet</td>\n",
       "      <td>Goa</td>\n",
       "      <td>Chennai</td>\n",
       "      <td>1320</td>\n",
       "      <td>17:05\\n+ 1 day</td>\n",
       "      <td>1</td>\n",
       "      <td>19h 05m</td>\n",
       "      <td>Free Meal</td>\n",
       "      <td>7198</td>\n",
       "      <td>1145</td>\n",
       "    </tr>\n",
       "    <tr>\n",
       "      <th>2</th>\n",
       "      <td>IndiGo</td>\n",
       "      <td>Goa</td>\n",
       "      <td>Chennai</td>\n",
       "      <td>1340</td>\n",
       "      <td>06:15\\n+ 1 day</td>\n",
       "      <td>1</td>\n",
       "      <td>7h 55m</td>\n",
       "      <td>Free Meal</td>\n",
       "      <td>7476</td>\n",
       "      <td>475</td>\n",
       "    </tr>\n",
       "    <tr>\n",
       "      <th>3</th>\n",
       "      <td>Air India</td>\n",
       "      <td>Goa</td>\n",
       "      <td>Chennai</td>\n",
       "      <td>925</td>\n",
       "      <td>22:20</td>\n",
       "      <td>1</td>\n",
       "      <td>6h 55m</td>\n",
       "      <td>Free Meal</td>\n",
       "      <td>7587</td>\n",
       "      <td>415</td>\n",
       "    </tr>\n",
       "    <tr>\n",
       "      <th>4</th>\n",
       "      <td>Air India</td>\n",
       "      <td>Goa</td>\n",
       "      <td>Chennai</td>\n",
       "      <td>1300</td>\n",
       "      <td>22:20\\n+ 1 day</td>\n",
       "      <td>1</td>\n",
       "      <td>24h 40m</td>\n",
       "      <td>Free Meal</td>\n",
       "      <td>7587</td>\n",
       "      <td>1480</td>\n",
       "    </tr>\n",
       "  </tbody>\n",
       "</table>\n",
       "</div>"
      ],
      "text/plain": [
       "     Airline Destination   Source  Arrival_time  Departure_time  Total_Stops  \\\n",
       "0   SpiceJet         Goa  Chennai          1320  03:15\\n+ 1 day            1   \n",
       "1   SpiceJet         Goa  Chennai          1320  17:05\\n+ 1 day            1   \n",
       "2     IndiGo         Goa  Chennai          1340  06:15\\n+ 1 day            1   \n",
       "3  Air India         Goa  Chennai           925           22:20            1   \n",
       "4  Air India         Goa  Chennai          1300  22:20\\n+ 1 day            1   \n",
       "\n",
       "  Total_Duration Additional_Info Price  Duration  \n",
       "0         5h 15m       Free Meal  7198       315  \n",
       "1        19h 05m       Free Meal  7198      1145  \n",
       "2         7h 55m       Free Meal  7476       475  \n",
       "3         6h 55m       Free Meal  7587       415  \n",
       "4        24h 40m       Free Meal  7587      1480  "
      ]
     },
     "execution_count": 27,
     "metadata": {},
     "output_type": "execute_result"
    }
   ],
   "source": [
    "data.head()"
   ]
  },
  {
   "cell_type": "code",
   "execution_count": 28,
   "id": "0ef31648",
   "metadata": {},
   "outputs": [],
   "source": [
    "# Here we will drop Departure time and Total duration column as we extracted the desired figure from it.\n",
    "\n",
    "data.drop('Departure_time',axis=1,inplace=True)\n",
    "data.drop('Total_Duration',axis=1,inplace=True)"
   ]
  },
  {
   "cell_type": "code",
   "execution_count": 29,
   "id": "036e7e4d",
   "metadata": {},
   "outputs": [
    {
     "data": {
      "text/html": [
       "<div>\n",
       "<style scoped>\n",
       "    .dataframe tbody tr th:only-of-type {\n",
       "        vertical-align: middle;\n",
       "    }\n",
       "\n",
       "    .dataframe tbody tr th {\n",
       "        vertical-align: top;\n",
       "    }\n",
       "\n",
       "    .dataframe thead th {\n",
       "        text-align: right;\n",
       "    }\n",
       "</style>\n",
       "<table border=\"1\" class=\"dataframe\">\n",
       "  <thead>\n",
       "    <tr style=\"text-align: right;\">\n",
       "      <th></th>\n",
       "      <th>Airline</th>\n",
       "      <th>Destination</th>\n",
       "      <th>Source</th>\n",
       "      <th>Arrival_time</th>\n",
       "      <th>Total_Stops</th>\n",
       "      <th>Additional_Info</th>\n",
       "      <th>Price</th>\n",
       "      <th>Duration</th>\n",
       "    </tr>\n",
       "  </thead>\n",
       "  <tbody>\n",
       "    <tr>\n",
       "      <th>0</th>\n",
       "      <td>SpiceJet</td>\n",
       "      <td>Goa</td>\n",
       "      <td>Chennai</td>\n",
       "      <td>1320</td>\n",
       "      <td>1</td>\n",
       "      <td>Free Meal</td>\n",
       "      <td>7198</td>\n",
       "      <td>315</td>\n",
       "    </tr>\n",
       "    <tr>\n",
       "      <th>1</th>\n",
       "      <td>SpiceJet</td>\n",
       "      <td>Goa</td>\n",
       "      <td>Chennai</td>\n",
       "      <td>1320</td>\n",
       "      <td>1</td>\n",
       "      <td>Free Meal</td>\n",
       "      <td>7198</td>\n",
       "      <td>1145</td>\n",
       "    </tr>\n",
       "    <tr>\n",
       "      <th>2</th>\n",
       "      <td>IndiGo</td>\n",
       "      <td>Goa</td>\n",
       "      <td>Chennai</td>\n",
       "      <td>1340</td>\n",
       "      <td>1</td>\n",
       "      <td>Free Meal</td>\n",
       "      <td>7476</td>\n",
       "      <td>475</td>\n",
       "    </tr>\n",
       "    <tr>\n",
       "      <th>3</th>\n",
       "      <td>Air India</td>\n",
       "      <td>Goa</td>\n",
       "      <td>Chennai</td>\n",
       "      <td>925</td>\n",
       "      <td>1</td>\n",
       "      <td>Free Meal</td>\n",
       "      <td>7587</td>\n",
       "      <td>415</td>\n",
       "    </tr>\n",
       "    <tr>\n",
       "      <th>4</th>\n",
       "      <td>Air India</td>\n",
       "      <td>Goa</td>\n",
       "      <td>Chennai</td>\n",
       "      <td>1300</td>\n",
       "      <td>1</td>\n",
       "      <td>Free Meal</td>\n",
       "      <td>7587</td>\n",
       "      <td>1480</td>\n",
       "    </tr>\n",
       "  </tbody>\n",
       "</table>\n",
       "</div>"
      ],
      "text/plain": [
       "     Airline Destination   Source  Arrival_time  Total_Stops Additional_Info  \\\n",
       "0   SpiceJet         Goa  Chennai          1320            1       Free Meal   \n",
       "1   SpiceJet         Goa  Chennai          1320            1       Free Meal   \n",
       "2     IndiGo         Goa  Chennai          1340            1       Free Meal   \n",
       "3  Air India         Goa  Chennai           925            1       Free Meal   \n",
       "4  Air India         Goa  Chennai          1300            1       Free Meal   \n",
       "\n",
       "  Price  Duration  \n",
       "0  7198       315  \n",
       "1  7198      1145  \n",
       "2  7476       475  \n",
       "3  7587       415  \n",
       "4  7587      1480  "
      ]
     },
     "execution_count": 29,
     "metadata": {},
     "output_type": "execute_result"
    }
   ],
   "source": [
    "data.head()"
   ]
  },
  {
   "cell_type": "markdown",
   "id": "2f004e63",
   "metadata": {},
   "source": [
    "# Label Encoding"
   ]
  },
  {
   "cell_type": "code",
   "execution_count": 30,
   "id": "f79b1423",
   "metadata": {},
   "outputs": [],
   "source": [
    "# Separating the features that need encoding.\n",
    "\n",
    "category=['Airline','Source','Destination','Additional_Info']"
   ]
  },
  {
   "cell_type": "code",
   "execution_count": 31,
   "id": "e601ab70",
   "metadata": {},
   "outputs": [],
   "source": [
    "# Encoding the categorical columns into numerical columns using label encoding.\n",
    "\n",
    "from sklearn.preprocessing import LabelEncoder\n",
    "la = LabelEncoder()\n",
    "data[category]= data[category].apply(la.fit_transform)"
   ]
  },
  {
   "cell_type": "code",
   "execution_count": 32,
   "id": "ff981cea",
   "metadata": {},
   "outputs": [
    {
     "data": {
      "text/html": [
       "<div>\n",
       "<style scoped>\n",
       "    .dataframe tbody tr th:only-of-type {\n",
       "        vertical-align: middle;\n",
       "    }\n",
       "\n",
       "    .dataframe tbody tr th {\n",
       "        vertical-align: top;\n",
       "    }\n",
       "\n",
       "    .dataframe thead th {\n",
       "        text-align: right;\n",
       "    }\n",
       "</style>\n",
       "<table border=\"1\" class=\"dataframe\">\n",
       "  <thead>\n",
       "    <tr style=\"text-align: right;\">\n",
       "      <th></th>\n",
       "      <th>Airline</th>\n",
       "      <th>Destination</th>\n",
       "      <th>Source</th>\n",
       "      <th>Arrival_time</th>\n",
       "      <th>Total_Stops</th>\n",
       "      <th>Additional_Info</th>\n",
       "      <th>Price</th>\n",
       "      <th>Duration</th>\n",
       "    </tr>\n",
       "  </thead>\n",
       "  <tbody>\n",
       "    <tr>\n",
       "      <th>0</th>\n",
       "      <td>5</td>\n",
       "      <td>1</td>\n",
       "      <td>1</td>\n",
       "      <td>1320</td>\n",
       "      <td>1</td>\n",
       "      <td>0</td>\n",
       "      <td>7198</td>\n",
       "      <td>315</td>\n",
       "    </tr>\n",
       "    <tr>\n",
       "      <th>1</th>\n",
       "      <td>5</td>\n",
       "      <td>1</td>\n",
       "      <td>1</td>\n",
       "      <td>1320</td>\n",
       "      <td>1</td>\n",
       "      <td>0</td>\n",
       "      <td>7198</td>\n",
       "      <td>1145</td>\n",
       "    </tr>\n",
       "    <tr>\n",
       "      <th>2</th>\n",
       "      <td>4</td>\n",
       "      <td>1</td>\n",
       "      <td>1</td>\n",
       "      <td>1340</td>\n",
       "      <td>1</td>\n",
       "      <td>0</td>\n",
       "      <td>7476</td>\n",
       "      <td>475</td>\n",
       "    </tr>\n",
       "    <tr>\n",
       "      <th>3</th>\n",
       "      <td>1</td>\n",
       "      <td>1</td>\n",
       "      <td>1</td>\n",
       "      <td>925</td>\n",
       "      <td>1</td>\n",
       "      <td>0</td>\n",
       "      <td>7587</td>\n",
       "      <td>415</td>\n",
       "    </tr>\n",
       "    <tr>\n",
       "      <th>4</th>\n",
       "      <td>1</td>\n",
       "      <td>1</td>\n",
       "      <td>1</td>\n",
       "      <td>1300</td>\n",
       "      <td>1</td>\n",
       "      <td>0</td>\n",
       "      <td>7587</td>\n",
       "      <td>1480</td>\n",
       "    </tr>\n",
       "  </tbody>\n",
       "</table>\n",
       "</div>"
      ],
      "text/plain": [
       "   Airline  Destination  Source  Arrival_time  Total_Stops  Additional_Info  \\\n",
       "0        5            1       1          1320            1                0   \n",
       "1        5            1       1          1320            1                0   \n",
       "2        4            1       1          1340            1                0   \n",
       "3        1            1       1           925            1                0   \n",
       "4        1            1       1          1300            1                0   \n",
       "\n",
       "  Price  Duration  \n",
       "0  7198       315  \n",
       "1  7198      1145  \n",
       "2  7476       475  \n",
       "3  7587       415  \n",
       "4  7587      1480  "
      ]
     },
     "execution_count": 32,
     "metadata": {},
     "output_type": "execute_result"
    }
   ],
   "source": [
    "data.head()"
   ]
  },
  {
   "cell_type": "code",
   "execution_count": 33,
   "id": "fb97f0a9",
   "metadata": {},
   "outputs": [
    {
     "data": {
      "text/html": [
       "<div>\n",
       "<style scoped>\n",
       "    .dataframe tbody tr th:only-of-type {\n",
       "        vertical-align: middle;\n",
       "    }\n",
       "\n",
       "    .dataframe tbody tr th {\n",
       "        vertical-align: top;\n",
       "    }\n",
       "\n",
       "    .dataframe thead th {\n",
       "        text-align: right;\n",
       "    }\n",
       "</style>\n",
       "<table border=\"1\" class=\"dataframe\">\n",
       "  <thead>\n",
       "    <tr style=\"text-align: right;\">\n",
       "      <th></th>\n",
       "      <th>Airline</th>\n",
       "      <th>Destination</th>\n",
       "      <th>Source</th>\n",
       "      <th>Arrival_time</th>\n",
       "      <th>Total_Stops</th>\n",
       "      <th>Additional_Info</th>\n",
       "      <th>Duration</th>\n",
       "    </tr>\n",
       "  </thead>\n",
       "  <tbody>\n",
       "    <tr>\n",
       "      <th>count</th>\n",
       "      <td>1592.000000</td>\n",
       "      <td>1592.00000</td>\n",
       "      <td>1592.000000</td>\n",
       "      <td>1592.000000</td>\n",
       "      <td>1592.000000</td>\n",
       "      <td>1592.000000</td>\n",
       "      <td>1592.000000</td>\n",
       "    </tr>\n",
       "    <tr>\n",
       "      <th>mean</th>\n",
       "      <td>3.637563</td>\n",
       "      <td>2.60804</td>\n",
       "      <td>2.779523</td>\n",
       "      <td>854.221106</td>\n",
       "      <td>1.042714</td>\n",
       "      <td>0.001256</td>\n",
       "      <td>756.639447</td>\n",
       "    </tr>\n",
       "    <tr>\n",
       "      <th>std</th>\n",
       "      <td>2.176365</td>\n",
       "      <td>2.00994</td>\n",
       "      <td>2.110048</td>\n",
       "      <td>333.811093</td>\n",
       "      <td>0.583179</td>\n",
       "      <td>0.035433</td>\n",
       "      <td>503.712878</td>\n",
       "    </tr>\n",
       "    <tr>\n",
       "      <th>min</th>\n",
       "      <td>0.000000</td>\n",
       "      <td>0.00000</td>\n",
       "      <td>0.000000</td>\n",
       "      <td>5.000000</td>\n",
       "      <td>0.000000</td>\n",
       "      <td>0.000000</td>\n",
       "      <td>60.000000</td>\n",
       "    </tr>\n",
       "    <tr>\n",
       "      <th>25%</th>\n",
       "      <td>1.000000</td>\n",
       "      <td>1.00000</td>\n",
       "      <td>1.000000</td>\n",
       "      <td>565.000000</td>\n",
       "      <td>1.000000</td>\n",
       "      <td>0.000000</td>\n",
       "      <td>365.000000</td>\n",
       "    </tr>\n",
       "    <tr>\n",
       "      <th>50%</th>\n",
       "      <td>4.000000</td>\n",
       "      <td>2.00000</td>\n",
       "      <td>3.000000</td>\n",
       "      <td>922.500000</td>\n",
       "      <td>1.000000</td>\n",
       "      <td>0.000000</td>\n",
       "      <td>650.000000</td>\n",
       "    </tr>\n",
       "    <tr>\n",
       "      <th>75%</th>\n",
       "      <td>6.000000</td>\n",
       "      <td>4.00000</td>\n",
       "      <td>5.000000</td>\n",
       "      <td>1150.000000</td>\n",
       "      <td>1.000000</td>\n",
       "      <td>0.000000</td>\n",
       "      <td>1100.000000</td>\n",
       "    </tr>\n",
       "    <tr>\n",
       "      <th>max</th>\n",
       "      <td>6.000000</td>\n",
       "      <td>7.00000</td>\n",
       "      <td>6.000000</td>\n",
       "      <td>1435.000000</td>\n",
       "      <td>3.000000</td>\n",
       "      <td>1.000000</td>\n",
       "      <td>2470.000000</td>\n",
       "    </tr>\n",
       "  </tbody>\n",
       "</table>\n",
       "</div>"
      ],
      "text/plain": [
       "           Airline  Destination       Source  Arrival_time  Total_Stops  \\\n",
       "count  1592.000000   1592.00000  1592.000000   1592.000000  1592.000000   \n",
       "mean      3.637563      2.60804     2.779523    854.221106     1.042714   \n",
       "std       2.176365      2.00994     2.110048    333.811093     0.583179   \n",
       "min       0.000000      0.00000     0.000000      5.000000     0.000000   \n",
       "25%       1.000000      1.00000     1.000000    565.000000     1.000000   \n",
       "50%       4.000000      2.00000     3.000000    922.500000     1.000000   \n",
       "75%       6.000000      4.00000     5.000000   1150.000000     1.000000   \n",
       "max       6.000000      7.00000     6.000000   1435.000000     3.000000   \n",
       "\n",
       "       Additional_Info     Duration  \n",
       "count      1592.000000  1592.000000  \n",
       "mean          0.001256   756.639447  \n",
       "std           0.035433   503.712878  \n",
       "min           0.000000    60.000000  \n",
       "25%           0.000000   365.000000  \n",
       "50%           0.000000   650.000000  \n",
       "75%           0.000000  1100.000000  \n",
       "max           1.000000  2470.000000  "
      ]
     },
     "execution_count": 33,
     "metadata": {},
     "output_type": "execute_result"
    }
   ],
   "source": [
    "# Checking the statistical summary of data.\n",
    "data.describe()"
   ]
  },
  {
   "cell_type": "markdown",
   "id": "fb8493e8",
   "metadata": {},
   "source": [
    "# Multivariate Data Analysis"
   ]
  },
  {
   "cell_type": "code",
   "execution_count": 34,
   "id": "f14f2d08",
   "metadata": {},
   "outputs": [
    {
     "data": {
      "text/plain": [
       "<Figure size 1440x1440 with 0 Axes>"
      ]
     },
     "metadata": {},
     "output_type": "display_data"
    },
    {
     "data": {
      "image/png": "[encoded data removed]",
      "text/plain": [
       "<Figure size 1260x1260 with 56 Axes>"
      ]
     },
     "metadata": {
      "needs_background": "light"
     },
     "output_type": "display_data"
    }
   ],
   "source": [
    "# Checking the pairwise relationship between columns.\n",
    "plt.figure(figsize=(20,20))\n",
    "sns.pairplot(data)\n",
    "plt.show()"
   ]
  },
  {
   "cell_type": "markdown",
   "id": "09be8ae7",
   "metadata": {},
   "source": [
    "From pairplot,we can say that the features and traget column don't show any linear relationship with each other."
   ]
  },
  {
   "cell_type": "markdown",
   "id": "798ad408",
   "metadata": {},
   "source": [
    "# Checking  the correlation"
   ]
  },
  {
   "cell_type": "code",
   "execution_count": 35,
   "id": "5da12f37",
   "metadata": {},
   "outputs": [
    {
     "data": {
      "text/html": [
       "<div>\n",
       "<style scoped>\n",
       "    .dataframe tbody tr th:only-of-type {\n",
       "        vertical-align: middle;\n",
       "    }\n",
       "\n",
       "    .dataframe tbody tr th {\n",
       "        vertical-align: top;\n",
       "    }\n",
       "\n",
       "    .dataframe thead th {\n",
       "        text-align: right;\n",
       "    }\n",
       "</style>\n",
       "<table border=\"1\" class=\"dataframe\">\n",
       "  <thead>\n",
       "    <tr style=\"text-align: right;\">\n",
       "      <th></th>\n",
       "      <th>Airline</th>\n",
       "      <th>Destination</th>\n",
       "      <th>Source</th>\n",
       "      <th>Arrival_time</th>\n",
       "      <th>Total_Stops</th>\n",
       "      <th>Additional_Info</th>\n",
       "      <th>Duration</th>\n",
       "    </tr>\n",
       "  </thead>\n",
       "  <tbody>\n",
       "    <tr>\n",
       "      <th>Airline</th>\n",
       "      <td>1.000000</td>\n",
       "      <td>-0.040830</td>\n",
       "      <td>-0.024666</td>\n",
       "      <td>0.030593</td>\n",
       "      <td>0.066679</td>\n",
       "      <td>-0.018544</td>\n",
       "      <td>0.029958</td>\n",
       "    </tr>\n",
       "    <tr>\n",
       "      <th>Destination</th>\n",
       "      <td>-0.040830</td>\n",
       "      <td>1.000000</td>\n",
       "      <td>-0.212607</td>\n",
       "      <td>-0.097597</td>\n",
       "      <td>-0.003939</td>\n",
       "      <td>-0.019558</td>\n",
       "      <td>-0.042052</td>\n",
       "    </tr>\n",
       "    <tr>\n",
       "      <th>Source</th>\n",
       "      <td>-0.024666</td>\n",
       "      <td>-0.212607</td>\n",
       "      <td>1.000000</td>\n",
       "      <td>0.034705</td>\n",
       "      <td>-0.148641</td>\n",
       "      <td>0.037334</td>\n",
       "      <td>-0.108305</td>\n",
       "    </tr>\n",
       "    <tr>\n",
       "      <th>Arrival_time</th>\n",
       "      <td>0.030593</td>\n",
       "      <td>-0.097597</td>\n",
       "      <td>0.034705</td>\n",
       "      <td>1.000000</td>\n",
       "      <td>-0.037718</td>\n",
       "      <td>-0.034990</td>\n",
       "      <td>0.134081</td>\n",
       "    </tr>\n",
       "    <tr>\n",
       "      <th>Total_Stops</th>\n",
       "      <td>0.066679</td>\n",
       "      <td>-0.003939</td>\n",
       "      <td>-0.148641</td>\n",
       "      <td>-0.037718</td>\n",
       "      <td>1.000000</td>\n",
       "      <td>-0.002598</td>\n",
       "      <td>0.603863</td>\n",
       "    </tr>\n",
       "    <tr>\n",
       "      <th>Additional_Info</th>\n",
       "      <td>-0.018544</td>\n",
       "      <td>-0.019558</td>\n",
       "      <td>0.037334</td>\n",
       "      <td>-0.034990</td>\n",
       "      <td>-0.002598</td>\n",
       "      <td>1.000000</td>\n",
       "      <td>-0.022125</td>\n",
       "    </tr>\n",
       "    <tr>\n",
       "      <th>Duration</th>\n",
       "      <td>0.029958</td>\n",
       "      <td>-0.042052</td>\n",
       "      <td>-0.108305</td>\n",
       "      <td>0.134081</td>\n",
       "      <td>0.603863</td>\n",
       "      <td>-0.022125</td>\n",
       "      <td>1.000000</td>\n",
       "    </tr>\n",
       "  </tbody>\n",
       "</table>\n",
       "</div>"
      ],
      "text/plain": [
       "                  Airline  Destination    Source  Arrival_time  Total_Stops  \\\n",
       "Airline          1.000000    -0.040830 -0.024666      0.030593     0.066679   \n",
       "Destination     -0.040830     1.000000 -0.212607     -0.097597    -0.003939   \n",
       "Source          -0.024666    -0.212607  1.000000      0.034705    -0.148641   \n",
       "Arrival_time     0.030593    -0.097597  0.034705      1.000000    -0.037718   \n",
       "Total_Stops      0.066679    -0.003939 -0.148641     -0.037718     1.000000   \n",
       "Additional_Info -0.018544    -0.019558  0.037334     -0.034990    -0.002598   \n",
       "Duration         0.029958    -0.042052 -0.108305      0.134081     0.603863   \n",
       "\n",
       "                 Additional_Info  Duration  \n",
       "Airline                -0.018544  0.029958  \n",
       "Destination            -0.019558 -0.042052  \n",
       "Source                  0.037334 -0.108305  \n",
       "Arrival_time           -0.034990  0.134081  \n",
       "Total_Stops            -0.002598  0.603863  \n",
       "Additional_Info         1.000000 -0.022125  \n",
       "Duration               -0.022125  1.000000  "
      ]
     },
     "execution_count": 35,
     "metadata": {},
     "output_type": "execute_result"
    }
   ],
   "source": [
    "data.corr()"
   ]
  },
  {
   "cell_type": "code",
   "execution_count": 36,
   "id": "dfa56634",
   "metadata": {},
   "outputs": [
    {
     "data": {
      "image/png": "[encoded data removed]",
      "text/plain": [
       "<Figure size 720x720 with 2 Axes>"
      ]
     },
     "metadata": {
      "needs_background": "light"
     },
     "output_type": "display_data"
    }
   ],
   "source": [
    "# Visualizing correlation using heatmap for better understanding.\n",
    "plt.figure(figsize=(10,10))\n",
    "sns.heatmap(data.corr(),annot=True,cmap='Blues',fmt='0.2f')\n",
    "plt.show()"
   ]
  },
  {
   "cell_type": "code",
   "execution_count": 37,
   "id": "8bc5c7ea",
   "metadata": {},
   "outputs": [
    {
     "data": {
      "image/png": "[encoded data removed]",
      "text/plain": [
       "<Figure size 1440x720 with 1 Axes>"
      ]
     },
     "metadata": {
      "needs_background": "light"
     },
     "output_type": "display_data"
    }
   ],
   "source": [
    "# Checking the outliers in dataset using boxplot.\n",
    "data.plot(kind='box',fontsize=10,figsize=(20,10),color='grey')\n",
    "plt.xticks(rotation=30,ha='right')\n",
    "plt.show()"
   ]
  },
  {
   "cell_type": "markdown",
   "id": "855c8855",
   "metadata": {},
   "source": [
    "# Checking Skewness"
   ]
  },
  {
   "cell_type": "code",
   "execution_count": 38,
   "id": "733a63e0",
   "metadata": {},
   "outputs": [
    {
     "data": {
      "text/plain": [
       "Airline            -0.292631\n",
       "Destination         0.555531\n",
       "Source             -0.007142\n",
       "Arrival_time       -0.214555\n",
       "Total_Stops         0.185746\n",
       "Additional_Info    28.186843\n",
       "Price               0.913902\n",
       "Duration            0.646494\n",
       "dtype: float64"
      ]
     },
     "execution_count": 38,
     "metadata": {},
     "output_type": "execute_result"
    }
   ],
   "source": [
    "data.skew()"
   ]
  },
  {
   "cell_type": "code",
   "execution_count": 39,
   "id": "a466be10",
   "metadata": {},
   "outputs": [],
   "source": [
    "from sklearn.preprocessing import PowerTransformer\n",
    "scaler = PowerTransformer(method='yeo-johnson')"
   ]
  },
  {
   "cell_type": "code",
   "execution_count": 40,
   "id": "d8423f47",
   "metadata": {},
   "outputs": [],
   "source": [
    "# Separating the columns that needs skewness removal.\n",
    "removal=['Destination','Additional_Info','Price','Duration']"
   ]
  },
  {
   "cell_type": "code",
   "execution_count": 41,
   "id": "7bba3ed2",
   "metadata": {},
   "outputs": [],
   "source": [
    "# Skewness handling using PowerTransformation(yeo-johnson) method.\n",
    "\n",
    "from sklearn.preprocessing import PowerTransformer\n",
    "scaler = PowerTransformer(method='yeo-johnson')"
   ]
  },
  {
   "cell_type": "code",
   "execution_count": 42,
   "id": "cd8401b8",
   "metadata": {},
   "outputs": [
    {
     "data": {
      "text/html": [
       "<div>\n",
       "<style scoped>\n",
       "    .dataframe tbody tr th:only-of-type {\n",
       "        vertical-align: middle;\n",
       "    }\n",
       "\n",
       "    .dataframe tbody tr th {\n",
       "        vertical-align: top;\n",
       "    }\n",
       "\n",
       "    .dataframe thead th {\n",
       "        text-align: right;\n",
       "    }\n",
       "</style>\n",
       "<table border=\"1\" class=\"dataframe\">\n",
       "  <thead>\n",
       "    <tr style=\"text-align: right;\">\n",
       "      <th></th>\n",
       "      <th>Destination</th>\n",
       "      <th>Additional_Info</th>\n",
       "      <th>Price</th>\n",
       "      <th>Duration</th>\n",
       "    </tr>\n",
       "  </thead>\n",
       "  <tbody>\n",
       "    <tr>\n",
       "      <th>0</th>\n",
       "      <td>-0.730863</td>\n",
       "      <td>-0.035466</td>\n",
       "      <td>-1.172083</td>\n",
       "      <td>-0.829022</td>\n",
       "    </tr>\n",
       "    <tr>\n",
       "      <th>1</th>\n",
       "      <td>-0.730863</td>\n",
       "      <td>-0.035466</td>\n",
       "      <td>-1.172083</td>\n",
       "      <td>0.849437</td>\n",
       "    </tr>\n",
       "    <tr>\n",
       "      <th>2</th>\n",
       "      <td>-0.730863</td>\n",
       "      <td>-0.035466</td>\n",
       "      <td>-1.082268</td>\n",
       "      <td>-0.385485</td>\n",
       "    </tr>\n",
       "    <tr>\n",
       "      <th>3</th>\n",
       "      <td>-0.730863</td>\n",
       "      <td>-0.035466</td>\n",
       "      <td>-1.047169</td>\n",
       "      <td>-0.539425</td>\n",
       "    </tr>\n",
       "    <tr>\n",
       "      <th>4</th>\n",
       "      <td>-0.730863</td>\n",
       "      <td>-0.035466</td>\n",
       "      <td>-1.047169</td>\n",
       "      <td>1.299354</td>\n",
       "    </tr>\n",
       "  </tbody>\n",
       "</table>\n",
       "</div>"
      ],
      "text/plain": [
       "   Destination  Additional_Info     Price  Duration\n",
       "0    -0.730863        -0.035466 -1.172083 -0.829022\n",
       "1    -0.730863        -0.035466 -1.172083  0.849437\n",
       "2    -0.730863        -0.035466 -1.082268 -0.385485\n",
       "3    -0.730863        -0.035466 -1.047169 -0.539425\n",
       "4    -0.730863        -0.035466 -1.047169  1.299354"
      ]
     },
     "execution_count": 42,
     "metadata": {},
     "output_type": "execute_result"
    }
   ],
   "source": [
    "data[removal] = scaler.fit_transform(data[removal].values)\n",
    "data[removal].head()"
   ]
  },
  {
   "cell_type": "code",
   "execution_count": 43,
   "id": "e1655b31",
   "metadata": {},
   "outputs": [
    {
     "data": {
      "text/plain": [
       "Airline            -0.292631\n",
       "Destination        -0.066531\n",
       "Source             -0.007142\n",
       "Arrival_time       -0.214555\n",
       "Total_Stops         0.185746\n",
       "Additional_Info    28.186843\n",
       "Price              -0.000171\n",
       "Duration           -0.099904\n",
       "dtype: float64"
      ]
     },
     "execution_count": 43,
     "metadata": {},
     "output_type": "execute_result"
    }
   ],
   "source": [
    "data.skew()"
   ]
  },
  {
   "cell_type": "code",
   "execution_count": 44,
   "id": "00312df1",
   "metadata": {},
   "outputs": [
    {
     "data": {
      "text/plain": [
       "Index(['Airline', 'Destination', 'Source', 'Arrival_time', 'Total_Stops',\n",
       "       'Additional_Info', 'Price', 'Duration'],\n",
       "      dtype='object')"
      ]
     },
     "execution_count": 44,
     "metadata": {},
     "output_type": "execute_result"
    }
   ],
   "source": [
    "data.columns"
   ]
  },
  {
   "cell_type": "code",
   "execution_count": 45,
   "id": "d2c9fbd5",
   "metadata": {},
   "outputs": [],
   "source": [
    "# Separating the dataset into feature and target columns.\n",
    "x=data.drop('Price',axis=1)\n",
    "y=data['Price']"
   ]
  },
  {
   "cell_type": "code",
   "execution_count": 46,
   "id": "4d89591e",
   "metadata": {},
   "outputs": [
    {
     "data": {
      "text/plain": [
       "(1592, 7)"
      ]
     },
     "execution_count": 46,
     "metadata": {},
     "output_type": "execute_result"
    }
   ],
   "source": [
    "x.shape"
   ]
  },
  {
   "cell_type": "code",
   "execution_count": 47,
   "id": "a0af50ae",
   "metadata": {},
   "outputs": [
    {
     "data": {
      "text/plain": [
       "(1592,)"
      ]
     },
     "execution_count": 47,
     "metadata": {},
     "output_type": "execute_result"
    }
   ],
   "source": [
    "y.shape"
   ]
  },
  {
   "cell_type": "markdown",
   "id": "e68a00bf",
   "metadata": {},
   "source": [
    "# Data Scaling"
   ]
  },
  {
   "cell_type": "code",
   "execution_count": 48,
   "id": "12d639d1",
   "metadata": {},
   "outputs": [
    {
     "data": {
      "text/html": [
       "<div>\n",
       "<style scoped>\n",
       "    .dataframe tbody tr th:only-of-type {\n",
       "        vertical-align: middle;\n",
       "    }\n",
       "\n",
       "    .dataframe tbody tr th {\n",
       "        vertical-align: top;\n",
       "    }\n",
       "\n",
       "    .dataframe thead th {\n",
       "        text-align: right;\n",
       "    }\n",
       "</style>\n",
       "<table border=\"1\" class=\"dataframe\">\n",
       "  <thead>\n",
       "    <tr style=\"text-align: right;\">\n",
       "      <th></th>\n",
       "      <th>Airline</th>\n",
       "      <th>Destination</th>\n",
       "      <th>Source</th>\n",
       "      <th>Arrival_time</th>\n",
       "      <th>Total_Stops</th>\n",
       "      <th>Additional_Info</th>\n",
       "      <th>Duration</th>\n",
       "    </tr>\n",
       "  </thead>\n",
       "  <tbody>\n",
       "    <tr>\n",
       "      <th>0</th>\n",
       "      <td>0.833333</td>\n",
       "      <td>0.260201</td>\n",
       "      <td>0.166667</td>\n",
       "      <td>0.919580</td>\n",
       "      <td>0.333333</td>\n",
       "      <td>0.0</td>\n",
       "      <td>0.274515</td>\n",
       "    </tr>\n",
       "    <tr>\n",
       "      <th>1</th>\n",
       "      <td>0.833333</td>\n",
       "      <td>0.260201</td>\n",
       "      <td>0.166667</td>\n",
       "      <td>0.919580</td>\n",
       "      <td>0.333333</td>\n",
       "      <td>0.0</td>\n",
       "      <td>0.657844</td>\n",
       "    </tr>\n",
       "    <tr>\n",
       "      <th>2</th>\n",
       "      <td>0.666667</td>\n",
       "      <td>0.260201</td>\n",
       "      <td>0.166667</td>\n",
       "      <td>0.933566</td>\n",
       "      <td>0.333333</td>\n",
       "      <td>0.0</td>\n",
       "      <td>0.375810</td>\n",
       "    </tr>\n",
       "    <tr>\n",
       "      <th>3</th>\n",
       "      <td>0.166667</td>\n",
       "      <td>0.260201</td>\n",
       "      <td>0.166667</td>\n",
       "      <td>0.643357</td>\n",
       "      <td>0.333333</td>\n",
       "      <td>0.0</td>\n",
       "      <td>0.340653</td>\n",
       "    </tr>\n",
       "    <tr>\n",
       "      <th>4</th>\n",
       "      <td>0.166667</td>\n",
       "      <td>0.260201</td>\n",
       "      <td>0.166667</td>\n",
       "      <td>0.905594</td>\n",
       "      <td>0.333333</td>\n",
       "      <td>0.0</td>\n",
       "      <td>0.760597</td>\n",
       "    </tr>\n",
       "  </tbody>\n",
       "</table>\n",
       "</div>"
      ],
      "text/plain": [
       "    Airline  Destination    Source  Arrival_time  Total_Stops  \\\n",
       "0  0.833333     0.260201  0.166667      0.919580     0.333333   \n",
       "1  0.833333     0.260201  0.166667      0.919580     0.333333   \n",
       "2  0.666667     0.260201  0.166667      0.933566     0.333333   \n",
       "3  0.166667     0.260201  0.166667      0.643357     0.333333   \n",
       "4  0.166667     0.260201  0.166667      0.905594     0.333333   \n",
       "\n",
       "   Additional_Info  Duration  \n",
       "0              0.0  0.274515  \n",
       "1              0.0  0.657844  \n",
       "2              0.0  0.375810  \n",
       "3              0.0  0.340653  \n",
       "4              0.0  0.760597  "
      ]
     },
     "execution_count": 48,
     "metadata": {},
     "output_type": "execute_result"
    }
   ],
   "source": [
    "# Data scaling using MinMaxScaler.\n",
    "from sklearn.preprocessing import MinMaxScaler\n",
    "scaled = MinMaxScaler() \n",
    "new = scaled.fit(x)  \n",
    "scale_x = new.transform(x)\n",
    "\n",
    "scaled_x = pd.DataFrame(scale_x, index=x.index, columns=x.columns)\n",
    "x=scaled_x\n",
    "x.head()"
   ]
  },
  {
   "cell_type": "code",
   "execution_count": 49,
   "id": "3f3f1ff5",
   "metadata": {},
   "outputs": [
    {
     "data": {
      "text/html": [
       "<div>\n",
       "<style scoped>\n",
       "    .dataframe tbody tr th:only-of-type {\n",
       "        vertical-align: middle;\n",
       "    }\n",
       "\n",
       "    .dataframe tbody tr th {\n",
       "        vertical-align: top;\n",
       "    }\n",
       "\n",
       "    .dataframe thead th {\n",
       "        text-align: right;\n",
       "    }\n",
       "</style>\n",
       "<table border=\"1\" class=\"dataframe\">\n",
       "  <thead>\n",
       "    <tr style=\"text-align: right;\">\n",
       "      <th></th>\n",
       "      <th>vif_Features</th>\n",
       "      <th>Features</th>\n",
       "    </tr>\n",
       "  </thead>\n",
       "  <tbody>\n",
       "    <tr>\n",
       "      <th>0</th>\n",
       "      <td>3.360195</td>\n",
       "      <td>Airline</td>\n",
       "    </tr>\n",
       "    <tr>\n",
       "      <th>1</th>\n",
       "      <td>2.836860</td>\n",
       "      <td>Destination</td>\n",
       "    </tr>\n",
       "    <tr>\n",
       "      <th>2</th>\n",
       "      <td>2.381206</td>\n",
       "      <td>Source</td>\n",
       "    </tr>\n",
       "    <tr>\n",
       "      <th>3</th>\n",
       "      <td>5.552162</td>\n",
       "      <td>Arrival_time</td>\n",
       "    </tr>\n",
       "    <tr>\n",
       "      <th>4</th>\n",
       "      <td>7.802930</td>\n",
       "      <td>Total_Stops</td>\n",
       "    </tr>\n",
       "    <tr>\n",
       "      <th>5</th>\n",
       "      <td>1.004313</td>\n",
       "      <td>Additional_Info</td>\n",
       "    </tr>\n",
       "    <tr>\n",
       "      <th>6</th>\n",
       "      <td>9.859770</td>\n",
       "      <td>Duration</td>\n",
       "    </tr>\n",
       "  </tbody>\n",
       "</table>\n",
       "</div>"
      ],
      "text/plain": [
       "   vif_Features         Features\n",
       "0      3.360195          Airline\n",
       "1      2.836860      Destination\n",
       "2      2.381206           Source\n",
       "3      5.552162     Arrival_time\n",
       "4      7.802930      Total_Stops\n",
       "5      1.004313  Additional_Info\n",
       "6      9.859770         Duration"
      ]
     },
     "execution_count": 49,
     "metadata": {},
     "output_type": "execute_result"
    }
   ],
   "source": [
    "# Checking the multicolinearity after applying VIF to data.\n",
    "\n",
    "from statsmodels.stats.outliers_influence import variance_inflation_factor\n",
    "vif=pd.DataFrame()\n",
    "vif[\"vif_Features\"]=[variance_inflation_factor(x.values, i) for i in range(x.shape[1])]\n",
    "vif[\"Features\"]=x.columns\n",
    "vif"
   ]
  },
  {
   "cell_type": "markdown",
   "id": "c562a9e7",
   "metadata": {},
   "source": [
    "Data doesn't contains multicollinerity."
   ]
  },
  {
   "cell_type": "markdown",
   "id": "e9218ab3",
   "metadata": {},
   "source": [
    "# Model Building and Evaluation"
   ]
  },
  {
   "cell_type": "code",
   "execution_count": 50,
   "id": "c1cb45ed",
   "metadata": {},
   "outputs": [],
   "source": [
    "# Importing necessary libraries.\n",
    "from sklearn.ensemble import RandomForestRegressor\n",
    "from sklearn.model_selection import train_test_split\n",
    "from sklearn.metrics import r2_score\n",
    "from sklearn.metrics import mean_squared_error,r2_score,mean_absolute_error\n",
    "from sklearn.linear_model import LinearRegression\n",
    "from sklearn.tree import DecisionTreeRegressor\n",
    "from sklearn.neighbors import KNeighborsRegressor\n",
    "from sklearn.ensemble import GradientBoostingRegressor\n",
    "from sklearn.svm import SVR\n",
    "from sklearn.model_selection import cross_val_score"
   ]
  },
  {
   "cell_type": "code",
   "execution_count": 51,
   "id": "4ef67c49",
   "metadata": {},
   "outputs": [
    {
     "name": "stdout",
     "output_type": "stream",
     "text": [
      "Best accuracy is  0.7800680216048734  on Random_state  188\n"
     ]
    }
   ],
   "source": [
    "# Finding the best random state.\n",
    "\n",
    "max_r2=0\n",
    "maxRS=0\n",
    "\n",
    "for i in range(0,200):\n",
    "    x_train,x_test, y_train, y_test=train_test_split(x,y,test_size=.20, random_state=i)\n",
    "    rf=RandomForestRegressor()\n",
    "    rf.fit(x_train,y_train)\n",
    "    pred_rf=rf.predict(x_test)\n",
    "    score = r2_score(y_test, pred_rf)\n",
    "    if score>max_r2:\n",
    "        max_r2=score\n",
    "        maxRS=i\n",
    "print(\"Best accuracy is \",max_r2,\" on Random_state \",maxRS) "
   ]
  },
  {
   "cell_type": "code",
   "execution_count": 52,
   "id": "583adbd5",
   "metadata": {},
   "outputs": [],
   "source": [
    "x_train,x_test, y_train, y_test=train_test_split(x,y,test_size=.20, random_state=188)"
   ]
  },
  {
   "cell_type": "markdown",
   "id": "dd139cea",
   "metadata": {},
   "source": [
    "# RandomForestRegressor"
   ]
  },
  {
   "cell_type": "code",
   "execution_count": 53,
   "id": "e04ea20a",
   "metadata": {},
   "outputs": [
    {
     "name": "stdout",
     "output_type": "stream",
     "text": [
      "R2 Score:                 0.7814725346202426\n",
      "Mean Absolute Error:      0.34248508450811616\n",
      "Mean Squared error:       0.23703729286212943\n",
      "Root Mean Squared Error:  0.4868647582872778\n"
     ]
    }
   ],
   "source": [
    "rf=RandomForestRegressor()\n",
    "rf.fit(x_train,y_train)\n",
    "pred_rf=rf.predict(x_test)\n",
    "print(\"R2 Score:                \", r2_score(y_test,pred_rf))\n",
    "print(\"Mean Absolute Error:     \", mean_absolute_error(y_test,pred_rf))\n",
    "print(\"Mean Squared error:      \", mean_squared_error(y_test,pred_rf))\n",
    "print(\"Root Mean Squared Error: \", np.sqrt(mean_squared_error(y_test,pred_rf)))"
   ]
  },
  {
   "cell_type": "markdown",
   "id": "ecd8a750",
   "metadata": {},
   "source": [
    "# LinearRegression"
   ]
  },
  {
   "cell_type": "code",
   "execution_count": 54,
   "id": "bb91a3da",
   "metadata": {},
   "outputs": [
    {
     "name": "stdout",
     "output_type": "stream",
     "text": [
      "R2 Score:                 0.5026833086036184\n",
      "Mean Absolute Error:      0.57282945931636\n",
      "Mean Squared error:       0.5394406694778285\n",
      "Root Mean Squared Error:  0.7344662480181295\n"
     ]
    }
   ],
   "source": [
    "lr=LinearRegression()\n",
    "lr.fit(x_train,y_train)\n",
    "pred_lr=lr.predict(x_test)\n",
    "print(\"R2 Score:                \", r2_score(y_test,pred_lr))\n",
    "print(\"Mean Absolute Error:     \", mean_absolute_error(y_test,pred_lr))\n",
    "print(\"Mean Squared error:      \", mean_squared_error(y_test,pred_lr))\n",
    "print(\"Root Mean Squared Error: \", np.sqrt(mean_squared_error(y_test,pred_lr)))"
   ]
  },
  {
   "cell_type": "markdown",
   "id": "6a3296c2",
   "metadata": {},
   "source": [
    "# DecisionTreeRegressor"
   ]
  },
  {
   "cell_type": "code",
   "execution_count": 55,
   "id": "3d250c5b",
   "metadata": {},
   "outputs": [
    {
     "name": "stdout",
     "output_type": "stream",
     "text": [
      "R2 Score:                 0.6362092434762634\n",
      "Mean Absolute Error:      0.39731883374871213\n",
      "Mean Squared error:       0.3946047511455755\n",
      "Root Mean Squared Error:  0.6281757326939457\n"
     ]
    }
   ],
   "source": [
    "dt=DecisionTreeRegressor()\n",
    "dt.fit(x_train,y_train)\n",
    "pred_dt=dt.predict(x_test)\n",
    "print(\"R2 Score:                \", r2_score(y_test,pred_dt))\n",
    "print(\"Mean Absolute Error:     \", mean_absolute_error(y_test,pred_dt))\n",
    "print(\"Mean Squared error:      \", mean_squared_error(y_test,pred_dt))\n",
    "print(\"Root Mean Squared Error: \", np.sqrt(mean_squared_error(y_test,pred_dt)))\n"
   ]
  },
  {
   "cell_type": "markdown",
   "id": "40d9d61f",
   "metadata": {},
   "source": [
    "# KNeighborsRegressor"
   ]
  },
  {
   "cell_type": "code",
   "execution_count": 56,
   "id": "180dd86f",
   "metadata": {},
   "outputs": [
    {
     "name": "stdout",
     "output_type": "stream",
     "text": [
      "R2 Score:                 0.7362369250616814\n",
      "Mean Absolute Error:      0.3920671216759111\n",
      "Mean Squared error:       0.28610447264246497\n",
      "Root Mean Squared Error:  0.5348873457490512\n"
     ]
    }
   ],
   "source": [
    "knn=KNeighborsRegressor()\n",
    "knn.fit(x_train,y_train)\n",
    "pred_knn=knn.predict(x_test)\n",
    "print(\"R2 Score:                \", r2_score(y_test,pred_knn))\n",
    "print(\"Mean Absolute Error:     \", mean_absolute_error(y_test,pred_knn))\n",
    "print(\"Mean Squared error:      \", mean_squared_error(y_test,pred_knn))\n",
    "print(\"Root Mean Squared Error: \", np.sqrt(mean_squared_error(y_test,pred_knn)))\n"
   ]
  },
  {
   "cell_type": "markdown",
   "id": "72177250",
   "metadata": {},
   "source": [
    "# GradientBoostingRegressor"
   ]
  },
  {
   "cell_type": "code",
   "execution_count": 57,
   "id": "a24228e4",
   "metadata": {},
   "outputs": [
    {
     "name": "stdout",
     "output_type": "stream",
     "text": [
      "R2 Score:                 0.7245816621803143\n",
      "Mean Absolute Error:      0.4091234142670835\n",
      "Mean Squared error:       0.29874696568650694\n",
      "Root Mean Squared Error:  0.5465775019944628\n"
     ]
    }
   ],
   "source": [
    "gbr=GradientBoostingRegressor()\n",
    "gbr.fit(x_train,y_train)\n",
    "pred_gbr=gbr.predict(x_test)\n",
    "print(\"R2 Score:                \", r2_score(y_test,pred_gbr))\n",
    "print(\"Mean Absolute Error:     \", mean_absolute_error(y_test,pred_gbr))\n",
    "print(\"Mean Squared error:      \", mean_squared_error(y_test,pred_gbr))\n",
    "print(\"Root Mean Squared Error: \", np.sqrt(mean_squared_error(y_test,pred_gbr)))\n"
   ]
  },
  {
   "cell_type": "markdown",
   "id": "5c80b017",
   "metadata": {},
   "source": [
    "# Support Vector Regressor"
   ]
  },
  {
   "cell_type": "code",
   "execution_count": 58,
   "id": "1d64cff7",
   "metadata": {},
   "outputs": [
    {
     "name": "stdout",
     "output_type": "stream",
     "text": [
      "R2 Score:                 0.6599601615394973\n",
      "Mean Absolute Error:      0.46187831038684174\n",
      "Mean Squared error:       0.3688420704183926\n",
      "Root Mean Squared Error:  0.6073236949258547\n"
     ]
    }
   ],
   "source": [
    "svr=SVR()\n",
    "svr.fit(x_train,y_train)\n",
    "pred_svr=svr.predict(x_test)\n",
    "print(\"R2 Score:                \", r2_score(y_test,pred_svr))\n",
    "print(\"Mean Absolute Error:     \", mean_absolute_error(y_test,pred_svr))\n",
    "print(\"Mean Squared error:      \", mean_squared_error(y_test,pred_svr))\n",
    "print(\"Root Mean Squared Error: \", np.sqrt(mean_squared_error(y_test,pred_svr)))\n"
   ]
  },
  {
   "cell_type": "markdown",
   "id": "bd271d27",
   "metadata": {},
   "source": [
    "# Cross Validation for each model"
   ]
  },
  {
   "cell_type": "code",
   "execution_count": 59,
   "id": "ccb824bd",
   "metadata": {},
   "outputs": [
    {
     "name": "stdout",
     "output_type": "stream",
     "text": [
      "Cross_validation_score for RandomForestRegressor is: 0.038156481330476735\n"
     ]
    }
   ],
   "source": [
    "# Cross validation score of RandomForestRegressor.\n",
    "\n",
    "cvs=cross_val_score(rf,x,y,cv=10)\n",
    "print('Cross_validation_score for RandomForestRegressor is:',cvs.mean())"
   ]
  },
  {
   "cell_type": "code",
   "execution_count": 60,
   "id": "bcbd2139",
   "metadata": {},
   "outputs": [
    {
     "name": "stdout",
     "output_type": "stream",
     "text": [
      "Cross_validation_score for LogisticRegression is: 0.21438469836494606\n"
     ]
    }
   ],
   "source": [
    "cvs=cross_val_score(lr,x,y,cv=10)\n",
    "print('Cross_validation_score for LogisticRegression is:',cvs.mean())"
   ]
  },
  {
   "cell_type": "code",
   "execution_count": 61,
   "id": "74a37274",
   "metadata": {},
   "outputs": [
    {
     "name": "stdout",
     "output_type": "stream",
     "text": [
      "Cross_validation_score for DecisionTreeRegressor is: -0.5075740952216823\n"
     ]
    }
   ],
   "source": [
    "cvs=cross_val_score(dt,x,y,cv=10)\n",
    "print('Cross_validation_score for DecisionTreeRegressor is:',cvs.mean())"
   ]
  },
  {
   "cell_type": "code",
   "execution_count": 62,
   "id": "ae4d809e",
   "metadata": {},
   "outputs": [
    {
     "name": "stdout",
     "output_type": "stream",
     "text": [
      "Cross_validation_score for KNeighborsRegressor is: -0.025425497459508895\n"
     ]
    }
   ],
   "source": [
    "cvs=cross_val_score(knn,x,y,cv=10)\n",
    "print('Cross_validation_score for KNeighborsRegressor is:',cvs.mean())"
   ]
  },
  {
   "cell_type": "code",
   "execution_count": 63,
   "id": "40daaa7a",
   "metadata": {},
   "outputs": [
    {
     "name": "stdout",
     "output_type": "stream",
     "text": [
      "Cross_validation_score for GradientBoostingRegressor is: 0.17537945007455127\n"
     ]
    }
   ],
   "source": [
    "cvs=cross_val_score(gbr,x,y,cv=10)\n",
    "print('Cross_validation_score for GradientBoostingRegressor is:',cvs.mean())"
   ]
  },
  {
   "cell_type": "code",
   "execution_count": 64,
   "id": "438b8c14",
   "metadata": {},
   "outputs": [
    {
     "name": "stdout",
     "output_type": "stream",
     "text": [
      "Cross_validation_score for SVR is: 0.058814795605887406\n"
     ]
    }
   ],
   "source": [
    "cvs=cross_val_score(svr,x,y,cv=10)\n",
    "print('Cross_validation_score for SVR is:',cvs.mean())"
   ]
  },
  {
   "cell_type": "markdown",
   "id": "ad706207",
   "metadata": {},
   "source": [
    "We choose the model on basis of lowest difference between model accuracy score and cross validation score of that model,we observe that we got less difference/almost equal score for RandomForestRegressor,so we will perform hyper parameter tunning for RandomForestRegressor."
   ]
  },
  {
   "cell_type": "markdown",
   "id": "ca3a02f4",
   "metadata": {},
   "source": [
    "# Hyper Parameter Tunning"
   ]
  },
  {
   "cell_type": "code",
   "execution_count": 65,
   "id": "ed0fde03",
   "metadata": {},
   "outputs": [],
   "source": [
    "# We will do hyper parameter for RandomForest Regressor using GridSearchCV.\n",
    "\n",
    "from sklearn.model_selection import GridSearchCV\n",
    "param_grid = {'bootstrap': [True], \n",
    "              'max_depth': [5, 10, None], \n",
    "              'max_features': ['auto', 'log2'], \n",
    "              'n_estimators': [5, 6, 7, 8, 9, 10, 11, 12, 13, 15],\n",
    "              'min_samples_leaf':range(1,5)\n",
    "             }"
   ]
  },
  {
   "cell_type": "code",
   "execution_count": 66,
   "id": "8271873f",
   "metadata": {},
   "outputs": [
    {
     "data": {
      "text/plain": [
       "{'bootstrap': True,\n",
       " 'max_depth': None,\n",
       " 'max_features': 'log2',\n",
       " 'min_samples_leaf': 1,\n",
       " 'n_estimators': 13}"
      ]
     },
     "execution_count": 66,
     "metadata": {},
     "output_type": "execute_result"
    }
   ],
   "source": [
    "# Fitting the hyper parameters.\n",
    "gsv = GridSearchCV(rf, param_grid)\n",
    "gsv.fit(x_train,y_train) \n",
    "gsv.best_params_  "
   ]
  },
  {
   "cell_type": "code",
   "execution_count": 67,
   "id": "4543f16e",
   "metadata": {},
   "outputs": [],
   "source": [
    "# Getting the best parameters.\n",
    "gsv_pred=gsv.best_estimator_.predict(x_test)"
   ]
  },
  {
   "cell_type": "code",
   "execution_count": 68,
   "id": "8bcc300f",
   "metadata": {},
   "outputs": [
    {
     "data": {
      "text/plain": [
       "0.7710950707449102"
      ]
     },
     "execution_count": 68,
     "metadata": {},
     "output_type": "execute_result"
    }
   ],
   "source": [
    "# R2 score after fitting the best parameters.\n",
    "r2_score(y_test, gsv_pred)"
   ]
  },
  {
   "cell_type": "markdown",
   "id": "07001fc8",
   "metadata": {},
   "source": [
    "# Saving the model"
   ]
  },
  {
   "cell_type": "code",
   "execution_count": 71,
   "id": "0512445e",
   "metadata": {},
   "outputs": [
    {
     "data": {
      "text/plain": [
       "['Flight_Price_Prediction.obj']"
      ]
     },
     "execution_count": 71,
     "metadata": {},
     "output_type": "execute_result"
    }
   ],
   "source": [
    "import joblib\n",
    "joblib.dump(gsv.best_estimator_,\"Flight_Price_Prediction.obj\")"
   ]
  },
  {
   "cell_type": "code",
   "execution_count": null,
   "id": "640927a4",
   "metadata": {},
   "outputs": [],
   "source": []
  }
 ],
 "metadata": {
  "kernelspec": {
   "display_name": "Python 3 (ipykernel)",
   "language": "python",
   "name": "python3"
  },
  "language_info": {
   "codemirror_mode": {
    "name": "ipython",
    "version": 3
   },
   "file_extension": ".py",
   "mimetype": "text/x-python",
   "name": "python",
   "nbconvert_exporter": "python",
   "pygments_lexer": "ipython3",
   "version": "3.9.12"
  }
 },
 "nbformat": 4,
 "nbformat_minor": 5
}
