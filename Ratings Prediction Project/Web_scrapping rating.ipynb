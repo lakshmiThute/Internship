{
 "cells": [
  {
   "cell_type": "code",
   "execution_count": 1,
   "id": "6bcfc6cc",
   "metadata": {},
   "outputs": [],
   "source": [
    "# Import necessory libraries.\n",
    "import selenium\n",
    "import pandas as pd\n",
    "import time\n",
    "import  requests\n",
    "from  bs4 import BeautifulSoup\n",
    "from selenium import webdriver\n",
    "from selenium.common.exceptions import NoSuchElementException\n",
    "from selenium.webdriver.common.keys import Keys\n",
    "from selenium.webdriver.common.action_chains import ActionChains\n",
    "from selenium.webdriver.support.ui import WebDriverWait\n",
    "from selenium.webdriver.support import expected_conditions as EC\n",
    "from selenium.webdriver.common.by import By"
   ]
  },
  {
   "cell_type": "code",
   "execution_count": 2,
   "id": "9fbcff6d",
   "metadata": {},
   "outputs": [],
   "source": [
    "import warnings\n",
    "warnings.filterwarnings(\"ignore\")\n",
    "driver=webdriver.Chrome(r'C:\\Users\\91749\\Downloads\\chromedriver_win32 (1)\\chromedriver.exe')"
   ]
  },
  {
   "cell_type": "code",
   "execution_count": 3,
   "id": "85b9413e",
   "metadata": {},
   "outputs": [],
   "source": [
    "url = \"https://www.flipkart.com/\"\n",
    "driver.get(url)\n",
    "time.sleep(2)"
   ]
  },
  {
   "cell_type": "code",
   "execution_count": 4,
   "id": "cc0dcbe7",
   "metadata": {},
   "outputs": [],
   "source": [
    "cancel_btn=driver.find_element(\"xpath\",'//button[@class=\"_2KpZ6l _2doB4z\"]')"
   ]
  },
  {
   "cell_type": "code",
   "execution_count": 5,
   "id": "374a3370",
   "metadata": {},
   "outputs": [],
   "source": [
    "cancel_btn.click()"
   ]
  },
  {
   "cell_type": "code",
   "execution_count": 6,
   "id": "d20a02e9",
   "metadata": {},
   "outputs": [],
   "source": [
    "srch_items = ['laptops', 'Phones','smart watches','Monitors']"
   ]
  },
  {
   "cell_type": "code",
   "execution_count": 7,
   "id": "9d80569c",
   "metadata": {},
   "outputs": [],
   "source": [
    "title = []\n",
    "review_text = []\n",
    "ratings = []"
   ]
  },
  {
   "cell_type": "code",
   "execution_count": 8,
   "id": "3835962d",
   "metadata": {},
   "outputs": [],
   "source": [
    "def scrap():    \n",
    "        for i in driver.find_elements(\"xpath\",\"//div[@class='t-ZTKy']\"):\n",
    "            review_text.append(i.text)\n",
    "        for i in driver.find_elements(\"xpath\",\"//p[@class='_2-N8zT']\"):\n",
    "            title.append(i.text)\n",
    "        for i in driver.find_elements(\"xpath\",\"//p[@class='_2-N8zT']/../div\"):\n",
    "            ratings.append(i.text)\n",
    "        return"
   ]
  },
  {
   "cell_type": "code",
   "execution_count": 9,
   "id": "ecdd58fd",
   "metadata": {},
   "outputs": [],
   "source": [
    "urls=[]"
   ]
  },
  {
   "cell_type": "code",
   "execution_count": 10,
   "id": "ad1c8381",
   "metadata": {},
   "outputs": [],
   "source": [
    "for i in srch_items:\n",
    "    #Find search bar\n",
    "    srchBar = driver.find_element(\"xpath\",\"//div[@class='_3OO5Xc']/input\")\n",
    "    srchBar.clear()\n",
    "    srchBar.send_keys(i)\n",
    "    #clicking on search button\n",
    "    driver.find_element(\"xpath\",\"//button[@class='L0Z3Pu']\").click()\n",
    "    time.sleep(3)\n",
    "    page = []\n",
    "    for i in driver.find_elements(\"xpath\",\"//nav[@class='yFHi8N']/a\"):\n",
    "        page.append(i.get_attribute('href'))\n",
    "    for i in page[0:4]:\n",
    "        driver.get(i)\n",
    "        time.sleep(3)\n",
    "        items = driver.find_elements(\"xpath\",\"//a[@class='_1fQZEK']\")\n",
    "        for i in items:\n",
    "            urls.append(i.get_attribute('href'))"
   ]
  },
  {
   "cell_type": "code",
   "execution_count": 11,
   "id": "4e3e2d2c",
   "metadata": {},
   "outputs": [
    {
     "data": {
      "text/plain": [
       "384"
      ]
     },
     "execution_count": 11,
     "metadata": {},
     "output_type": "execute_result"
    }
   ],
   "source": [
    "len(urls)"
   ]
  },
  {
   "cell_type": "code",
   "execution_count": 12,
   "id": "ec913d17",
   "metadata": {},
   "outputs": [],
   "source": [
    "for i in urls:\n",
    "    driver.get(i)\n",
    "    time.sleep(3)\n",
    "    for _ in range(2):\n",
    "        driver.execute_script(\"window.scrollBy(0,6000)\")\n",
    "        time.sleep(1)\n",
    "        #clicking on all reviews\n",
    "    try:\n",
    "        btn=driver.find_element(\"xpath\",\"//div[@class='_2c2kV-']/following::a\")\n",
    "        lnk = btn.get_attribute('href')\n",
    "        driver.get(lnk)\n",
    "        time.sleep(2)\n",
    "    except NoSuchElementException:\n",
    "        pass\n",
    "\n",
    "    scrap()        \n",
    "    try:\n",
    "        n_page=driver.find_elements(\"xpath\",\"//nav[@class='yFHi8N']/a\")\n",
    "        np=[]\n",
    "        for i in n_page:\n",
    "            np.append(i.get_attribute('href'))\n",
    "        for i in np[0:18]:\n",
    "            driver.get(i)\n",
    "            time.sleep(2)\n",
    "            scrap()\n",
    "    except: continue"
   ]
  },
  {
   "cell_type": "code",
   "execution_count": 13,
   "id": "ed93a0f3",
   "metadata": {},
   "outputs": [
    {
     "data": {
      "text/plain": [
       "(35363, 35363, 35363)"
      ]
     },
     "execution_count": 13,
     "metadata": {},
     "output_type": "execute_result"
    }
   ],
   "source": [
    "len(ratings), len(review_text), len(title)\n"
   ]
  },
  {
   "cell_type": "code",
   "execution_count": 14,
   "id": "e1f47295",
   "metadata": {},
   "outputs": [
    {
     "data": {
      "text/html": [
       "<div>\n",
       "<style scoped>\n",
       "    .dataframe tbody tr th:only-of-type {\n",
       "        vertical-align: middle;\n",
       "    }\n",
       "\n",
       "    .dataframe tbody tr th {\n",
       "        vertical-align: top;\n",
       "    }\n",
       "\n",
       "    .dataframe thead th {\n",
       "        text-align: right;\n",
       "    }\n",
       "</style>\n",
       "<table border=\"1\" class=\"dataframe\">\n",
       "  <thead>\n",
       "    <tr style=\"text-align: right;\">\n",
       "      <th></th>\n",
       "      <th>Review_title</th>\n",
       "      <th>Reiew_text</th>\n",
       "      <th>Ratings</th>\n",
       "    </tr>\n",
       "  </thead>\n",
       "  <tbody>\n",
       "    <tr>\n",
       "      <th>0</th>\n",
       "      <td>Value-for-money</td>\n",
       "      <td>According to my experience under the 25k,\\nDis...</td>\n",
       "      <td>4</td>\n",
       "    </tr>\n",
       "    <tr>\n",
       "      <th>1</th>\n",
       "      <td>Really Nice</td>\n",
       "      <td>Actually, I felt like this infinix brand is no...</td>\n",
       "      <td>4</td>\n",
       "    </tr>\n",
       "    <tr>\n",
       "      <th>2</th>\n",
       "      <td>Highly recommended</td>\n",
       "      <td>Best laptop i ever had this is my first laptop...</td>\n",
       "      <td>5</td>\n",
       "    </tr>\n",
       "    <tr>\n",
       "      <th>3</th>\n",
       "      <td>Wonderful</td>\n",
       "      <td>Laptop is nice but after sometimes heating sta...</td>\n",
       "      <td>4</td>\n",
       "    </tr>\n",
       "    <tr>\n",
       "      <th>4</th>\n",
       "      <td>Worth every penny</td>\n",
       "      <td>Had been using for the last three days\\n\\nThe ...</td>\n",
       "      <td>5</td>\n",
       "    </tr>\n",
       "    <tr>\n",
       "      <th>...</th>\n",
       "      <td>...</td>\n",
       "      <td>...</td>\n",
       "      <td>...</td>\n",
       "    </tr>\n",
       "    <tr>\n",
       "      <th>35358</th>\n",
       "      <td>Decent product</td>\n",
       "      <td>Back bown not comfortable but chair 🪑 was very...</td>\n",
       "      <td>3</td>\n",
       "    </tr>\n",
       "    <tr>\n",
       "      <th>35359</th>\n",
       "      <td>More suitable for tall people</td>\n",
       "      <td>'Am writing the review after using the chair f...</td>\n",
       "      <td>4</td>\n",
       "    </tr>\n",
       "    <tr>\n",
       "      <th>35360</th>\n",
       "      <td>Utterly Disappointed</td>\n",
       "      <td>Product and Flipkart services both are terribl...</td>\n",
       "      <td>1</td>\n",
       "    </tr>\n",
       "    <tr>\n",
       "      <th>35361</th>\n",
       "      <td>Nice product</td>\n",
       "      <td>This product is good quality. Worth for money....</td>\n",
       "      <td>4</td>\n",
       "    </tr>\n",
       "    <tr>\n",
       "      <th>35362</th>\n",
       "      <td>Best in the market!</td>\n",
       "      <td>Nice product, tilting and height adjustment is...</td>\n",
       "      <td>5</td>\n",
       "    </tr>\n",
       "  </tbody>\n",
       "</table>\n",
       "<p>35363 rows × 3 columns</p>\n",
       "</div>"
      ],
      "text/plain": [
       "                        Review_title  \\\n",
       "0                    Value-for-money   \n",
       "1                        Really Nice   \n",
       "2                 Highly recommended   \n",
       "3                          Wonderful   \n",
       "4                  Worth every penny   \n",
       "...                              ...   \n",
       "35358                 Decent product   \n",
       "35359  More suitable for tall people   \n",
       "35360           Utterly Disappointed   \n",
       "35361                   Nice product   \n",
       "35362            Best in the market!   \n",
       "\n",
       "                                              Reiew_text Ratings  \n",
       "0      According to my experience under the 25k,\\nDis...       4  \n",
       "1      Actually, I felt like this infinix brand is no...       4  \n",
       "2      Best laptop i ever had this is my first laptop...       5  \n",
       "3      Laptop is nice but after sometimes heating sta...       4  \n",
       "4      Had been using for the last three days\\n\\nThe ...       5  \n",
       "...                                                  ...     ...  \n",
       "35358  Back bown not comfortable but chair 🪑 was very...       3  \n",
       "35359  'Am writing the review after using the chair f...       4  \n",
       "35360  Product and Flipkart services both are terribl...       1  \n",
       "35361  This product is good quality. Worth for money....       4  \n",
       "35362  Nice product, tilting and height adjustment is...       5  \n",
       "\n",
       "[35363 rows x 3 columns]"
      ]
     },
     "execution_count": 14,
     "metadata": {},
     "output_type": "execute_result"
    }
   ],
   "source": [
    "#creating a dataframe\n",
    "data = list(zip(title,review_text,ratings))\n",
    "df2 = pd.DataFrame(data, columns = [\"Review_title\",\"Reiew_text\",\"Ratings\"])\n",
    "df2"
   ]
  },
  {
   "cell_type": "code",
   "execution_count": 17,
   "id": "2730e978",
   "metadata": {},
   "outputs": [],
   "source": [
    "#saving the data into csv file\n",
    "df2.to_csv(\"flipkart.csv\")"
   ]
  },
  {
   "cell_type": "code",
   "execution_count": 28,
   "id": "2b814e5e",
   "metadata": {},
   "outputs": [],
   "source": [
    "df2.to_excel(\"flip.xlsx\")"
   ]
  },
  {
   "cell_type": "code",
   "execution_count": null,
   "id": "41e348f5",
   "metadata": {},
   "outputs": [],
   "source": []
  }
 ],
 "metadata": {
  "kernelspec": {
   "display_name": "Python 3 (ipykernel)",
   "language": "python",
   "name": "python3"
  },
  "language_info": {
   "codemirror_mode": {
    "name": "ipython",
    "version": 3
   },
   "file_extension": ".py",
   "mimetype": "text/x-python",
   "name": "python",
   "nbconvert_exporter": "python",
   "pygments_lexer": "ipython3",
   "version": "3.9.12"
  }
 },
 "nbformat": 4,
 "nbformat_minor": 5
}
