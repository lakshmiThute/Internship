{
 "cells": [
  {
   "cell_type": "code",
   "execution_count": 1,
   "id": "84bf4953",
   "metadata": {},
   "outputs": [],
   "source": [
    "from bs4 import BeautifulSoup\n",
    "import requests"
   ]
  },
  {
   "cell_type": "code",
   "execution_count": 2,
   "id": "78dc5b81",
   "metadata": {},
   "outputs": [
    {
     "data": {
      "text/plain": [
       "<Response [200]>"
      ]
     },
     "execution_count": 2,
     "metadata": {},
     "output_type": "execute_result"
    }
   ],
   "source": [
    "page=requests.get('https://www.topcricc.com/ranking/team_Women_ODI/')\n",
    "page"
   ]
  },
  {
   "cell_type": "code",
   "execution_count": 3,
   "id": "0b2ab249",
   "metadata": {},
   "outputs": [
    {
     "data": {
      "text/plain": [
       " <!DOCTYPE html>\n",
       "\n",
       "<html lang=\"en\">\n",
       "<head>\n",
       "<meta charset=\"utf-8\"/>\n",
       "<meta content=\"width=device-width, initial-scale=1, maximum-scale=1, minimum-scale=1, user-scalable=no\" name=\"viewport\"/>\n",
       "<meta content=\"ie=edge,chrome=1\" http-equiv=\"X-UA-Compatible\"/>\n",
       "<title>Cricket Rankings 2022, Women ODI Ranking - Topcricc.com</title><meta content=\"Cricket Rankings 2022, Women ODI Ranking - Topcricc.com\" name=\"keywords\"><meta content=\"TopCricket's coverage of all the Latest Cricket Rankings 2022, Women ODI Ranking,Cricket Rankings ODI,Cricket Rankings T20,Cricket Rankings Test and more - Topcricc.com\" name=\"description\"> <link href=\"/css/normalize.css\" rel=\"stylesheet\"/>\n",
       "<link href=\"/css/tool.css\" rel=\"stylesheet\"/>\n",
       "<link href=\"/css/swiper-3.4.2.min.css\" rel=\"stylesheet\"/>\n",
       "<link href=\"/css/font.css\" rel=\"stylesheet\"/>\n",
       "<link href=\"/css/index.css\" rel=\"stylesheet\"/>\n",
       "<link href=\"/css/media.css\" rel=\"stylesheet\"/>\n",
       "<style type=\"text/css\">\n",
       "    .bet_content > .left .question {\n",
       "\n",
       "        margin-top: 0rem;\n",
       "\n",
       "    }\n",
       "</style>\n",
       "</meta></meta></head>\n",
       "<body>\n",
       "<div class=\"header\">\n",
       "<div class=\"header_left\">\n",
       "<a href=\"https://www.topcricc.com/\"> <div class=\"logo_main\">\n",
       "<span class=\"img\"></span>\n",
       "</div></a>\n",
       "<ul class=\"header_nav\">\n",
       "<li><span>Home</span><i class=\"icon icon-down\"></i>\n",
       "<div class=\"head_child_nav\">\n",
       "<a href=\"https://www.topcricc.com/\">Home</a>\n",
       "<a href=\"https://www.topcricc.com/video/\">Video</a>\n",
       "<a href=\"https://www.topcricc.com/news/\">News</a>\n",
       "<a href=\"https://www.topcricc.com/questions/\">Questions</a>\n",
       "<a href=\"https://www.topcricc.com/photos/\">Photos</a>\n",
       "</div>\n",
       "</li>\n",
       "<li><span>Live</span><i class=\"icon icon-down\"></i>\n",
       "<div class=\"head_child_nav\">\n",
       "<a href=\"/live-score-football/\">FootBall Live Score</a>\n",
       "<a href=\"/live-score-basketball/\">BasketBall Live Score</a>\n",
       "<a href=\"https://www.topcricc.com/live-cricket-score/\">Live Score</a>\n",
       "<a href=\"https://www.topcricc.com/score/live_list.php?isshow=1\">Live Commentary</a>\n",
       "<a href=\"/cricketscore/recently-matches\">Recent Matches</a>\n",
       "<a href=\"/cricketscore/upcoming-matches\">Upcoming Matches</a>\n",
       "<a href=\"https://www.topcricc.com/cricketscore/Men/\">Men's Results</a>\n",
       "<a href=\"https://www.topcricc.com/cricketscore/Women/\">Women's Results</a>\n",
       "</div>\n",
       "</li>\n",
       "<li><span>Schedule </span><i class=\"icon icon-down\"></i>\n",
       "<div class=\"head_child_nav\">\n",
       "<a href=\"https://www.topcricc.com/icc/\"> Schedule  List</a>\n",
       "</div>\n",
       "</li>\n",
       "<li><span>Rankings</span><i class=\"icon icon-down\"></i>\n",
       "<div class=\"head_child_nav\">\n",
       "<a href=\"https://www.topcricc.com/ranking/Men/\"> Men's Rankings Overview</a>\n",
       "<a href=\"https://www.topcricc.com/ranking/team_Men/\">Men's Team Rankings</a>\n",
       "<a href=\"https://www.topcricc.com/ranking/player_Men/\"> Men's Player Rankings</a>\n",
       "<a href=\"https://www.topcricc.com/ranking/Women/\">Women's Rankings Overview</a>\n",
       "<a href=\"https://www.topcricc.com/ranking/team_Women/\"> Women's Team Rankings</a>\n",
       "<a href=\"https://www.topcricc.com/ranking/player_Women/\"> Women's Player Rankings</a>\n",
       "</div>\n",
       "</li>\n",
       "<li><span>TV </span><i class=\"icon icon-down\"></i>\n",
       "<div class=\"head_child_nav\">\n",
       "<a href=\"https://www.topcricc.com/tv/\">TV List</a>\n",
       "</div>\n",
       "</li>\n",
       "<li><span>Data </span><i class=\"icon icon-down\"></i>\n",
       "<div class=\"head_child_nav\">\n",
       "<a href=\"https://www.topcricc.com/team/\">Team List</a>\n",
       "<a href=\"https://www.topcricc.com/play/\">Player List</a>\n",
       "</div>\n",
       "</li>\n",
       "<li><span>Predictions </span><i class=\"icon icon-down\"></i>\n",
       "<div class=\"head_child_nav\">\n",
       "<a href=\"https://www.topcricc.com/news/newsPropertylist.php?PropertyID=288\">Match Previews</a>\n",
       "<a href=\"https://www.topcricc.com/news/newsPropertylist.php?PropertyID=289\">Free Tips</a>\n",
       "</div>\n",
       "</li>\n",
       "<li style=\"display: none;\"><span>TopBet</span><i class=\"icon icon-down\"></i>\n",
       "<div class=\"head_child_nav\">\n",
       "<a href=\"https://www.topbets.in/bet/betindex.php\">BetIndex</a>\n",
       "<a href=\"https://www.topbets.in/bet/betlist.php\">BetList</a>\n",
       "<a href=\"https://www.topbets.in/bet/bet_newsList.php?property=0\">BetNews</a>\n",
       "<a href=\"https://www.topbets.in/bet/betweb_questionslist.php\">BetQuestions</a>\n",
       "</div>\n",
       "</li>\n",
       "</ul>\n",
       "</div>\n",
       "<style>\n",
       "        .header .header_right .newpc{\n",
       "            background: #fda036;\n",
       "            color: #fff;\n",
       "            height: 1.8rem;\n",
       "            border-radius: 0.2rem;\n",
       "            line-height: 1.8rem;\n",
       "            text-align: center;\n",
       "            white-space: nowrap;\n",
       "            margin-right: 5px;\n",
       "        }\n",
       "        @media screen and (max-width: 850px) {\n",
       "            .header .header_right .newpc{\n",
       "                width: 25px;\n",
       "                height: 25px;\n",
       "                line-height:25px;\n",
       "                border-radius:50%;\n",
       "            }\n",
       "            .header .header_right .newpc span{\n",
       "                display:none;\n",
       "            }\n",
       "        }\n",
       "        @media screen and (min-width: 850px) {\n",
       "            .header .header_right .newpc span{\n",
       "                display:inline-block;\n",
       "                margin-right: 5px;\n",
       "            }\n",
       "        }\n",
       "\n",
       "\n",
       "    </style>\n",
       "<div class=\"wap_header_left\">\n",
       "<a href=\"/\"> <div class=\"logo_main\">\n",
       "<span class=\"img\"></span>\n",
       "</div></a>\n",
       "</div>\n",
       "<div class=\"header_right\" style=\" width: initial;\">\n",
       "<a class=\"newpc\" href=\"/questions/send.php\" title=\"Sign in to post a new question or leave a comment.\"><i class=\"icon icon-bi\"></i><span>New posts</span></a>\n",
       "<a href=\"/user/login.php\"> <i class=\"icon icon-touxiang avatar\" style=\"color: white;display: inline-block;font-size: 32px;\"></i></a>\n",
       "<a href=\"/user/login.php\" style=\"margin-left:  10px;color: white;\">sign in</a>\n",
       "<span class=\"menu\" id=\"menuBtn\">\n",
       "<span>menu</span> <i class=\"icon icon-caidan menu_btn\" style=\"color: white;\"></i>\n",
       "</span>\n",
       "</div>\n",
       "<ul class=\"wap_nav_box\" id=\"wap_nav_box\">\n",
       "<ul class=\"wap_header_nav\" id=\"wap_header_nav\">\n",
       "<li>\n",
       "<span>Home</span>\n",
       "<ul class=\"child_nav\">\n",
       "<li><a href=\"https://www.topcricc.com/\">Home</a></li>\n",
       "<li> <a href=\"https://www.topcricc.com/video/\">Video</a></li>\n",
       "<li> <a href=\"https://www.topcricc.com/news/\">News</a></li>\n",
       "<li><a href=\"https://www.topcricc.com/questions/\">Questions</a></li>\n",
       "<li><a href=\"https://www.topcricc.com/photos/\">Photos</a></li>\n",
       "</ul>\n",
       "</li>\n",
       "<li><span>Live</span>\n",
       "<ul class=\"child_nav\">\n",
       "<li><a href=\"https://www.topcricc.com/live-cricket-score/\">Live Score</a></li>\n",
       "<li><a href=\"https://www.topcricc.com/score/live_list.php?isshow=1\">Live Commentary</a></li>\n",
       "<li><a href=\"/cricketscore/recently-matches\">Recent Matches</a></li>\n",
       "<li><a href=\"/cricketscore/upcoming-matches\">Upcoming Matches</a></li>\n",
       "<li><a href=\"https://www.topcricc.com/cricketscore/Men/\">Men's Results</a></li>\n",
       "<li><a href=\"https://www.topcricc.com/cricketscore/Women/\">Women's Results</a></li>\n",
       "</ul>\n",
       "</li>\n",
       "<li><span>Schedule</span>\n",
       "<ul class=\"child_nav\">\n",
       "<li><a href=\"https://www.topcricc.com/icc/\"> Schedule  List</a></li>\n",
       "</ul>\n",
       "</li>\n",
       "<li><span>Rankings</span>\n",
       "<ul class=\"child_nav\">\n",
       "<li> <a href=\"https://www.topcricc.com/ranking/Men/\"> Men's Rankings Overview</a></li>\n",
       "<li> <a href=\"https://www.topcricc.com/ranking/team_Men/\">Men's Team Rankings</a></li>\n",
       "<li> <a href=\"https://www.topcricc.com/ranking/player_Men/\"> Men's Player Rankings</a></li>\n",
       "<li> <a href=\"https://www.topcricc.com/ranking/Women/\">Women's Rankings Overview</a></li>\n",
       "<li> <a href=\"https://www.topcricc.com/ranking/team_Women/\"> Women's Team Rankings</a></li>\n",
       "<li> <a href=\"https://www.topcricc.com/ranking/player_Women/\"> Women's Player Rankings</a></li>\n",
       "</ul>\n",
       "</li>\n",
       "<li><span>TV</span>\n",
       "<ul class=\"child_nav\">\n",
       "<li><a href=\"https://www.topcricc.com/tv/\">TV List</a></li>\n",
       "</ul>\n",
       "</li>\n",
       "<li><span>Data</span>\n",
       "<ul class=\"child_nav\">\n",
       "<li><a href=\"https://www.topcricc.com/team/\">Team List</a></li>\n",
       "<li><a href=\"https://www.topcricc.com/play/\">Player List</a></li>\n",
       "</ul>\n",
       "</li>\n",
       "<li><span>Predictions</span>\n",
       "<ul class=\"child_nav\">\n",
       "<li><a href=\"https://www.topcricc.com/news/newsPropertylist.php?PropertyID=288\">Match Previews</a></li>\n",
       "<li><a href=\"https://www.topcricc.com/news/newsPropertylist.php?PropertyID=289\">Free Tips</a></li>\n",
       "</ul>\n",
       "</li>\n",
       "<li><span>\n",
       "<a href=\"/user/login.php\" style=\"color: #fff;\">sign in</a>\n",
       "</span>\n",
       "<ul class=\"child_nav\">\n",
       "</ul>\n",
       "</li>\n",
       "</ul>\n",
       "</ul></div>\n",
       "<div class=\"fullBox\"></div>\n",
       "<div class=\"head_tabs\">\n",
       "<div class=\"head_tabs_main\">\n",
       "<div class=\"ranking_head_ctx\">\n",
       "<h1 class=\"head_title\">Women'S ODI ICC Team Rankings</h1>\n",
       "</div>\n",
       "<div class=\"share\">\n",
       "<i class=\"icon icon-share\"></i>\n",
       "<p>share</p>\n",
       "<div class=\"child_share\">\n",
       "<a class=\"icon icon-facebook\" href=\"javascript:window.open('http://www.facebook.com/sharer.php?u='+encodeURIComponent(document.location.href),'_blank','toolbar=yes, location=yes, directories=no, status=no, menubar=yes, scrollbars=yes, resizable=no, copyhistory=yes, width=600, height=450,top=100,left=350');void(0)\"></a>\n",
       "<a class=\"icon icon-Twitter\" href=\"javascript:window.open('http://twitter.com/home?status='+'My Item  '+encodeURIComponent(document.location.href)+' '+encodeURIComponent(document.title),'_blank','toolbar=yes, location=yes, directories=no, status=no, menubar=yes, scrollbars=yes, resizable=no, copyhistory=yes, width=600, height=450,top=100,left=350');void(0)\"></a>\n",
       "<a class=\"icon icon-icons-guge\" href=\"//plus.google.com/share?app=110&amp;url=http%3A%2F%2Fphpstack-175879-514271.cloudwaysapps.com%2Fproduct%2Fdetail%2Fid%2F46\" onclick=\"window.open(this.href,'','scrollbars=1,resizable=1,width=600,height=450,top=100,left=350');return false;\" target=\"_blank\"></a>\n",
       "<a class=\"icon icon-lianjie\" href=\"javascript:window.open('http://www.linkedin.com/shareArticle?mini=true&amp;url='+encodeURIComponent(document.location.href)+'&amp;title='+encodeURIComponent(document.title)+'&amp;source='+encodeURIComponent(document.location.href),'_blank','toolbar=yes, location=yes, directories=no, status=no, menubar=yes, scrollbars=yes, resizable=no, copyhistory=yes, width=600, height=450,top=100,left=350');void(0)\"></a>\n",
       "<!--<a href=\"whatsapp://send?text='+encodeURIComponent(document.location.href)+'\\n'+encodeURIComponent(document.title)+'\\n'); return;\" class=\"icon icon-lianjie\"></a>-->\n",
       "<a class=\"icon icon-instagram\" href=\"javascript:;\" style=\"display: none;\"></a>\n",
       "</div>\n",
       "</div>\n",
       "</div>\n",
       "</div>\n",
       "<div class=\"container\">\n",
       "<div class=\"team_index\">\n",
       "<div class=\"match_left\">\n",
       "<div class=\"ranking_content_main\">\n",
       "<div class=\"ranking_left\">\n",
       "<div class=\"top_bars\">\n",
       "<a href=\"https://www.topcricc.com/ranking/team_Men/\">men's</a>\n",
       "<a class=\"active\" href=\"https://www.topcricc.com/ranking/team_Women/\">women's</a>\n",
       "</div>\n",
       "<div class=\"menu_navs\">\n",
       "<a href=\"https://www.topcricc.com/ranking/Women/\"><em>Overview</em><i class=\"icon icon-arrow-right\"></i></a>\n",
       "<a href=\"https://www.topcricc.com/ranking/team_Women/\"><em>Team Rankings</em><i class=\"icon icon-arrow-right\"></i></a>\n",
       "<a href=\"https://www.topcricc.com/ranking/player_Women_ODI/\"><em>Player Rankings</em><i class=\"icon icon-arrow-right\"></i></a>\n",
       "</div>\n",
       "</div> <div class=\"ranking_right\">\n",
       "<div class=\"ranking_content_top_bar\">\n",
       "<div class=\"swiper-container ranking_content_top_bar_swiper\">\n",
       "<div class=\"swiper-wrapper\">\n",
       "<div class=\"swiper-slide\"><a class=\"rank-active-a\" href=\"https://www.topcricc.com/ranking/team_Women_ODI/\">ODI</a></div><div class=\"swiper-slide\"><a href=\"https://www.topcricc.com/ranking/team_Women_T20I/\">T20I</a></div> </div>\n",
       "</div>\n",
       "</div>\n",
       "<div class=\"ranking_content_table\">\n",
       "<div class=\"row head\" style=\"font-size: 12px;\"> <span class=\"pos\" style=\"width: 10%;\">pos</span><span class=\"team\" style=\"width: 40%;\">team</span><span class=\"matches\" style=\"width: 18%;\">matches</span> <span class=\"points\" style=\"width: 18%;\">points</span><span class=\"rating\">rating</span></div> <div class=\"row first\"><span class=\"pos\" style=\"width: 10%;\">1</span><span class=\"team\" style=\"width: 40%;\"><a href=\"https://www.topcricc.com/team/australia/\"><img alt=\"\" src=\"//img2.topcrickets.com/countrynew/202004/logosmall_13.jpg\"/><i>Australia</i></a></span><span class=\"matches\" style=\"width: 18%;\">26</span><span class=\"points\" style=\"width: 18%;\">3,945</span> <span class=\"rating\">152</span></div> <div class=\"row\"><span class=\"pos\" style=\"width: 10%;\">2</span><span class=\"team\" style=\"width: 40%;\"><a href=\"https://www.topcricc.com/team/india/\"><img alt=\"\" src=\"//img2.topcricc.com/teamrankings/202109/countryimg_121.jpg\"/><i>India</i></a></span><span class=\"matches\" style=\"width: 18%;\">30</span><span class=\"points\" style=\"width: 18%;\">3,747</span> <span class=\"rating\">125</span></div> <div class=\"row\"><span class=\"pos\" style=\"width: 10%;\">3</span><span class=\"team\" style=\"width: 40%;\"><a href=\"https://www.topcricc.com/team/england/\"><img alt=\"\" src=\"//img2.topcrickets.com/countrynew/202004/logosmall_213.jpg\"/><i>England</i></a></span><span class=\"matches\" style=\"width: 18%;\">29</span><span class=\"points\" style=\"width: 18%;\">3,568</span> <span class=\"rating\">123</span></div> <div class=\"row\"><span class=\"pos\" style=\"width: 10%;\">4</span><span class=\"team\" style=\"width: 40%;\"><a href=\"https://www.topcricc.com/team/new-zealand/\"><img alt=\"\" src=\"//img2.topcrickets.com/countrynew/202004/logosmall_147.jpg\"/><i>New Zealand</i></a></span><span class=\"matches\" style=\"width: 18%;\">23</span><span class=\"points\" style=\"width: 18%;\">2,533</span> <span class=\"rating\">110</span></div> <div class=\"row\"><span class=\"pos\" style=\"width: 10%;\">5</span><span class=\"team\" style=\"width: 40%;\"><a href=\"https://www.topcricc.com/team/south-africa/\"><img alt=\"\" src=\"//img2.topcricc.com/teamrankings/202109/countryimg_124.jpg\"/><i>South Africa</i></a></span><span class=\"matches\" style=\"width: 18%;\">33</span><span class=\"points\" style=\"width: 18%;\">3,154</span> <span class=\"rating\">96</span></div> <div class=\"row\"><span class=\"pos\" style=\"width: 10%;\">6</span><span class=\"team\" style=\"width: 40%;\"><a href=\"https://www.topcricc.com/team/west-indies/\"><img alt=\"\" src=\"/image/b2.jpg\"/><i>West Indies</i></a></span><span class=\"matches\" style=\"width: 18%;\">24</span><span class=\"points\" style=\"width: 18%;\">1,979</span> <span class=\"rating\">82</span></div> <div class=\"row\"><span class=\"pos\" style=\"width: 10%;\">7</span><span class=\"team\" style=\"width: 40%;\"><a href=\"https://www.topcricc.com/team/pakistan/\"><img alt=\"\" src=\"//img2.topcricc.com/teamrankings/202109/countryimg_126.jpg\"/><i>Pakistan</i></a></span><span class=\"matches\" style=\"width: 18%;\">25</span><span class=\"points\" style=\"width: 18%;\">1,835</span> <span class=\"rating\">73</span></div> <div class=\"row\"><span class=\"pos\" style=\"width: 10%;\">8</span><span class=\"team\" style=\"width: 40%;\"><a href=\"https://www.topcricc.com/team/sri-lanka/\"><img alt=\"\" src=\"//img2.topcricc.com/teamrankings/202109/countryimg_127.jpg\"/><i>Sri Lanka</i></a></span><span class=\"matches\" style=\"width: 18%;\">22</span><span class=\"points\" style=\"width: 18%;\">1,208</span> <span class=\"rating\">55</span></div> <div class=\"row\"><span class=\"pos\" style=\"width: 10%;\">9</span><span class=\"team\" style=\"width: 40%;\"><a href=\"https://www.topcricc.com/team/bangladesh/\"><img alt=\"\" src=\"//img2.topcricc.com/teamrankings/202109/countryimg_128.jpg\"/><i>Bangladesh</i></a></span><span class=\"matches\" style=\"width: 18%;\">10</span><span class=\"points\" style=\"width: 18%;\">542</span> <span class=\"rating\">54</span></div> <div class=\"row\"><span class=\"pos\" style=\"width: 10%;\">10</span><span class=\"team\" style=\"width: 40%;\"><a href=\"https://www.topcricc.com/team/ireland/\"><img alt=\"\" src=\"//img2.topcricc.com/teamrankings/202109/countryimg_129.jpg\"/><i>Ireland</i></a></span><span class=\"matches\" style=\"width: 18%;\">6</span><span class=\"points\" style=\"width: 18%;\">110</span> <span class=\"rating\">18</span></div> </div>\n",
       "</div>\n",
       "</div>\n",
       "</div>\n",
       "</div>\n",
       "</div>\n",
       "\n",
       "<div class=\"footer\">\n",
       "<div class=\"footer_main\">\n",
       "<div class=\"footer_top\">\n",
       "<i>Copyright © 2020  www.topcricc.com     Mail:<a class=\"__cf_email__\" data-cfemail=\"f9ad9689ba8b909a929c8d8ab991968d94989095d79a9694\" href=\"/cdn-cgi/l/email-protection\">[email protected]</a></i>\n",
       "<ul class=\"footer_nav\">\n",
       "<li><a class=\"icon icon-facebook\" href=\"javascript:window.open('http://www.facebook.com/sharer.php?u='+encodeURIComponent(document.location.href),'_blank','toolbar=yes, location=yes, directories=no, status=no, menubar=yes, scrollbars=yes, resizable=no, copyhistory=yes, width=600, height=450,top=100,left=350');void(0)\"></a></li>\n",
       "<li><a class=\"icon icon-Twitter\" href=\"javascript:window.open('http://twitter.com/home?status='+'My Item  '+encodeURIComponent(document.location.href)+' '+encodeURIComponent(document.title),'_blank','toolbar=yes, location=yes, directories=no, status=no, menubar=yes, scrollbars=yes, resizable=no, copyhistory=yes, width=600, height=450,top=100,left=350');void(0)\"></a></li>\n",
       "<li><a class=\"icon icon-icons-guge\" href=\"//plus.google.com/share?app=110&amp;url=http%3A%2F%2Fphpstack-175879-514271.cloudwaysapps.com%2Fproduct%2Fdetail%2Fid%2F46\" onclick=\"window.open(this.href,'','scrollbars=1,resizable=1,width=600,height=450,top=100,left=350');return false;\" target=\"_blank\"></a></li>\n",
       "<li><a class=\"icon icon-lianjie\" href=\"javascript:window.open('http://www.linkedin.com/shareArticle?mini=true&amp;url='+encodeURIComponent(document.location.href)+'&amp;title='+encodeURIComponent(document.title)+'&amp;source='+encodeURIComponent(document.location.href),'_blank','toolbar=yes, location=yes, directories=no, status=no, menubar=yes, scrollbars=yes, resizable=no, copyhistory=yes, width=600, height=450,top=100,left=350');void(0)\"></a></li>\n",
       "</ul>\n",
       "</div>\n",
       "<div class=\"footer_bottom\">\n",
       "<div class=\"foot_logo_main\">\n",
       "<span class=\"img\"></span>\n",
       "</div>\n",
       "<div class=\"foot_nav_main\">\n",
       "<div class=\"nav_section\">\n",
       "<h3>cricket</h3>\n",
       "<a href=\"https://www.topcricc.com/cricketscore/\">Live Scores </a>\n",
       "<a href=\"https://www.topcricc.com/cricketscore/Men/\">Men's Scores</a>\n",
       "<a href=\"https://www.topcricc.com/cricketscore/Women/\">Women's Scores</a>\n",
       "<a href=\"https://www.topcricc.com/team/\">Cricket Team List</a>\n",
       "<a href=\"https://www.topcricc.com/play/\">Cricket Player List</a>\n",
       "</div>\n",
       "<div class=\"nav_section\">\n",
       "<h3>icc events</h3>\n",
       "<a href=\"https://www.topcricc.com/icc/match_icc-under-19-world-cup/\">ICC Under 19 World Cup</a>\n",
       "<a href=\"https://www.topcricc.com/icc/match_icc-womens-t20-world-cup/\">ICC Women's World Cup </a>\n",
       "<a href=\"https://www.topcricc.com/icc/match_icc-mens-t20-world-cup-2020/\">ICC Mens T20 World Cup</a>\n",
       "<a href=\"https://www.topcricc.com/icc/match_south-africa-tour-of-india/\">South Africa Tour Of India</a>\n",
       "<a href=\"https://www.topcricc.com/icc/match_pakistan-tour-of-england/\">Pakistan Tour Of England</a>\n",
       "</div>\n",
       "<div class=\"nav_section\">\n",
       "<h3>rankings</h3>\n",
       "<a href=\"https://www.topcricc.com/ranking/Men/\"> Men's Rankings Overview</a>\n",
       "<a href=\"https://www.topcricc.com/ranking/team_Men/\">Men's Team Rankings</a>\n",
       "<a href=\"https://www.topcricc.com/ranking/player_Men/\"> Men's Player Rankings</a>\n",
       "<a href=\"https://www.topcricc.com/ranking/Women/\">Women's Rankings Overview</a>\n",
       "<a href=\"https://www.topcricc.com/ranking/team_Women/\"> Women's Team Rankings</a>\n",
       "<a href=\"https://www.topcricc.com/ranking/player_Women/\"> Women's Player Rankings</a>\n",
       "</div>\n",
       "<div class=\"nav_section\">\n",
       "<h3>More</h3>\n",
       "<a href=\"https://www.topcricc.com/team/india/\">India Cricket Team</a>\n",
       "<a href=\"https://www.topcricc.com/team/pakistan/\">Pakistan Cricket Team</a>\n",
       "<a href=\"https://www.topcricc.com/news/\">News Index</a>\n",
       "<a href=\"https://www.topcricc.com/video/\">Cricket Video</a>\n",
       "<a href=\"https://www.topcricc.com/questions/\">Cricket Questions And Answer</a>\n",
       "<a href=\"/sitemap/sitemap.xml\">SiteMap</a>\n",
       "</div>\n",
       "</div>\n",
       "</div>\n",
       "</div>\n",
       "</div>\n",
       "<div style=\"display: none\">\n",
       "<!-- Global site tag (gtag.js) - Google Analytics -->\n",
       "<script data-cfasync=\"false\" src=\"/cdn-cgi/scripts/5c5dd728/cloudflare-static/email-decode.min.js\"></script><script async=\"\" src=\"https://www.googletagmanager.com/gtag/js?id=UA-163284589-1\"></script>\n",
       "<script>\n",
       "        window.dataLayer = window.dataLayer || [];\n",
       "        function gtag(){dataLayer.push(arguments);}\n",
       "        gtag('js', new Date());\n",
       "\n",
       "        gtag('config', 'UA-163284589-1');\n",
       "    </script>\n",
       "<script async=\"\" src=\"https://www.googletagmanager.com/gtag/js?id=UA-180688937-1\"></script>\n",
       "<script>\n",
       "        window.dataLayer = window.dataLayer || [];\n",
       "        function gtag(){dataLayer.push(arguments);}\n",
       "        gtag('js', new Date());\n",
       "\n",
       "        gtag('config', 'UA-180688937-1');\n",
       "    </script>\n",
       "</div><script src=\"/js/jq3.3.1.js\"></script>\n",
       "<script src=\"/js/swiper-3.4.2.jquery.min.js\"></script>\n",
       "<script src=\"/js/main.js\"></script></body>\n",
       "</html>"
      ]
     },
     "execution_count": 3,
     "metadata": {},
     "output_type": "execute_result"
    }
   ],
   "source": [
    "soup=BeautifulSoup(page.content,'html.parser')\n",
    "soup"
   ]
  },
  {
   "cell_type": "code",
   "execution_count": 5,
   "id": "7a20960b",
   "metadata": {},
   "outputs": [
    {
     "data": {
      "text/plain": [
       "[<span class=\"team\" style=\"width: 40%;\">team</span>,\n",
       " <span class=\"team\" style=\"width: 40%;\"><a href=\"https://www.topcricc.com/team/australia/\"><img alt=\"\" src=\"//img2.topcrickets.com/countrynew/202004/logosmall_13.jpg\"/><i>Australia</i></a></span>,\n",
       " <span class=\"team\" style=\"width: 40%;\"><a href=\"https://www.topcricc.com/team/india/\"><img alt=\"\" src=\"//img2.topcricc.com/teamrankings/202109/countryimg_121.jpg\"/><i>India</i></a></span>,\n",
       " <span class=\"team\" style=\"width: 40%;\"><a href=\"https://www.topcricc.com/team/england/\"><img alt=\"\" src=\"//img2.topcrickets.com/countrynew/202004/logosmall_213.jpg\"/><i>England</i></a></span>,\n",
       " <span class=\"team\" style=\"width: 40%;\"><a href=\"https://www.topcricc.com/team/new-zealand/\"><img alt=\"\" src=\"//img2.topcrickets.com/countrynew/202004/logosmall_147.jpg\"/><i>New Zealand</i></a></span>,\n",
       " <span class=\"team\" style=\"width: 40%;\"><a href=\"https://www.topcricc.com/team/south-africa/\"><img alt=\"\" src=\"//img2.topcricc.com/teamrankings/202109/countryimg_124.jpg\"/><i>South Africa</i></a></span>,\n",
       " <span class=\"team\" style=\"width: 40%;\"><a href=\"https://www.topcricc.com/team/west-indies/\"><img alt=\"\" src=\"/image/b2.jpg\"/><i>West Indies</i></a></span>,\n",
       " <span class=\"team\" style=\"width: 40%;\"><a href=\"https://www.topcricc.com/team/pakistan/\"><img alt=\"\" src=\"//img2.topcricc.com/teamrankings/202109/countryimg_126.jpg\"/><i>Pakistan</i></a></span>,\n",
       " <span class=\"team\" style=\"width: 40%;\"><a href=\"https://www.topcricc.com/team/sri-lanka/\"><img alt=\"\" src=\"//img2.topcricc.com/teamrankings/202109/countryimg_127.jpg\"/><i>Sri Lanka</i></a></span>,\n",
       " <span class=\"team\" style=\"width: 40%;\"><a href=\"https://www.topcricc.com/team/bangladesh/\"><img alt=\"\" src=\"//img2.topcricc.com/teamrankings/202109/countryimg_128.jpg\"/><i>Bangladesh</i></a></span>,\n",
       " <span class=\"team\" style=\"width: 40%;\"><a href=\"https://www.topcricc.com/team/ireland/\"><img alt=\"\" src=\"//img2.topcricc.com/teamrankings/202109/countryimg_129.jpg\"/><i>Ireland</i></a></span>]"
      ]
     },
     "execution_count": 5,
     "metadata": {},
     "output_type": "execute_result"
    }
   ],
   "source": [
    "team=soup.find_all('span',class_=\"team\")\n",
    "team"
   ]
  },
  {
   "cell_type": "code",
   "execution_count": 6,
   "id": "4640192e",
   "metadata": {},
   "outputs": [
    {
     "data": {
      "text/plain": [
       "['team',\n",
       " 'Australia',\n",
       " 'India',\n",
       " 'England',\n",
       " 'New Zealand',\n",
       " 'South Africa',\n",
       " 'West Indies',\n",
       " 'Pakistan',\n",
       " 'Sri Lanka',\n",
       " 'Bangladesh',\n",
       " 'Ireland']"
      ]
     },
     "execution_count": 6,
     "metadata": {},
     "output_type": "execute_result"
    }
   ],
   "source": [
    "top_team=[]\n",
    "for teams in team:\n",
    "    top_team.append(teams.get_text().strip())\n",
    "top_team    "
   ]
  },
  {
   "cell_type": "code",
   "execution_count": 8,
   "id": "0592db42",
   "metadata": {},
   "outputs": [
    {
     "data": {
      "text/plain": [
       "['Australia',\n",
       " 'India',\n",
       " 'England',\n",
       " 'New Zealand',\n",
       " 'South Africa',\n",
       " 'West Indies',\n",
       " 'Pakistan',\n",
       " 'Sri Lanka',\n",
       " 'Bangladesh',\n",
       " 'Ireland']"
      ]
     },
     "execution_count": 8,
     "metadata": {},
     "output_type": "execute_result"
    }
   ],
   "source": [
    "top_team.remove('team')\n",
    "top_team"
   ]
  },
  {
   "cell_type": "code",
   "execution_count": 9,
   "id": "d98d61aa",
   "metadata": {},
   "outputs": [
    {
     "data": {
      "text/plain": [
       "[<span class=\"matches\" style=\"width: 18%;\">matches</span>,\n",
       " <span class=\"matches\" style=\"width: 18%;\">26</span>,\n",
       " <span class=\"matches\" style=\"width: 18%;\">30</span>,\n",
       " <span class=\"matches\" style=\"width: 18%;\">29</span>,\n",
       " <span class=\"matches\" style=\"width: 18%;\">23</span>,\n",
       " <span class=\"matches\" style=\"width: 18%;\">33</span>,\n",
       " <span class=\"matches\" style=\"width: 18%;\">24</span>,\n",
       " <span class=\"matches\" style=\"width: 18%;\">25</span>,\n",
       " <span class=\"matches\" style=\"width: 18%;\">22</span>,\n",
       " <span class=\"matches\" style=\"width: 18%;\">10</span>,\n",
       " <span class=\"matches\" style=\"width: 18%;\">6</span>]"
      ]
     },
     "execution_count": 9,
     "metadata": {},
     "output_type": "execute_result"
    }
   ],
   "source": [
    "match=soup.find_all('span',class_=\"matches\")\n",
    "match"
   ]
  },
  {
   "cell_type": "code",
   "execution_count": 10,
   "id": "2a83ff62",
   "metadata": {},
   "outputs": [
    {
     "data": {
      "text/plain": [
       "['matches', '26', '30', '29', '23', '33', '24', '25', '22', '10', '6']"
      ]
     },
     "execution_count": 10,
     "metadata": {},
     "output_type": "execute_result"
    }
   ],
   "source": [
    "top_match=[]\n",
    "for matches in match:\n",
    "    top_match.append(matches.get_text().strip())\n",
    "top_match    "
   ]
  },
  {
   "cell_type": "code",
   "execution_count": 11,
   "id": "630253a3",
   "metadata": {},
   "outputs": [
    {
     "data": {
      "text/plain": [
       "['26', '30', '29', '23', '33', '24', '25', '22', '10', '6']"
      ]
     },
     "execution_count": 11,
     "metadata": {},
     "output_type": "execute_result"
    }
   ],
   "source": [
    "top_match.remove('matches')\n",
    "top_match"
   ]
  },
  {
   "cell_type": "code",
   "execution_count": 12,
   "id": "9acfd531",
   "metadata": {},
   "outputs": [
    {
     "data": {
      "text/plain": [
       "[<span class=\"points\" style=\"width: 18%;\">points</span>,\n",
       " <span class=\"points\" style=\"width: 18%;\">3,945</span>,\n",
       " <span class=\"points\" style=\"width: 18%;\">3,747</span>,\n",
       " <span class=\"points\" style=\"width: 18%;\">3,568</span>,\n",
       " <span class=\"points\" style=\"width: 18%;\">2,533</span>,\n",
       " <span class=\"points\" style=\"width: 18%;\">3,154</span>,\n",
       " <span class=\"points\" style=\"width: 18%;\">1,979</span>,\n",
       " <span class=\"points\" style=\"width: 18%;\">1,835</span>,\n",
       " <span class=\"points\" style=\"width: 18%;\">1,208</span>,\n",
       " <span class=\"points\" style=\"width: 18%;\">542</span>,\n",
       " <span class=\"points\" style=\"width: 18%;\">110</span>]"
      ]
     },
     "execution_count": 12,
     "metadata": {},
     "output_type": "execute_result"
    }
   ],
   "source": [
    "point=soup.find_all('span',class_=\"points\")\n",
    "point"
   ]
  },
  {
   "cell_type": "code",
   "execution_count": 14,
   "id": "a60bd9f4",
   "metadata": {},
   "outputs": [
    {
     "data": {
      "text/plain": [
       "['points',\n",
       " '3,945',\n",
       " '3,747',\n",
       " '3,568',\n",
       " '2,533',\n",
       " '3,154',\n",
       " '1,979',\n",
       " '1,835',\n",
       " '1,208',\n",
       " '542',\n",
       " '110']"
      ]
     },
     "execution_count": 14,
     "metadata": {},
     "output_type": "execute_result"
    }
   ],
   "source": [
    "top_point=[]\n",
    "for points in point:\n",
    "    top_point.append(points.get_text().strip())\n",
    "top_point    "
   ]
  },
  {
   "cell_type": "code",
   "execution_count": 15,
   "id": "1a399d46",
   "metadata": {},
   "outputs": [
    {
     "data": {
      "text/plain": [
       "['3,945',\n",
       " '3,747',\n",
       " '3,568',\n",
       " '2,533',\n",
       " '3,154',\n",
       " '1,979',\n",
       " '1,835',\n",
       " '1,208',\n",
       " '542',\n",
       " '110']"
      ]
     },
     "execution_count": 15,
     "metadata": {},
     "output_type": "execute_result"
    }
   ],
   "source": [
    "top_point.remove('points')\n",
    "top_point"
   ]
  },
  {
   "cell_type": "code",
   "execution_count": 16,
   "id": "39cda262",
   "metadata": {},
   "outputs": [
    {
     "data": {
      "text/plain": [
       "[<span class=\"rating\">rating</span>,\n",
       " <span class=\"rating\">152</span>,\n",
       " <span class=\"rating\">125</span>,\n",
       " <span class=\"rating\">123</span>,\n",
       " <span class=\"rating\">110</span>,\n",
       " <span class=\"rating\">96</span>,\n",
       " <span class=\"rating\">82</span>,\n",
       " <span class=\"rating\">73</span>,\n",
       " <span class=\"rating\">55</span>,\n",
       " <span class=\"rating\">54</span>,\n",
       " <span class=\"rating\">18</span>]"
      ]
     },
     "execution_count": 16,
     "metadata": {},
     "output_type": "execute_result"
    }
   ],
   "source": [
    "rate=soup.find_all('span',class_=\"rating\")\n",
    "rate"
   ]
  },
  {
   "cell_type": "code",
   "execution_count": 17,
   "id": "5f79fc60",
   "metadata": {},
   "outputs": [
    {
     "data": {
      "text/plain": [
       "['rating', '152', '125', '123', '110', '96', '82', '73', '55', '54', '18']"
      ]
     },
     "execution_count": 17,
     "metadata": {},
     "output_type": "execute_result"
    }
   ],
   "source": [
    "top_rating=[]\n",
    "for rates in rate:\n",
    "    top_rating.append(rates.get_text().strip())\n",
    "top_rating    "
   ]
  },
  {
   "cell_type": "code",
   "execution_count": 18,
   "id": "07e5fce0",
   "metadata": {},
   "outputs": [
    {
     "data": {
      "text/plain": [
       "['152', '125', '123', '110', '96', '82', '73', '55', '54', '18']"
      ]
     },
     "execution_count": 18,
     "metadata": {},
     "output_type": "execute_result"
    }
   ],
   "source": [
    "top_rating.remove('rating')\n",
    "top_rating"
   ]
  },
  {
   "cell_type": "code",
   "execution_count": 21,
   "id": "a16b658b",
   "metadata": {},
   "outputs": [
    {
     "data": {
      "text/html": [
       "<div>\n",
       "<style scoped>\n",
       "    .dataframe tbody tr th:only-of-type {\n",
       "        vertical-align: middle;\n",
       "    }\n",
       "\n",
       "    .dataframe tbody tr th {\n",
       "        vertical-align: top;\n",
       "    }\n",
       "\n",
       "    .dataframe thead th {\n",
       "        text-align: right;\n",
       "    }\n",
       "</style>\n",
       "<table border=\"1\" class=\"dataframe\">\n",
       "  <thead>\n",
       "    <tr style=\"text-align: right;\">\n",
       "      <th></th>\n",
       "      <th>Top_Teams</th>\n",
       "      <th>Top_Matches</th>\n",
       "      <th>Top_Points</th>\n",
       "      <th>Top_Rating</th>\n",
       "    </tr>\n",
       "  </thead>\n",
       "  <tbody>\n",
       "    <tr>\n",
       "      <th>0</th>\n",
       "      <td>Australia</td>\n",
       "      <td>26</td>\n",
       "      <td>3,945</td>\n",
       "      <td>152</td>\n",
       "    </tr>\n",
       "    <tr>\n",
       "      <th>1</th>\n",
       "      <td>India</td>\n",
       "      <td>30</td>\n",
       "      <td>3,747</td>\n",
       "      <td>125</td>\n",
       "    </tr>\n",
       "    <tr>\n",
       "      <th>2</th>\n",
       "      <td>England</td>\n",
       "      <td>29</td>\n",
       "      <td>3,568</td>\n",
       "      <td>123</td>\n",
       "    </tr>\n",
       "    <tr>\n",
       "      <th>3</th>\n",
       "      <td>New Zealand</td>\n",
       "      <td>23</td>\n",
       "      <td>2,533</td>\n",
       "      <td>110</td>\n",
       "    </tr>\n",
       "    <tr>\n",
       "      <th>4</th>\n",
       "      <td>South Africa</td>\n",
       "      <td>33</td>\n",
       "      <td>3,154</td>\n",
       "      <td>96</td>\n",
       "    </tr>\n",
       "    <tr>\n",
       "      <th>5</th>\n",
       "      <td>West Indies</td>\n",
       "      <td>24</td>\n",
       "      <td>1,979</td>\n",
       "      <td>82</td>\n",
       "    </tr>\n",
       "    <tr>\n",
       "      <th>6</th>\n",
       "      <td>Pakistan</td>\n",
       "      <td>25</td>\n",
       "      <td>1,835</td>\n",
       "      <td>73</td>\n",
       "    </tr>\n",
       "    <tr>\n",
       "      <th>7</th>\n",
       "      <td>Sri Lanka</td>\n",
       "      <td>22</td>\n",
       "      <td>1,208</td>\n",
       "      <td>55</td>\n",
       "    </tr>\n",
       "    <tr>\n",
       "      <th>8</th>\n",
       "      <td>Bangladesh</td>\n",
       "      <td>10</td>\n",
       "      <td>542</td>\n",
       "      <td>54</td>\n",
       "    </tr>\n",
       "    <tr>\n",
       "      <th>9</th>\n",
       "      <td>Ireland</td>\n",
       "      <td>6</td>\n",
       "      <td>110</td>\n",
       "      <td>18</td>\n",
       "    </tr>\n",
       "  </tbody>\n",
       "</table>\n",
       "</div>"
      ],
      "text/plain": [
       "      Top_Teams Top_Matches Top_Points Top_Rating\n",
       "0     Australia          26      3,945        152\n",
       "1         India          30      3,747        125\n",
       "2       England          29      3,568        123\n",
       "3   New Zealand          23      2,533        110\n",
       "4  South Africa          33      3,154         96\n",
       "5   West Indies          24      1,979         82\n",
       "6      Pakistan          25      1,835         73\n",
       "7     Sri Lanka          22      1,208         55\n",
       "8    Bangladesh          10        542         54\n",
       "9       Ireland           6        110         18"
      ]
     },
     "execution_count": 21,
     "metadata": {},
     "output_type": "execute_result"
    }
   ],
   "source": [
    "import pandas as pd\n",
    "df=pd.DataFrame({'Top_Teams':top_team,'Top_Matches':top_match,'Top_Points':top_point,'Top_Rating':top_rating})\n",
    "df.head(10)"
   ]
  },
  {
   "cell_type": "code",
   "execution_count": null,
   "id": "3b0f1f88",
   "metadata": {},
   "outputs": [],
   "source": []
  }
 ],
 "metadata": {
  "kernelspec": {
   "display_name": "Python 3 (ipykernel)",
   "language": "python",
   "name": "python3"
  },
  "language_info": {
   "codemirror_mode": {
    "name": "ipython",
    "version": 3
   },
   "file_extension": ".py",
   "mimetype": "text/x-python",
   "name": "python",
   "nbconvert_exporter": "python",
   "pygments_lexer": "ipython3",
   "version": "3.9.7"
  }
 },
 "nbformat": 4,
 "nbformat_minor": 5
}
