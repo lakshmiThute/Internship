{
 "cells": [
  {
   "cell_type": "code",
   "execution_count": 13,
   "id": "b01e10f7",
   "metadata": {},
   "outputs": [
    {
     "data": {
      "text/plain": [
       "40320"
      ]
     },
     "execution_count": 13,
     "metadata": {},
     "output_type": "execute_result"
    }
   ],
   "source": [
    "#Write a Python Program to find factorial of a number.\n",
    "def fact(x):\n",
    "    if x==1 or x==0:\n",
    "        return 1\n",
    "    else:\n",
    "        return x*fact(x-1)\n",
    "num=8\n",
    "fact(num)\n"
   ]
  },
  {
   "cell_type": "code",
   "execution_count": 45,
   "id": "c4f29bd4",
   "metadata": {},
   "outputs": [
    {
     "name": "stdout",
     "output_type": "stream",
     "text": [
      "Enter a number:76\n",
      "76 = It is a composite no. \n"
     ]
    }
   ],
   "source": [
    "#Write a program to find whether a number is prime or composite.\n",
    "n=int(input(\"Enter a number:\"))\n",
    "if n<1:\n",
    "    print('No. should be greater than 1')\n",
    "elif n==1:\n",
    "    print(n,'No. is neither prime nor composite')\n",
    "else:\n",
    "    for i in range(2,(n//2)+1):\n",
    "        if(n%i)==0:\n",
    "            print(n,'= It is a composite no. ')\n",
    "            break\n",
    "    else:\n",
    "        print(n,'= It is a prime no')\n",
    "        \n",
    "        "
   ]
  },
  {
   "cell_type": "code",
   "execution_count": 47,
   "id": "da720740",
   "metadata": {},
   "outputs": [
    {
     "name": "stdout",
     "output_type": "stream",
     "text": [
      "No. is Palindrome\n"
     ]
    }
   ],
   "source": [
    "#Write a python program to check whether the given string is palindrome or not?\n",
    "\n",
    "def num(p):\n",
    "    \n",
    "    return p == p[::-1]\n",
    "\n",
    "p = \"deed\"\n",
    "\n",
    "palindrome = num(p)\n",
    "\n",
    "if palindrome:\n",
    "    \n",
    "    print('No. is Palindrome')\n",
    "else:\n",
    "    print('No. is not Palindrome')"
   ]
  },
  {
   "cell_type": "code",
   "execution_count": null,
   "id": "d764ad1d",
   "metadata": {},
   "outputs": [],
   "source": [
    "#Write a python program to get third side of a right angled triangled from other two sides.\n"
   ]
  }
 ],
 "metadata": {
  "kernelspec": {
   "display_name": "Python 3 (ipykernel)",
   "language": "python",
   "name": "python3"
  },
  "language_info": {
   "codemirror_mode": {
    "name": "ipython",
    "version": 3
   },
   "file_extension": ".py",
   "mimetype": "text/x-python",
   "name": "python",
   "nbconvert_exporter": "python",
   "pygments_lexer": "ipython3",
   "version": "3.9.7"
  }
 },
 "nbformat": 4,
 "nbformat_minor": 5
}
