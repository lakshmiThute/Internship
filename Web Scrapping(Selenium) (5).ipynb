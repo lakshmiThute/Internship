{
 "cells": [
  {
   "cell_type": "code",
   "execution_count": 13,
   "id": "98195898",
   "metadata": {},
   "outputs": [],
   "source": [
    "# Importing necessary libraries\n",
    "import selenium\n",
    "from selenium import webdriver\n",
    "import pandas as pd\n",
    "import warnings\n",
    "warnings.filterwarnings('ignore')"
   ]
  },
  {
   "cell_type": "code",
   "execution_count": 14,
   "id": "685ecd50",
   "metadata": {},
   "outputs": [],
   "source": [
    "# Connecting to the web Browser.\n",
    "driver=webdriver.Chrome(r'C:\\Users\\91749\\Downloads\\chromedriver_win32\\chromedriver.exe')"
   ]
  },
  {
   "cell_type": "code",
   "execution_count": 3,
   "id": "983d9e37",
   "metadata": {},
   "outputs": [],
   "source": [
    "# Q1: Write a python program to scrape data for “Data Analyst” Job position in “Bangalore” location.\n",
    "\n",
    "url='https://www.naukri.com/'\n",
    "driver.get(url)"
   ]
  },
  {
   "cell_type": "code",
   "execution_count": 21,
   "id": "589136d5",
   "metadata": {},
   "outputs": [],
   "source": [
    "from selenium.webdriver.common.by import By"
   ]
  },
  {
   "cell_type": "code",
   "execution_count": 5,
   "id": "ae69ebe8",
   "metadata": {},
   "outputs": [
    {
     "data": {
      "text/plain": [
       "<selenium.webdriver.remote.webelement.WebElement (session=\"87884ce21ac3a10eea41d298768fb5b7\", element=\"e5dd7204-5336-40aa-94fe-67251e77ee60\")>"
      ]
     },
     "execution_count": 5,
     "metadata": {},
     "output_type": "execute_result"
    }
   ],
   "source": [
    "# Finding Web element search job bar using id\n",
    "Search_job=driver.find_element(By.CLASS_NAME,\"suggestor-input \")\n",
    "Search_job"
   ]
  },
  {
   "cell_type": "code",
   "execution_count": 6,
   "id": "6088b0df",
   "metadata": {},
   "outputs": [],
   "source": [
    "Search_job.send_keys('Data Analyst')"
   ]
  },
  {
   "cell_type": "code",
   "execution_count": 9,
   "id": "caef71a6",
   "metadata": {},
   "outputs": [
    {
     "data": {
      "text/plain": [
       "<selenium.webdriver.remote.webelement.WebElement (session=\"87884ce21ac3a10eea41d298768fb5b7\", element=\"c797bf09-6850-491c-9246-a77fed8c1e57\")>"
      ]
     },
     "execution_count": 9,
     "metadata": {},
     "output_type": "execute_result"
    }
   ],
   "source": [
    "# Finding Web element search location bar using xpath.\n",
    "search_loct=driver.find_element(\"xpath\",'/html/body/div[1]/div[2]/div[3]/div/div/div[5]/div/div/div/input')\n",
    "search_loct"
   ]
  },
  {
   "cell_type": "code",
   "execution_count": 11,
   "id": "29842590",
   "metadata": {},
   "outputs": [],
   "source": [
    "search_loct.send_keys('Banglore')"
   ]
  },
  {
   "cell_type": "code",
   "execution_count": 12,
   "id": "d8feef86",
   "metadata": {},
   "outputs": [
    {
     "data": {
      "text/plain": [
       "<selenium.webdriver.remote.webelement.WebElement (session=\"87884ce21ac3a10eea41d298768fb5b7\", element=\"46db5d37-5e3c-4d1e-8484-95848da2705f\")>"
      ]
     },
     "execution_count": 12,
     "metadata": {},
     "output_type": "execute_result"
    }
   ],
   "source": [
    "#clicking using absolute xpath function.\n",
    "search_btn=driver.find_element(\"xpath\",'/html/body/div[1]/div[2]/div[3]/div/div/div[6]')\n",
    "search_btn"
   ]
  },
  {
   "cell_type": "code",
   "execution_count": 13,
   "id": "6d7b6cdc",
   "metadata": {},
   "outputs": [],
   "source": [
    "search_btn.click()"
   ]
  },
  {
   "cell_type": "code",
   "execution_count": 14,
   "id": "d625ff8f",
   "metadata": {},
   "outputs": [
    {
     "data": {
      "text/plain": [
       "20"
      ]
     },
     "execution_count": 14,
     "metadata": {},
     "output_type": "execute_result"
    }
   ],
   "source": [
    "# Extracting job titles.\n",
    "title_tags=driver.find_elements(\"xpath\",'//a[@class=\"title fw500 ellipsis\"]')\n",
    "len(title_tags)"
   ]
  },
  {
   "cell_type": "code",
   "execution_count": 15,
   "id": "be148afd",
   "metadata": {},
   "outputs": [
    {
     "data": {
      "text/plain": [
       "20"
      ]
     },
     "execution_count": 15,
     "metadata": {},
     "output_type": "execute_result"
    }
   ],
   "source": [
    "job_titles=[]\n",
    "\n",
    "for i in title_tags:\n",
    "    job_titles.append(i.text)\n",
    "len(job_titles)    "
   ]
  },
  {
   "cell_type": "code",
   "execution_count": 16,
   "id": "e7ef0079",
   "metadata": {},
   "outputs": [
    {
     "data": {
      "text/plain": [
       "['Data Analyst/Senior Data Analyst',\n",
       " 'Senior Data Analyst II',\n",
       " 'Software Technical Expert - Data Analyst',\n",
       " 'Data Analyst',\n",
       " 'Big data analyst',\n",
       " 'Data Analyst',\n",
       " 'Senior Business Analyst, Data Analytics & Engineering-DATA Engineer',\n",
       " 'Data Analyst 2',\n",
       " 'Clinical Data Analyst',\n",
       " 'Senior Data Analyst',\n",
       " 'Senior Data Management Analyst',\n",
       " 'Senior Data Management Analyst',\n",
       " 'Senior Data Management Analyst',\n",
       " 'Business Analyst/Data Analyst',\n",
       " 'Senior Data Analyst',\n",
       " 'Financial Data Analyst - Data & Analytics',\n",
       " 'Data Analyst / Product Analyst / Business Analyst',\n",
       " 'Data Analyst / Modeler',\n",
       " 'Data Analyst',\n",
       " 'Opening For Data Analyst For Bangalore']"
      ]
     },
     "execution_count": 16,
     "metadata": {},
     "output_type": "execute_result"
    }
   ],
   "source": [
    "job_titles"
   ]
  },
  {
   "cell_type": "code",
   "execution_count": 17,
   "id": "2eab5524",
   "metadata": {},
   "outputs": [
    {
     "data": {
      "text/plain": [
       "20"
      ]
     },
     "execution_count": 17,
     "metadata": {},
     "output_type": "execute_result"
    }
   ],
   "source": [
    "# Extracting company names.\n",
    "company_tags=driver.find_elements(\"xpath\",'//a[@class=\"subTitle ellipsis fleft\"]')\n",
    "len(company_tags)"
   ]
  },
  {
   "cell_type": "code",
   "execution_count": 18,
   "id": "2816db21",
   "metadata": {},
   "outputs": [
    {
     "data": {
      "text/plain": [
       "20"
      ]
     },
     "execution_count": 18,
     "metadata": {},
     "output_type": "execute_result"
    }
   ],
   "source": [
    "company_names=[]\n",
    "\n",
    "for i in company_tags:\n",
    "    company_names.append(i.text)\n",
    "len(company_names)    "
   ]
  },
  {
   "cell_type": "code",
   "execution_count": 21,
   "id": "ca86bdbd",
   "metadata": {},
   "outputs": [
    {
     "data": {
      "text/plain": [
       "['Meesho',\n",
       " 'Flipkart',\n",
       " 'Schneider Electric',\n",
       " 'Jio',\n",
       " 'Accolite Software India Pvt Ltd',\n",
       " 'BYJUS',\n",
       " 'Artech Infosystems Pvt. Ltd.',\n",
       " 'PayPal',\n",
       " 'Navitas LLP',\n",
       " 'Walmart',\n",
       " 'Wells Fargo',\n",
       " 'Wells Fargo',\n",
       " 'Wells Fargo',\n",
       " 'cliqhr.com',\n",
       " 'manoramaONLINE',\n",
       " \"Moody's\",\n",
       " 'Benchire',\n",
       " 'RARR Technologies',\n",
       " 'Happay (VA Tech Ventures)',\n",
       " 'TARENTO TECHNOLOGIES PRIVATE LIMITED']"
      ]
     },
     "execution_count": 21,
     "metadata": {},
     "output_type": "execute_result"
    }
   ],
   "source": [
    "company_names"
   ]
  },
  {
   "cell_type": "code",
   "execution_count": 22,
   "id": "fbffeea6",
   "metadata": {},
   "outputs": [
    {
     "data": {
      "text/plain": [
       "20"
      ]
     },
     "execution_count": 22,
     "metadata": {},
     "output_type": "execute_result"
    }
   ],
   "source": [
    "# Extracting Experience\n",
    "experience_tags=driver.find_elements(\"xpath\",'//li[@class=\"fleft grey-text br2 placeHolderLi experience\"]')\n",
    "len(experience_tags)"
   ]
  },
  {
   "cell_type": "code",
   "execution_count": 23,
   "id": "1ef4d306",
   "metadata": {},
   "outputs": [
    {
     "data": {
      "text/plain": [
       "20"
      ]
     },
     "execution_count": 23,
     "metadata": {},
     "output_type": "execute_result"
    }
   ],
   "source": [
    "Experience=[]\n",
    "\n",
    "for i in experience_tags:\n",
    "    Experience.append(i.text)\n",
    "len(Experience)    "
   ]
  },
  {
   "cell_type": "code",
   "execution_count": 24,
   "id": "fe255028",
   "metadata": {},
   "outputs": [
    {
     "data": {
      "text/plain": [
       "['3-6 Yrs',\n",
       " '3-6 Yrs',\n",
       " '3-6 Yrs',\n",
       " '8-11 Yrs',\n",
       " '2-6 Yrs',\n",
       " '2-5 Yrs',\n",
       " '4-8 Yrs',\n",
       " '1-3 Yrs',\n",
       " '3-8 Yrs',\n",
       " '4-7 Yrs',\n",
       " '7-12 Yrs',\n",
       " '8-13 Yrs',\n",
       " '4-9 Yrs',\n",
       " '5-10 Yrs',\n",
       " '5-10 Yrs',\n",
       " '1-3 Yrs',\n",
       " '2-5 Yrs',\n",
       " '6-8 Yrs',\n",
       " '1-2 Yrs',\n",
       " '5-8 Yrs']"
      ]
     },
     "execution_count": 24,
     "metadata": {},
     "output_type": "execute_result"
    }
   ],
   "source": [
    "Experience"
   ]
  },
  {
   "cell_type": "code",
   "execution_count": 25,
   "id": "450d4099",
   "metadata": {},
   "outputs": [
    {
     "data": {
      "text/plain": [
       "20"
      ]
     },
     "execution_count": 25,
     "metadata": {},
     "output_type": "execute_result"
    }
   ],
   "source": [
    "# Extracting job location\n",
    "loc_tags=driver.find_elements(\"xpath\",'//li[@class=\"fleft grey-text br2 placeHolderLi location\"]')\n",
    "len(loc_tags)"
   ]
  },
  {
   "cell_type": "code",
   "execution_count": 26,
   "id": "8398747f",
   "metadata": {},
   "outputs": [
    {
     "data": {
      "text/plain": [
       "20"
      ]
     },
     "execution_count": 26,
     "metadata": {},
     "output_type": "execute_result"
    }
   ],
   "source": [
    "location=[]\n",
    "\n",
    "for i in loc_tags:\n",
    "    location.append(i.text)\n",
    "len(location)    "
   ]
  },
  {
   "cell_type": "code",
   "execution_count": 27,
   "id": "83e50d0c",
   "metadata": {},
   "outputs": [
    {
     "data": {
      "text/plain": [
       "['Bangalore/Bengaluru',\n",
       " 'Bangalore/Bengaluru',\n",
       " 'Bangalore/Bengaluru',\n",
       " 'Bangalore/Bengaluru',\n",
       " 'Bangalore/Bengaluru',\n",
       " 'Bangalore/Bengaluru',\n",
       " 'Bangalore/Bengaluru\\n(WFH during Covid)',\n",
       " 'Bangalore/Bengaluru',\n",
       " 'Chennai, Bangalore/Bengaluru',\n",
       " 'Bangalore/Bengaluru',\n",
       " 'Serilingampally, Bangalore/Bengaluru',\n",
       " 'Bangalore/Bengaluru',\n",
       " 'Hyderabad/Secunderabad, Bangalore/Bengaluru',\n",
       " 'Mumbai, Hyderabad/Secunderabad, Pune, Chennai, Bangalore/Bengaluru',\n",
       " 'Chennai, Bangalore/Bengaluru, kerala',\n",
       " 'Bangalore/Bengaluru',\n",
       " 'Bangalore/Bengaluru, Delhi / NCR',\n",
       " 'Mumbai, Pune, Chennai, Bangalore/Bengaluru',\n",
       " 'Bangalore/Bengaluru',\n",
       " 'Bangalore/Bengaluru']"
      ]
     },
     "execution_count": 27,
     "metadata": {},
     "output_type": "execute_result"
    }
   ],
   "source": [
    "location"
   ]
  },
  {
   "cell_type": "code",
   "execution_count": 28,
   "id": "bffb05a2",
   "metadata": {},
   "outputs": [
    {
     "data": {
      "text/plain": [
       "(20, 20, 20, 20)"
      ]
     },
     "execution_count": 28,
     "metadata": {},
     "output_type": "execute_result"
    }
   ],
   "source": [
    "len(job_titles),len(company_names),len(Experience),len(location)"
   ]
  },
  {
   "cell_type": "code",
   "execution_count": 29,
   "id": "d1799258",
   "metadata": {},
   "outputs": [
    {
     "data": {
      "text/html": [
       "<div>\n",
       "<style scoped>\n",
       "    .dataframe tbody tr th:only-of-type {\n",
       "        vertical-align: middle;\n",
       "    }\n",
       "\n",
       "    .dataframe tbody tr th {\n",
       "        vertical-align: top;\n",
       "    }\n",
       "\n",
       "    .dataframe thead th {\n",
       "        text-align: right;\n",
       "    }\n",
       "</style>\n",
       "<table border=\"1\" class=\"dataframe\">\n",
       "  <thead>\n",
       "    <tr style=\"text-align: right;\">\n",
       "      <th></th>\n",
       "      <th>Job_Titles</th>\n",
       "      <th>Company_Names</th>\n",
       "      <th>Company_Experience</th>\n",
       "      <th>Job_location</th>\n",
       "    </tr>\n",
       "  </thead>\n",
       "  <tbody>\n",
       "    <tr>\n",
       "      <th>0</th>\n",
       "      <td>Data Analyst/Senior Data Analyst</td>\n",
       "      <td>Meesho</td>\n",
       "      <td>3-6 Yrs</td>\n",
       "      <td>Bangalore/Bengaluru</td>\n",
       "    </tr>\n",
       "    <tr>\n",
       "      <th>1</th>\n",
       "      <td>Senior Data Analyst II</td>\n",
       "      <td>Flipkart</td>\n",
       "      <td>3-6 Yrs</td>\n",
       "      <td>Bangalore/Bengaluru</td>\n",
       "    </tr>\n",
       "    <tr>\n",
       "      <th>2</th>\n",
       "      <td>Software Technical Expert - Data Analyst</td>\n",
       "      <td>Schneider Electric</td>\n",
       "      <td>3-6 Yrs</td>\n",
       "      <td>Bangalore/Bengaluru</td>\n",
       "    </tr>\n",
       "    <tr>\n",
       "      <th>3</th>\n",
       "      <td>Data Analyst</td>\n",
       "      <td>Jio</td>\n",
       "      <td>8-11 Yrs</td>\n",
       "      <td>Bangalore/Bengaluru</td>\n",
       "    </tr>\n",
       "    <tr>\n",
       "      <th>4</th>\n",
       "      <td>Big data analyst</td>\n",
       "      <td>Accolite Software India Pvt Ltd</td>\n",
       "      <td>2-6 Yrs</td>\n",
       "      <td>Bangalore/Bengaluru</td>\n",
       "    </tr>\n",
       "    <tr>\n",
       "      <th>5</th>\n",
       "      <td>Data Analyst</td>\n",
       "      <td>BYJUS</td>\n",
       "      <td>2-5 Yrs</td>\n",
       "      <td>Bangalore/Bengaluru</td>\n",
       "    </tr>\n",
       "    <tr>\n",
       "      <th>6</th>\n",
       "      <td>Senior Business Analyst, Data Analytics &amp; Engi...</td>\n",
       "      <td>Artech Infosystems Pvt. Ltd.</td>\n",
       "      <td>4-8 Yrs</td>\n",
       "      <td>Bangalore/Bengaluru\\n(WFH during Covid)</td>\n",
       "    </tr>\n",
       "    <tr>\n",
       "      <th>7</th>\n",
       "      <td>Data Analyst 2</td>\n",
       "      <td>PayPal</td>\n",
       "      <td>1-3 Yrs</td>\n",
       "      <td>Bangalore/Bengaluru</td>\n",
       "    </tr>\n",
       "    <tr>\n",
       "      <th>8</th>\n",
       "      <td>Clinical Data Analyst</td>\n",
       "      <td>Navitas LLP</td>\n",
       "      <td>3-8 Yrs</td>\n",
       "      <td>Chennai, Bangalore/Bengaluru</td>\n",
       "    </tr>\n",
       "    <tr>\n",
       "      <th>9</th>\n",
       "      <td>Senior Data Analyst</td>\n",
       "      <td>Walmart</td>\n",
       "      <td>4-7 Yrs</td>\n",
       "      <td>Bangalore/Bengaluru</td>\n",
       "    </tr>\n",
       "    <tr>\n",
       "      <th>10</th>\n",
       "      <td>Senior Data Management Analyst</td>\n",
       "      <td>Wells Fargo</td>\n",
       "      <td>7-12 Yrs</td>\n",
       "      <td>Serilingampally, Bangalore/Bengaluru</td>\n",
       "    </tr>\n",
       "    <tr>\n",
       "      <th>11</th>\n",
       "      <td>Senior Data Management Analyst</td>\n",
       "      <td>Wells Fargo</td>\n",
       "      <td>8-13 Yrs</td>\n",
       "      <td>Bangalore/Bengaluru</td>\n",
       "    </tr>\n",
       "    <tr>\n",
       "      <th>12</th>\n",
       "      <td>Senior Data Management Analyst</td>\n",
       "      <td>Wells Fargo</td>\n",
       "      <td>4-9 Yrs</td>\n",
       "      <td>Hyderabad/Secunderabad, Bangalore/Bengaluru</td>\n",
       "    </tr>\n",
       "    <tr>\n",
       "      <th>13</th>\n",
       "      <td>Business Analyst/Data Analyst</td>\n",
       "      <td>cliqhr.com</td>\n",
       "      <td>5-10 Yrs</td>\n",
       "      <td>Mumbai, Hyderabad/Secunderabad, Pune, Chennai,...</td>\n",
       "    </tr>\n",
       "    <tr>\n",
       "      <th>14</th>\n",
       "      <td>Senior Data Analyst</td>\n",
       "      <td>manoramaONLINE</td>\n",
       "      <td>5-10 Yrs</td>\n",
       "      <td>Chennai, Bangalore/Bengaluru, kerala</td>\n",
       "    </tr>\n",
       "    <tr>\n",
       "      <th>15</th>\n",
       "      <td>Financial Data Analyst - Data &amp; Analytics</td>\n",
       "      <td>Moody's</td>\n",
       "      <td>1-3 Yrs</td>\n",
       "      <td>Bangalore/Bengaluru</td>\n",
       "    </tr>\n",
       "    <tr>\n",
       "      <th>16</th>\n",
       "      <td>Data Analyst / Product Analyst / Business Analyst</td>\n",
       "      <td>Benchire</td>\n",
       "      <td>2-5 Yrs</td>\n",
       "      <td>Bangalore/Bengaluru, Delhi / NCR</td>\n",
       "    </tr>\n",
       "    <tr>\n",
       "      <th>17</th>\n",
       "      <td>Data Analyst / Modeler</td>\n",
       "      <td>RARR Technologies</td>\n",
       "      <td>6-8 Yrs</td>\n",
       "      <td>Mumbai, Pune, Chennai, Bangalore/Bengaluru</td>\n",
       "    </tr>\n",
       "    <tr>\n",
       "      <th>18</th>\n",
       "      <td>Data Analyst</td>\n",
       "      <td>Happay (VA Tech Ventures)</td>\n",
       "      <td>1-2 Yrs</td>\n",
       "      <td>Bangalore/Bengaluru</td>\n",
       "    </tr>\n",
       "    <tr>\n",
       "      <th>19</th>\n",
       "      <td>Opening For Data Analyst For Bangalore</td>\n",
       "      <td>TARENTO TECHNOLOGIES PRIVATE LIMITED</td>\n",
       "      <td>5-8 Yrs</td>\n",
       "      <td>Bangalore/Bengaluru</td>\n",
       "    </tr>\n",
       "  </tbody>\n",
       "</table>\n",
       "</div>"
      ],
      "text/plain": [
       "                                           Job_Titles  \\\n",
       "0                    Data Analyst/Senior Data Analyst   \n",
       "1                              Senior Data Analyst II   \n",
       "2            Software Technical Expert - Data Analyst   \n",
       "3                                        Data Analyst   \n",
       "4                                    Big data analyst   \n",
       "5                                        Data Analyst   \n",
       "6   Senior Business Analyst, Data Analytics & Engi...   \n",
       "7                                      Data Analyst 2   \n",
       "8                               Clinical Data Analyst   \n",
       "9                                 Senior Data Analyst   \n",
       "10                     Senior Data Management Analyst   \n",
       "11                     Senior Data Management Analyst   \n",
       "12                     Senior Data Management Analyst   \n",
       "13                      Business Analyst/Data Analyst   \n",
       "14                                Senior Data Analyst   \n",
       "15          Financial Data Analyst - Data & Analytics   \n",
       "16  Data Analyst / Product Analyst / Business Analyst   \n",
       "17                             Data Analyst / Modeler   \n",
       "18                                       Data Analyst   \n",
       "19             Opening For Data Analyst For Bangalore   \n",
       "\n",
       "                           Company_Names Company_Experience  \\\n",
       "0                                 Meesho            3-6 Yrs   \n",
       "1                               Flipkart            3-6 Yrs   \n",
       "2                     Schneider Electric            3-6 Yrs   \n",
       "3                                    Jio           8-11 Yrs   \n",
       "4        Accolite Software India Pvt Ltd            2-6 Yrs   \n",
       "5                                  BYJUS            2-5 Yrs   \n",
       "6           Artech Infosystems Pvt. Ltd.            4-8 Yrs   \n",
       "7                                 PayPal            1-3 Yrs   \n",
       "8                            Navitas LLP            3-8 Yrs   \n",
       "9                                Walmart            4-7 Yrs   \n",
       "10                           Wells Fargo           7-12 Yrs   \n",
       "11                           Wells Fargo           8-13 Yrs   \n",
       "12                           Wells Fargo            4-9 Yrs   \n",
       "13                            cliqhr.com           5-10 Yrs   \n",
       "14                        manoramaONLINE           5-10 Yrs   \n",
       "15                               Moody's            1-3 Yrs   \n",
       "16                              Benchire            2-5 Yrs   \n",
       "17                     RARR Technologies            6-8 Yrs   \n",
       "18             Happay (VA Tech Ventures)            1-2 Yrs   \n",
       "19  TARENTO TECHNOLOGIES PRIVATE LIMITED            5-8 Yrs   \n",
       "\n",
       "                                         Job_location  \n",
       "0                                 Bangalore/Bengaluru  \n",
       "1                                 Bangalore/Bengaluru  \n",
       "2                                 Bangalore/Bengaluru  \n",
       "3                                 Bangalore/Bengaluru  \n",
       "4                                 Bangalore/Bengaluru  \n",
       "5                                 Bangalore/Bengaluru  \n",
       "6             Bangalore/Bengaluru\\n(WFH during Covid)  \n",
       "7                                 Bangalore/Bengaluru  \n",
       "8                        Chennai, Bangalore/Bengaluru  \n",
       "9                                 Bangalore/Bengaluru  \n",
       "10               Serilingampally, Bangalore/Bengaluru  \n",
       "11                                Bangalore/Bengaluru  \n",
       "12        Hyderabad/Secunderabad, Bangalore/Bengaluru  \n",
       "13  Mumbai, Hyderabad/Secunderabad, Pune, Chennai,...  \n",
       "14               Chennai, Bangalore/Bengaluru, kerala  \n",
       "15                                Bangalore/Bengaluru  \n",
       "16                   Bangalore/Bengaluru, Delhi / NCR  \n",
       "17         Mumbai, Pune, Chennai, Bangalore/Bengaluru  \n",
       "18                                Bangalore/Bengaluru  \n",
       "19                                Bangalore/Bengaluru  "
      ]
     },
     "execution_count": 29,
     "metadata": {},
     "output_type": "execute_result"
    }
   ],
   "source": [
    "# Creating the Dataframe for the above lists.\n",
    "jobs=pd.DataFrame()\n",
    "jobs['Job_Titles']=job_titles\n",
    "jobs['Company_Names']=company_names\n",
    "jobs['Company_Experience']=Experience\n",
    "jobs['Job_location']=location\n",
    "jobs"
   ]
  },
  {
   "cell_type": "code",
   "execution_count": 34,
   "id": "2d5b930e",
   "metadata": {},
   "outputs": [],
   "source": [
    "# Q2: Write a python program to scrape data for “Data Scientist” Job position in “Bangalore” location.\n",
    "driver=webdriver.Chrome(r'C:\\Users\\91749\\Downloads\\chromedriver_win32\\chromedriver.exe')"
   ]
  },
  {
   "cell_type": "code",
   "execution_count": 35,
   "id": "db7e1176",
   "metadata": {},
   "outputs": [],
   "source": [
    "url='https://www.naukri.com/'\n",
    "driver.get(url)"
   ]
  },
  {
   "cell_type": "code",
   "execution_count": 79,
   "id": "d812dce0",
   "metadata": {},
   "outputs": [],
   "source": [
    "from selenium.webdriver.common.by import By"
   ]
  },
  {
   "cell_type": "code",
   "execution_count": 37,
   "id": "a30aae21",
   "metadata": {},
   "outputs": [
    {
     "data": {
      "text/plain": [
       "<selenium.webdriver.remote.webelement.WebElement (session=\"87320b0fe2364543ea5007bb2b4a7097\", element=\"231b0fc2-23c8-4c10-8d62-3243755feb85\")>"
      ]
     },
     "execution_count": 37,
     "metadata": {},
     "output_type": "execute_result"
    }
   ],
   "source": [
    "Search_job=driver.find_element(By.CLASS_NAME,\"suggestor-input \")\n",
    "Search_job"
   ]
  },
  {
   "cell_type": "code",
   "execution_count": 38,
   "id": "c39a6b29",
   "metadata": {},
   "outputs": [],
   "source": [
    "Search_job.send_keys('Data Scientists')"
   ]
  },
  {
   "cell_type": "code",
   "execution_count": 39,
   "id": "0e1fb03d",
   "metadata": {},
   "outputs": [
    {
     "data": {
      "text/plain": [
       "<selenium.webdriver.remote.webelement.WebElement (session=\"87320b0fe2364543ea5007bb2b4a7097\", element=\"8a49b1a0-70fd-4053-9c02-9e95428092c2\")>"
      ]
     },
     "execution_count": 39,
     "metadata": {},
     "output_type": "execute_result"
    }
   ],
   "source": [
    "search_loct=driver.find_element(\"xpath\",'/html/body/div[1]/div[2]/div[3]/div/div/div[5]/div/div/div/input')\n",
    "search_loct"
   ]
  },
  {
   "cell_type": "code",
   "execution_count": 40,
   "id": "f3974083",
   "metadata": {},
   "outputs": [],
   "source": [
    "search_loct.send_keys(\"Banglore\")"
   ]
  },
  {
   "cell_type": "code",
   "execution_count": 41,
   "id": "001a3c75",
   "metadata": {},
   "outputs": [
    {
     "data": {
      "text/plain": [
       "<selenium.webdriver.remote.webelement.WebElement (session=\"87320b0fe2364543ea5007bb2b4a7097\", element=\"666bfff0-4f1d-428e-bf00-39975d6b0159\")>"
      ]
     },
     "execution_count": 41,
     "metadata": {},
     "output_type": "execute_result"
    }
   ],
   "source": [
    "search_btn=driver.find_element(\"xpath\",'/html/body/div[1]/div[2]/div[3]/div/div/div[6]')\n",
    "search_btn"
   ]
  },
  {
   "cell_type": "code",
   "execution_count": 42,
   "id": "c630768b",
   "metadata": {},
   "outputs": [],
   "source": [
    "search_btn.click()"
   ]
  },
  {
   "cell_type": "code",
   "execution_count": 43,
   "id": "b30134da",
   "metadata": {},
   "outputs": [
    {
     "data": {
      "text/plain": [
       "20"
      ]
     },
     "execution_count": 43,
     "metadata": {},
     "output_type": "execute_result"
    }
   ],
   "source": [
    "title_tags=driver.find_elements(\"xpath\",'//a[@class=\"title fw500 ellipsis\"]')\n",
    "len(title_tags)"
   ]
  },
  {
   "cell_type": "code",
   "execution_count": 44,
   "id": "41332ae1",
   "metadata": {},
   "outputs": [
    {
     "data": {
      "text/plain": [
       "20"
      ]
     },
     "execution_count": 44,
     "metadata": {},
     "output_type": "execute_result"
    }
   ],
   "source": [
    "job_titles=[]\n",
    "\n",
    "for i in title_tags:\n",
    "    job_titles.append(i.text)\n",
    "len(job_titles)    "
   ]
  },
  {
   "cell_type": "code",
   "execution_count": 45,
   "id": "7cb69c3f",
   "metadata": {},
   "outputs": [
    {
     "data": {
      "text/plain": [
       "['Data Scientist',\n",
       " 'Data Scientist',\n",
       " 'Data Scientist',\n",
       " 'Data Scientist - IN3',\n",
       " 'Data Scientist - IN3',\n",
       " 'Data Scientist',\n",
       " 'Data Scientist',\n",
       " 'Senior Data Scientist, Personalization',\n",
       " 'Principal Data Scientist, AI-ML, D&T',\n",
       " 'Data Scientist',\n",
       " 'NLP , Data Scientist',\n",
       " 'Knowledge Graph , Data Scientist',\n",
       " 'Deep Learning , Data Scientist',\n",
       " 'Data Scientist',\n",
       " 'Senior Data Scientist',\n",
       " 'DigitalBCG GAMMA Data Scientist',\n",
       " 'MLOPS && Data scientist && ML Engineer && AWS Quicksight Developer',\n",
       " 'Opportunity For Data Scientist - Female Candidates ONLY',\n",
       " 'Opening For Data Scientist - Bangalore',\n",
       " 'NLP - Data scientist']"
      ]
     },
     "execution_count": 45,
     "metadata": {},
     "output_type": "execute_result"
    }
   ],
   "source": [
    "job_titles"
   ]
  },
  {
   "cell_type": "code",
   "execution_count": 46,
   "id": "28e343b5",
   "metadata": {},
   "outputs": [
    {
     "data": {
      "text/plain": [
       "20"
      ]
     },
     "execution_count": 46,
     "metadata": {},
     "output_type": "execute_result"
    }
   ],
   "source": [
    "company_tags=driver.find_elements(\"xpath\",'//a[@class=\"subTitle ellipsis fleft\"]')\n",
    "len(company_tags)"
   ]
  },
  {
   "cell_type": "code",
   "execution_count": 47,
   "id": "e5c1243b",
   "metadata": {},
   "outputs": [
    {
     "data": {
      "text/plain": [
       "20"
      ]
     },
     "execution_count": 47,
     "metadata": {},
     "output_type": "execute_result"
    }
   ],
   "source": [
    "company_names=[]\n",
    "\n",
    "for i in company_tags:\n",
    "    company_names.append(i.text)\n",
    "len(company_names)    "
   ]
  },
  {
   "cell_type": "code",
   "execution_count": 48,
   "id": "7a0589c7",
   "metadata": {},
   "outputs": [
    {
     "data": {
      "text/plain": [
       "['Neudesic Technologies',\n",
       " 'RARR Technologies',\n",
       " 'Happay (VA Tech Ventures)',\n",
       " 'Walmart',\n",
       " 'Walmart',\n",
       " 'Nomiso India',\n",
       " 'ECOLAB DIGITAL CENTER PVT LTD',\n",
       " 'Walmart',\n",
       " 'Western India Pharmaceutical',\n",
       " 'PRA',\n",
       " 'Mango Sciences',\n",
       " 'Mango Sciences',\n",
       " 'Mango Sciences',\n",
       " 'Kimberly-Clark Lever Limited',\n",
       " 'Enquero',\n",
       " 'Boston Consulting Group',\n",
       " 'Qeosol',\n",
       " 'PayU',\n",
       " 'HDFC LIFE INSURANCE COMPANY LIMITED',\n",
       " 'RARR Technologies']"
      ]
     },
     "execution_count": 48,
     "metadata": {},
     "output_type": "execute_result"
    }
   ],
   "source": [
    "company_names"
   ]
  },
  {
   "cell_type": "code",
   "execution_count": 49,
   "id": "c8355fc8",
   "metadata": {},
   "outputs": [
    {
     "data": {
      "text/plain": [
       "20"
      ]
     },
     "execution_count": 49,
     "metadata": {},
     "output_type": "execute_result"
    }
   ],
   "source": [
    "loc_tags=driver.find_elements(\"xpath\",'//li[@class=\"fleft grey-text br2 placeHolderLi location\"]')\n",
    "len(loc_tags)"
   ]
  },
  {
   "cell_type": "code",
   "execution_count": 50,
   "id": "d134bdc8",
   "metadata": {},
   "outputs": [
    {
     "data": {
      "text/plain": [
       "20"
      ]
     },
     "execution_count": 50,
     "metadata": {},
     "output_type": "execute_result"
    }
   ],
   "source": [
    "location=[]\n",
    "\n",
    "for i in loc_tags:\n",
    "    location.append(i.text)\n",
    "len(location)    "
   ]
  },
  {
   "cell_type": "code",
   "execution_count": 51,
   "id": "d02abc75",
   "metadata": {},
   "outputs": [
    {
     "data": {
      "text/plain": [
       "['Kochi/Cochin, Hyderabad/Secunderabad, Bangalore/Bengaluru\\n(WFH during Covid)',\n",
       " 'Bangalore/Bengaluru',\n",
       " 'Bangalore/Bengaluru',\n",
       " 'Bangalore/Bengaluru',\n",
       " 'Bangalore/Bengaluru',\n",
       " 'Hyderabad/Secunderabad, Bangalore/Bengaluru\\n(WFH during Covid)',\n",
       " 'Bangalore/Bengaluru',\n",
       " 'Bangalore/Bengaluru',\n",
       " 'Bangalore/Bengaluru',\n",
       " 'Bangalore/Bengaluru',\n",
       " 'Bangalore/Bengaluru',\n",
       " 'Bangalore/Bengaluru',\n",
       " 'Bangalore/Bengaluru',\n",
       " 'Bangalore/Bengaluru',\n",
       " 'Hyderabad/Secunderabad, Bangalore/Bengaluru',\n",
       " 'New Delhi, Bangalore/Bengaluru',\n",
       " 'Hassan, Bangalore/Bengaluru',\n",
       " 'Gurgaon/Gurugram, Bangalore/Bengaluru, Mumbai (All Areas)',\n",
       " 'Bangalore/Bengaluru',\n",
       " 'Kolkata, Mumbai, Hyderabad/Secunderabad, Pune, Chennai, Bangalore/Bengaluru']"
      ]
     },
     "execution_count": 51,
     "metadata": {},
     "output_type": "execute_result"
    }
   ],
   "source": [
    "location"
   ]
  },
  {
   "cell_type": "code",
   "execution_count": 52,
   "id": "d6312440",
   "metadata": {},
   "outputs": [
    {
     "data": {
      "text/html": [
       "<div>\n",
       "<style scoped>\n",
       "    .dataframe tbody tr th:only-of-type {\n",
       "        vertical-align: middle;\n",
       "    }\n",
       "\n",
       "    .dataframe tbody tr th {\n",
       "        vertical-align: top;\n",
       "    }\n",
       "\n",
       "    .dataframe thead th {\n",
       "        text-align: right;\n",
       "    }\n",
       "</style>\n",
       "<table border=\"1\" class=\"dataframe\">\n",
       "  <thead>\n",
       "    <tr style=\"text-align: right;\">\n",
       "      <th></th>\n",
       "      <th>Job_Titles</th>\n",
       "      <th>Company_Names</th>\n",
       "      <th>Job_location</th>\n",
       "    </tr>\n",
       "  </thead>\n",
       "  <tbody>\n",
       "    <tr>\n",
       "      <th>0</th>\n",
       "      <td>Data Scientist</td>\n",
       "      <td>Neudesic Technologies</td>\n",
       "      <td>Kochi/Cochin, Hyderabad/Secunderabad, Bangalor...</td>\n",
       "    </tr>\n",
       "    <tr>\n",
       "      <th>1</th>\n",
       "      <td>Data Scientist</td>\n",
       "      <td>RARR Technologies</td>\n",
       "      <td>Bangalore/Bengaluru</td>\n",
       "    </tr>\n",
       "    <tr>\n",
       "      <th>2</th>\n",
       "      <td>Data Scientist</td>\n",
       "      <td>Happay (VA Tech Ventures)</td>\n",
       "      <td>Bangalore/Bengaluru</td>\n",
       "    </tr>\n",
       "    <tr>\n",
       "      <th>3</th>\n",
       "      <td>Data Scientist - IN3</td>\n",
       "      <td>Walmart</td>\n",
       "      <td>Bangalore/Bengaluru</td>\n",
       "    </tr>\n",
       "    <tr>\n",
       "      <th>4</th>\n",
       "      <td>Data Scientist - IN3</td>\n",
       "      <td>Walmart</td>\n",
       "      <td>Bangalore/Bengaluru</td>\n",
       "    </tr>\n",
       "    <tr>\n",
       "      <th>5</th>\n",
       "      <td>Data Scientist</td>\n",
       "      <td>Nomiso India</td>\n",
       "      <td>Hyderabad/Secunderabad, Bangalore/Bengaluru\\n(...</td>\n",
       "    </tr>\n",
       "    <tr>\n",
       "      <th>6</th>\n",
       "      <td>Data Scientist</td>\n",
       "      <td>ECOLAB DIGITAL CENTER PVT LTD</td>\n",
       "      <td>Bangalore/Bengaluru</td>\n",
       "    </tr>\n",
       "    <tr>\n",
       "      <th>7</th>\n",
       "      <td>Senior Data Scientist, Personalization</td>\n",
       "      <td>Walmart</td>\n",
       "      <td>Bangalore/Bengaluru</td>\n",
       "    </tr>\n",
       "    <tr>\n",
       "      <th>8</th>\n",
       "      <td>Principal Data Scientist, AI-ML, D&amp;T</td>\n",
       "      <td>Western India Pharmaceutical</td>\n",
       "      <td>Bangalore/Bengaluru</td>\n",
       "    </tr>\n",
       "    <tr>\n",
       "      <th>9</th>\n",
       "      <td>Data Scientist</td>\n",
       "      <td>PRA</td>\n",
       "      <td>Bangalore/Bengaluru</td>\n",
       "    </tr>\n",
       "    <tr>\n",
       "      <th>10</th>\n",
       "      <td>NLP , Data Scientist</td>\n",
       "      <td>Mango Sciences</td>\n",
       "      <td>Bangalore/Bengaluru</td>\n",
       "    </tr>\n",
       "    <tr>\n",
       "      <th>11</th>\n",
       "      <td>Knowledge Graph , Data Scientist</td>\n",
       "      <td>Mango Sciences</td>\n",
       "      <td>Bangalore/Bengaluru</td>\n",
       "    </tr>\n",
       "    <tr>\n",
       "      <th>12</th>\n",
       "      <td>Deep Learning , Data Scientist</td>\n",
       "      <td>Mango Sciences</td>\n",
       "      <td>Bangalore/Bengaluru</td>\n",
       "    </tr>\n",
       "    <tr>\n",
       "      <th>13</th>\n",
       "      <td>Data Scientist</td>\n",
       "      <td>Kimberly-Clark Lever Limited</td>\n",
       "      <td>Bangalore/Bengaluru</td>\n",
       "    </tr>\n",
       "    <tr>\n",
       "      <th>14</th>\n",
       "      <td>Senior Data Scientist</td>\n",
       "      <td>Enquero</td>\n",
       "      <td>Hyderabad/Secunderabad, Bangalore/Bengaluru</td>\n",
       "    </tr>\n",
       "    <tr>\n",
       "      <th>15</th>\n",
       "      <td>DigitalBCG GAMMA Data Scientist</td>\n",
       "      <td>Boston Consulting Group</td>\n",
       "      <td>New Delhi, Bangalore/Bengaluru</td>\n",
       "    </tr>\n",
       "    <tr>\n",
       "      <th>16</th>\n",
       "      <td>MLOPS &amp;&amp; Data scientist &amp;&amp; ML Engineer &amp;&amp; AWS ...</td>\n",
       "      <td>Qeosol</td>\n",
       "      <td>Hassan, Bangalore/Bengaluru</td>\n",
       "    </tr>\n",
       "    <tr>\n",
       "      <th>17</th>\n",
       "      <td>Opportunity For Data Scientist - Female Candid...</td>\n",
       "      <td>PayU</td>\n",
       "      <td>Gurgaon/Gurugram, Bangalore/Bengaluru, Mumbai ...</td>\n",
       "    </tr>\n",
       "    <tr>\n",
       "      <th>18</th>\n",
       "      <td>Opening For Data Scientist - Bangalore</td>\n",
       "      <td>HDFC LIFE INSURANCE COMPANY LIMITED</td>\n",
       "      <td>Bangalore/Bengaluru</td>\n",
       "    </tr>\n",
       "    <tr>\n",
       "      <th>19</th>\n",
       "      <td>NLP - Data scientist</td>\n",
       "      <td>RARR Technologies</td>\n",
       "      <td>Kolkata, Mumbai, Hyderabad/Secunderabad, Pune,...</td>\n",
       "    </tr>\n",
       "  </tbody>\n",
       "</table>\n",
       "</div>"
      ],
      "text/plain": [
       "                                           Job_Titles  \\\n",
       "0                                      Data Scientist   \n",
       "1                                      Data Scientist   \n",
       "2                                      Data Scientist   \n",
       "3                                Data Scientist - IN3   \n",
       "4                                Data Scientist - IN3   \n",
       "5                                      Data Scientist   \n",
       "6                                      Data Scientist   \n",
       "7              Senior Data Scientist, Personalization   \n",
       "8                Principal Data Scientist, AI-ML, D&T   \n",
       "9                                      Data Scientist   \n",
       "10                               NLP , Data Scientist   \n",
       "11                   Knowledge Graph , Data Scientist   \n",
       "12                     Deep Learning , Data Scientist   \n",
       "13                                     Data Scientist   \n",
       "14                              Senior Data Scientist   \n",
       "15                    DigitalBCG GAMMA Data Scientist   \n",
       "16  MLOPS && Data scientist && ML Engineer && AWS ...   \n",
       "17  Opportunity For Data Scientist - Female Candid...   \n",
       "18             Opening For Data Scientist - Bangalore   \n",
       "19                               NLP - Data scientist   \n",
       "\n",
       "                          Company_Names  \\\n",
       "0                 Neudesic Technologies   \n",
       "1                     RARR Technologies   \n",
       "2             Happay (VA Tech Ventures)   \n",
       "3                               Walmart   \n",
       "4                               Walmart   \n",
       "5                          Nomiso India   \n",
       "6         ECOLAB DIGITAL CENTER PVT LTD   \n",
       "7                               Walmart   \n",
       "8          Western India Pharmaceutical   \n",
       "9                                   PRA   \n",
       "10                       Mango Sciences   \n",
       "11                       Mango Sciences   \n",
       "12                       Mango Sciences   \n",
       "13         Kimberly-Clark Lever Limited   \n",
       "14                              Enquero   \n",
       "15              Boston Consulting Group   \n",
       "16                               Qeosol   \n",
       "17                                 PayU   \n",
       "18  HDFC LIFE INSURANCE COMPANY LIMITED   \n",
       "19                    RARR Technologies   \n",
       "\n",
       "                                         Job_location  \n",
       "0   Kochi/Cochin, Hyderabad/Secunderabad, Bangalor...  \n",
       "1                                 Bangalore/Bengaluru  \n",
       "2                                 Bangalore/Bengaluru  \n",
       "3                                 Bangalore/Bengaluru  \n",
       "4                                 Bangalore/Bengaluru  \n",
       "5   Hyderabad/Secunderabad, Bangalore/Bengaluru\\n(...  \n",
       "6                                 Bangalore/Bengaluru  \n",
       "7                                 Bangalore/Bengaluru  \n",
       "8                                 Bangalore/Bengaluru  \n",
       "9                                 Bangalore/Bengaluru  \n",
       "10                                Bangalore/Bengaluru  \n",
       "11                                Bangalore/Bengaluru  \n",
       "12                                Bangalore/Bengaluru  \n",
       "13                                Bangalore/Bengaluru  \n",
       "14        Hyderabad/Secunderabad, Bangalore/Bengaluru  \n",
       "15                     New Delhi, Bangalore/Bengaluru  \n",
       "16                        Hassan, Bangalore/Bengaluru  \n",
       "17  Gurgaon/Gurugram, Bangalore/Bengaluru, Mumbai ...  \n",
       "18                                Bangalore/Bengaluru  \n",
       "19  Kolkata, Mumbai, Hyderabad/Secunderabad, Pune,...  "
      ]
     },
     "execution_count": 52,
     "metadata": {},
     "output_type": "execute_result"
    }
   ],
   "source": [
    "jobs=pd.DataFrame()\n",
    "jobs['Job_Titles']=job_titles\n",
    "jobs['Company_Names']=company_names\n",
    "jobs['Job_location']=location\n",
    "jobs"
   ]
  },
  {
   "cell_type": "code",
   "execution_count": 3,
   "id": "ccea30fc",
   "metadata": {},
   "outputs": [],
   "source": [
    "# Q3: In this question you have to scrape data using the filters available on the webpage as shown below:\n",
    "url='https://www.naukri.com/'\n",
    "driver.get(url)"
   ]
  },
  {
   "cell_type": "code",
   "execution_count": 4,
   "id": "4f0acf59",
   "metadata": {},
   "outputs": [],
   "source": [
    "from selenium.webdriver.common.by import By"
   ]
  },
  {
   "cell_type": "code",
   "execution_count": 5,
   "id": "b18b8b15",
   "metadata": {},
   "outputs": [
    {
     "data": {
      "text/plain": [
       "<selenium.webdriver.remote.webelement.WebElement (session=\"bf07342f6ac1520e61244fe66b5a503f\", element=\"5d9c77a1-2169-44a9-b1e7-4dfedc77d452\")>"
      ]
     },
     "execution_count": 5,
     "metadata": {},
     "output_type": "execute_result"
    }
   ],
   "source": [
    "Search_job=driver.find_element(By.CLASS_NAME,\"suggestor-input \")\n",
    "Search_job"
   ]
  },
  {
   "cell_type": "code",
   "execution_count": 6,
   "id": "812a22fc",
   "metadata": {},
   "outputs": [],
   "source": [
    "Search_job.send_keys('Data Scientists')"
   ]
  },
  {
   "cell_type": "code",
   "execution_count": 7,
   "id": "88ee7ac4",
   "metadata": {},
   "outputs": [
    {
     "data": {
      "text/plain": [
       "<selenium.webdriver.remote.webelement.WebElement (session=\"bf07342f6ac1520e61244fe66b5a503f\", element=\"c4df20d6-bf54-4684-9806-ee601c5b412c\")>"
      ]
     },
     "execution_count": 7,
     "metadata": {},
     "output_type": "execute_result"
    }
   ],
   "source": [
    "search_loct=driver.find_element(\"xpath\",'/html/body/div[1]/div[2]/div[3]/div/div/div[5]/div/div/div/input')\n",
    "search_loct"
   ]
  },
  {
   "cell_type": "code",
   "execution_count": 8,
   "id": "18eafd7e",
   "metadata": {},
   "outputs": [],
   "source": [
    "search_loct.send_keys(\"Delhi/NCR\")"
   ]
  },
  {
   "cell_type": "code",
   "execution_count": 9,
   "id": "6f4b9416",
   "metadata": {},
   "outputs": [
    {
     "data": {
      "text/plain": [
       "<selenium.webdriver.remote.webelement.WebElement (session=\"bf07342f6ac1520e61244fe66b5a503f\", element=\"0031f886-8426-44c9-b4ab-bce74452da8d\")>"
      ]
     },
     "execution_count": 9,
     "metadata": {},
     "output_type": "execute_result"
    }
   ],
   "source": [
    "search_btn=driver.find_element(\"xpath\",'/html/body/div[1]/div[2]/div[3]/div/div/div[6]')\n",
    "search_btn"
   ]
  },
  {
   "cell_type": "code",
   "execution_count": 10,
   "id": "a1d4794a",
   "metadata": {},
   "outputs": [],
   "source": [
    "search_btn.click()"
   ]
  },
  {
   "cell_type": "code",
   "execution_count": 27,
   "id": "703d17bf",
   "metadata": {},
   "outputs": [
    {
     "data": {
      "text/plain": [
       "<selenium.webdriver.remote.webelement.WebElement (session=\"bf07342f6ac1520e61244fe66b5a503f\", element=\"bff13d05-0923-4c46-bab6-eb2c70231bd5\")>"
      ]
     },
     "execution_count": 27,
     "metadata": {},
     "output_type": "execute_result"
    }
   ],
   "source": [
    "salary_check=driver.find_element(\"xpath\",'/html/body/div[1]/div[3]/div[2]/section[1]/div[2]/div[5]/div[2]/div[2]/label/p/span[1]')\n",
    "salary_check"
   ]
  },
  {
   "cell_type": "code",
   "execution_count": 28,
   "id": "fdb7e511",
   "metadata": {},
   "outputs": [],
   "source": [
    "salary_check.click()"
   ]
  },
  {
   "cell_type": "code",
   "execution_count": 29,
   "id": "b87152ee",
   "metadata": {},
   "outputs": [
    {
     "data": {
      "text/plain": [
       "20"
      ]
     },
     "execution_count": 29,
     "metadata": {},
     "output_type": "execute_result"
    }
   ],
   "source": [
    "title_tags=driver.find_elements(\"xpath\",'//a[@class=\"title fw500 ellipsis\"]')\n",
    "len(title_tags)"
   ]
  },
  {
   "cell_type": "code",
   "execution_count": 30,
   "id": "70666c02",
   "metadata": {},
   "outputs": [
    {
     "data": {
      "text/plain": [
       "20"
      ]
     },
     "execution_count": 30,
     "metadata": {},
     "output_type": "execute_result"
    }
   ],
   "source": [
    "job_titles=[]\n",
    "\n",
    "for i in title_tags:\n",
    "    job_titles.append(i.text)\n",
    "len(job_titles)    "
   ]
  },
  {
   "cell_type": "code",
   "execution_count": 31,
   "id": "d17115f9",
   "metadata": {},
   "outputs": [
    {
     "data": {
      "text/plain": [
       "['Data Scientist',\n",
       " 'DigitalBCG GAMMA Data Scientist',\n",
       " 'Data Scientist',\n",
       " 'Data Scientist - Engine Algorithm',\n",
       " 'Data Scientist - KPO',\n",
       " 'Data Scientist',\n",
       " 'Forecast Analyst (Data Scientist)',\n",
       " 'Associate Data Scientist - Java/ Scala/ Apache Server',\n",
       " 'Data Scientist - Noida/Bangalore',\n",
       " 'Data Scientist',\n",
       " 'Data Scientist',\n",
       " 'Data Scientist/ Machine Learning, 2022 Passout Can also apply',\n",
       " 'Hiring || Data Scientist || North Delhi || 5.5 days working',\n",
       " 'Associate Data Scientist',\n",
       " 'Data Scientist',\n",
       " 'Data Scientist',\n",
       " 'Data Scientist - Machine learning AI',\n",
       " 'Data Scientist',\n",
       " 'Data scientist- Python',\n",
       " 'data scientist - biotechnology Jobs']"
      ]
     },
     "execution_count": 31,
     "metadata": {},
     "output_type": "execute_result"
    }
   ],
   "source": [
    "job_titles"
   ]
  },
  {
   "cell_type": "code",
   "execution_count": 32,
   "id": "31c0204d",
   "metadata": {},
   "outputs": [
    {
     "data": {
      "text/plain": [
       "20"
      ]
     },
     "execution_count": 32,
     "metadata": {},
     "output_type": "execute_result"
    }
   ],
   "source": [
    "company_tags=driver.find_elements(\"xpath\",'//a[@class=\"subTitle ellipsis fleft\"]')\n",
    "len(company_tags)"
   ]
  },
  {
   "cell_type": "code",
   "execution_count": 33,
   "id": "94f44409",
   "metadata": {},
   "outputs": [
    {
     "data": {
      "text/plain": [
       "20"
      ]
     },
     "execution_count": 33,
     "metadata": {},
     "output_type": "execute_result"
    }
   ],
   "source": [
    "company_names=[]\n",
    "\n",
    "for i in company_tags:\n",
    "    company_names.append(i.text)\n",
    "len(company_names)    "
   ]
  },
  {
   "cell_type": "code",
   "execution_count": 34,
   "id": "2f434c14",
   "metadata": {},
   "outputs": [
    {
     "data": {
      "text/plain": [
       "['Nelito Systems Ltd',\n",
       " 'Boston Consulting Group',\n",
       " 'RapiPay Fintech',\n",
       " 'Primo Hiring',\n",
       " 'Huquo Consulting Pvt. Ltd',\n",
       " 'Kellton Tech Solutions Limited',\n",
       " 'Concentrix',\n",
       " 'Smart work Consultants',\n",
       " 'EXL',\n",
       " 'GREAT LAKES E-LEARNING SERVICES PRIVATE LIMITED',\n",
       " 'Sydata Consulting India Pvt Ltd',\n",
       " 'Creative Hands HR Consultancy',\n",
       " 'Shriram Automall India Limited',\n",
       " 'Gartner',\n",
       " 'itForte Staffing Services Private Ltd.',\n",
       " 'Boston Consulting Group',\n",
       " 'Teq Analytics',\n",
       " 'BlackBuck',\n",
       " 'TeamPlus Staffing Solution Pvt Ltd',\n",
       " 'RIGHT STEP CONSULTING PRIVATE LIMITED']"
      ]
     },
     "execution_count": 34,
     "metadata": {},
     "output_type": "execute_result"
    }
   ],
   "source": [
    "company_names"
   ]
  },
  {
   "cell_type": "code",
   "execution_count": 35,
   "id": "2b2170ac",
   "metadata": {},
   "outputs": [
    {
     "data": {
      "text/plain": [
       "20"
      ]
     },
     "execution_count": 35,
     "metadata": {},
     "output_type": "execute_result"
    }
   ],
   "source": [
    "loc_tags=driver.find_elements(\"xpath\",'//li[@class=\"fleft grey-text br2 placeHolderLi location\"]')\n",
    "len(loc_tags)"
   ]
  },
  {
   "cell_type": "code",
   "execution_count": 36,
   "id": "d2f402fd",
   "metadata": {},
   "outputs": [
    {
     "data": {
      "text/plain": [
       "20"
      ]
     },
     "execution_count": 36,
     "metadata": {},
     "output_type": "execute_result"
    }
   ],
   "source": [
    "location=[]\n",
    "\n",
    "for i in loc_tags:\n",
    "    location.append(i.text)\n",
    "len(location)    "
   ]
  },
  {
   "cell_type": "code",
   "execution_count": 37,
   "id": "227c0797",
   "metadata": {},
   "outputs": [
    {
     "data": {
      "text/plain": [
       "['Delhi / NCR, Kolkata, New Delhi, Navi Mumbai, Ahmedabad, Mumbai (All Areas)',\n",
       " 'New Delhi, Bangalore/Bengaluru',\n",
       " 'Noida',\n",
       " 'Delhi / NCR, Kolkata, Mumbai, Hyderabad/Secunderabad, Lucknow, Chennai, Ahmedabad, Bangalore/Bengaluru',\n",
       " 'Gurgaon/Gurugram',\n",
       " 'Gurgaon/Gurugram',\n",
       " 'Delhi / NCR, Gurgaon/Gurugram, Bangalore/Bengaluru',\n",
       " 'Noida',\n",
       " 'Noida, Bangalore/Bengaluru',\n",
       " 'Gurgaon/Gurugram, Bangalore/Bengaluru',\n",
       " 'Delhi / NCR, Bangalore/Bengaluru, Mumbai (All Areas)\\n(WFH during Covid)',\n",
       " 'Hyderabad/Secunderabad, Pune, Gurgaon/Gurugram, Chennai, Bangalore/Bengaluru, Mumbai (All Areas)',\n",
       " 'Delhi / NCR(Netaji Subhash Place)',\n",
       " 'Gurgaon/Gurugram',\n",
       " 'Gurgaon',\n",
       " 'New Delhi',\n",
       " 'Delhi / NCR, Bangalore/Bengaluru, Mumbai (All Areas)\\n(WFH during Covid)',\n",
       " 'Gurgaon, Bengaluru',\n",
       " 'Gurgaon/Gurugram',\n",
       " 'Delhi']"
      ]
     },
     "execution_count": 37,
     "metadata": {},
     "output_type": "execute_result"
    }
   ],
   "source": [
    "location"
   ]
  },
  {
   "cell_type": "code",
   "execution_count": 38,
   "id": "677ba2c5",
   "metadata": {},
   "outputs": [
    {
     "data": {
      "text/plain": [
       "20"
      ]
     },
     "execution_count": 38,
     "metadata": {},
     "output_type": "execute_result"
    }
   ],
   "source": [
    "experience_tags=driver.find_elements(\"xpath\",'//li[@class=\"fleft grey-text br2 placeHolderLi experience\"]')\n",
    "len(experience_tags)"
   ]
  },
  {
   "cell_type": "code",
   "execution_count": 39,
   "id": "519c0eb5",
   "metadata": {},
   "outputs": [
    {
     "data": {
      "text/plain": [
       "20"
      ]
     },
     "execution_count": 39,
     "metadata": {},
     "output_type": "execute_result"
    }
   ],
   "source": [
    "Experience=[]\n",
    "\n",
    "for i in experience_tags:\n",
    "    Experience.append(i.text)\n",
    "len(Experience)    "
   ]
  },
  {
   "cell_type": "code",
   "execution_count": 40,
   "id": "00c25197",
   "metadata": {},
   "outputs": [
    {
     "data": {
      "text/plain": [
       "['3-8 Yrs',\n",
       " '2-5 Yrs',\n",
       " '4-9 Yrs',\n",
       " '1-3 Yrs',\n",
       " '4-7 Yrs',\n",
       " '3-6 Yrs',\n",
       " '3-7 Yrs',\n",
       " '1-4 Yrs',\n",
       " '5-10 Yrs',\n",
       " '2-7 Yrs',\n",
       " '3-8 Yrs',\n",
       " '0-4 Yrs',\n",
       " '4-9 Yrs',\n",
       " '1-3 Yrs',\n",
       " '3-8 Yrs',\n",
       " '2-5 Yrs',\n",
       " '3-8 Yrs',\n",
       " '3-7 Yrs',\n",
       " '3-6 Yrs',\n",
       " '2-5 Yrs']"
      ]
     },
     "execution_count": 40,
     "metadata": {},
     "output_type": "execute_result"
    }
   ],
   "source": [
    "Experience"
   ]
  },
  {
   "cell_type": "code",
   "execution_count": 42,
   "id": "fc8e9bd3",
   "metadata": {},
   "outputs": [
    {
     "data": {
      "text/html": [
       "<div>\n",
       "<style scoped>\n",
       "    .dataframe tbody tr th:only-of-type {\n",
       "        vertical-align: middle;\n",
       "    }\n",
       "\n",
       "    .dataframe tbody tr th {\n",
       "        vertical-align: top;\n",
       "    }\n",
       "\n",
       "    .dataframe thead th {\n",
       "        text-align: right;\n",
       "    }\n",
       "</style>\n",
       "<table border=\"1\" class=\"dataframe\">\n",
       "  <thead>\n",
       "    <tr style=\"text-align: right;\">\n",
       "      <th></th>\n",
       "      <th>Job_Titles</th>\n",
       "      <th>Company_Names</th>\n",
       "      <th>Company_Experience</th>\n",
       "      <th>Job_location</th>\n",
       "    </tr>\n",
       "  </thead>\n",
       "  <tbody>\n",
       "    <tr>\n",
       "      <th>0</th>\n",
       "      <td>Data Scientist</td>\n",
       "      <td>Nelito Systems Ltd</td>\n",
       "      <td>3-8 Yrs</td>\n",
       "      <td>Delhi / NCR, Kolkata, New Delhi, Navi Mumbai, ...</td>\n",
       "    </tr>\n",
       "    <tr>\n",
       "      <th>1</th>\n",
       "      <td>DigitalBCG GAMMA Data Scientist</td>\n",
       "      <td>Boston Consulting Group</td>\n",
       "      <td>2-5 Yrs</td>\n",
       "      <td>New Delhi, Bangalore/Bengaluru</td>\n",
       "    </tr>\n",
       "    <tr>\n",
       "      <th>2</th>\n",
       "      <td>Data Scientist</td>\n",
       "      <td>RapiPay Fintech</td>\n",
       "      <td>4-9 Yrs</td>\n",
       "      <td>Noida</td>\n",
       "    </tr>\n",
       "    <tr>\n",
       "      <th>3</th>\n",
       "      <td>Data Scientist - Engine Algorithm</td>\n",
       "      <td>Primo Hiring</td>\n",
       "      <td>1-3 Yrs</td>\n",
       "      <td>Delhi / NCR, Kolkata, Mumbai, Hyderabad/Secund...</td>\n",
       "    </tr>\n",
       "    <tr>\n",
       "      <th>4</th>\n",
       "      <td>Data Scientist - KPO</td>\n",
       "      <td>Huquo Consulting Pvt. Ltd</td>\n",
       "      <td>4-7 Yrs</td>\n",
       "      <td>Gurgaon/Gurugram</td>\n",
       "    </tr>\n",
       "    <tr>\n",
       "      <th>5</th>\n",
       "      <td>Data Scientist</td>\n",
       "      <td>Kellton Tech Solutions Limited</td>\n",
       "      <td>3-6 Yrs</td>\n",
       "      <td>Gurgaon/Gurugram</td>\n",
       "    </tr>\n",
       "    <tr>\n",
       "      <th>6</th>\n",
       "      <td>Forecast Analyst (Data Scientist)</td>\n",
       "      <td>Concentrix</td>\n",
       "      <td>3-7 Yrs</td>\n",
       "      <td>Delhi / NCR, Gurgaon/Gurugram, Bangalore/Benga...</td>\n",
       "    </tr>\n",
       "    <tr>\n",
       "      <th>7</th>\n",
       "      <td>Associate Data Scientist - Java/ Scala/ Apache...</td>\n",
       "      <td>Smart work Consultants</td>\n",
       "      <td>1-4 Yrs</td>\n",
       "      <td>Noida</td>\n",
       "    </tr>\n",
       "    <tr>\n",
       "      <th>8</th>\n",
       "      <td>Data Scientist - Noida/Bangalore</td>\n",
       "      <td>EXL</td>\n",
       "      <td>5-10 Yrs</td>\n",
       "      <td>Noida, Bangalore/Bengaluru</td>\n",
       "    </tr>\n",
       "    <tr>\n",
       "      <th>9</th>\n",
       "      <td>Data Scientist</td>\n",
       "      <td>GREAT LAKES E-LEARNING SERVICES PRIVATE LIMITED</td>\n",
       "      <td>2-7 Yrs</td>\n",
       "      <td>Gurgaon/Gurugram, Bangalore/Bengaluru</td>\n",
       "    </tr>\n",
       "  </tbody>\n",
       "</table>\n",
       "</div>"
      ],
      "text/plain": [
       "                                          Job_Titles  \\\n",
       "0                                     Data Scientist   \n",
       "1                    DigitalBCG GAMMA Data Scientist   \n",
       "2                                     Data Scientist   \n",
       "3                  Data Scientist - Engine Algorithm   \n",
       "4                               Data Scientist - KPO   \n",
       "5                                     Data Scientist   \n",
       "6                  Forecast Analyst (Data Scientist)   \n",
       "7  Associate Data Scientist - Java/ Scala/ Apache...   \n",
       "8                   Data Scientist - Noida/Bangalore   \n",
       "9                                     Data Scientist   \n",
       "\n",
       "                                     Company_Names Company_Experience  \\\n",
       "0                               Nelito Systems Ltd            3-8 Yrs   \n",
       "1                          Boston Consulting Group            2-5 Yrs   \n",
       "2                                  RapiPay Fintech            4-9 Yrs   \n",
       "3                                     Primo Hiring            1-3 Yrs   \n",
       "4                        Huquo Consulting Pvt. Ltd            4-7 Yrs   \n",
       "5                   Kellton Tech Solutions Limited            3-6 Yrs   \n",
       "6                                       Concentrix            3-7 Yrs   \n",
       "7                           Smart work Consultants            1-4 Yrs   \n",
       "8                                              EXL           5-10 Yrs   \n",
       "9  GREAT LAKES E-LEARNING SERVICES PRIVATE LIMITED            2-7 Yrs   \n",
       "\n",
       "                                        Job_location  \n",
       "0  Delhi / NCR, Kolkata, New Delhi, Navi Mumbai, ...  \n",
       "1                     New Delhi, Bangalore/Bengaluru  \n",
       "2                                              Noida  \n",
       "3  Delhi / NCR, Kolkata, Mumbai, Hyderabad/Secund...  \n",
       "4                                   Gurgaon/Gurugram  \n",
       "5                                   Gurgaon/Gurugram  \n",
       "6  Delhi / NCR, Gurgaon/Gurugram, Bangalore/Benga...  \n",
       "7                                              Noida  \n",
       "8                         Noida, Bangalore/Bengaluru  \n",
       "9              Gurgaon/Gurugram, Bangalore/Bengaluru  "
      ]
     },
     "execution_count": 42,
     "metadata": {},
     "output_type": "execute_result"
    }
   ],
   "source": [
    "jobs=pd.DataFrame()\n",
    "jobs['Job_Titles']=job_titles\n",
    "jobs['Company_Names']=company_names\n",
    "jobs['Company_Experience']=Experience\n",
    "jobs['Job_location']=location\n",
    "jobs.head(10)"
   ]
  },
  {
   "cell_type": "code",
   "execution_count": 87,
   "id": "031380fd",
   "metadata": {},
   "outputs": [],
   "source": [
    "#Q4: Scrape data of first 100 sunglasses listings on flipkart.com\n",
    "url='https://www.flipkart.com/'\n",
    "driver.get(url)"
   ]
  },
  {
   "cell_type": "code",
   "execution_count": 88,
   "id": "628ccd8d",
   "metadata": {},
   "outputs": [
    {
     "data": {
      "text/plain": [
       "<selenium.webdriver.remote.webelement.WebElement (session=\"bf07342f6ac1520e61244fe66b5a503f\", element=\"05079967-7138-41fe-902d-fbfc8bd926af\")>"
      ]
     },
     "execution_count": 88,
     "metadata": {},
     "output_type": "execute_result"
    }
   ],
   "source": [
    "Search_bar=driver.find_element(By.CLASS_NAME,\"_3704LK\")\n",
    "Search_bar"
   ]
  },
  {
   "cell_type": "code",
   "execution_count": 89,
   "id": "98d9e02c",
   "metadata": {},
   "outputs": [],
   "source": [
    "Search_bar.send_keys('sunglasses')"
   ]
  },
  {
   "cell_type": "code",
   "execution_count": 90,
   "id": "184462bc",
   "metadata": {},
   "outputs": [
    {
     "data": {
      "text/plain": [
       "<selenium.webdriver.remote.webelement.WebElement (session=\"bf07342f6ac1520e61244fe66b5a503f\", element=\"e8cb4f3d-4c08-4186-b6fb-080fa06c3447\")>"
      ]
     },
     "execution_count": 90,
     "metadata": {},
     "output_type": "execute_result"
    }
   ],
   "source": [
    "search_btn=driver.find_element(\"xpath\",'/html/body/div[1]/div/div[1]/div[1]/div[2]/div[2]/form/div/button')\n",
    "search_btn"
   ]
  },
  {
   "cell_type": "code",
   "execution_count": 91,
   "id": "dd3f55f0",
   "metadata": {},
   "outputs": [],
   "source": [
    "search_btn.click()"
   ]
  },
  {
   "cell_type": "code",
   "execution_count": 92,
   "id": "0a604277",
   "metadata": {},
   "outputs": [
    {
     "data": {
      "text/plain": [
       "40"
      ]
     },
     "execution_count": 92,
     "metadata": {},
     "output_type": "execute_result"
    }
   ],
   "source": [
    "brand_tags=driver.find_elements(\"xpath\",'//div[@class=\"_2WkVRV\"]')\n",
    "len(brand_tags)"
   ]
  },
  {
   "cell_type": "code",
   "execution_count": 93,
   "id": "b51fed91",
   "metadata": {},
   "outputs": [
    {
     "data": {
      "text/plain": [
       "40"
      ]
     },
     "execution_count": 93,
     "metadata": {},
     "output_type": "execute_result"
    }
   ],
   "source": [
    "brand=[]\n",
    "\n",
    "for i in brand_tags:\n",
    "    brand.append(i.text)\n",
    "len(brand)    "
   ]
  },
  {
   "cell_type": "code",
   "execution_count": 94,
   "id": "bec9bee9",
   "metadata": {},
   "outputs": [
    {
     "data": {
      "text/plain": [
       "['VINCENT CHASE',\n",
       " 'VINCENT CHASE',\n",
       " 'Fastrack',\n",
       " 'Elligator',\n",
       " 'SRPM',\n",
       " 'New Specs',\n",
       " 'Fastrack',\n",
       " 'ROZZETTA CRAFT',\n",
       " 'SUNBEE',\n",
       " 'Fastrack',\n",
       " 'Lee Topper',\n",
       " 'Singco India',\n",
       " 'PIRASO',\n",
       " 'SUNBEE',\n",
       " 'PIRASO',\n",
       " 'VINCENT CHASE',\n",
       " 'ROZZETTA CRAFT',\n",
       " 'ROZZETTA CRAFT',\n",
       " 'CRYSTAL CART',\n",
       " 'ROZZETTA CRAFT',\n",
       " 'Fastrack',\n",
       " 'SHAAH COLLECTIONS',\n",
       " 'kingsunglasses',\n",
       " 'ROYAL SON',\n",
       " 'Lee Topper',\n",
       " 'PHENOMENAL',\n",
       " 'PIRASO',\n",
       " 'VINCENT CHASE',\n",
       " 'ROZZETTA CRAFT',\n",
       " 'Fastrack',\n",
       " 'CRYSTAL CART',\n",
       " 'AISLIN',\n",
       " 'Fastrack',\n",
       " 'Sewell',\n",
       " 'Fastrack',\n",
       " 'ROZZETTA CRAFT',\n",
       " 'PIRASO',\n",
       " 'Lee Topper',\n",
       " 'PIRASO',\n",
       " 'AISLIN']"
      ]
     },
     "execution_count": 94,
     "metadata": {},
     "output_type": "execute_result"
    }
   ],
   "source": [
    "brand"
   ]
  },
  {
   "cell_type": "code",
   "execution_count": 95,
   "id": "2fca5957",
   "metadata": {},
   "outputs": [
    {
     "data": {
      "text/plain": [
       "40"
      ]
     },
     "execution_count": 95,
     "metadata": {},
     "output_type": "execute_result"
    }
   ],
   "source": [
    "describe=driver.find_elements(\"xpath\",'//a[@class=\"IRpwTa\"]')\n",
    "len(describe)"
   ]
  },
  {
   "cell_type": "code",
   "execution_count": 96,
   "id": "0a1c8514",
   "metadata": {},
   "outputs": [
    {
     "data": {
      "text/plain": [
       "40"
      ]
     },
     "execution_count": 96,
     "metadata": {},
     "output_type": "execute_result"
    }
   ],
   "source": [
    "Description=[]\n",
    "\n",
    "for i in describe:\n",
    "    Description.append(i.text)\n",
    "len(Description)    "
   ]
  },
  {
   "cell_type": "code",
   "execution_count": 97,
   "id": "dc7b4702",
   "metadata": {},
   "outputs": [
    {
     "data": {
      "text/plain": [
       "['Polarized, UV Protection Round Sunglasses (50)',\n",
       " 'by Lenskart Polarized, UV Protection Round Sunglasses (...',\n",
       " 'UV Protection Rectangular Sunglasses (Free Size)',\n",
       " 'UV Protection Round Sunglasses (54)',\n",
       " 'UV Protection Wayfarer Sunglasses (50)',\n",
       " 'UV Protection Rectangular Sunglasses (Free Size)',\n",
       " 'UV Protection Wayfarer Sunglasses (Free Size)',\n",
       " 'UV Protection, Gradient Round Sunglasses (Free Size)',\n",
       " 'UV Protection, Polarized Wayfarer Sunglasses (Free Size...',\n",
       " 'UV Protection Aviator Sunglasses (Free Size)',\n",
       " 'UV Protection Cat-eye Sunglasses (Free Size)',\n",
       " 'Gradient, Toughened Glass Lens, UV Protection Retro Squ...',\n",
       " 'UV Protection Aviator Sunglasses (54)',\n",
       " 'UV Protection, Polarized, Mirrored Retro Square Sunglas...',\n",
       " 'UV Protection Aviator Sunglasses (54)',\n",
       " 'by Lenskart Polarized, UV Protection Cat-eye Sunglasses...',\n",
       " 'UV Protection, Gradient Retro Square Sunglasses (Free S...',\n",
       " 'Polarized, Riding Glasses Sports, Wrap-around Sunglasse...',\n",
       " 'Mirrored, Night Vision Oval Sunglasses (Free Size)',\n",
       " 'UV Protection, Riding Glasses Rectangular Sunglasses (F...',\n",
       " 'Gradient, UV Protection Wayfarer Sunglasses (Free Size)',\n",
       " 'UV Protection Round Sunglasses (Free Size)',\n",
       " 'UV Protection, Riding Glasses, Mirrored Wayfarer Sungla...',\n",
       " 'Polarized Retro Square Sunglasses (61)',\n",
       " 'Riding Glasses Wrap-around Sunglasses (Free Size)',\n",
       " 'UV Protection Retro Square Sunglasses (Free Size)',\n",
       " 'UV Protection Rectangular Sunglasses (52)',\n",
       " 'UV Protection Rectangular Sunglasses (50)',\n",
       " 'UV Protection Rectangular Sunglasses (Free Size)',\n",
       " 'Gradient, UV Protection Wayfarer Sunglasses (Free Size)',\n",
       " 'Polarized, UV Protection, Mirrored, Gradient Rectangula...',\n",
       " 'UV Protection, Gradient Cat-eye, Round Sunglasses (62)',\n",
       " 'UV Protection Aviator Sunglasses (58)',\n",
       " 'Mirrored, Night Vision, UV Protection, Riding Glasses S...',\n",
       " 'UV Protection Wayfarer Sunglasses (Free Size)',\n",
       " 'UV Protection Spectacle Sunglasses (Free Size)',\n",
       " 'UV Protection Wayfarer Sunglasses (32)',\n",
       " 'UV Protection Rectangular Sunglasses (Free Size)',\n",
       " 'UV Protection Aviator Sunglasses (55)',\n",
       " 'UV Protection, Gradient Butterfly, Round Sunglasses (53...']"
      ]
     },
     "execution_count": 97,
     "metadata": {},
     "output_type": "execute_result"
    }
   ],
   "source": [
    "Description"
   ]
  },
  {
   "cell_type": "code",
   "execution_count": 98,
   "id": "9215c13b",
   "metadata": {},
   "outputs": [
    {
     "data": {
      "text/plain": [
       "40"
      ]
     },
     "execution_count": 98,
     "metadata": {},
     "output_type": "execute_result"
    }
   ],
   "source": [
    "price_tag=driver.find_elements(\"xpath\",'//div[@class=\"_30jeq3\"]')\n",
    "len(price_tag)                               "
   ]
  },
  {
   "cell_type": "code",
   "execution_count": 99,
   "id": "0f264a23",
   "metadata": {},
   "outputs": [
    {
     "data": {
      "text/plain": [
       "40"
      ]
     },
     "execution_count": 99,
     "metadata": {},
     "output_type": "execute_result"
    }
   ],
   "source": [
    "Price=[]\n",
    "\n",
    "for i in price_tag:\n",
    "    Price.append(i.text)\n",
    "len(Price)    "
   ]
  },
  {
   "cell_type": "code",
   "execution_count": 100,
   "id": "f9abdb42",
   "metadata": {},
   "outputs": [
    {
     "data": {
      "text/plain": [
       "['₹949',\n",
       " '₹999',\n",
       " '₹639',\n",
       " '₹315',\n",
       " '₹224',\n",
       " '₹264',\n",
       " '₹799',\n",
       " '₹399',\n",
       " '₹283',\n",
       " '₹639',\n",
       " '₹229',\n",
       " '₹598',\n",
       " '₹224',\n",
       " '₹259',\n",
       " '₹224',\n",
       " '₹799',\n",
       " '₹349',\n",
       " '₹499',\n",
       " '₹189',\n",
       " '₹449',\n",
       " '₹719',\n",
       " '₹279',\n",
       " '₹213',\n",
       " '₹664',\n",
       " '₹299',\n",
       " '₹369',\n",
       " '₹306',\n",
       " '₹649',\n",
       " '₹319',\n",
       " '₹719',\n",
       " '₹529',\n",
       " '₹475',\n",
       " '₹1,039',\n",
       " '₹279',\n",
       " '₹759',\n",
       " '₹399',\n",
       " '₹226',\n",
       " '₹219',\n",
       " '₹246',\n",
       " '₹425']"
      ]
     },
     "execution_count": 100,
     "metadata": {},
     "output_type": "execute_result"
    }
   ],
   "source": [
    "Price"
   ]
  },
  {
   "cell_type": "code",
   "execution_count": 101,
   "id": "dd191fd7",
   "metadata": {},
   "outputs": [
    {
     "data": {
      "text/plain": [
       "40"
      ]
     },
     "execution_count": 101,
     "metadata": {},
     "output_type": "execute_result"
    }
   ],
   "source": [
    "discount_tag=driver.find_elements(\"xpath\",'//div[@class=\"_3Ay6Sb\"]')\n",
    "len(discount_tag)"
   ]
  },
  {
   "cell_type": "code",
   "execution_count": 102,
   "id": "267ac333",
   "metadata": {},
   "outputs": [
    {
     "data": {
      "text/plain": [
       "40"
      ]
     },
     "execution_count": 102,
     "metadata": {},
     "output_type": "execute_result"
    }
   ],
   "source": [
    "discount=[]\n",
    "\n",
    "for i in discount_tag:\n",
    "    discount.append(i.text)\n",
    "len(discount)    "
   ]
  },
  {
   "cell_type": "code",
   "execution_count": 103,
   "id": "45d7fa1f",
   "metadata": {},
   "outputs": [
    {
     "data": {
      "text/plain": [
       "['52% off',\n",
       " '50% off',\n",
       " '20% off',\n",
       " '87% off',\n",
       " '82% off',\n",
       " '89% off',\n",
       " '20% off',\n",
       " '80% off',\n",
       " '78% off',\n",
       " '20% off',\n",
       " '82% off',\n",
       " '80% off',\n",
       " '85% off',\n",
       " '80% off',\n",
       " '85% off',\n",
       " '60% off',\n",
       " '82% off',\n",
       " '75% off',\n",
       " '68% off',\n",
       " '79% off',\n",
       " '20% off',\n",
       " '78% off',\n",
       " '82% off',\n",
       " '55% off',\n",
       " '88% off',\n",
       " '81% off',\n",
       " '88% off',\n",
       " '67% off',\n",
       " '78% off',\n",
       " '20% off',\n",
       " '74% off',\n",
       " '72% off',\n",
       " '20% off',\n",
       " '81% off',\n",
       " '15% off',\n",
       " '80% off',\n",
       " '85% off',\n",
       " '78% off',\n",
       " '84% off',\n",
       " '72% off']"
      ]
     },
     "execution_count": 103,
     "metadata": {},
     "output_type": "execute_result"
    }
   ],
   "source": [
    "discount"
   ]
  },
  {
   "cell_type": "code",
   "execution_count": 104,
   "id": "150db6b8",
   "metadata": {},
   "outputs": [
    {
     "data": {
      "text/html": [
       "<div>\n",
       "<style scoped>\n",
       "    .dataframe tbody tr th:only-of-type {\n",
       "        vertical-align: middle;\n",
       "    }\n",
       "\n",
       "    .dataframe tbody tr th {\n",
       "        vertical-align: top;\n",
       "    }\n",
       "\n",
       "    .dataframe thead th {\n",
       "        text-align: right;\n",
       "    }\n",
       "</style>\n",
       "<table border=\"1\" class=\"dataframe\">\n",
       "  <thead>\n",
       "    <tr style=\"text-align: right;\">\n",
       "      <th></th>\n",
       "      <th>Brand Name</th>\n",
       "      <th>Product Price</th>\n",
       "      <th>Product Description</th>\n",
       "      <th>Product Discount</th>\n",
       "    </tr>\n",
       "  </thead>\n",
       "  <tbody>\n",
       "    <tr>\n",
       "      <th>0</th>\n",
       "      <td>VINCENT CHASE</td>\n",
       "      <td>₹949</td>\n",
       "      <td>Polarized, UV Protection Round Sunglasses (50)</td>\n",
       "      <td>52% off</td>\n",
       "    </tr>\n",
       "    <tr>\n",
       "      <th>1</th>\n",
       "      <td>VINCENT CHASE</td>\n",
       "      <td>₹999</td>\n",
       "      <td>by Lenskart Polarized, UV Protection Round Sun...</td>\n",
       "      <td>50% off</td>\n",
       "    </tr>\n",
       "    <tr>\n",
       "      <th>2</th>\n",
       "      <td>Fastrack</td>\n",
       "      <td>₹639</td>\n",
       "      <td>UV Protection Rectangular Sunglasses (Free Size)</td>\n",
       "      <td>20% off</td>\n",
       "    </tr>\n",
       "    <tr>\n",
       "      <th>3</th>\n",
       "      <td>Elligator</td>\n",
       "      <td>₹315</td>\n",
       "      <td>UV Protection Round Sunglasses (54)</td>\n",
       "      <td>87% off</td>\n",
       "    </tr>\n",
       "    <tr>\n",
       "      <th>4</th>\n",
       "      <td>SRPM</td>\n",
       "      <td>₹224</td>\n",
       "      <td>UV Protection Wayfarer Sunglasses (50)</td>\n",
       "      <td>82% off</td>\n",
       "    </tr>\n",
       "  </tbody>\n",
       "</table>\n",
       "</div>"
      ],
      "text/plain": [
       "      Brand Name Product Price  \\\n",
       "0  VINCENT CHASE          ₹949   \n",
       "1  VINCENT CHASE          ₹999   \n",
       "2       Fastrack          ₹639   \n",
       "3      Elligator          ₹315   \n",
       "4           SRPM          ₹224   \n",
       "\n",
       "                                 Product Description Product Discount  \n",
       "0     Polarized, UV Protection Round Sunglasses (50)          52% off  \n",
       "1  by Lenskart Polarized, UV Protection Round Sun...          50% off  \n",
       "2   UV Protection Rectangular Sunglasses (Free Size)          20% off  \n",
       "3                UV Protection Round Sunglasses (54)          87% off  \n",
       "4             UV Protection Wayfarer Sunglasses (50)          82% off  "
      ]
     },
     "execution_count": 104,
     "metadata": {},
     "output_type": "execute_result"
    }
   ],
   "source": [
    "# Data Frame of first 40 Sunglasses.\n",
    "sun1=pd.DataFrame()\n",
    "sun1['Brand Name']=brand\n",
    "sun1['Product Price']= Price\n",
    "sun1['Product Description']= Description\n",
    "sun1['Product Discount']=discount\n",
    "sun1.head()"
   ]
  },
  {
   "cell_type": "code",
   "execution_count": 105,
   "id": "dbe01f85",
   "metadata": {},
   "outputs": [
    {
     "data": {
      "text/plain": [
       "<selenium.webdriver.remote.webelement.WebElement (session=\"bf07342f6ac1520e61244fe66b5a503f\", element=\"421daee3-bdbc-41cf-840a-017ed2ee3347\")>"
      ]
     },
     "execution_count": 105,
     "metadata": {},
     "output_type": "execute_result"
    }
   ],
   "source": [
    "# Shifting to the 2nd page to scrape the data.\n",
    "next_page=driver.find_element(\"xpath\",'/html/body/div/div/div[3]/div[1]/div[2]/div[12]/div/div/nav/a[2]')\n",
    "next_page"
   ]
  },
  {
   "cell_type": "code",
   "execution_count": 106,
   "id": "14812527",
   "metadata": {},
   "outputs": [],
   "source": [
    "next_page.click()"
   ]
  },
  {
   "cell_type": "code",
   "execution_count": 123,
   "id": "18845b4b",
   "metadata": {},
   "outputs": [
    {
     "data": {
      "text/plain": [
       "40"
      ]
     },
     "execution_count": 123,
     "metadata": {},
     "output_type": "execute_result"
    }
   ],
   "source": [
    "next_Brand=driver.find_elements(\"xpath\",'//div[@class=\"_2WkVRV\"]')\n",
    "len(next_Brand)"
   ]
  },
  {
   "cell_type": "code",
   "execution_count": 124,
   "id": "fc4879bc",
   "metadata": {},
   "outputs": [
    {
     "data": {
      "text/plain": [
       "40"
      ]
     },
     "execution_count": 124,
     "metadata": {},
     "output_type": "execute_result"
    }
   ],
   "source": [
    "Brands=[]\n",
    "for i in next_Brand:\n",
    "    Brands.append(i.text)\n",
    "len(Brands)    "
   ]
  },
  {
   "cell_type": "code",
   "execution_count": 125,
   "id": "dc60d33c",
   "metadata": {},
   "outputs": [
    {
     "data": {
      "text/plain": [
       "['kingsunglasses',\n",
       " 'Fastrack',\n",
       " 'Lee Topper',\n",
       " 'VINCENT CHASE',\n",
       " 'New Specs',\n",
       " 'kingsunglasses',\n",
       " 'Mi',\n",
       " 'ROZZETTA CRAFT',\n",
       " 'LIZA ANGEL',\n",
       " 'DEIXELS',\n",
       " 'Mi',\n",
       " 'VINCENT CHASE',\n",
       " 'ROYAL SON',\n",
       " 'PIRASO',\n",
       " 'SRPM',\n",
       " 'VINCENT CHASE',\n",
       " 'Silver Kartz',\n",
       " 'LIZA ANGEL',\n",
       " 'kingsunglasses',\n",
       " 'VINCENT CHASE',\n",
       " 'kingsunglasses',\n",
       " 'ROZZETTA CRAFT',\n",
       " 'kingsunglasses',\n",
       " 'ROZZETTA CRAFT',\n",
       " 'Fastrack',\n",
       " 'Rich Club',\n",
       " 'ROZZETTA CRAFT',\n",
       " 'VINCENT CHASE',\n",
       " 'Fastrack',\n",
       " 'Mi',\n",
       " 'Fastrack',\n",
       " 'NuVew',\n",
       " 'New Specs',\n",
       " 'VINCENT CHASE',\n",
       " 'ROYAL SON',\n",
       " 'ROYAL SON',\n",
       " 'Fastrack',\n",
       " 'Fastrack',\n",
       " 'ROYAL SON',\n",
       " 'VINCENT CHASE']"
      ]
     },
     "execution_count": 125,
     "metadata": {},
     "output_type": "execute_result"
    }
   ],
   "source": [
    "Brands"
   ]
  },
  {
   "cell_type": "code",
   "execution_count": 126,
   "id": "776e259d",
   "metadata": {},
   "outputs": [
    {
     "data": {
      "text/plain": [
       "40"
      ]
     },
     "execution_count": 126,
     "metadata": {},
     "output_type": "execute_result"
    }
   ],
   "source": [
    "prices=driver.find_elements(\"xpath\",'//div[@class=\"_30jeq3\"]')\n",
    "len(prices)"
   ]
  },
  {
   "cell_type": "code",
   "execution_count": 127,
   "id": "fdb051ef",
   "metadata": {},
   "outputs": [
    {
     "data": {
      "text/plain": [
       "40"
      ]
     },
     "execution_count": 127,
     "metadata": {},
     "output_type": "execute_result"
    }
   ],
   "source": [
    "glass=[]\n",
    "for i in prices:\n",
    "    glass.append(i.text)\n",
    "len(glass)    "
   ]
  },
  {
   "cell_type": "code",
   "execution_count": 128,
   "id": "e6894cd1",
   "metadata": {},
   "outputs": [
    {
     "data": {
      "text/plain": [
       "['₹289',\n",
       " '₹719',\n",
       " '₹255',\n",
       " '₹949',\n",
       " '₹189',\n",
       " '₹329',\n",
       " '₹799',\n",
       " '₹399',\n",
       " '₹189',\n",
       " '₹249',\n",
       " '₹839',\n",
       " '₹949',\n",
       " '₹379',\n",
       " '₹246',\n",
       " '₹249',\n",
       " '₹949',\n",
       " '₹288',\n",
       " '₹199',\n",
       " '₹269',\n",
       " '₹999',\n",
       " '₹214',\n",
       " '₹499',\n",
       " '₹269',\n",
       " '₹449',\n",
       " '₹721',\n",
       " '₹225',\n",
       " '₹399',\n",
       " '₹649',\n",
       " '₹1,169',\n",
       " '₹899',\n",
       " '₹759',\n",
       " '₹385',\n",
       " '₹214',\n",
       " '₹749',\n",
       " '₹217',\n",
       " '₹664',\n",
       " '₹639',\n",
       " '₹899',\n",
       " '₹699',\n",
       " '₹749']"
      ]
     },
     "execution_count": 128,
     "metadata": {},
     "output_type": "execute_result"
    }
   ],
   "source": [
    "glass"
   ]
  },
  {
   "cell_type": "code",
   "execution_count": 132,
   "id": "868863ec",
   "metadata": {},
   "outputs": [
    {
     "data": {
      "text/plain": [
       "40"
      ]
     },
     "execution_count": 132,
     "metadata": {},
     "output_type": "execute_result"
    }
   ],
   "source": [
    "describes=driver.find_elements(\"xpath\",'//a[@class=\"IRpwTa\"]')\n",
    "len(describes)"
   ]
  },
  {
   "cell_type": "code",
   "execution_count": 133,
   "id": "c4fd9b31",
   "metadata": {},
   "outputs": [
    {
     "data": {
      "text/plain": [
       "40"
      ]
     },
     "execution_count": 133,
     "metadata": {},
     "output_type": "execute_result"
    }
   ],
   "source": [
    "styles=[]\n",
    "for i in describes:\n",
    "    styles.append(i.text)\n",
    "len(styles)    "
   ]
  },
  {
   "cell_type": "code",
   "execution_count": 134,
   "id": "8d18f1a6",
   "metadata": {},
   "outputs": [
    {
     "data": {
      "text/plain": [
       "['Mirrored, UV Protection Wayfarer, Rectangular Sunglasse...',\n",
       " 'UV Protection Shield Sunglasses (Free Size)',\n",
       " 'UV Protection Round Sunglasses (Free Size)',\n",
       " 'by Lenskart Polarized, UV Protection Cat-eye Sunglasses...',\n",
       " 'UV Protection Rectangular Sunglasses (Free Size)',\n",
       " 'UV Protection Round Sunglasses (Free Size)',\n",
       " 'Polarized Wayfarer Sunglasses (Free Size)',\n",
       " 'UV Protection, Gradient Rectangular Sunglasses (Free Si...',\n",
       " 'Riding Glasses, Night Vision Spectacle Sunglasses (Fre...',\n",
       " 'UV Protection Aviator Sunglasses (Free Size)',\n",
       " 'Polarized Aviator Sunglasses (Free Size)',\n",
       " 'by Lenskart Polarized, UV Protection Cat-eye Sunglasses...',\n",
       " 'Mirrored Aviator Sunglasses (Free Size)',\n",
       " 'UV Protection Aviator Sunglasses (54)',\n",
       " 'UV Protection Wayfarer Sunglasses (53)',\n",
       " 'Polarized, UV Protection Round Sunglasses (50)',\n",
       " 'UV Protection Wayfarer Sunglasses (Free Size)',\n",
       " 'UV Protection, Night Vision, Riding Glasses Round Sungl...',\n",
       " 'UV Protection, Mirrored Aviator Sunglasses (Free Size)',\n",
       " 'by Lenskart Polarized, UV Protection Round Sunglasses (...',\n",
       " 'UV Protection Round Sunglasses (54)',\n",
       " 'UV Protection Retro Square Sunglasses (Free Size)',\n",
       " 'Mirrored, UV Protection Wayfarer Sunglasses (Free Size)',\n",
       " 'UV Protection, Riding Glasses Rectangular Sunglasses (F...',\n",
       " 'UV Protection Wayfarer Sunglasses (55)',\n",
       " 'Polarized Round Sunglasses (48)',\n",
       " 'UV Protection, Gradient Round Sunglasses (Free Size)',\n",
       " 'UV Protection Rectangular Sunglasses (50)',\n",
       " 'UV Protection Round Sunglasses (52)',\n",
       " 'Polarized Aviator Sunglasses (Free Size)',\n",
       " 'UV Protection Wayfarer Sunglasses (Free Size)',\n",
       " 'UV Protection Cat-eye Sunglasses (60)',\n",
       " 'UV Protection Aviator Sunglasses (Free Size)',\n",
       " 'by Lenskart Polarized, UV Protection Rectangular Sungla...',\n",
       " 'UV Protection, Gradient Wayfarer Sunglasses (55)',\n",
       " 'Polarized Retro Square Sunglasses (61)',\n",
       " 'UV Protection Wayfarer Sunglasses (Free Size)',\n",
       " 'UV Protection Wayfarer Sunglasses (Free Size)',\n",
       " 'UV Protection, Gradient Butterfly Sunglasses (62)',\n",
       " 'by Lenskart Polarized, UV Protection Wayfarer Sunglasse...']"
      ]
     },
     "execution_count": 134,
     "metadata": {},
     "output_type": "execute_result"
    }
   ],
   "source": [
    "styles"
   ]
  },
  {
   "cell_type": "code",
   "execution_count": 129,
   "id": "86c3461f",
   "metadata": {},
   "outputs": [
    {
     "data": {
      "text/plain": [
       "40"
      ]
     },
     "execution_count": 129,
     "metadata": {},
     "output_type": "execute_result"
    }
   ],
   "source": [
    "deduce= driver.find_elements(\"xpath\",'//div[@class=\"_3Ay6Sb\"]')\n",
    "len(deduce)"
   ]
  },
  {
   "cell_type": "code",
   "execution_count": 130,
   "id": "8ddaacc1",
   "metadata": {},
   "outputs": [
    {
     "data": {
      "text/plain": [
       "40"
      ]
     },
     "execution_count": 130,
     "metadata": {},
     "output_type": "execute_result"
    }
   ],
   "source": [
    "deduction=[]\n",
    "for i in deduce:\n",
    "    deduction.append(i.text)\n",
    "len(deduction)    "
   ]
  },
  {
   "cell_type": "code",
   "execution_count": 131,
   "id": "9f6172c7",
   "metadata": {},
   "outputs": [
    {
     "data": {
      "text/plain": [
       "['85% off',\n",
       " '20% off',\n",
       " '74% off',\n",
       " '52% off',\n",
       " '88% off',\n",
       " '79% off',\n",
       " '20% off',\n",
       " '80% off',\n",
       " '81% off',\n",
       " '79% off',\n",
       " '30% off',\n",
       " '52% off',\n",
       " '74% off',\n",
       " '84% off',\n",
       " '75% off',\n",
       " '52% off',\n",
       " '80% off',\n",
       " '75% off',\n",
       " '85% off',\n",
       " '50% off',\n",
       " '78% off',\n",
       " '77% off',\n",
       " '82% off',\n",
       " '79% off',\n",
       " '9% off',\n",
       " '54% off',\n",
       " '80% off',\n",
       " '67% off',\n",
       " '10% off',\n",
       " '25% off',\n",
       " '15% off',\n",
       " '73% off',\n",
       " '86% off',\n",
       " '62% off',\n",
       " '78% off',\n",
       " '55% off',\n",
       " '20% off',\n",
       " '10% off',\n",
       " '65% off',\n",
       " '70% off']"
      ]
     },
     "execution_count": 131,
     "metadata": {},
     "output_type": "execute_result"
    }
   ],
   "source": [
    "deduction"
   ]
  },
  {
   "cell_type": "code",
   "execution_count": 167,
   "id": "a13a64d3",
   "metadata": {},
   "outputs": [
    {
     "data": {
      "text/html": [
       "<div>\n",
       "<style scoped>\n",
       "    .dataframe tbody tr th:only-of-type {\n",
       "        vertical-align: middle;\n",
       "    }\n",
       "\n",
       "    .dataframe tbody tr th {\n",
       "        vertical-align: top;\n",
       "    }\n",
       "\n",
       "    .dataframe thead th {\n",
       "        text-align: right;\n",
       "    }\n",
       "</style>\n",
       "<table border=\"1\" class=\"dataframe\">\n",
       "  <thead>\n",
       "    <tr style=\"text-align: right;\">\n",
       "      <th></th>\n",
       "      <th>Brand Name</th>\n",
       "      <th>Product Price</th>\n",
       "      <th>Product Description</th>\n",
       "      <th>Product Discount</th>\n",
       "    </tr>\n",
       "  </thead>\n",
       "  <tbody>\n",
       "    <tr>\n",
       "      <th>0</th>\n",
       "      <td>kingsunglasses</td>\n",
       "      <td>₹289</td>\n",
       "      <td>Mirrored, UV Protection Wayfarer, Rectangular ...</td>\n",
       "      <td>85% off</td>\n",
       "    </tr>\n",
       "    <tr>\n",
       "      <th>1</th>\n",
       "      <td>Fastrack</td>\n",
       "      <td>₹719</td>\n",
       "      <td>UV Protection Shield Sunglasses (Free Size)</td>\n",
       "      <td>20% off</td>\n",
       "    </tr>\n",
       "    <tr>\n",
       "      <th>2</th>\n",
       "      <td>Lee Topper</td>\n",
       "      <td>₹255</td>\n",
       "      <td>UV Protection Round Sunglasses (Free Size)</td>\n",
       "      <td>74% off</td>\n",
       "    </tr>\n",
       "    <tr>\n",
       "      <th>3</th>\n",
       "      <td>VINCENT CHASE</td>\n",
       "      <td>₹949</td>\n",
       "      <td>by Lenskart Polarized, UV Protection Cat-eye S...</td>\n",
       "      <td>52% off</td>\n",
       "    </tr>\n",
       "    <tr>\n",
       "      <th>4</th>\n",
       "      <td>New Specs</td>\n",
       "      <td>₹189</td>\n",
       "      <td>UV Protection Rectangular Sunglasses (Free Size)</td>\n",
       "      <td>88% off</td>\n",
       "    </tr>\n",
       "    <tr>\n",
       "      <th>5</th>\n",
       "      <td>kingsunglasses</td>\n",
       "      <td>₹329</td>\n",
       "      <td>UV Protection Round Sunglasses (Free Size)</td>\n",
       "      <td>79% off</td>\n",
       "    </tr>\n",
       "    <tr>\n",
       "      <th>6</th>\n",
       "      <td>Mi</td>\n",
       "      <td>₹799</td>\n",
       "      <td>Polarized Wayfarer Sunglasses (Free Size)</td>\n",
       "      <td>20% off</td>\n",
       "    </tr>\n",
       "    <tr>\n",
       "      <th>7</th>\n",
       "      <td>ROZZETTA CRAFT</td>\n",
       "      <td>₹399</td>\n",
       "      <td>UV Protection, Gradient Rectangular Sunglasses...</td>\n",
       "      <td>80% off</td>\n",
       "    </tr>\n",
       "    <tr>\n",
       "      <th>8</th>\n",
       "      <td>LIZA ANGEL</td>\n",
       "      <td>₹189</td>\n",
       "      <td>Riding Glasses, Night Vision Spectacle Sunglas...</td>\n",
       "      <td>81% off</td>\n",
       "    </tr>\n",
       "    <tr>\n",
       "      <th>9</th>\n",
       "      <td>DEIXELS</td>\n",
       "      <td>₹249</td>\n",
       "      <td>UV Protection Aviator Sunglasses (Free Size)</td>\n",
       "      <td>79% off</td>\n",
       "    </tr>\n",
       "    <tr>\n",
       "      <th>10</th>\n",
       "      <td>Mi</td>\n",
       "      <td>₹839</td>\n",
       "      <td>Polarized Aviator Sunglasses (Free Size)</td>\n",
       "      <td>30% off</td>\n",
       "    </tr>\n",
       "    <tr>\n",
       "      <th>11</th>\n",
       "      <td>VINCENT CHASE</td>\n",
       "      <td>₹949</td>\n",
       "      <td>by Lenskart Polarized, UV Protection Cat-eye S...</td>\n",
       "      <td>52% off</td>\n",
       "    </tr>\n",
       "    <tr>\n",
       "      <th>12</th>\n",
       "      <td>ROYAL SON</td>\n",
       "      <td>₹379</td>\n",
       "      <td>Mirrored Aviator Sunglasses (Free Size)</td>\n",
       "      <td>74% off</td>\n",
       "    </tr>\n",
       "    <tr>\n",
       "      <th>13</th>\n",
       "      <td>PIRASO</td>\n",
       "      <td>₹246</td>\n",
       "      <td>UV Protection Aviator Sunglasses (54)</td>\n",
       "      <td>84% off</td>\n",
       "    </tr>\n",
       "    <tr>\n",
       "      <th>14</th>\n",
       "      <td>SRPM</td>\n",
       "      <td>₹249</td>\n",
       "      <td>UV Protection Wayfarer Sunglasses (53)</td>\n",
       "      <td>75% off</td>\n",
       "    </tr>\n",
       "  </tbody>\n",
       "</table>\n",
       "</div>"
      ],
      "text/plain": [
       "        Brand Name Product Price  \\\n",
       "0   kingsunglasses          ₹289   \n",
       "1         Fastrack          ₹719   \n",
       "2       Lee Topper          ₹255   \n",
       "3    VINCENT CHASE          ₹949   \n",
       "4        New Specs          ₹189   \n",
       "5   kingsunglasses          ₹329   \n",
       "6               Mi          ₹799   \n",
       "7   ROZZETTA CRAFT          ₹399   \n",
       "8       LIZA ANGEL          ₹189   \n",
       "9          DEIXELS          ₹249   \n",
       "10              Mi          ₹839   \n",
       "11   VINCENT CHASE          ₹949   \n",
       "12       ROYAL SON          ₹379   \n",
       "13          PIRASO          ₹246   \n",
       "14            SRPM          ₹249   \n",
       "\n",
       "                                  Product Description Product Discount  \n",
       "0   Mirrored, UV Protection Wayfarer, Rectangular ...          85% off  \n",
       "1         UV Protection Shield Sunglasses (Free Size)          20% off  \n",
       "2          UV Protection Round Sunglasses (Free Size)          74% off  \n",
       "3   by Lenskart Polarized, UV Protection Cat-eye S...          52% off  \n",
       "4    UV Protection Rectangular Sunglasses (Free Size)          88% off  \n",
       "5          UV Protection Round Sunglasses (Free Size)          79% off  \n",
       "6           Polarized Wayfarer Sunglasses (Free Size)          20% off  \n",
       "7   UV Protection, Gradient Rectangular Sunglasses...          80% off  \n",
       "8   Riding Glasses, Night Vision Spectacle Sunglas...          81% off  \n",
       "9        UV Protection Aviator Sunglasses (Free Size)          79% off  \n",
       "10           Polarized Aviator Sunglasses (Free Size)          30% off  \n",
       "11  by Lenskart Polarized, UV Protection Cat-eye S...          52% off  \n",
       "12            Mirrored Aviator Sunglasses (Free Size)          74% off  \n",
       "13              UV Protection Aviator Sunglasses (54)          84% off  \n",
       "14             UV Protection Wayfarer Sunglasses (53)          75% off  "
      ]
     },
     "execution_count": 167,
     "metadata": {},
     "output_type": "execute_result"
    }
   ],
   "source": [
    "# Data Frame for next 40 Sunglasses.\n",
    "sun2=pd.DataFrame()\n",
    "sun2['Brand Name']=Brands\n",
    "sun2['Product Price']= glass\n",
    "sun2['Product Description']=styles \n",
    "sun2['Product Discount']=deduction\n",
    "sun2.head(15)"
   ]
  },
  {
   "cell_type": "code",
   "execution_count": 137,
   "id": "816db270",
   "metadata": {},
   "outputs": [
    {
     "data": {
      "text/plain": [
       "<selenium.webdriver.remote.webelement.WebElement (session=\"bf07342f6ac1520e61244fe66b5a503f\", element=\"4aaa4c99-2b2d-4f5d-83ab-2121597b0bc9\")>"
      ]
     },
     "execution_count": 137,
     "metadata": {},
     "output_type": "execute_result"
    }
   ],
   "source": [
    "# Shifting to the 3rd page for reamaining 40 sunglasses.\n",
    "search_cursor=driver.find_element(\"xpath\",'/html/body/div/div/div[3]/div[1]/div[2]/div[12]/div/div/nav/a[4]')\n",
    "search_cursor"
   ]
  },
  {
   "cell_type": "code",
   "execution_count": 138,
   "id": "70cf9fae",
   "metadata": {},
   "outputs": [],
   "source": [
    "search_cursor.click()"
   ]
  },
  {
   "cell_type": "code",
   "execution_count": 139,
   "id": "efdda2ba",
   "metadata": {},
   "outputs": [
    {
     "data": {
      "text/plain": [
       "40"
      ]
     },
     "execution_count": 139,
     "metadata": {},
     "output_type": "execute_result"
    }
   ],
   "source": [
    "make=driver.find_elements(\"xpath\",'//div[@class=\"_2WkVRV\"]')\n",
    "len(make)"
   ]
  },
  {
   "cell_type": "code",
   "execution_count": 140,
   "id": "b7235290",
   "metadata": {},
   "outputs": [
    {
     "data": {
      "text/plain": [
       "40"
      ]
     },
     "execution_count": 140,
     "metadata": {},
     "output_type": "execute_result"
    }
   ],
   "source": [
    "maker=[]\n",
    "for i in make:\n",
    "    maker.append(i.text)\n",
    "len(maker)   "
   ]
  },
  {
   "cell_type": "code",
   "execution_count": 141,
   "id": "0d181c30",
   "metadata": {},
   "outputs": [
    {
     "data": {
      "text/plain": [
       "['LIZA ANGEL',\n",
       " 'Singco India',\n",
       " 'VINCENT CHASE',\n",
       " 'VINCENT CHASE',\n",
       " 'Fastrack',\n",
       " 'Elligator',\n",
       " 'Singco India',\n",
       " 'ROZZETTA CRAFT',\n",
       " 'ROZZETTA CRAFT',\n",
       " 'SHAAH COLLECTIONS',\n",
       " 'Ray-Ban',\n",
       " 'VINCENT CHASE',\n",
       " 'ROYAL SON',\n",
       " 'Singco India',\n",
       " 'VINCENT CHASE',\n",
       " 'VINCENT CHASE',\n",
       " 'Elligator',\n",
       " 'Fastrack',\n",
       " 'CRYSTAL CART',\n",
       " 'VINCENT CHASE',\n",
       " 'Urbanic',\n",
       " 'WROGN',\n",
       " 'Rich Club',\n",
       " 'VINCENT CHASE',\n",
       " 'PIRASO',\n",
       " 'VINCENT CHASE',\n",
       " 'Fastrack',\n",
       " 'VINCENT CHASE',\n",
       " 'kingsunglasses',\n",
       " 'GANSTA',\n",
       " 'Fastrack',\n",
       " 'ROZZETTA CRAFT',\n",
       " 'PHENOMENAL',\n",
       " 'Fastrack',\n",
       " 'VINCENT CHASE',\n",
       " 'ROYAL SON',\n",
       " 'PIRASO',\n",
       " 'HAMIW COLLECTION',\n",
       " 'DEIXELS',\n",
       " 'ROYAL SON']"
      ]
     },
     "execution_count": 141,
     "metadata": {},
     "output_type": "execute_result"
    }
   ],
   "source": [
    "maker"
   ]
  },
  {
   "cell_type": "code",
   "execution_count": 142,
   "id": "4bb12a2a",
   "metadata": {},
   "outputs": [
    {
     "data": {
      "text/plain": [
       "40"
      ]
     },
     "execution_count": 142,
     "metadata": {},
     "output_type": "execute_result"
    }
   ],
   "source": [
    "outline=driver.find_elements(\"xpath\",'//a[@class=\"IRpwTa\"]')\n",
    "len(outline)"
   ]
  },
  {
   "cell_type": "code",
   "execution_count": 143,
   "id": "ae5d9243",
   "metadata": {},
   "outputs": [
    {
     "data": {
      "text/plain": [
       "40"
      ]
     },
     "execution_count": 143,
     "metadata": {},
     "output_type": "execute_result"
    }
   ],
   "source": [
    "outlines=[]\n",
    "for i in outline:\n",
    "    outlines.append(i.text)\n",
    "len(outlines)    "
   ]
  },
  {
   "cell_type": "code",
   "execution_count": 144,
   "id": "bbe85638",
   "metadata": {},
   "outputs": [
    {
     "data": {
      "text/plain": [
       "['UV Protection, Riding Glasses, Night Vision Spectacle ...',\n",
       " 'Gradient, Toughened Glass Lens, UV Protection Retro Squ...',\n",
       " 'by Lenskart Polarized, UV Protection Rectangular Sungla...',\n",
       " 'by Lenskart Polarized, UV Protection Cat-eye Sunglasses...',\n",
       " 'UV Protection Round Sunglasses (55)',\n",
       " 'UV Protection, Riding Glasses Rectangular, Retro Square...',\n",
       " 'Gradient, Toughened Glass Lens, UV Protection Retro Squ...',\n",
       " 'UV Protection, Gradient Round Sunglasses (Free Size)',\n",
       " 'UV Protection, Gradient Rectangular Sunglasses (Free Si...',\n",
       " 'UV Protection Round Sunglasses (Free Size)',\n",
       " 'Mirrored, UV Protection Aviator Sunglasses (58)',\n",
       " 'by Lenskart Polarized, UV Protection Cat-eye Sunglasses...',\n",
       " 'Polarized Rectangular Sunglasses (60)',\n",
       " 'Riding Glasses, UV Protection, Others Aviator Sunglasse...',\n",
       " 'by Lenskart Polarized, UV Protection Aviator Sunglasses...',\n",
       " 'by Lenskart Polarized, UV Protection Cat-eye Sunglasses...',\n",
       " 'UV Protection Retro Square, Round Sunglasses (54)',\n",
       " 'Polarized Retro Square Sunglasses (Free Size)',\n",
       " 'UV Protection, Gradient Round Sunglasses (Free Size)',\n",
       " 'Polarized, UV Protection Round Sunglasses (50)',\n",
       " 'Others Oval Sunglasses (Free Size)',\n",
       " 'Polarized Round Sunglasses (44)',\n",
       " 'Polarized Round Sunglasses (48)',\n",
       " 'by Lenskart Polarized, UV Protection Round Sunglasses (...',\n",
       " 'UV Protection Aviator Sunglasses (58)',\n",
       " 'by Lenskart Polarized, UV Protection Rectangular Sungla...',\n",
       " 'UV Protection Aviator Sunglasses (Free Size)',\n",
       " 'UV Protection Rectangular Sunglasses (50)',\n",
       " 'UV Protection, Mirrored Round Sunglasses (Free Size)',\n",
       " 'UV Protection, Gradient Aviator Sunglasses (57)',\n",
       " 'UV Protection Wayfarer Sunglasses (55)',\n",
       " 'UV Protection, Riding Glasses Rectangular Sunglasses (F...',\n",
       " 'UV Protection Retro Square Sunglasses (Free Size)',\n",
       " 'Gradient, UV Protection Wayfarer Sunglasses (Free Size)',\n",
       " 'Polarized, UV Protection Round Sunglasses (50)',\n",
       " 'Polarized Retro Square Sunglasses (61)',\n",
       " 'UV Protection Butterfly Sunglasses (60)',\n",
       " 'UV Protection Wayfarer, Sports, Shield, Rectangular, Re...',\n",
       " 'UV Protection Wayfarer Sunglasses (Free Size)',\n",
       " 'Polarized, UV Protection Retro Square Sunglasses (62)']"
      ]
     },
     "execution_count": 144,
     "metadata": {},
     "output_type": "execute_result"
    }
   ],
   "source": [
    "outlines"
   ]
  },
  {
   "cell_type": "code",
   "execution_count": 145,
   "id": "adfc12f4",
   "metadata": {},
   "outputs": [
    {
     "data": {
      "text/plain": [
       "40"
      ]
     },
     "execution_count": 145,
     "metadata": {},
     "output_type": "execute_result"
    }
   ],
   "source": [
    "rate=driver.find_elements(\"xpath\",'//div[@class=\"_30jeq3\"]')\n",
    "len(rate)"
   ]
  },
  {
   "cell_type": "code",
   "execution_count": 146,
   "id": "1b30e7e3",
   "metadata": {},
   "outputs": [
    {
     "data": {
      "text/plain": [
       "40"
      ]
     },
     "execution_count": 146,
     "metadata": {},
     "output_type": "execute_result"
    }
   ],
   "source": [
    "Rates=[]\n",
    "for i in rate:\n",
    "    Rates.append(i.text)\n",
    "len(Rates)    "
   ]
  },
  {
   "cell_type": "code",
   "execution_count": 147,
   "id": "b89616af",
   "metadata": {},
   "outputs": [
    {
     "data": {
      "text/plain": [
       "['₹189',\n",
       " '₹598',\n",
       " '₹749',\n",
       " '₹949',\n",
       " '₹949',\n",
       " '₹379',\n",
       " '₹664',\n",
       " '₹399',\n",
       " '₹449',\n",
       " '₹324',\n",
       " '₹3,909',\n",
       " '₹799',\n",
       " '₹664',\n",
       " '₹232',\n",
       " '₹949',\n",
       " '₹949',\n",
       " '₹329',\n",
       " '₹639',\n",
       " '₹429',\n",
       " '₹949',\n",
       " '₹499',\n",
       " '₹599',\n",
       " '₹225',\n",
       " '₹999',\n",
       " '₹345',\n",
       " '₹849',\n",
       " '₹669',\n",
       " '₹649',\n",
       " '₹265',\n",
       " '₹242',\n",
       " '₹759',\n",
       " '₹449',\n",
       " '₹369',\n",
       " '₹679',\n",
       " '₹849',\n",
       " '₹664',\n",
       " '₹405',\n",
       " '₹219',\n",
       " '₹249',\n",
       " '₹854']"
      ]
     },
     "execution_count": 147,
     "metadata": {},
     "output_type": "execute_result"
    }
   ],
   "source": [
    "Rates"
   ]
  },
  {
   "cell_type": "code",
   "execution_count": 148,
   "id": "6cb3d67e",
   "metadata": {},
   "outputs": [
    {
     "data": {
      "text/plain": [
       "40"
      ]
     },
     "execution_count": 148,
     "metadata": {},
     "output_type": "execute_result"
    }
   ],
   "source": [
    "slash=driver.find_elements(\"xpath\",'//div[@class=\"_3Ay6Sb\"]')\n",
    "len(slash)"
   ]
  },
  {
   "cell_type": "code",
   "execution_count": 149,
   "id": "62d7fa7b",
   "metadata": {},
   "outputs": [
    {
     "data": {
      "text/plain": [
       "40"
      ]
     },
     "execution_count": 149,
     "metadata": {},
     "output_type": "execute_result"
    }
   ],
   "source": [
    "reduction=[]\n",
    "for i in slash:\n",
    "    reduction.append(i.text)\n",
    "len(reduction)    "
   ]
  },
  {
   "cell_type": "code",
   "execution_count": 150,
   "id": "0acfe5f5",
   "metadata": {},
   "outputs": [
    {
     "data": {
      "text/plain": [
       "['62% off',\n",
       " '80% off',\n",
       " '62% off',\n",
       " '52% off',\n",
       " '5% off',\n",
       " '74% off',\n",
       " '79% off',\n",
       " '80% off',\n",
       " '77% off',\n",
       " '80% off',\n",
       " '30% off',\n",
       " '60% off',\n",
       " '66% off',\n",
       " '84% off',\n",
       " '52% off',\n",
       " '52% off',\n",
       " '83% off',\n",
       " '20% off',\n",
       " '78% off',\n",
       " '52% off',\n",
       " '49% off',\n",
       " '82% off',\n",
       " '54% off',\n",
       " '50% off',\n",
       " '86% off',\n",
       " '57% off',\n",
       " '25% off',\n",
       " '67% off',\n",
       " '84% off',\n",
       " '81% off',\n",
       " '15% off',\n",
       " '79% off',\n",
       " '81% off',\n",
       " '15% off',\n",
       " '57% off',\n",
       " '55% off',\n",
       " '84% off',\n",
       " '89% off',\n",
       " '50% off',\n",
       " '57% off']"
      ]
     },
     "execution_count": 150,
     "metadata": {},
     "output_type": "execute_result"
    }
   ],
   "source": [
    "reduction"
   ]
  },
  {
   "cell_type": "code",
   "execution_count": 151,
   "id": "5edf35ee",
   "metadata": {},
   "outputs": [
    {
     "data": {
      "text/html": [
       "<div>\n",
       "<style scoped>\n",
       "    .dataframe tbody tr th:only-of-type {\n",
       "        vertical-align: middle;\n",
       "    }\n",
       "\n",
       "    .dataframe tbody tr th {\n",
       "        vertical-align: top;\n",
       "    }\n",
       "\n",
       "    .dataframe thead th {\n",
       "        text-align: right;\n",
       "    }\n",
       "</style>\n",
       "<table border=\"1\" class=\"dataframe\">\n",
       "  <thead>\n",
       "    <tr style=\"text-align: right;\">\n",
       "      <th></th>\n",
       "      <th>Brand Name</th>\n",
       "      <th>Product Price</th>\n",
       "      <th>Product Description</th>\n",
       "      <th>Product Discount</th>\n",
       "    </tr>\n",
       "  </thead>\n",
       "  <tbody>\n",
       "    <tr>\n",
       "      <th>0</th>\n",
       "      <td>LIZA ANGEL</td>\n",
       "      <td>₹189</td>\n",
       "      <td>&lt;selenium.webdriver.remote.webelement.WebEleme...</td>\n",
       "      <td>62% off</td>\n",
       "    </tr>\n",
       "    <tr>\n",
       "      <th>1</th>\n",
       "      <td>Singco India</td>\n",
       "      <td>₹598</td>\n",
       "      <td>&lt;selenium.webdriver.remote.webelement.WebEleme...</td>\n",
       "      <td>80% off</td>\n",
       "    </tr>\n",
       "    <tr>\n",
       "      <th>2</th>\n",
       "      <td>VINCENT CHASE</td>\n",
       "      <td>₹749</td>\n",
       "      <td>&lt;selenium.webdriver.remote.webelement.WebEleme...</td>\n",
       "      <td>62% off</td>\n",
       "    </tr>\n",
       "    <tr>\n",
       "      <th>3</th>\n",
       "      <td>VINCENT CHASE</td>\n",
       "      <td>₹949</td>\n",
       "      <td>&lt;selenium.webdriver.remote.webelement.WebEleme...</td>\n",
       "      <td>52% off</td>\n",
       "    </tr>\n",
       "    <tr>\n",
       "      <th>4</th>\n",
       "      <td>Fastrack</td>\n",
       "      <td>₹949</td>\n",
       "      <td>&lt;selenium.webdriver.remote.webelement.WebEleme...</td>\n",
       "      <td>5% off</td>\n",
       "    </tr>\n",
       "  </tbody>\n",
       "</table>\n",
       "</div>"
      ],
      "text/plain": [
       "      Brand Name Product Price  \\\n",
       "0     LIZA ANGEL          ₹189   \n",
       "1   Singco India          ₹598   \n",
       "2  VINCENT CHASE          ₹749   \n",
       "3  VINCENT CHASE          ₹949   \n",
       "4       Fastrack          ₹949   \n",
       "\n",
       "                                 Product Description Product Discount  \n",
       "0  <selenium.webdriver.remote.webelement.WebEleme...          62% off  \n",
       "1  <selenium.webdriver.remote.webelement.WebEleme...          80% off  \n",
       "2  <selenium.webdriver.remote.webelement.WebEleme...          62% off  \n",
       "3  <selenium.webdriver.remote.webelement.WebEleme...          52% off  \n",
       "4  <selenium.webdriver.remote.webelement.WebEleme...           5% off  "
      ]
     },
     "execution_count": 151,
     "metadata": {},
     "output_type": "execute_result"
    }
   ],
   "source": [
    "# Data Frame for 3rd page's sunglasses.\n",
    "sun3=pd.DataFrame()\n",
    "sun3['Brand Name']=maker\n",
    "sun3['Product Price']= Rates\n",
    "sun3['Product Description']=outline \n",
    "sun3['Product Discount']=reduction\n",
    "sun3.head()"
   ]
  },
  {
   "cell_type": "code",
   "execution_count": 166,
   "id": "dfe9ae24",
   "metadata": {},
   "outputs": [
    {
     "data": {
      "text/html": [
       "<div>\n",
       "<style scoped>\n",
       "    .dataframe tbody tr th:only-of-type {\n",
       "        vertical-align: middle;\n",
       "    }\n",
       "\n",
       "    .dataframe tbody tr th {\n",
       "        vertical-align: top;\n",
       "    }\n",
       "\n",
       "    .dataframe thead th {\n",
       "        text-align: right;\n",
       "    }\n",
       "</style>\n",
       "<table border=\"1\" class=\"dataframe\">\n",
       "  <thead>\n",
       "    <tr style=\"text-align: right;\">\n",
       "      <th></th>\n",
       "      <th>Brand Name</th>\n",
       "      <th>Product Price</th>\n",
       "      <th>Product Description</th>\n",
       "      <th>Product Discount</th>\n",
       "    </tr>\n",
       "  </thead>\n",
       "  <tbody>\n",
       "    <tr>\n",
       "      <th>0</th>\n",
       "      <td>VINCENT CHASE</td>\n",
       "      <td>₹949</td>\n",
       "      <td>Polarized, UV Protection Round Sunglasses (50)</td>\n",
       "      <td>52% off</td>\n",
       "    </tr>\n",
       "    <tr>\n",
       "      <th>1</th>\n",
       "      <td>VINCENT CHASE</td>\n",
       "      <td>₹999</td>\n",
       "      <td>by Lenskart Polarized, UV Protection Round Sun...</td>\n",
       "      <td>50% off</td>\n",
       "    </tr>\n",
       "    <tr>\n",
       "      <th>2</th>\n",
       "      <td>Fastrack</td>\n",
       "      <td>₹639</td>\n",
       "      <td>UV Protection Rectangular Sunglasses (Free Size)</td>\n",
       "      <td>20% off</td>\n",
       "    </tr>\n",
       "    <tr>\n",
       "      <th>3</th>\n",
       "      <td>Elligator</td>\n",
       "      <td>₹315</td>\n",
       "      <td>UV Protection Round Sunglasses (54)</td>\n",
       "      <td>87% off</td>\n",
       "    </tr>\n",
       "    <tr>\n",
       "      <th>4</th>\n",
       "      <td>SRPM</td>\n",
       "      <td>₹224</td>\n",
       "      <td>UV Protection Wayfarer Sunglasses (50)</td>\n",
       "      <td>82% off</td>\n",
       "    </tr>\n",
       "    <tr>\n",
       "      <th>...</th>\n",
       "      <td>...</td>\n",
       "      <td>...</td>\n",
       "      <td>...</td>\n",
       "      <td>...</td>\n",
       "    </tr>\n",
       "    <tr>\n",
       "      <th>15</th>\n",
       "      <td>VINCENT CHASE</td>\n",
       "      <td>₹949</td>\n",
       "      <td>&lt;selenium.webdriver.remote.webelement.WebEleme...</td>\n",
       "      <td>52% off</td>\n",
       "    </tr>\n",
       "    <tr>\n",
       "      <th>16</th>\n",
       "      <td>Elligator</td>\n",
       "      <td>₹329</td>\n",
       "      <td>&lt;selenium.webdriver.remote.webelement.WebEleme...</td>\n",
       "      <td>83% off</td>\n",
       "    </tr>\n",
       "    <tr>\n",
       "      <th>17</th>\n",
       "      <td>Fastrack</td>\n",
       "      <td>₹639</td>\n",
       "      <td>&lt;selenium.webdriver.remote.webelement.WebEleme...</td>\n",
       "      <td>20% off</td>\n",
       "    </tr>\n",
       "    <tr>\n",
       "      <th>18</th>\n",
       "      <td>CRYSTAL CART</td>\n",
       "      <td>₹429</td>\n",
       "      <td>&lt;selenium.webdriver.remote.webelement.WebEleme...</td>\n",
       "      <td>78% off</td>\n",
       "    </tr>\n",
       "    <tr>\n",
       "      <th>19</th>\n",
       "      <td>VINCENT CHASE</td>\n",
       "      <td>₹949</td>\n",
       "      <td>&lt;selenium.webdriver.remote.webelement.WebEleme...</td>\n",
       "      <td>52% off</td>\n",
       "    </tr>\n",
       "  </tbody>\n",
       "</table>\n",
       "<p>100 rows × 4 columns</p>\n",
       "</div>"
      ],
      "text/plain": [
       "       Brand Name Product Price  \\\n",
       "0   VINCENT CHASE          ₹949   \n",
       "1   VINCENT CHASE          ₹999   \n",
       "2        Fastrack          ₹639   \n",
       "3       Elligator          ₹315   \n",
       "4            SRPM          ₹224   \n",
       "..            ...           ...   \n",
       "15  VINCENT CHASE          ₹949   \n",
       "16      Elligator          ₹329   \n",
       "17       Fastrack          ₹639   \n",
       "18   CRYSTAL CART          ₹429   \n",
       "19  VINCENT CHASE          ₹949   \n",
       "\n",
       "                                  Product Description Product Discount  \n",
       "0      Polarized, UV Protection Round Sunglasses (50)          52% off  \n",
       "1   by Lenskart Polarized, UV Protection Round Sun...          50% off  \n",
       "2    UV Protection Rectangular Sunglasses (Free Size)          20% off  \n",
       "3                 UV Protection Round Sunglasses (54)          87% off  \n",
       "4              UV Protection Wayfarer Sunglasses (50)          82% off  \n",
       "..                                                ...              ...  \n",
       "15  <selenium.webdriver.remote.webelement.WebEleme...          52% off  \n",
       "16  <selenium.webdriver.remote.webelement.WebEleme...          83% off  \n",
       "17  <selenium.webdriver.remote.webelement.WebEleme...          20% off  \n",
       "18  <selenium.webdriver.remote.webelement.WebEleme...          78% off  \n",
       "19  <selenium.webdriver.remote.webelement.WebEleme...          52% off  \n",
       "\n",
       "[100 rows x 4 columns]"
      ]
     },
     "execution_count": 166,
     "metadata": {},
     "output_type": "execute_result"
    }
   ],
   "source": [
    "# Combining all the three Data Frames.\n",
    "Sunglass=pd.concat([sun1,sun2,sun3])\n",
    "Sunglass.head(100)"
   ]
  },
  {
   "cell_type": "code",
   "execution_count": 14,
   "id": "511ca002",
   "metadata": {},
   "outputs": [],
   "source": [
    "#Q6: Scrape 100 reviews data from flipkart.com for sneakers.\n",
    "\n",
    "url=' https://www.flipkart.com/'\n",
    "driver.get(url)"
   ]
  },
  {
   "cell_type": "code",
   "execution_count": 15,
   "id": "43f3dd6e",
   "metadata": {},
   "outputs": [
    {
     "data": {
      "text/plain": [
       "<selenium.webdriver.remote.webelement.WebElement (session=\"e9b9198e49deecc7a984dd67c1df449c\", element=\"29100953-7ca3-4db4-aec1-63b928d8e11d\")>"
      ]
     },
     "execution_count": 15,
     "metadata": {},
     "output_type": "execute_result"
    }
   ],
   "source": [
    "# Scrapping the Search Bar.\n",
    "search_tool=driver.find_element(\"xpath\",'/html/body/div[1]/div/div[1]/div[1]/div[2]/div[2]/form/div/div/input')\n",
    "search_tool"
   ]
  },
  {
   "cell_type": "code",
   "execution_count": 16,
   "id": "1f2734ff",
   "metadata": {},
   "outputs": [],
   "source": [
    "search_tool.send_keys('sneaker')"
   ]
  },
  {
   "cell_type": "code",
   "execution_count": 17,
   "id": "01365cf3",
   "metadata": {},
   "outputs": [
    {
     "data": {
      "text/plain": [
       "<selenium.webdriver.remote.webelement.WebElement (session=\"e9b9198e49deecc7a984dd67c1df449c\", element=\"6c92269a-de82-4a3d-a245-cc8de919ecc0\")>"
      ]
     },
     "execution_count": 17,
     "metadata": {},
     "output_type": "execute_result"
    }
   ],
   "source": [
    "# Scrapping search button.\n",
    "command=driver.find_element(\"xpath\",'/html/body/div[1]/div/div[1]/div[1]/div[2]/div[2]/form/div/button')\n",
    "command"
   ]
  },
  {
   "cell_type": "code",
   "execution_count": 18,
   "id": "5dd96e09",
   "metadata": {},
   "outputs": [],
   "source": [
    "command.click()"
   ]
  },
  {
   "cell_type": "code",
   "execution_count": 19,
   "id": "c0f459b6",
   "metadata": {},
   "outputs": [
    {
     "data": {
      "text/plain": [
       "40"
      ]
     },
     "execution_count": 19,
     "metadata": {},
     "output_type": "execute_result"
    }
   ],
   "source": [
    "# scraped Brand attribute of 1st page.\n",
    "brand_tags= driver.find_elements(\"xpath\",'//div[@class=\"_2WkVRV\"]')\n",
    "len(brand_tags)"
   ]
  },
  {
   "cell_type": "code",
   "execution_count": 20,
   "id": "14ca015a",
   "metadata": {},
   "outputs": [
    {
     "data": {
      "text/plain": [
       "40"
      ]
     },
     "execution_count": 20,
     "metadata": {},
     "output_type": "execute_result"
    }
   ],
   "source": [
    "brands=[]\n",
    "for i in brand_tags:\n",
    "    brands.append(i.text)\n",
    "len(brands)    "
   ]
  },
  {
   "cell_type": "code",
   "execution_count": 21,
   "id": "39a16a8b",
   "metadata": {},
   "outputs": [
    {
     "data": {
      "text/plain": [
       "['Anugrahappradha',\n",
       " 'aadi',\n",
       " 'PUMA',\n",
       " 'BRUTON',\n",
       " 'URBANBOX',\n",
       " 'Magnolia',\n",
       " 'PUMA',\n",
       " 'CEPTREE',\n",
       " 'BIRDE',\n",
       " 'SFR',\n",
       " 'Labbin',\n",
       " 'ASTEROID',\n",
       " 'HOTSTYLE',\n",
       " 'aadi',\n",
       " 'BIRDE',\n",
       " 'Viv',\n",
       " 'BRUTON',\n",
       " 'PUMA',\n",
       " 'CLYMB',\n",
       " 'RED CHIEF',\n",
       " 'D-SNEAKERZ',\n",
       " 'BIRDE',\n",
       " 'Kraasa',\n",
       " 'aadi',\n",
       " 'corsac',\n",
       " 'KWIK FIT',\n",
       " 'ASTEROID',\n",
       " 'PUMA',\n",
       " 'BIRDE',\n",
       " 'Magnolia',\n",
       " 'Kraasa',\n",
       " 'Ktiz',\n",
       " 'KNIGHT WALKERS',\n",
       " 'SCATCHITE',\n",
       " 'BRUTON',\n",
       " 'DR right',\n",
       " 'ONECENTRE',\n",
       " 'Shoes Bank',\n",
       " 'BRUTON',\n",
       " 'GODIGO']"
      ]
     },
     "execution_count": 21,
     "metadata": {},
     "output_type": "execute_result"
    }
   ],
   "source": [
    "brands"
   ]
  },
  {
   "cell_type": "code",
   "execution_count": 25,
   "id": "b3252c73",
   "metadata": {},
   "outputs": [
    {
     "data": {
      "text/plain": [
       "40"
      ]
     },
     "execution_count": 25,
     "metadata": {},
     "output_type": "execute_result"
    }
   ],
   "source": [
    "# scraped prices.\n",
    "prices=driver.find_elements(\"xpath\",'//div[@class=\"_30jeq3\"]')\n",
    "len(prices)"
   ]
  },
  {
   "cell_type": "code",
   "execution_count": 26,
   "id": "83b0174a",
   "metadata": {},
   "outputs": [
    {
     "data": {
      "text/plain": [
       "40"
      ]
     },
     "execution_count": 26,
     "metadata": {},
     "output_type": "execute_result"
    }
   ],
   "source": [
    "costly=[]\n",
    "for i in prices:\n",
    "    costly.append(i.text)\n",
    "len(costly)    "
   ]
  },
  {
   "cell_type": "code",
   "execution_count": 27,
   "id": "d413dca1",
   "metadata": {},
   "outputs": [
    {
     "data": {
      "text/plain": [
       "['₹699',\n",
       " '₹399',\n",
       " '₹2,029',\n",
       " '₹269',\n",
       " '₹198',\n",
       " '₹449',\n",
       " '₹2,204',\n",
       " '₹499',\n",
       " '₹249',\n",
       " '₹289',\n",
       " '₹499',\n",
       " '₹549',\n",
       " '₹258',\n",
       " '₹319',\n",
       " '₹299',\n",
       " '₹699',\n",
       " '₹299',\n",
       " '₹2,036',\n",
       " '₹616',\n",
       " '₹2,199',\n",
       " '₹299',\n",
       " '₹335',\n",
       " '₹479',\n",
       " '₹479',\n",
       " '₹499',\n",
       " '₹397',\n",
       " '₹499',\n",
       " '₹2,204',\n",
       " '₹299',\n",
       " '₹449',\n",
       " '₹479',\n",
       " '₹499',\n",
       " '₹699',\n",
       " '₹398',\n",
       " '₹199',\n",
       " '₹449',\n",
       " '₹299',\n",
       " '₹298',\n",
       " '₹269',\n",
       " '₹799']"
      ]
     },
     "execution_count": 27,
     "metadata": {},
     "output_type": "execute_result"
    }
   ],
   "source": [
    "costly"
   ]
  },
  {
   "cell_type": "code",
   "execution_count": 29,
   "id": "e5a9ea55",
   "metadata": {},
   "outputs": [
    {
     "data": {
      "text/plain": [
       "40"
      ]
     },
     "execution_count": 29,
     "metadata": {},
     "output_type": "execute_result"
    }
   ],
   "source": [
    "#Scraped Discount tag.\n",
    "dist_tag=driver.find_elements(\"xpath\",'//div[@class=\"_3Ay6Sb\"]')\n",
    "len(dist_tag)"
   ]
  },
  {
   "cell_type": "code",
   "execution_count": 30,
   "id": "dd91b999",
   "metadata": {},
   "outputs": [
    {
     "data": {
      "text/plain": [
       "40"
      ]
     },
     "execution_count": 30,
     "metadata": {},
     "output_type": "execute_result"
    }
   ],
   "source": [
    "offer=[]\n",
    "for i in dist_tag:\n",
    "    offer.append(i.text)\n",
    "len(offer)    "
   ]
  },
  {
   "cell_type": "code",
   "execution_count": 31,
   "id": "7ee1ca28",
   "metadata": {},
   "outputs": [
    {
     "data": {
      "text/plain": [
       "['76% off',\n",
       " '80% off',\n",
       " '42% off',\n",
       " '79% off',\n",
       " '80% off',\n",
       " '55% off',\n",
       " '37% off',\n",
       " '77% off',\n",
       " '75% off',\n",
       " '71% off',\n",
       " '50% off',\n",
       " '72% off',\n",
       " '74% off',\n",
       " '68% off',\n",
       " '70% off',\n",
       " '46% off',\n",
       " '76% off',\n",
       " '41% off',\n",
       " '58% off',\n",
       " '50% off',\n",
       " '54% off',\n",
       " '66% off',\n",
       " '52% off',\n",
       " '76% off',\n",
       " '66% off',\n",
       " '80% off',\n",
       " '75% off',\n",
       " '37% off',\n",
       " '70% off',\n",
       " '55% off',\n",
       " '52% off',\n",
       " '50% off',\n",
       " '65% off',\n",
       " '60% off',\n",
       " '66% off',\n",
       " '55% off',\n",
       " '50% off',\n",
       " '70% off',\n",
       " '79% off',\n",
       " '20% off']"
      ]
     },
     "execution_count": 31,
     "metadata": {},
     "output_type": "execute_result"
    }
   ],
   "source": [
    "offer"
   ]
  },
  {
   "cell_type": "code",
   "execution_count": 34,
   "id": "70e3f377",
   "metadata": {},
   "outputs": [
    {
     "data": {
      "text/html": [
       "<div>\n",
       "<style scoped>\n",
       "    .dataframe tbody tr th:only-of-type {\n",
       "        vertical-align: middle;\n",
       "    }\n",
       "\n",
       "    .dataframe tbody tr th {\n",
       "        vertical-align: top;\n",
       "    }\n",
       "\n",
       "    .dataframe thead th {\n",
       "        text-align: right;\n",
       "    }\n",
       "</style>\n",
       "<table border=\"1\" class=\"dataframe\">\n",
       "  <thead>\n",
       "    <tr style=\"text-align: right;\">\n",
       "      <th></th>\n",
       "      <th>Brand Name</th>\n",
       "      <th>Product Price</th>\n",
       "      <th>Product Discount</th>\n",
       "    </tr>\n",
       "  </thead>\n",
       "  <tbody>\n",
       "    <tr>\n",
       "      <th>0</th>\n",
       "      <td>Anugrahappradha</td>\n",
       "      <td>₹699</td>\n",
       "      <td>76% off</td>\n",
       "    </tr>\n",
       "    <tr>\n",
       "      <th>1</th>\n",
       "      <td>aadi</td>\n",
       "      <td>₹399</td>\n",
       "      <td>80% off</td>\n",
       "    </tr>\n",
       "    <tr>\n",
       "      <th>2</th>\n",
       "      <td>PUMA</td>\n",
       "      <td>₹2,029</td>\n",
       "      <td>42% off</td>\n",
       "    </tr>\n",
       "    <tr>\n",
       "      <th>3</th>\n",
       "      <td>BRUTON</td>\n",
       "      <td>₹269</td>\n",
       "      <td>79% off</td>\n",
       "    </tr>\n",
       "    <tr>\n",
       "      <th>4</th>\n",
       "      <td>URBANBOX</td>\n",
       "      <td>₹198</td>\n",
       "      <td>80% off</td>\n",
       "    </tr>\n",
       "    <tr>\n",
       "      <th>5</th>\n",
       "      <td>Magnolia</td>\n",
       "      <td>₹449</td>\n",
       "      <td>55% off</td>\n",
       "    </tr>\n",
       "    <tr>\n",
       "      <th>6</th>\n",
       "      <td>PUMA</td>\n",
       "      <td>₹2,204</td>\n",
       "      <td>37% off</td>\n",
       "    </tr>\n",
       "    <tr>\n",
       "      <th>7</th>\n",
       "      <td>CEPTREE</td>\n",
       "      <td>₹499</td>\n",
       "      <td>77% off</td>\n",
       "    </tr>\n",
       "    <tr>\n",
       "      <th>8</th>\n",
       "      <td>BIRDE</td>\n",
       "      <td>₹249</td>\n",
       "      <td>75% off</td>\n",
       "    </tr>\n",
       "    <tr>\n",
       "      <th>9</th>\n",
       "      <td>SFR</td>\n",
       "      <td>₹289</td>\n",
       "      <td>71% off</td>\n",
       "    </tr>\n",
       "    <tr>\n",
       "      <th>10</th>\n",
       "      <td>Labbin</td>\n",
       "      <td>₹499</td>\n",
       "      <td>50% off</td>\n",
       "    </tr>\n",
       "    <tr>\n",
       "      <th>11</th>\n",
       "      <td>ASTEROID</td>\n",
       "      <td>₹549</td>\n",
       "      <td>72% off</td>\n",
       "    </tr>\n",
       "    <tr>\n",
       "      <th>12</th>\n",
       "      <td>HOTSTYLE</td>\n",
       "      <td>₹258</td>\n",
       "      <td>74% off</td>\n",
       "    </tr>\n",
       "    <tr>\n",
       "      <th>13</th>\n",
       "      <td>aadi</td>\n",
       "      <td>₹319</td>\n",
       "      <td>68% off</td>\n",
       "    </tr>\n",
       "    <tr>\n",
       "      <th>14</th>\n",
       "      <td>BIRDE</td>\n",
       "      <td>₹299</td>\n",
       "      <td>70% off</td>\n",
       "    </tr>\n",
       "    <tr>\n",
       "      <th>15</th>\n",
       "      <td>Viv</td>\n",
       "      <td>₹699</td>\n",
       "      <td>46% off</td>\n",
       "    </tr>\n",
       "    <tr>\n",
       "      <th>16</th>\n",
       "      <td>BRUTON</td>\n",
       "      <td>₹299</td>\n",
       "      <td>76% off</td>\n",
       "    </tr>\n",
       "    <tr>\n",
       "      <th>17</th>\n",
       "      <td>PUMA</td>\n",
       "      <td>₹2,036</td>\n",
       "      <td>41% off</td>\n",
       "    </tr>\n",
       "    <tr>\n",
       "      <th>18</th>\n",
       "      <td>CLYMB</td>\n",
       "      <td>₹616</td>\n",
       "      <td>58% off</td>\n",
       "    </tr>\n",
       "    <tr>\n",
       "      <th>19</th>\n",
       "      <td>RED CHIEF</td>\n",
       "      <td>₹2,199</td>\n",
       "      <td>50% off</td>\n",
       "    </tr>\n",
       "    <tr>\n",
       "      <th>20</th>\n",
       "      <td>D-SNEAKERZ</td>\n",
       "      <td>₹299</td>\n",
       "      <td>54% off</td>\n",
       "    </tr>\n",
       "    <tr>\n",
       "      <th>21</th>\n",
       "      <td>BIRDE</td>\n",
       "      <td>₹335</td>\n",
       "      <td>66% off</td>\n",
       "    </tr>\n",
       "    <tr>\n",
       "      <th>22</th>\n",
       "      <td>Kraasa</td>\n",
       "      <td>₹479</td>\n",
       "      <td>52% off</td>\n",
       "    </tr>\n",
       "    <tr>\n",
       "      <th>23</th>\n",
       "      <td>aadi</td>\n",
       "      <td>₹479</td>\n",
       "      <td>76% off</td>\n",
       "    </tr>\n",
       "    <tr>\n",
       "      <th>24</th>\n",
       "      <td>corsac</td>\n",
       "      <td>₹499</td>\n",
       "      <td>66% off</td>\n",
       "    </tr>\n",
       "    <tr>\n",
       "      <th>25</th>\n",
       "      <td>KWIK FIT</td>\n",
       "      <td>₹397</td>\n",
       "      <td>80% off</td>\n",
       "    </tr>\n",
       "    <tr>\n",
       "      <th>26</th>\n",
       "      <td>ASTEROID</td>\n",
       "      <td>₹499</td>\n",
       "      <td>75% off</td>\n",
       "    </tr>\n",
       "    <tr>\n",
       "      <th>27</th>\n",
       "      <td>PUMA</td>\n",
       "      <td>₹2,204</td>\n",
       "      <td>37% off</td>\n",
       "    </tr>\n",
       "    <tr>\n",
       "      <th>28</th>\n",
       "      <td>BIRDE</td>\n",
       "      <td>₹299</td>\n",
       "      <td>70% off</td>\n",
       "    </tr>\n",
       "    <tr>\n",
       "      <th>29</th>\n",
       "      <td>Magnolia</td>\n",
       "      <td>₹449</td>\n",
       "      <td>55% off</td>\n",
       "    </tr>\n",
       "    <tr>\n",
       "      <th>30</th>\n",
       "      <td>Kraasa</td>\n",
       "      <td>₹479</td>\n",
       "      <td>52% off</td>\n",
       "    </tr>\n",
       "    <tr>\n",
       "      <th>31</th>\n",
       "      <td>Ktiz</td>\n",
       "      <td>₹499</td>\n",
       "      <td>50% off</td>\n",
       "    </tr>\n",
       "    <tr>\n",
       "      <th>32</th>\n",
       "      <td>KNIGHT WALKERS</td>\n",
       "      <td>₹699</td>\n",
       "      <td>65% off</td>\n",
       "    </tr>\n",
       "    <tr>\n",
       "      <th>33</th>\n",
       "      <td>SCATCHITE</td>\n",
       "      <td>₹398</td>\n",
       "      <td>60% off</td>\n",
       "    </tr>\n",
       "    <tr>\n",
       "      <th>34</th>\n",
       "      <td>BRUTON</td>\n",
       "      <td>₹199</td>\n",
       "      <td>66% off</td>\n",
       "    </tr>\n",
       "    <tr>\n",
       "      <th>35</th>\n",
       "      <td>DR right</td>\n",
       "      <td>₹449</td>\n",
       "      <td>55% off</td>\n",
       "    </tr>\n",
       "    <tr>\n",
       "      <th>36</th>\n",
       "      <td>ONECENTRE</td>\n",
       "      <td>₹299</td>\n",
       "      <td>50% off</td>\n",
       "    </tr>\n",
       "    <tr>\n",
       "      <th>37</th>\n",
       "      <td>Shoes Bank</td>\n",
       "      <td>₹298</td>\n",
       "      <td>70% off</td>\n",
       "    </tr>\n",
       "    <tr>\n",
       "      <th>38</th>\n",
       "      <td>BRUTON</td>\n",
       "      <td>₹269</td>\n",
       "      <td>79% off</td>\n",
       "    </tr>\n",
       "    <tr>\n",
       "      <th>39</th>\n",
       "      <td>GODIGO</td>\n",
       "      <td>₹799</td>\n",
       "      <td>20% off</td>\n",
       "    </tr>\n",
       "  </tbody>\n",
       "</table>\n",
       "</div>"
      ],
      "text/plain": [
       "         Brand Name Product Price Product Discount\n",
       "0   Anugrahappradha          ₹699          76% off\n",
       "1              aadi          ₹399          80% off\n",
       "2              PUMA        ₹2,029          42% off\n",
       "3            BRUTON          ₹269          79% off\n",
       "4          URBANBOX          ₹198          80% off\n",
       "5          Magnolia          ₹449          55% off\n",
       "6              PUMA        ₹2,204          37% off\n",
       "7           CEPTREE          ₹499          77% off\n",
       "8             BIRDE          ₹249          75% off\n",
       "9               SFR          ₹289          71% off\n",
       "10           Labbin          ₹499          50% off\n",
       "11         ASTEROID          ₹549          72% off\n",
       "12         HOTSTYLE          ₹258          74% off\n",
       "13             aadi          ₹319          68% off\n",
       "14            BIRDE          ₹299          70% off\n",
       "15              Viv          ₹699          46% off\n",
       "16           BRUTON          ₹299          76% off\n",
       "17             PUMA        ₹2,036          41% off\n",
       "18            CLYMB          ₹616          58% off\n",
       "19        RED CHIEF        ₹2,199          50% off\n",
       "20       D-SNEAKERZ          ₹299          54% off\n",
       "21            BIRDE          ₹335          66% off\n",
       "22           Kraasa          ₹479          52% off\n",
       "23             aadi          ₹479          76% off\n",
       "24           corsac          ₹499          66% off\n",
       "25         KWIK FIT          ₹397          80% off\n",
       "26         ASTEROID          ₹499          75% off\n",
       "27             PUMA        ₹2,204          37% off\n",
       "28            BIRDE          ₹299          70% off\n",
       "29         Magnolia          ₹449          55% off\n",
       "30           Kraasa          ₹479          52% off\n",
       "31             Ktiz          ₹499          50% off\n",
       "32   KNIGHT WALKERS          ₹699          65% off\n",
       "33        SCATCHITE          ₹398          60% off\n",
       "34           BRUTON          ₹199          66% off\n",
       "35         DR right          ₹449          55% off\n",
       "36        ONECENTRE          ₹299          50% off\n",
       "37       Shoes Bank          ₹298          70% off\n",
       "38           BRUTON          ₹269          79% off\n",
       "39           GODIGO          ₹799          20% off"
      ]
     },
     "execution_count": 34,
     "metadata": {},
     "output_type": "execute_result"
    }
   ],
   "source": [
    "# Dataframe for 1st 40 sunglasses.\n",
    "sneaker1=pd.DataFrame()\n",
    "sneaker1['Brand Name']=brands\n",
    "sneaker1['Product Price']=costly\n",
    "sneaker1['Product Discount']=offer\n",
    "sneaker1"
   ]
  },
  {
   "cell_type": "code",
   "execution_count": 32,
   "id": "4e54c7c4",
   "metadata": {},
   "outputs": [
    {
     "data": {
      "text/plain": [
       "<selenium.webdriver.remote.webelement.WebElement (session=\"e9b9198e49deecc7a984dd67c1df449c\", element=\"a946a973-2f6d-4b6f-ae92-56b36d957b8c\")>"
      ]
     },
     "execution_count": 32,
     "metadata": {},
     "output_type": "execute_result"
    }
   ],
   "source": [
    "#Scrapping the 2nd page\n",
    "command1=driver.find_element(\"xpath\",'/html/body/div[1]/div/div[3]/div[1]/div[2]/div[12]/div/div/nav/a[2]')\n",
    "command1"
   ]
  },
  {
   "cell_type": "code",
   "execution_count": 33,
   "id": "474184a5",
   "metadata": {},
   "outputs": [],
   "source": [
    "command1.click()"
   ]
  },
  {
   "cell_type": "code",
   "execution_count": 35,
   "id": "3161832e",
   "metadata": {},
   "outputs": [
    {
     "data": {
      "text/plain": [
       "40"
      ]
     },
     "execution_count": 35,
     "metadata": {},
     "output_type": "execute_result"
    }
   ],
   "source": [
    "# Scrapping the 2nd page's 40 sunglasses brands.\n",
    "branded= driver.find_elements(\"xpath\",'//div[@class=\"_2WkVRV\"]')\n",
    "len(branded)"
   ]
  },
  {
   "cell_type": "code",
   "execution_count": 36,
   "id": "0447eae0",
   "metadata": {},
   "outputs": [
    {
     "data": {
      "text/plain": [
       "40"
      ]
     },
     "execution_count": 36,
     "metadata": {},
     "output_type": "execute_result"
    }
   ],
   "source": [
    "costly_brands=[]\n",
    "for i in branded:\n",
    "    costly_brands.append(i.text)\n",
    "len(costly_brands)    "
   ]
  },
  {
   "cell_type": "code",
   "execution_count": 37,
   "id": "36aa6209",
   "metadata": {},
   "outputs": [
    {
     "data": {
      "text/plain": [
       "['aadi',\n",
       " 'PUMA',\n",
       " 'Robbie jones',\n",
       " 'aadi',\n",
       " 'Rzisbo',\n",
       " 'PUMA',\n",
       " 'WHITE WALKERS',\n",
       " 'Anugrahappradha',\n",
       " 'Numenzo',\n",
       " 'PUMA',\n",
       " 'Airland',\n",
       " 'CEPTREE',\n",
       " 'Kzaara',\n",
       " 'Noztile',\n",
       " 'AMICO',\n",
       " 'ASTEROID',\n",
       " 'LE GREEM',\n",
       " 'Dizzler',\n",
       " 'PUMA',\n",
       " 'Viv',\n",
       " 'PEXLO',\n",
       " 'BRUTON',\n",
       " 'PUMA',\n",
       " 'Ktiz',\n",
       " 'luxury fashion',\n",
       " 'Numenzo',\n",
       " 'Layasa',\n",
       " 'DR right',\n",
       " 'BRUTON',\n",
       " 'Chevit',\n",
       " 'PEXLO',\n",
       " 'RED CHIEF',\n",
       " 'BIRDE',\n",
       " 'SPARX',\n",
       " 'luxury fashion',\n",
       " 'aadi',\n",
       " 'India hub',\n",
       " 'KNIGHT WALKERS',\n",
       " 'ASTEROID',\n",
       " 'PUMA']"
      ]
     },
     "execution_count": 37,
     "metadata": {},
     "output_type": "execute_result"
    }
   ],
   "source": [
    "costly_brands"
   ]
  },
  {
   "cell_type": "code",
   "execution_count": 38,
   "id": "fcc08e06",
   "metadata": {},
   "outputs": [
    {
     "data": {
      "text/plain": [
       "40"
      ]
     },
     "execution_count": 38,
     "metadata": {},
     "output_type": "execute_result"
    }
   ],
   "source": [
    "# Scrapping the next 40 Prices.\n",
    "rate_tag=driver.find_elements(\"xpath\",'//div[@class=\"_30jeq3\"]')\n",
    "len(rate_tag)"
   ]
  },
  {
   "cell_type": "code",
   "execution_count": 39,
   "id": "3694cf4b",
   "metadata": {},
   "outputs": [
    {
     "data": {
      "text/plain": [
       "40"
      ]
     },
     "execution_count": 39,
     "metadata": {},
     "output_type": "execute_result"
    }
   ],
   "source": [
    "rates=[]\n",
    "for i in rate_tag:\n",
    "    rates.append(i.text)\n",
    "len(rates)    "
   ]
  },
  {
   "cell_type": "code",
   "execution_count": 40,
   "id": "d106e321",
   "metadata": {},
   "outputs": [
    {
     "data": {
      "text/plain": [
       "['₹299',\n",
       " '₹1,889',\n",
       " '₹499',\n",
       " '₹399',\n",
       " '₹464',\n",
       " '₹1,889',\n",
       " '₹599',\n",
       " '₹699',\n",
       " '₹450',\n",
       " '₹1,714',\n",
       " '₹210',\n",
       " '₹499',\n",
       " '₹259',\n",
       " '₹399',\n",
       " '₹549',\n",
       " '₹549',\n",
       " '₹499',\n",
       " '₹460',\n",
       " '₹1,550',\n",
       " '₹699',\n",
       " '₹707',\n",
       " '₹269',\n",
       " '₹1,763',\n",
       " '₹499',\n",
       " '₹474',\n",
       " '₹539',\n",
       " '₹499',\n",
       " '₹449',\n",
       " '₹499',\n",
       " '₹649',\n",
       " '₹592',\n",
       " '₹2,199',\n",
       " '₹335',\n",
       " '₹715',\n",
       " '₹399',\n",
       " '₹479',\n",
       " '₹399',\n",
       " '₹699',\n",
       " '₹499',\n",
       " '₹2,204']"
      ]
     },
     "execution_count": 40,
     "metadata": {},
     "output_type": "execute_result"
    }
   ],
   "source": [
    "rates"
   ]
  },
  {
   "cell_type": "code",
   "execution_count": 41,
   "id": "5a845cc3",
   "metadata": {},
   "outputs": [
    {
     "data": {
      "text/plain": [
       "40"
      ]
     },
     "execution_count": 41,
     "metadata": {},
     "output_type": "execute_result"
    }
   ],
   "source": [
    "# Scrapping the next 40 discounts.\n",
    "premium=driver.find_elements(\"xpath\",'//div[@class=\"_3Ay6Sb\"]')\n",
    "len(premium)"
   ]
  },
  {
   "cell_type": "code",
   "execution_count": 44,
   "id": "e95f4c7f",
   "metadata": {},
   "outputs": [
    {
     "data": {
      "text/plain": [
       "40"
      ]
     },
     "execution_count": 44,
     "metadata": {},
     "output_type": "execute_result"
    }
   ],
   "source": [
    "Premiums=[]\n",
    "for i in premium:\n",
    "    Premiums.append(i.text)\n",
    "len(Premiums)    "
   ]
  },
  {
   "cell_type": "code",
   "execution_count": 45,
   "id": "fb4dddf1",
   "metadata": {},
   "outputs": [
    {
     "data": {
      "text/plain": [
       "['70% off',\n",
       " '37% off',\n",
       " '50% off',\n",
       " '80% off',\n",
       " '53% off',\n",
       " '37% off',\n",
       " '50% off',\n",
       " '76% off',\n",
       " '77% off',\n",
       " '51% off',\n",
       " '57% off',\n",
       " '77% off',\n",
       " '74% off',\n",
       " '80% off',\n",
       " '45% off',\n",
       " '72% off',\n",
       " '50% off',\n",
       " '36% off',\n",
       " '53% off',\n",
       " '46% off',\n",
       " '52% off',\n",
       " '79% off',\n",
       " '49% off',\n",
       " '50% off',\n",
       " '76% off',\n",
       " '82% off',\n",
       " '50% off',\n",
       " '55% off',\n",
       " '80% off',\n",
       " '65% off',\n",
       " '75% off',\n",
       " '50% off',\n",
       " '66% off',\n",
       " '15% off',\n",
       " '69% off',\n",
       " '76% off',\n",
       " '80% off',\n",
       " '65% off',\n",
       " '50% off',\n",
       " '37% off']"
      ]
     },
     "execution_count": 45,
     "metadata": {},
     "output_type": "execute_result"
    }
   ],
   "source": [
    "Premiums"
   ]
  },
  {
   "cell_type": "code",
   "execution_count": 46,
   "id": "4b7fc528",
   "metadata": {},
   "outputs": [
    {
     "data": {
      "text/html": [
       "<div>\n",
       "<style scoped>\n",
       "    .dataframe tbody tr th:only-of-type {\n",
       "        vertical-align: middle;\n",
       "    }\n",
       "\n",
       "    .dataframe tbody tr th {\n",
       "        vertical-align: top;\n",
       "    }\n",
       "\n",
       "    .dataframe thead th {\n",
       "        text-align: right;\n",
       "    }\n",
       "</style>\n",
       "<table border=\"1\" class=\"dataframe\">\n",
       "  <thead>\n",
       "    <tr style=\"text-align: right;\">\n",
       "      <th></th>\n",
       "      <th>Brand Name</th>\n",
       "      <th>Product Price</th>\n",
       "      <th>Product Discount</th>\n",
       "    </tr>\n",
       "  </thead>\n",
       "  <tbody>\n",
       "    <tr>\n",
       "      <th>0</th>\n",
       "      <td>aadi</td>\n",
       "      <td>₹299</td>\n",
       "      <td>70% off</td>\n",
       "    </tr>\n",
       "    <tr>\n",
       "      <th>1</th>\n",
       "      <td>PUMA</td>\n",
       "      <td>₹1,889</td>\n",
       "      <td>37% off</td>\n",
       "    </tr>\n",
       "    <tr>\n",
       "      <th>2</th>\n",
       "      <td>Robbie jones</td>\n",
       "      <td>₹499</td>\n",
       "      <td>50% off</td>\n",
       "    </tr>\n",
       "    <tr>\n",
       "      <th>3</th>\n",
       "      <td>aadi</td>\n",
       "      <td>₹399</td>\n",
       "      <td>80% off</td>\n",
       "    </tr>\n",
       "    <tr>\n",
       "      <th>4</th>\n",
       "      <td>Rzisbo</td>\n",
       "      <td>₹464</td>\n",
       "      <td>53% off</td>\n",
       "    </tr>\n",
       "    <tr>\n",
       "      <th>5</th>\n",
       "      <td>PUMA</td>\n",
       "      <td>₹1,889</td>\n",
       "      <td>37% off</td>\n",
       "    </tr>\n",
       "    <tr>\n",
       "      <th>6</th>\n",
       "      <td>WHITE WALKERS</td>\n",
       "      <td>₹599</td>\n",
       "      <td>50% off</td>\n",
       "    </tr>\n",
       "    <tr>\n",
       "      <th>7</th>\n",
       "      <td>Anugrahappradha</td>\n",
       "      <td>₹699</td>\n",
       "      <td>76% off</td>\n",
       "    </tr>\n",
       "    <tr>\n",
       "      <th>8</th>\n",
       "      <td>Numenzo</td>\n",
       "      <td>₹450</td>\n",
       "      <td>77% off</td>\n",
       "    </tr>\n",
       "    <tr>\n",
       "      <th>9</th>\n",
       "      <td>PUMA</td>\n",
       "      <td>₹1,714</td>\n",
       "      <td>51% off</td>\n",
       "    </tr>\n",
       "    <tr>\n",
       "      <th>10</th>\n",
       "      <td>Airland</td>\n",
       "      <td>₹210</td>\n",
       "      <td>57% off</td>\n",
       "    </tr>\n",
       "    <tr>\n",
       "      <th>11</th>\n",
       "      <td>CEPTREE</td>\n",
       "      <td>₹499</td>\n",
       "      <td>77% off</td>\n",
       "    </tr>\n",
       "    <tr>\n",
       "      <th>12</th>\n",
       "      <td>Kzaara</td>\n",
       "      <td>₹259</td>\n",
       "      <td>74% off</td>\n",
       "    </tr>\n",
       "    <tr>\n",
       "      <th>13</th>\n",
       "      <td>Noztile</td>\n",
       "      <td>₹399</td>\n",
       "      <td>80% off</td>\n",
       "    </tr>\n",
       "    <tr>\n",
       "      <th>14</th>\n",
       "      <td>AMICO</td>\n",
       "      <td>₹549</td>\n",
       "      <td>45% off</td>\n",
       "    </tr>\n",
       "    <tr>\n",
       "      <th>15</th>\n",
       "      <td>ASTEROID</td>\n",
       "      <td>₹549</td>\n",
       "      <td>72% off</td>\n",
       "    </tr>\n",
       "    <tr>\n",
       "      <th>16</th>\n",
       "      <td>LE GREEM</td>\n",
       "      <td>₹499</td>\n",
       "      <td>50% off</td>\n",
       "    </tr>\n",
       "    <tr>\n",
       "      <th>17</th>\n",
       "      <td>Dizzler</td>\n",
       "      <td>₹460</td>\n",
       "      <td>36% off</td>\n",
       "    </tr>\n",
       "    <tr>\n",
       "      <th>18</th>\n",
       "      <td>PUMA</td>\n",
       "      <td>₹1,550</td>\n",
       "      <td>53% off</td>\n",
       "    </tr>\n",
       "    <tr>\n",
       "      <th>19</th>\n",
       "      <td>Viv</td>\n",
       "      <td>₹699</td>\n",
       "      <td>46% off</td>\n",
       "    </tr>\n",
       "    <tr>\n",
       "      <th>20</th>\n",
       "      <td>PEXLO</td>\n",
       "      <td>₹707</td>\n",
       "      <td>52% off</td>\n",
       "    </tr>\n",
       "    <tr>\n",
       "      <th>21</th>\n",
       "      <td>BRUTON</td>\n",
       "      <td>₹269</td>\n",
       "      <td>79% off</td>\n",
       "    </tr>\n",
       "    <tr>\n",
       "      <th>22</th>\n",
       "      <td>PUMA</td>\n",
       "      <td>₹1,763</td>\n",
       "      <td>49% off</td>\n",
       "    </tr>\n",
       "    <tr>\n",
       "      <th>23</th>\n",
       "      <td>Ktiz</td>\n",
       "      <td>₹499</td>\n",
       "      <td>50% off</td>\n",
       "    </tr>\n",
       "    <tr>\n",
       "      <th>24</th>\n",
       "      <td>luxury fashion</td>\n",
       "      <td>₹474</td>\n",
       "      <td>76% off</td>\n",
       "    </tr>\n",
       "    <tr>\n",
       "      <th>25</th>\n",
       "      <td>Numenzo</td>\n",
       "      <td>₹539</td>\n",
       "      <td>82% off</td>\n",
       "    </tr>\n",
       "    <tr>\n",
       "      <th>26</th>\n",
       "      <td>Layasa</td>\n",
       "      <td>₹499</td>\n",
       "      <td>50% off</td>\n",
       "    </tr>\n",
       "    <tr>\n",
       "      <th>27</th>\n",
       "      <td>DR right</td>\n",
       "      <td>₹449</td>\n",
       "      <td>55% off</td>\n",
       "    </tr>\n",
       "    <tr>\n",
       "      <th>28</th>\n",
       "      <td>BRUTON</td>\n",
       "      <td>₹499</td>\n",
       "      <td>80% off</td>\n",
       "    </tr>\n",
       "    <tr>\n",
       "      <th>29</th>\n",
       "      <td>Chevit</td>\n",
       "      <td>₹649</td>\n",
       "      <td>65% off</td>\n",
       "    </tr>\n",
       "    <tr>\n",
       "      <th>30</th>\n",
       "      <td>PEXLO</td>\n",
       "      <td>₹592</td>\n",
       "      <td>75% off</td>\n",
       "    </tr>\n",
       "    <tr>\n",
       "      <th>31</th>\n",
       "      <td>RED CHIEF</td>\n",
       "      <td>₹2,199</td>\n",
       "      <td>50% off</td>\n",
       "    </tr>\n",
       "    <tr>\n",
       "      <th>32</th>\n",
       "      <td>BIRDE</td>\n",
       "      <td>₹335</td>\n",
       "      <td>66% off</td>\n",
       "    </tr>\n",
       "    <tr>\n",
       "      <th>33</th>\n",
       "      <td>SPARX</td>\n",
       "      <td>₹715</td>\n",
       "      <td>15% off</td>\n",
       "    </tr>\n",
       "    <tr>\n",
       "      <th>34</th>\n",
       "      <td>luxury fashion</td>\n",
       "      <td>₹399</td>\n",
       "      <td>69% off</td>\n",
       "    </tr>\n",
       "    <tr>\n",
       "      <th>35</th>\n",
       "      <td>aadi</td>\n",
       "      <td>₹479</td>\n",
       "      <td>76% off</td>\n",
       "    </tr>\n",
       "    <tr>\n",
       "      <th>36</th>\n",
       "      <td>India hub</td>\n",
       "      <td>₹399</td>\n",
       "      <td>80% off</td>\n",
       "    </tr>\n",
       "    <tr>\n",
       "      <th>37</th>\n",
       "      <td>KNIGHT WALKERS</td>\n",
       "      <td>₹699</td>\n",
       "      <td>65% off</td>\n",
       "    </tr>\n",
       "    <tr>\n",
       "      <th>38</th>\n",
       "      <td>ASTEROID</td>\n",
       "      <td>₹499</td>\n",
       "      <td>50% off</td>\n",
       "    </tr>\n",
       "    <tr>\n",
       "      <th>39</th>\n",
       "      <td>PUMA</td>\n",
       "      <td>₹2,204</td>\n",
       "      <td>37% off</td>\n",
       "    </tr>\n",
       "  </tbody>\n",
       "</table>\n",
       "</div>"
      ],
      "text/plain": [
       "         Brand Name Product Price Product Discount\n",
       "0              aadi          ₹299          70% off\n",
       "1              PUMA        ₹1,889          37% off\n",
       "2      Robbie jones          ₹499          50% off\n",
       "3              aadi          ₹399          80% off\n",
       "4            Rzisbo          ₹464          53% off\n",
       "5              PUMA        ₹1,889          37% off\n",
       "6     WHITE WALKERS          ₹599          50% off\n",
       "7   Anugrahappradha          ₹699          76% off\n",
       "8           Numenzo          ₹450          77% off\n",
       "9              PUMA        ₹1,714          51% off\n",
       "10          Airland          ₹210          57% off\n",
       "11          CEPTREE          ₹499          77% off\n",
       "12           Kzaara          ₹259          74% off\n",
       "13          Noztile          ₹399          80% off\n",
       "14            AMICO          ₹549          45% off\n",
       "15         ASTEROID          ₹549          72% off\n",
       "16         LE GREEM          ₹499          50% off\n",
       "17          Dizzler          ₹460          36% off\n",
       "18             PUMA        ₹1,550          53% off\n",
       "19              Viv          ₹699          46% off\n",
       "20            PEXLO          ₹707          52% off\n",
       "21           BRUTON          ₹269          79% off\n",
       "22             PUMA        ₹1,763          49% off\n",
       "23             Ktiz          ₹499          50% off\n",
       "24   luxury fashion          ₹474          76% off\n",
       "25          Numenzo          ₹539          82% off\n",
       "26           Layasa          ₹499          50% off\n",
       "27         DR right          ₹449          55% off\n",
       "28           BRUTON          ₹499          80% off\n",
       "29           Chevit          ₹649          65% off\n",
       "30            PEXLO          ₹592          75% off\n",
       "31        RED CHIEF        ₹2,199          50% off\n",
       "32            BIRDE          ₹335          66% off\n",
       "33            SPARX          ₹715          15% off\n",
       "34   luxury fashion          ₹399          69% off\n",
       "35             aadi          ₹479          76% off\n",
       "36        India hub          ₹399          80% off\n",
       "37   KNIGHT WALKERS          ₹699          65% off\n",
       "38         ASTEROID          ₹499          50% off\n",
       "39             PUMA        ₹2,204          37% off"
      ]
     },
     "execution_count": 46,
     "metadata": {},
     "output_type": "execute_result"
    }
   ],
   "source": [
    "# Dataframe of 40 sunglasses on 2nd page.\n",
    "sneaker2=pd.DataFrame()\n",
    "sneaker2['Brand Name']=costly_brands\n",
    "sneaker2['Product Price']=rates\n",
    "sneaker2['Product Discount']=Premiums\n",
    "sneaker2"
   ]
  },
  {
   "cell_type": "code",
   "execution_count": 47,
   "id": "15fa6e60",
   "metadata": {},
   "outputs": [
    {
     "data": {
      "text/plain": [
       "<selenium.webdriver.remote.webelement.WebElement (session=\"e9b9198e49deecc7a984dd67c1df449c\", element=\"010bf1f2-a855-4dff-a104-2f74d4e0d956\")>"
      ]
     },
     "execution_count": 47,
     "metadata": {},
     "output_type": "execute_result"
    }
   ],
   "source": [
    "# Scrapping data of 3rd page.\n",
    "command2=driver.find_element(\"xpath\",'/html/body/div[1]/div/div[3]/div[1]/div[2]/div[12]/div/div/nav/a[4]')\n",
    "command2"
   ]
  },
  {
   "cell_type": "code",
   "execution_count": 48,
   "id": "1f3d510d",
   "metadata": {},
   "outputs": [],
   "source": [
    "command2.click()"
   ]
  },
  {
   "cell_type": "code",
   "execution_count": 49,
   "id": "35e80717",
   "metadata": {},
   "outputs": [
    {
     "data": {
      "text/plain": [
       "40"
      ]
     },
     "execution_count": 49,
     "metadata": {},
     "output_type": "execute_result"
    }
   ],
   "source": [
    "# Scrapping price of 40 sunglasses from 3rd page\n",
    "sell=driver.find_elements(\"xpath\",'//div[@class=\"_30jeq3\"]')\n",
    "len(sell)"
   ]
  },
  {
   "cell_type": "code",
   "execution_count": 50,
   "id": "9fc0a4a0",
   "metadata": {},
   "outputs": [
    {
     "data": {
      "text/plain": [
       "40"
      ]
     },
     "execution_count": 50,
     "metadata": {},
     "output_type": "execute_result"
    }
   ],
   "source": [
    "sells=[]\n",
    "for i in sell:\n",
    "    sells.append(i.text)\n",
    "len(sells)    "
   ]
  },
  {
   "cell_type": "code",
   "execution_count": 51,
   "id": "43711eff",
   "metadata": {},
   "outputs": [
    {
     "data": {
      "text/plain": [
       "['₹599',\n",
       " '₹699',\n",
       " '₹449',\n",
       " '₹399',\n",
       " '₹1,899',\n",
       " '₹474',\n",
       " '₹499',\n",
       " '₹699',\n",
       " '₹499',\n",
       " '₹229',\n",
       " '₹2,519',\n",
       " '₹499',\n",
       " '₹499',\n",
       " '₹499',\n",
       " '₹487',\n",
       " '₹549',\n",
       " '₹424',\n",
       " '₹499',\n",
       " '₹648',\n",
       " '₹699',\n",
       " '₹388',\n",
       " '₹599',\n",
       " '₹359',\n",
       " '₹499',\n",
       " '₹2,204',\n",
       " '₹499',\n",
       " '₹589',\n",
       " '₹449',\n",
       " '₹319',\n",
       " '₹499',\n",
       " '₹249',\n",
       " '₹2,199',\n",
       " '₹179',\n",
       " '₹244',\n",
       " '₹650',\n",
       " '₹2,204',\n",
       " '₹341',\n",
       " '₹499',\n",
       " '₹251',\n",
       " '₹495']"
      ]
     },
     "execution_count": 51,
     "metadata": {},
     "output_type": "execute_result"
    }
   ],
   "source": [
    "sells"
   ]
  },
  {
   "cell_type": "code",
   "execution_count": 53,
   "id": "a82d04d5",
   "metadata": {},
   "outputs": [
    {
     "data": {
      "text/plain": [
       "40"
      ]
     },
     "execution_count": 53,
     "metadata": {},
     "output_type": "execute_result"
    }
   ],
   "source": [
    "# Scrapping Brands of 40 sunglasses from 3rd page\n",
    "label= driver.find_elements(\"xpath\",'//div[@class=\"_2WkVRV\"]')\n",
    "len(label)"
   ]
  },
  {
   "cell_type": "code",
   "execution_count": 54,
   "id": "1e22592f",
   "metadata": {},
   "outputs": [
    {
     "data": {
      "text/plain": [
       "40"
      ]
     },
     "execution_count": 54,
     "metadata": {},
     "output_type": "execute_result"
    }
   ],
   "source": [
    "labels=[]\n",
    "for i in label:\n",
    "    labels.append(i.text)\n",
    "len(labels)    "
   ]
  },
  {
   "cell_type": "code",
   "execution_count": 55,
   "id": "ce6aa460",
   "metadata": {},
   "outputs": [
    {
     "data": {
      "text/plain": [
       "['WHITE WALKERS',\n",
       " 'KNIGHT WALKERS',\n",
       " 'BAUCHHAAR',\n",
       " 'aadi',\n",
       " 'PUMA',\n",
       " 'Edoeviv',\n",
       " \"K' Footlance\",\n",
       " 'Anugrahappradha',\n",
       " 'Robbie jones',\n",
       " 'Stinson',\n",
       " 'PUMA',\n",
       " 'CEPTREE',\n",
       " 'Layasa',\n",
       " 'corsac',\n",
       " 'Bata',\n",
       " 'ASTEROID',\n",
       " 'Magnolia',\n",
       " 'LE GREEM',\n",
       " 'KNIGHT WALKERS',\n",
       " 'Viv',\n",
       " 'Eiffel',\n",
       " 'WHITE WALKERS',\n",
       " 'Elevarse',\n",
       " 'Ktiz',\n",
       " 'PUMA',\n",
       " 'Robbie jones',\n",
       " 'Chevit',\n",
       " 'DR right',\n",
       " 'aadi',\n",
       " 'Xtoon',\n",
       " 'CLYMB',\n",
       " 'RED CHIEF',\n",
       " 'URBANBOX',\n",
       " 'Kzaara',\n",
       " 'RapidBox',\n",
       " 'PUMA',\n",
       " 'DUNKASTON',\n",
       " 'Robbie jones',\n",
       " 'Bretton',\n",
       " 'Zorth']"
      ]
     },
     "execution_count": 55,
     "metadata": {},
     "output_type": "execute_result"
    }
   ],
   "source": [
    "labels"
   ]
  },
  {
   "cell_type": "code",
   "execution_count": 56,
   "id": "bb11975d",
   "metadata": {},
   "outputs": [
    {
     "data": {
      "text/plain": [
       "40"
      ]
     },
     "execution_count": 56,
     "metadata": {},
     "output_type": "execute_result"
    }
   ],
   "source": [
    "# Scrapping discounts of 40 sunglasses from 3rd page\n",
    "price_cut=driver.find_elements(\"xpath\",'//div[@class=\"_3Ay6Sb\"]')\n",
    "len(price_cut)"
   ]
  },
  {
   "cell_type": "code",
   "execution_count": 58,
   "id": "051d1d86",
   "metadata": {},
   "outputs": [
    {
     "data": {
      "text/plain": [
       "40"
      ]
     },
     "execution_count": 58,
     "metadata": {},
     "output_type": "execute_result"
    }
   ],
   "source": [
    "Price_cut=[]\n",
    "for i in price_cut:\n",
    "    Price_cut.append(i.text)\n",
    "len(Price_cut)    "
   ]
  },
  {
   "cell_type": "code",
   "execution_count": 59,
   "id": "deeacb6d",
   "metadata": {},
   "outputs": [
    {
     "data": {
      "text/plain": [
       "['50% off',\n",
       " '65% off',\n",
       " '55% off',\n",
       " '80% off',\n",
       " '36% off',\n",
       " '40% off',\n",
       " '50% off',\n",
       " '76% off',\n",
       " '50% off',\n",
       " '54% off',\n",
       " '37% off',\n",
       " '77% off',\n",
       " '50% off',\n",
       " '66% off',\n",
       " '2% off',\n",
       " '72% off',\n",
       " '57% off',\n",
       " '50% off',\n",
       " '56% off',\n",
       " '46% off',\n",
       " '61% off',\n",
       " '50% off',\n",
       " '64% off',\n",
       " '50% off',\n",
       " '37% off',\n",
       " '50% off',\n",
       " '67% off',\n",
       " '55% off',\n",
       " '68% off',\n",
       " '50% off',\n",
       " '75% off',\n",
       " '50% off',\n",
       " '64% off',\n",
       " '75% off',\n",
       " '34% off',\n",
       " '37% off',\n",
       " '77% off',\n",
       " '50% off',\n",
       " '74% off',\n",
       " '50% off']"
      ]
     },
     "execution_count": 59,
     "metadata": {},
     "output_type": "execute_result"
    }
   ],
   "source": [
    "Price_cut"
   ]
  },
  {
   "cell_type": "code",
   "execution_count": 61,
   "id": "0fd73c00",
   "metadata": {},
   "outputs": [
    {
     "data": {
      "text/html": [
       "<div>\n",
       "<style scoped>\n",
       "    .dataframe tbody tr th:only-of-type {\n",
       "        vertical-align: middle;\n",
       "    }\n",
       "\n",
       "    .dataframe tbody tr th {\n",
       "        vertical-align: top;\n",
       "    }\n",
       "\n",
       "    .dataframe thead th {\n",
       "        text-align: right;\n",
       "    }\n",
       "</style>\n",
       "<table border=\"1\" class=\"dataframe\">\n",
       "  <thead>\n",
       "    <tr style=\"text-align: right;\">\n",
       "      <th></th>\n",
       "      <th>Brand Name</th>\n",
       "      <th>Product Price</th>\n",
       "      <th>Product Discount</th>\n",
       "    </tr>\n",
       "  </thead>\n",
       "  <tbody>\n",
       "    <tr>\n",
       "      <th>0</th>\n",
       "      <td>WHITE WALKERS</td>\n",
       "      <td>₹599</td>\n",
       "      <td>50% off</td>\n",
       "    </tr>\n",
       "    <tr>\n",
       "      <th>1</th>\n",
       "      <td>KNIGHT WALKERS</td>\n",
       "      <td>₹699</td>\n",
       "      <td>65% off</td>\n",
       "    </tr>\n",
       "    <tr>\n",
       "      <th>2</th>\n",
       "      <td>BAUCHHAAR</td>\n",
       "      <td>₹449</td>\n",
       "      <td>55% off</td>\n",
       "    </tr>\n",
       "    <tr>\n",
       "      <th>3</th>\n",
       "      <td>aadi</td>\n",
       "      <td>₹399</td>\n",
       "      <td>80% off</td>\n",
       "    </tr>\n",
       "    <tr>\n",
       "      <th>4</th>\n",
       "      <td>PUMA</td>\n",
       "      <td>₹1,899</td>\n",
       "      <td>36% off</td>\n",
       "    </tr>\n",
       "  </tbody>\n",
       "</table>\n",
       "</div>"
      ],
      "text/plain": [
       "       Brand Name Product Price Product Discount\n",
       "0   WHITE WALKERS          ₹599          50% off\n",
       "1  KNIGHT WALKERS          ₹699          65% off\n",
       "2       BAUCHHAAR          ₹449          55% off\n",
       "3            aadi          ₹399          80% off\n",
       "4            PUMA        ₹1,899          36% off"
      ]
     },
     "execution_count": 61,
     "metadata": {},
     "output_type": "execute_result"
    }
   ],
   "source": [
    "# Dataframe of 40 sunglasses on 3rd page.\n",
    "sneaker3=pd.DataFrame()\n",
    "sneaker3['Brand Name']=labels\n",
    "sneaker3['Product Price']=sells\n",
    "sneaker3['Product Discount']=Price_cut\n",
    "sneaker3.head(5)"
   ]
  },
  {
   "cell_type": "code",
   "execution_count": 63,
   "id": "56766780",
   "metadata": {},
   "outputs": [
    {
     "data": {
      "text/html": [
       "<div>\n",
       "<style scoped>\n",
       "    .dataframe tbody tr th:only-of-type {\n",
       "        vertical-align: middle;\n",
       "    }\n",
       "\n",
       "    .dataframe tbody tr th {\n",
       "        vertical-align: top;\n",
       "    }\n",
       "\n",
       "    .dataframe thead th {\n",
       "        text-align: right;\n",
       "    }\n",
       "</style>\n",
       "<table border=\"1\" class=\"dataframe\">\n",
       "  <thead>\n",
       "    <tr style=\"text-align: right;\">\n",
       "      <th></th>\n",
       "      <th>Brand Name</th>\n",
       "      <th>Product Price</th>\n",
       "      <th>Product Discount</th>\n",
       "    </tr>\n",
       "  </thead>\n",
       "  <tbody>\n",
       "    <tr>\n",
       "      <th>0</th>\n",
       "      <td>Anugrahappradha</td>\n",
       "      <td>₹699</td>\n",
       "      <td>76% off</td>\n",
       "    </tr>\n",
       "    <tr>\n",
       "      <th>1</th>\n",
       "      <td>aadi</td>\n",
       "      <td>₹399</td>\n",
       "      <td>80% off</td>\n",
       "    </tr>\n",
       "    <tr>\n",
       "      <th>2</th>\n",
       "      <td>PUMA</td>\n",
       "      <td>₹2,029</td>\n",
       "      <td>42% off</td>\n",
       "    </tr>\n",
       "    <tr>\n",
       "      <th>3</th>\n",
       "      <td>BRUTON</td>\n",
       "      <td>₹269</td>\n",
       "      <td>79% off</td>\n",
       "    </tr>\n",
       "    <tr>\n",
       "      <th>4</th>\n",
       "      <td>URBANBOX</td>\n",
       "      <td>₹198</td>\n",
       "      <td>80% off</td>\n",
       "    </tr>\n",
       "    <tr>\n",
       "      <th>...</th>\n",
       "      <td>...</td>\n",
       "      <td>...</td>\n",
       "      <td>...</td>\n",
       "    </tr>\n",
       "    <tr>\n",
       "      <th>15</th>\n",
       "      <td>ASTEROID</td>\n",
       "      <td>₹549</td>\n",
       "      <td>72% off</td>\n",
       "    </tr>\n",
       "    <tr>\n",
       "      <th>16</th>\n",
       "      <td>Magnolia</td>\n",
       "      <td>₹424</td>\n",
       "      <td>57% off</td>\n",
       "    </tr>\n",
       "    <tr>\n",
       "      <th>17</th>\n",
       "      <td>LE GREEM</td>\n",
       "      <td>₹499</td>\n",
       "      <td>50% off</td>\n",
       "    </tr>\n",
       "    <tr>\n",
       "      <th>18</th>\n",
       "      <td>KNIGHT WALKERS</td>\n",
       "      <td>₹648</td>\n",
       "      <td>56% off</td>\n",
       "    </tr>\n",
       "    <tr>\n",
       "      <th>19</th>\n",
       "      <td>Viv</td>\n",
       "      <td>₹699</td>\n",
       "      <td>46% off</td>\n",
       "    </tr>\n",
       "  </tbody>\n",
       "</table>\n",
       "<p>100 rows × 3 columns</p>\n",
       "</div>"
      ],
      "text/plain": [
       "         Brand Name Product Price Product Discount\n",
       "0   Anugrahappradha          ₹699          76% off\n",
       "1              aadi          ₹399          80% off\n",
       "2              PUMA        ₹2,029          42% off\n",
       "3            BRUTON          ₹269          79% off\n",
       "4          URBANBOX          ₹198          80% off\n",
       "..              ...           ...              ...\n",
       "15         ASTEROID          ₹549          72% off\n",
       "16         Magnolia          ₹424          57% off\n",
       "17         LE GREEM          ₹499          50% off\n",
       "18   KNIGHT WALKERS          ₹648          56% off\n",
       "19              Viv          ₹699          46% off\n",
       "\n",
       "[100 rows x 3 columns]"
      ]
     },
     "execution_count": 63,
     "metadata": {},
     "output_type": "execute_result"
    }
   ],
   "source": [
    "# Combining the three dataframes in one.\n",
    "Sneakers=pd.concat([sneaker1,sneaker2,sneaker3])\n",
    "Sneakers.head(100)"
   ]
  },
  {
   "cell_type": "code",
   "execution_count": 3,
   "id": "df8ba55e",
   "metadata": {},
   "outputs": [],
   "source": [
    "#Q8: Go to the link - https://www.amazon.in, Scrape this website.\n",
    "url='https://www.amazon.in'\n",
    "driver.get(url)"
   ]
  },
  {
   "cell_type": "code",
   "execution_count": 7,
   "id": "5ab081b3",
   "metadata": {},
   "outputs": [
    {
     "data": {
      "text/plain": [
       "<selenium.webdriver.remote.webelement.WebElement (session=\"3d6fc5a00ce357ad16939e78d0f8a566\", element=\"7157ba18-5563-4896-a563-24cce932088e\")>"
      ]
     },
     "execution_count": 7,
     "metadata": {},
     "output_type": "execute_result"
    }
   ],
   "source": [
    "filter= driver.find_element(\"xpath\",'/html/body/div[1]/header/div/div[1]/div[2]/div/form/div[2]/div[1]/input')\n",
    "filter"
   ]
  },
  {
   "cell_type": "code",
   "execution_count": 8,
   "id": "e4231f66",
   "metadata": {},
   "outputs": [],
   "source": [
    "filter.send_keys('laptop')"
   ]
  },
  {
   "cell_type": "code",
   "execution_count": 9,
   "id": "934b5ee0",
   "metadata": {},
   "outputs": [
    {
     "data": {
      "text/plain": [
       "<selenium.webdriver.remote.webelement.WebElement (session=\"3d6fc5a00ce357ad16939e78d0f8a566\", element=\"7d56a0ee-b8bd-45cd-9461-411557847f9a\")>"
      ]
     },
     "execution_count": 9,
     "metadata": {},
     "output_type": "execute_result"
    }
   ],
   "source": [
    "search_button=driver.find_element(\"xpath\",'/html/body/div[1]/header/div/div[1]/div[2]/div/form/div[3]/div/span/input')\n",
    "search_button"
   ]
  },
  {
   "cell_type": "code",
   "execution_count": 10,
   "id": "1ffef638",
   "metadata": {},
   "outputs": [],
   "source": [
    "search_button.click()"
   ]
  },
  {
   "cell_type": "code",
   "execution_count": 12,
   "id": "41ade84e",
   "metadata": {},
   "outputs": [
    {
     "data": {
      "text/plain": [
       "<selenium.webdriver.remote.webelement.WebElement (session=\"3d6fc5a00ce357ad16939e78d0f8a566\", element=\"d3ad76c5-6ce8-439a-9824-33331bd47d82\")>"
      ]
     },
     "execution_count": 12,
     "metadata": {},
     "output_type": "execute_result"
    }
   ],
   "source": [
    "filter3=driver.find_element(\"xpath\",'/html/body/div[1]/div[2]/div[1]/div[2]/div/div[3]/span/div[1]/div/div/div[6]/ul[4]/li[14]/span/a/div')\n",
    "filter3"
   ]
  },
  {
   "cell_type": "code",
   "execution_count": 14,
   "id": "e431c891",
   "metadata": {},
   "outputs": [],
   "source": [
    "filter3.click()"
   ]
  },
  {
   "cell_type": "code",
   "execution_count": 15,
   "id": "72b1c806",
   "metadata": {},
   "outputs": [
    {
     "data": {
      "text/plain": [
       "24"
      ]
     },
     "execution_count": 15,
     "metadata": {},
     "output_type": "execute_result"
    }
   ],
   "source": [
    "title_tag= driver.find_elements(\"xpath\",'//div[@class=\"a-section a-spacing-none s-padding-right-small s-title-instructions-style\"]')\n",
    "len(title_tag)"
   ]
  },
  {
   "cell_type": "code",
   "execution_count": 16,
   "id": "6c144197",
   "metadata": {},
   "outputs": [
    {
     "data": {
      "text/plain": [
       "24"
      ]
     },
     "execution_count": 16,
     "metadata": {},
     "output_type": "execute_result"
    }
   ],
   "source": [
    "Titles=[]\n",
    "for i in title_tag:\n",
    "    Titles.append(i.text)\n",
    "len(Titles)    "
   ]
  },
  {
   "cell_type": "code",
   "execution_count": 17,
   "id": "ec07c049",
   "metadata": {},
   "outputs": [
    {
     "data": {
      "text/plain": [
       "['Samsung Galaxy Book2 Intel 12th Gen core i7 39.6cm (15.6\") FHD LED Thin & Light Laptop (16 GB/512 GB SSD/Windows 11/MS Office/Backlit Keyboard/Fingerprint Reader/Silver/1.55Kg), NP750XED-KC2IN',\n",
       " 'ASUS TUF Gaming F15 (2021), 15.6\" (39.62 cms) FHD 144Hz, Intel Core i7-11600H 11th Gen, 4GB RTX 3050 Graphics, Gaming Laptop (16GB/512GB SSD/Windows 10/Office 2019/Gray/2.3 Kg), FX566HCB-HN299TS',\n",
       " 'HP Pavilion 14 12th Gen Intel Core i7 16GB SDRAM/1TB SSD 14 inch(35.6cm) FHD,IPS,Micro-Edge Display/Intel UHD Graphics/B&O/Win 11/Alexa Built-in/Backlit KB/FPR/MSO 2021/Natural Silver, 14-dv2015TU',\n",
       " 'Lenovo IdeaPad Slim 5 Pro Intel Core i7 11th Gen 14\" (35.56cm) 2.2K IPS Thin & Light Laptop (16GB/512GB SSD/Win11/Office 2021/Backlit/3Yr Warranty/3months Game Pass/Storm Grey/1.38Kg), 82L3006YIN',\n",
       " 'Hp Pavilion X360 11Th Gen Intel Core I7 14 Inches Fhd Multitouch 2In1 Laptop (16Gb Ram/512Gb Ssd/B&O/Windows 11 Home/Fpr/Backlit Kb/Intel Iris Xe Graphics/Pen/Alexa/Ms Office/Silver/1.52Kg)14-Dy1047Tu',\n",
       " 'ASUS Vivobook 15, 15.6-inch (39.62 cms) FHD, Intel Core i7-1065G7 10th Gen, Thin and Light Laptop (16GB/512GB SSD/Iris Plus Graphics/Windows 11/Office 2021/Silver/1.8 kg), X515JA-EJ701WS',\n",
       " 'LG Gram 17 Intel Evo 11th Gen i7 Thin & Light Laptop 2K+ IPS 16:10 Display [16 GB RAM/ 512 GB SSD/ Windows 11 / Iris Xe Graphics/ Thunderbolt 4/ USC -C x 2 / 1.35 kg, Black/ 3Yr Warranty] 17Z90P',\n",
       " 'Lenovo ThinkBook 13s Intel 11th Gen Core i7 13.3\"(33.78 cm) WQXGA IPS 300 nits 100% sRGB Dolby Vision Thin and Light Laptop (16GB/512GB SSD/Windows 10 Professional/Mineral Grey/1.26 Kg), 20V9A032IH',\n",
       " 'ASUS Zenbook 14 OLED (2022), 14\" (35.56 cms) 2.8K OLED 16:10 90Hz, Intel Core Evo i7-1260P 12th Gen, Thin and Light Laptop (16GB/512GB SSD/Windows 11/Office 2021/Blue/1.39 kg), UX3402ZA-KM731WS',\n",
       " 'Lenovo ThinkBook 15 Intel 11th Gen Core i7 15.6\"(39.62 cm)FHD Thin and Light Laptop (16GB/512GB SSD/Windows 11 Home/MS Office H&S 2021/Iris® Xe Graphics/Backlit/Mineral Grey/1.7 Kg) 20VE00W4IH',\n",
       " 'Hp Pavilion 15 12Th Gen Intel Core I7 16Gb Sdram/1Tb Ssd 15.6 Inches (39.6Cm) Fhd,IPS/Intel Iris Xe Graphics/B&O/Windows 11 Home/Alexa/Backlit Kb/Fpr/Mso 2021/1.75Kg, 15-Eg2039Tu, Natural Silver',\n",
       " '(Renewed) Dell Intel Core i7 7th Gen 14.Inch(35.6 cms) (1920 x 1080)FHD TOUCHSCREEN Laptop (32GB RAM/512GB SSD/Windows 10 Pro/MS Office/Intel HD Integrated Graphics/ Black/1.18Kg,Black) Latitude E7480',\n",
       " 'Fujitsu UH-X 11th Gen Intel Core i7 13.3” FHD IPS 400Nits Thin & Light Laptop(16GB/512GB SSD/Windows 11/Office 2021/Iris Xe Graphics/Backlit Kb/Fingerprint Reader/2Yr Warranty/Black/878gms),4ZR1F38024',\n",
       " 'Lenovo ThinkPad E14 Intel Core i7 11th Gen 14-inch (35.56cm) FHD TN Antiglare Thin and Light Laptop (16GB RAM/512GB SSD/Windows 11 Home/Microsoft Office H&S 2021/FPR/Black/1.59 kg), 20TAS1B400',\n",
       " '(Renewed) Dell Intel Core i7 7th Gen 14.Inch(35.6 cms) (1920 x 1080)FHD TOUCHSCREEN Laptop (32GB RAM /2TB HDD/Windows 10 Pro/MS Office/Intel HD Integrated Graphics/ Black/1.18Kg,Black) Latitude E7480',\n",
       " '(Renewed) Dell Latitude E7470 Intel Core i7 6th Gen 14 inches Laptop /16 GB RAM/512 GB SSD/Windows 10 Pro/MS Office/HD Display/Integrated Graphics, 1.9 kg',\n",
       " 'Fujitsu UH-X 11th Gen Intel Core i7 13.3\" FHD IPS 400Nits 2-in1 Touch Convertible Laptop (16GB/1TB SSD/Windows 11/MS Office 2021/Iris Xe Graphics/2 Yr Warranty/Backlit Kb/Black/0.997 kg, 4ZR1F38027)',\n",
       " \"(Renewed) DELL LATITUDE 7490 (CORE I7 8TH GEN/8GB/512GB SSD/WEBCAM/14'' TOUCH/WIN-10 PRO)\",\n",
       " '(Renewed) HP Omen Core i7 9th Gen 15.6-inch FHD Gaming Laptop (16GB/1TB HDD + 512GB SSD/Windows 10/NVIDIA GTX 1650 4GB Graphics/Shadow Black), 15-dh0135TX',\n",
       " 'Infinix INBook X1 Pro Core i7 10th Gen - (16 GB/512 GB SSD/Windows 11 Home) XL12 Thin and Light Laptop (14 Inch, Noble Red, 1.48 kg)',\n",
       " 'ASUS Vivobook S15 OLED (2022), 15.6\" (39.62 cms) FHD OLED, Intel Core Evo i7-12700H 12th Gen, Thin and Light Laptop (16GB/512GB SSD/Iris Xe Graphics/Windows 11/Office 2021/Grey/1.8 kg), K3502ZA-L701WS',\n",
       " '(Renewed) Dell Latitude Laptop E7250 Intel Core i7 - 5600u Processor, 8 GB Ram & 256 GB SSD, 12.5 Inches Ultralight Notebook Computer (1.35 Kg)',\n",
       " '(Renewed) ASUS VivoBook 14 (2021), 14-inch (35.56 cms) FHD, Intel Core i7-1065G7 10th Gen, Thin and Light Laptop (16GB/512GB SSD/Integrated Graphics/Office 2021/Windows 11/Silver/1.6 Kg), X415JA-EK701WS',\n",
       " '(Renewed) Dell Latitude e5480 Intel Core i7 6th Gen 14 inches Laptop /8 GB RAM/256 GB SSD/Windows 10 Pro/MS Office/HD Display/Integrated Graphics, 1.8 kg']"
      ]
     },
     "execution_count": 17,
     "metadata": {},
     "output_type": "execute_result"
    }
   ],
   "source": [
    "Titles"
   ]
  },
  {
   "cell_type": "code",
   "execution_count": 28,
   "id": "e6bf41b5",
   "metadata": {},
   "outputs": [
    {
     "data": {
      "text/plain": [
       "24"
      ]
     },
     "execution_count": 28,
     "metadata": {},
     "output_type": "execute_result"
    }
   ],
   "source": [
    "price=driver.find_elements(\"xpath\",'//span[@class=\"a-price-whole\"]')\n",
    "len(price)"
   ]
  },
  {
   "cell_type": "code",
   "execution_count": 29,
   "id": "554ef4df",
   "metadata": {},
   "outputs": [
    {
     "data": {
      "text/plain": [
       "24"
      ]
     },
     "execution_count": 29,
     "metadata": {},
     "output_type": "execute_result"
    }
   ],
   "source": [
    "prices=[]\n",
    "for i in price:\n",
    "    prices.append(i.text)\n",
    "len(prices)    "
   ]
  },
  {
   "cell_type": "code",
   "execution_count": 30,
   "id": "2be90a14",
   "metadata": {},
   "outputs": [
    {
     "data": {
      "text/plain": [
       "['79,990',\n",
       " '89,990',\n",
       " '86,990',\n",
       " '75,203',\n",
       " '83,603',\n",
       " '57,890',\n",
       " '95,999',\n",
       " '89,990',\n",
       " '1,04,990',\n",
       " '86,990',\n",
       " '87,990',\n",
       " '55,895',\n",
       " '81,590',\n",
       " '94,990',\n",
       " '56,895',\n",
       " '39,463',\n",
       " '94,090',\n",
       " '38,190',\n",
       " '60,990',\n",
       " '53,999',\n",
       " '94,990',\n",
       " '31,879',\n",
       " '51,490',\n",
       " '34,880']"
      ]
     },
     "execution_count": 30,
     "metadata": {},
     "output_type": "execute_result"
    }
   ],
   "source": [
    "prices"
   ]
  },
  {
   "cell_type": "code",
   "execution_count": 32,
   "id": "d467047b",
   "metadata": {},
   "outputs": [
    {
     "data": {
      "text/html": [
       "<div>\n",
       "<style scoped>\n",
       "    .dataframe tbody tr th:only-of-type {\n",
       "        vertical-align: middle;\n",
       "    }\n",
       "\n",
       "    .dataframe tbody tr th {\n",
       "        vertical-align: top;\n",
       "    }\n",
       "\n",
       "    .dataframe thead th {\n",
       "        text-align: right;\n",
       "    }\n",
       "</style>\n",
       "<table border=\"1\" class=\"dataframe\">\n",
       "  <thead>\n",
       "    <tr style=\"text-align: right;\">\n",
       "      <th></th>\n",
       "      <th>Brand Name</th>\n",
       "      <th>Price</th>\n",
       "    </tr>\n",
       "  </thead>\n",
       "  <tbody>\n",
       "    <tr>\n",
       "      <th>0</th>\n",
       "      <td>Samsung Galaxy Book2 Intel 12th Gen core i7 39...</td>\n",
       "      <td>79,990</td>\n",
       "    </tr>\n",
       "    <tr>\n",
       "      <th>1</th>\n",
       "      <td>ASUS TUF Gaming F15 (2021), 15.6\" (39.62 cms) ...</td>\n",
       "      <td>89,990</td>\n",
       "    </tr>\n",
       "    <tr>\n",
       "      <th>2</th>\n",
       "      <td>HP Pavilion 14 12th Gen Intel Core i7 16GB SDR...</td>\n",
       "      <td>86,990</td>\n",
       "    </tr>\n",
       "    <tr>\n",
       "      <th>3</th>\n",
       "      <td>Lenovo IdeaPad Slim 5 Pro Intel Core i7 11th G...</td>\n",
       "      <td>75,203</td>\n",
       "    </tr>\n",
       "    <tr>\n",
       "      <th>4</th>\n",
       "      <td>Hp Pavilion X360 11Th Gen Intel Core I7 14 Inc...</td>\n",
       "      <td>83,603</td>\n",
       "    </tr>\n",
       "    <tr>\n",
       "      <th>5</th>\n",
       "      <td>ASUS Vivobook 15, 15.6-inch (39.62 cms) FHD, I...</td>\n",
       "      <td>57,890</td>\n",
       "    </tr>\n",
       "    <tr>\n",
       "      <th>6</th>\n",
       "      <td>LG Gram 17 Intel Evo 11th Gen i7 Thin &amp; Light ...</td>\n",
       "      <td>95,999</td>\n",
       "    </tr>\n",
       "    <tr>\n",
       "      <th>7</th>\n",
       "      <td>Lenovo ThinkBook 13s Intel 11th Gen Core i7 13...</td>\n",
       "      <td>89,990</td>\n",
       "    </tr>\n",
       "    <tr>\n",
       "      <th>8</th>\n",
       "      <td>ASUS Zenbook 14 OLED (2022), 14\" (35.56 cms) 2...</td>\n",
       "      <td>1,04,990</td>\n",
       "    </tr>\n",
       "    <tr>\n",
       "      <th>9</th>\n",
       "      <td>Lenovo ThinkBook 15 Intel 11th Gen Core i7 15....</td>\n",
       "      <td>86,990</td>\n",
       "    </tr>\n",
       "  </tbody>\n",
       "</table>\n",
       "</div>"
      ],
      "text/plain": [
       "                                          Brand Name     Price\n",
       "0  Samsung Galaxy Book2 Intel 12th Gen core i7 39...    79,990\n",
       "1  ASUS TUF Gaming F15 (2021), 15.6\" (39.62 cms) ...    89,990\n",
       "2  HP Pavilion 14 12th Gen Intel Core i7 16GB SDR...    86,990\n",
       "3  Lenovo IdeaPad Slim 5 Pro Intel Core i7 11th G...    75,203\n",
       "4  Hp Pavilion X360 11Th Gen Intel Core I7 14 Inc...    83,603\n",
       "5  ASUS Vivobook 15, 15.6-inch (39.62 cms) FHD, I...    57,890\n",
       "6  LG Gram 17 Intel Evo 11th Gen i7 Thin & Light ...    95,999\n",
       "7  Lenovo ThinkBook 13s Intel 11th Gen Core i7 13...    89,990\n",
       "8  ASUS Zenbook 14 OLED (2022), 14\" (35.56 cms) 2...  1,04,990\n",
       "9  Lenovo ThinkBook 15 Intel 11th Gen Core i7 15....    86,990"
      ]
     },
     "execution_count": 32,
     "metadata": {},
     "output_type": "execute_result"
    }
   ],
   "source": [
    "laptop=pd.DataFrame()\n",
    "laptop['Brand Name']= Titles\n",
    "laptop['Price']=prices\n",
    "laptop.head(10)"
   ]
  },
  {
   "cell_type": "code",
   "execution_count": 3,
   "id": "269da135",
   "metadata": {},
   "outputs": [],
   "source": [
    "#Q9: Write a python program to scrape data for first 10 job results for Data Scientist Designation in Noida location.\n",
    "\n",
    "url='https://www.ambitionbox.com/'\n",
    "driver.get(url)"
   ]
  },
  {
   "cell_type": "code",
   "execution_count": 10,
   "id": "bdd7164f",
   "metadata": {},
   "outputs": [
    {
     "data": {
      "text/plain": [
       "<selenium.webdriver.remote.webelement.WebElement (session=\"d8544753b01366371c3827d0594cef5b\", element=\"8194b151-c968-411e-9ce8-9be3e53f2ccc\")>"
      ]
     },
     "execution_count": 10,
     "metadata": {},
     "output_type": "execute_result"
    }
   ],
   "source": [
    "search_bar=driver.find_element(\"xpath\",'/html/body/div/div/div/div[2]/div[1]/div[1]/div/div/div/div/span/input')\n",
    "search_bar"
   ]
  },
  {
   "cell_type": "code",
   "execution_count": 11,
   "id": "03f4d88d",
   "metadata": {},
   "outputs": [],
   "source": [
    "search_bar.send_keys('Data Scientists')"
   ]
  },
  {
   "cell_type": "code",
   "execution_count": 12,
   "id": "d694dac9",
   "metadata": {},
   "outputs": [
    {
     "data": {
      "text/plain": [
       "<selenium.webdriver.remote.webelement.WebElement (session=\"d8544753b01366371c3827d0594cef5b\", element=\"df326394-2851-4d92-918a-ffa71f96b02e\")>"
      ]
     },
     "execution_count": 12,
     "metadata": {},
     "output_type": "execute_result"
    }
   ],
   "source": [
    "search_btn1=driver.find_element(\"xpath\",'/html/body/div/div/div/div[2]/div[1]/div[1]/div/div/div/button')\n",
    "search_btn1"
   ]
  },
  {
   "cell_type": "code",
   "execution_count": 13,
   "id": "209e0d56",
   "metadata": {},
   "outputs": [],
   "source": [
    "search_btn1.click()"
   ]
  },
  {
   "cell_type": "code",
   "execution_count": 19,
   "id": "69258aac",
   "metadata": {},
   "outputs": [
    {
     "data": {
      "text/plain": [
       "10"
      ]
     },
     "execution_count": 19,
     "metadata": {},
     "output_type": "execute_result"
    }
   ],
   "source": [
    "title_tag=driver.find_elements(\"xpath\",'//p[@class=\"company body-medium\"]')\n",
    "len(title_tag)"
   ]
  },
  {
   "cell_type": "code",
   "execution_count": 20,
   "id": "fbc4946a",
   "metadata": {},
   "outputs": [
    {
     "data": {
      "text/plain": [
       "10"
      ]
     },
     "execution_count": 20,
     "metadata": {},
     "output_type": "execute_result"
    }
   ],
   "source": [
    "Titles=[]\n",
    "for i in title_tag:\n",
    "    Titles.append(i.text)\n",
    "len(Titles)    "
   ]
  },
  {
   "cell_type": "code",
   "execution_count": 21,
   "id": "c53806d6",
   "metadata": {},
   "outputs": [
    {
     "data": {
      "text/plain": [
       "['Optum Global Solutions (India) Private Limited',\n",
       " 'Deloitte',\n",
       " 'UNBXD Software Pvt Ltd',\n",
       " 'Reval India Pvt. Ltd.',\n",
       " 'Multi Recruit',\n",
       " 'ION',\n",
       " 'EinNel Technologies',\n",
       " 'Cogmac Technologies',\n",
       " 'Nibha Infotech Private Limited',\n",
       " 'Zdaly']"
      ]
     },
     "execution_count": 21,
     "metadata": {},
     "output_type": "execute_result"
    }
   ],
   "source": [
    "Titles"
   ]
  },
  {
   "cell_type": "code",
   "execution_count": 22,
   "id": "4d1ec7f5",
   "metadata": {},
   "outputs": [
    {
     "data": {
      "text/plain": [
       "20"
      ]
     },
     "execution_count": 22,
     "metadata": {},
     "output_type": "execute_result"
    }
   ],
   "source": [
    "days=driver.find_elements(\"xpath\",'//span[@class=\"body-small-l\"]')\n",
    "len(days)"
   ]
  },
  {
   "cell_type": "code",
   "execution_count": 23,
   "id": "2ccb9427",
   "metadata": {},
   "outputs": [
    {
     "data": {
      "text/plain": [
       "20"
      ]
     },
     "execution_count": 23,
     "metadata": {},
     "output_type": "execute_result"
    }
   ],
   "source": [
    "Days=[]\n",
    "for i in days:\n",
    "    Days.append(i.text)\n",
    "len(Days)    "
   ]
  },
  {
   "cell_type": "code",
   "execution_count": 24,
   "id": "1e39cf0e",
   "metadata": {},
   "outputs": [
    {
     "data": {
      "text/plain": [
       "['6d ago',\n",
       " 'via naukri.com',\n",
       " '11d ago',\n",
       " 'via naukri.com',\n",
       " '2mon ago',\n",
       " 'via naukri.com',\n",
       " '25d ago',\n",
       " 'via naukri.com',\n",
       " '10mon ago',\n",
       " 'via naukri.com',\n",
       " '2mon ago',\n",
       " 'via naukri.com',\n",
       " '11mon ago',\n",
       " 'via naukri.com',\n",
       " '2y ago',\n",
       " 'via naukri.com',\n",
       " '1mon ago',\n",
       " 'via naukri.com',\n",
       " '3y ago',\n",
       " 'via naukri.com']"
      ]
     },
     "execution_count": 24,
     "metadata": {},
     "output_type": "execute_result"
    }
   ],
   "source": [
    "Days"
   ]
  },
  {
   "cell_type": "code",
   "execution_count": 33,
   "id": "4aa85905",
   "metadata": {},
   "outputs": [],
   "source": [
    "Day=Days[0::2]"
   ]
  },
  {
   "cell_type": "code",
   "execution_count": 39,
   "id": "4aeccd55",
   "metadata": {},
   "outputs": [
    {
     "data": {
      "text/plain": [
       "10"
      ]
     },
     "execution_count": 39,
     "metadata": {},
     "output_type": "execute_result"
    }
   ],
   "source": [
    "len(Day)"
   ]
  },
  {
   "cell_type": "code",
   "execution_count": 35,
   "id": "3adb4b76",
   "metadata": {},
   "outputs": [
    {
     "data": {
      "text/plain": [
       "9"
      ]
     },
     "execution_count": 35,
     "metadata": {},
     "output_type": "execute_result"
    }
   ],
   "source": [
    "rate=driver.find_elements(\"xpath\",'//span[@class=\"body-small\"]')\n",
    "len(rate)"
   ]
  },
  {
   "cell_type": "code",
   "execution_count": 36,
   "id": "12285628",
   "metadata": {},
   "outputs": [
    {
     "data": {
      "text/plain": [
       "9"
      ]
     },
     "execution_count": 36,
     "metadata": {},
     "output_type": "execute_result"
    }
   ],
   "source": [
    "rates=[]\n",
    "for i in rate:\n",
    "    rates.append(i.text)\n",
    "len(rates)\n"
   ]
  },
  {
   "cell_type": "code",
   "execution_count": 37,
   "id": "40f1c8b5",
   "metadata": {},
   "outputs": [
    {
     "data": {
      "text/plain": [
       "['4.1', '4.1', '4.2', '5.0', '4.5', '3.6', '3.6', '5.0', '2.0']"
      ]
     },
     "execution_count": 37,
     "metadata": {},
     "output_type": "execute_result"
    }
   ],
   "source": [
    "rates"
   ]
  },
  {
   "cell_type": "code",
   "execution_count": 40,
   "id": "2ebf6663",
   "metadata": {},
   "outputs": [
    {
     "data": {
      "text/html": [
       "<div>\n",
       "<style scoped>\n",
       "    .dataframe tbody tr th:only-of-type {\n",
       "        vertical-align: middle;\n",
       "    }\n",
       "\n",
       "    .dataframe tbody tr th {\n",
       "        vertical-align: top;\n",
       "    }\n",
       "\n",
       "    .dataframe thead th {\n",
       "        text-align: right;\n",
       "    }\n",
       "</style>\n",
       "<table border=\"1\" class=\"dataframe\">\n",
       "  <thead>\n",
       "    <tr style=\"text-align: right;\">\n",
       "      <th></th>\n",
       "      <th>Company Name</th>\n",
       "      <th>Days</th>\n",
       "      <th>Company Rating</th>\n",
       "    </tr>\n",
       "  </thead>\n",
       "  <tbody>\n",
       "    <tr>\n",
       "      <th>0</th>\n",
       "      <td>Optum Global Solutions (India) Private Limited</td>\n",
       "      <td>6d ago</td>\n",
       "      <td>4.1</td>\n",
       "    </tr>\n",
       "    <tr>\n",
       "      <th>1</th>\n",
       "      <td>Deloitte</td>\n",
       "      <td>11d ago</td>\n",
       "      <td>4.1</td>\n",
       "    </tr>\n",
       "    <tr>\n",
       "      <th>2</th>\n",
       "      <td>UNBXD Software Pvt Ltd</td>\n",
       "      <td>2mon ago</td>\n",
       "      <td>4.2</td>\n",
       "    </tr>\n",
       "    <tr>\n",
       "      <th>3</th>\n",
       "      <td>Reval India Pvt. Ltd.</td>\n",
       "      <td>25d ago</td>\n",
       "      <td>5.0</td>\n",
       "    </tr>\n",
       "    <tr>\n",
       "      <th>4</th>\n",
       "      <td>Multi Recruit</td>\n",
       "      <td>10mon ago</td>\n",
       "      <td>4.5</td>\n",
       "    </tr>\n",
       "    <tr>\n",
       "      <th>5</th>\n",
       "      <td>ION</td>\n",
       "      <td>2mon ago</td>\n",
       "      <td>3.6</td>\n",
       "    </tr>\n",
       "    <tr>\n",
       "      <th>6</th>\n",
       "      <td>EinNel Technologies</td>\n",
       "      <td>11mon ago</td>\n",
       "      <td>3.6</td>\n",
       "    </tr>\n",
       "    <tr>\n",
       "      <th>7</th>\n",
       "      <td>Cogmac Technologies</td>\n",
       "      <td>2y ago</td>\n",
       "      <td>5.0</td>\n",
       "    </tr>\n",
       "    <tr>\n",
       "      <th>8</th>\n",
       "      <td>Nibha Infotech Private Limited</td>\n",
       "      <td>1mon ago</td>\n",
       "      <td>2.0</td>\n",
       "    </tr>\n",
       "    <tr>\n",
       "      <th>9</th>\n",
       "      <td>Zdaly</td>\n",
       "      <td>3y ago</td>\n",
       "      <td>NaN</td>\n",
       "    </tr>\n",
       "  </tbody>\n",
       "</table>\n",
       "</div>"
      ],
      "text/plain": [
       "                                     Company Name       Days Company Rating\n",
       "0  Optum Global Solutions (India) Private Limited     6d ago            4.1\n",
       "1                                        Deloitte    11d ago            4.1\n",
       "2                          UNBXD Software Pvt Ltd   2mon ago            4.2\n",
       "3                           Reval India Pvt. Ltd.    25d ago            5.0\n",
       "4                                   Multi Recruit  10mon ago            4.5\n",
       "5                                             ION   2mon ago            3.6\n",
       "6                             EinNel Technologies  11mon ago            3.6\n",
       "7                             Cogmac Technologies     2y ago            5.0\n",
       "8                  Nibha Infotech Private Limited   1mon ago            2.0\n",
       "9                                           Zdaly     3y ago            NaN"
      ]
     },
     "execution_count": 40,
     "metadata": {},
     "output_type": "execute_result"
    }
   ],
   "source": [
    "import numpy as np\n",
    "Job=pd.DataFrame()\n",
    "Job['Company Name']=Titles\n",
    "Job['Days']=Day\n",
    "Job['Company Rating']=pd.Series(rates)\n",
    "Job"
   ]
  },
  {
   "cell_type": "code",
   "execution_count": 15,
   "id": "690e3eaf",
   "metadata": {},
   "outputs": [],
   "source": [
    "#Q10: Write a python program to scrape the salary data for Data Scientist designation.\n",
    "\n",
    "url='http://www.ambitionbox.com/'    \n",
    "driver.get(url)"
   ]
  },
  {
   "cell_type": "code",
   "execution_count": 18,
   "id": "ebf2add6",
   "metadata": {},
   "outputs": [
    {
     "data": {
      "text/plain": [
       "<selenium.webdriver.remote.webelement.WebElement (session=\"8825067c6b29d50d31732c4c77348fec\", element=\"2033885b-abb9-4857-af0c-b65b629a9b9d\")>"
      ]
     },
     "execution_count": 18,
     "metadata": {},
     "output_type": "execute_result"
    }
   ],
   "source": [
    "search_btn=driver.find_element(\"xpath\",'/html/body/div/div/div/div[2]/div/div/div/div[1]/span/input')\n",
    "search_btn"
   ]
  },
  {
   "cell_type": "code",
   "execution_count": 19,
   "id": "604e4efe",
   "metadata": {},
   "outputs": [
    {
     "data": {
      "text/plain": [
       "10"
      ]
     },
     "execution_count": 19,
     "metadata": {},
     "output_type": "execute_result"
    }
   ],
   "source": [
    "Exp_tag=driver.find_elements(\"xpath\",'//div[@class=\"sbold-list-header\"]')\n",
    "len(Exp_tag)"
   ]
  },
  {
   "cell_type": "code",
   "execution_count": 20,
   "id": "4fccbc1c",
   "metadata": {},
   "outputs": [
    {
     "data": {
      "text/plain": [
       "10"
      ]
     },
     "execution_count": 20,
     "metadata": {},
     "output_type": "execute_result"
    }
   ],
   "source": [
    "Titles=[]\n",
    "for i in Exp_tag:\n",
    "    Titles.append(i.text)\n",
    "\n",
    "len(Titles)    "
   ]
  },
  {
   "cell_type": "code",
   "execution_count": 21,
   "id": "4212c6d9",
   "metadata": {},
   "outputs": [
    {
     "data": {
      "text/plain": [
       "['3 yrs experience (based on 12 salaries)',\n",
       " '3-4 yrs experience (based on 33 salaries)',\n",
       " '2 yrs experience (based on 15 salaries)',\n",
       " '3-4 yrs experience (based on 32 salaries)',\n",
       " '3-4 yrs experience (based on 21 salaries)',\n",
       " '2-4 yrs experience (based on 89 salaries)',\n",
       " '2-4 yrs experience (based on 51 salaries)',\n",
       " '2-4 yrs experience (based on 57 salaries)',\n",
       " '3-4 yrs experience (based on 21 salaries)',\n",
       " '2-4 yrs experience (based on 69 salaries)']"
      ]
     },
     "execution_count": 21,
     "metadata": {},
     "output_type": "execute_result"
    }
   ],
   "source": [
    "Titles"
   ]
  },
  {
   "cell_type": "code",
   "execution_count": 22,
   "id": "e6fa66fa",
   "metadata": {},
   "outputs": [
    {
     "data": {
      "text/plain": [
       "20"
      ]
     },
     "execution_count": 22,
     "metadata": {},
     "output_type": "execute_result"
    }
   ],
   "source": [
    "min_sal=driver.find_elements(\"xpath\",'//div[@class=\"value body-medium\"]')\n",
    "len(min_sal)"
   ]
  },
  {
   "cell_type": "code",
   "execution_count": 23,
   "id": "f0978b04",
   "metadata": {},
   "outputs": [
    {
     "data": {
      "text/plain": [
       "20"
      ]
     },
     "execution_count": 23,
     "metadata": {},
     "output_type": "execute_result"
    }
   ],
   "source": [
    "Min_sal=[]\n",
    "for i in min_sal:\n",
    "    Min_sal.append(i.text)\n",
    "len(Min_sal)    "
   ]
  },
  {
   "cell_type": "code",
   "execution_count": 24,
   "id": "f76083b8",
   "metadata": {},
   "outputs": [
    {
     "data": {
      "text/plain": [
       "['₹ 25.0L',\n",
       " '₹ 36.0L',\n",
       " '₹ 15.0L',\n",
       " '₹ 26.2L',\n",
       " '₹ 11.0L',\n",
       " '₹ 22.0L',\n",
       " '₹ 11.0L',\n",
       " '₹ 22.5L',\n",
       " '₹ 5.6L',\n",
       " '₹ 26.2L',\n",
       " '₹ 10.0L',\n",
       " '₹ 23.0L',\n",
       " '₹ 9.0L',\n",
       " '₹ 20.0L',\n",
       " '₹ 8.3L',\n",
       " '₹ 21.1L',\n",
       " '₹ 7.6L',\n",
       " '₹ 21.0L',\n",
       " '₹ 7.0L',\n",
       " '₹ 25.0L']"
      ]
     },
     "execution_count": 24,
     "metadata": {},
     "output_type": "execute_result"
    }
   ],
   "source": [
    "Min_sal"
   ]
  },
  {
   "cell_type": "code",
   "execution_count": 25,
   "id": "63cb8d9f",
   "metadata": {},
   "outputs": [
    {
     "data": {
      "text/plain": [
       "['₹ 25.0L',\n",
       " '₹ 15.0L',\n",
       " '₹ 11.0L',\n",
       " '₹ 11.0L',\n",
       " '₹ 5.6L',\n",
       " '₹ 10.0L',\n",
       " '₹ 9.0L',\n",
       " '₹ 8.3L',\n",
       " '₹ 7.6L',\n",
       " '₹ 7.0L']"
      ]
     },
     "execution_count": 25,
     "metadata": {},
     "output_type": "execute_result"
    }
   ],
   "source": [
    "sal=Min_sal[0::2]\n",
    "sal"
   ]
  },
  {
   "cell_type": "code",
   "execution_count": 26,
   "id": "ead613c3",
   "metadata": {},
   "outputs": [
    {
     "data": {
      "text/plain": [
       "20"
      ]
     },
     "execution_count": 26,
     "metadata": {},
     "output_type": "execute_result"
    }
   ],
   "source": [
    "max_sal=driver.find_elements(\"xpath\",'//div[@class=\"value body-medium\"]')\n",
    "len(max_sal)"
   ]
  },
  {
   "cell_type": "code",
   "execution_count": 27,
   "id": "d1e88e43",
   "metadata": {},
   "outputs": [
    {
     "data": {
      "text/plain": [
       "20"
      ]
     },
     "execution_count": 27,
     "metadata": {},
     "output_type": "execute_result"
    }
   ],
   "source": [
    "Max_sal=[]\n",
    "for i in max_sal:\n",
    "    Max_sal.append(i.text)\n",
    "len(Max_sal)    "
   ]
  },
  {
   "cell_type": "code",
   "execution_count": 28,
   "id": "184d31c5",
   "metadata": {},
   "outputs": [
    {
     "data": {
      "text/plain": [
       "['₹ 36.0L',\n",
       " '₹ 26.2L',\n",
       " '₹ 22.0L',\n",
       " '₹ 22.5L',\n",
       " '₹ 26.2L',\n",
       " '₹ 23.0L',\n",
       " '₹ 20.0L',\n",
       " '₹ 21.1L',\n",
       " '₹ 21.0L',\n",
       " '₹ 25.0L']"
      ]
     },
     "execution_count": 28,
     "metadata": {},
     "output_type": "execute_result"
    }
   ],
   "source": [
    "maximun_sal=Max_sal[1::2]\n",
    "maximun_sal"
   ]
  },
  {
   "cell_type": "code",
   "execution_count": 29,
   "id": "df81b904",
   "metadata": {},
   "outputs": [
    {
     "data": {
      "text/plain": [
       "10"
      ]
     },
     "execution_count": 29,
     "metadata": {},
     "output_type": "execute_result"
    }
   ],
   "source": [
    "avg_sal=driver.find_elements(\"xpath\",'//p[@class=\"averageCtc\"]')\n",
    "len(avg_sal)"
   ]
  },
  {
   "cell_type": "code",
   "execution_count": 30,
   "id": "b5522e3b",
   "metadata": {},
   "outputs": [
    {
     "data": {
      "text/plain": [
       "['₹ 30.6L',\n",
       " '₹ 20.8L',\n",
       " '₹ 16.7L',\n",
       " '₹ 15.9L',\n",
       " '₹ 15.7L',\n",
       " '₹ 15.5L',\n",
       " '₹ 14.8L',\n",
       " '₹ 14.0L',\n",
       " '₹ 13.2L',\n",
       " '₹ 12.8L']"
      ]
     },
     "execution_count": 30,
     "metadata": {},
     "output_type": "execute_result"
    }
   ],
   "source": [
    "Avg_sal=[]\n",
    "for i in avg_sal:\n",
    "    Avg_sal.append(i.text)\n",
    "Avg_sal    "
   ]
  },
  {
   "cell_type": "code",
   "execution_count": 31,
   "id": "69d066e6",
   "metadata": {},
   "outputs": [
    {
     "data": {
      "text/plain": [
       "25"
      ]
     },
     "execution_count": 31,
     "metadata": {},
     "output_type": "execute_result"
    }
   ],
   "source": [
    "company=driver.find_elements(\"xpath\",'//div[@class=\"company-info\"]')\n",
    "len(company)"
   ]
  },
  {
   "cell_type": "code",
   "execution_count": 32,
   "id": "253de415",
   "metadata": {},
   "outputs": [
    {
     "data": {
      "text/plain": [
       "['Walmart\\nData Scientist Salary\\n3 yrs experience (based on 12 salaries)',\n",
       " 'Ab Inbev\\nData Scientist Salary\\n3-4 yrs experience (based on 33 salaries)',\n",
       " 'ZS\\nData Scientist Salary\\n2 yrs experience (based on 15 salaries)',\n",
       " 'Optum\\nData Scientist Salary\\n3-4 yrs experience (based on 32 salaries)',\n",
       " 'Reliance Jio\\nData Scientist Salary\\n3-4 yrs experience (based on 21 salaries)',\n",
       " 'Fractal Analytics\\nData Scientist Salary\\n2-4 yrs experience (based on 89 salaries)',\n",
       " 'Tiger Analytics\\nData Scientist Salary\\n2-4 yrs experience (based on 51 salaries)',\n",
       " 'UnitedHealth\\nData Scientist Salary\\n2-4 yrs experience (based on 57 salaries)',\n",
       " 'EXL Service\\nData Scientist Salary\\n3-4 yrs experience (based on 21 salaries)',\n",
       " 'Deloitte\\nData Scientist Salary\\n2-4 yrs experience (based on 69 salaries)',\n",
       " 'TCS\\n3.1\\nSalary Rating \\n42k reviews',\n",
       " '',\n",
       " '',\n",
       " '',\n",
       " '',\n",
       " '',\n",
       " '',\n",
       " '',\n",
       " '',\n",
       " '',\n",
       " '',\n",
       " '',\n",
       " '',\n",
       " '',\n",
       " '']"
      ]
     },
     "execution_count": 32,
     "metadata": {},
     "output_type": "execute_result"
    }
   ],
   "source": [
    "company_name=[]\n",
    "for i in company:\n",
    "    company_name.append(i.text)\n",
    "company_name    "
   ]
  },
  {
   "cell_type": "code",
   "execution_count": 18,
   "id": "1cf3888f",
   "metadata": {},
   "outputs": [],
   "source": [
    "#Q5: Scrape 100 reviews data from flipkart.com for iphone11 phone.\n",
    "\n",
    "url='https://www.flipkart.com/apple-iphone-11-black-64-gb-includes-earpods-power-adapter/product-reviews/itm0f37c2240b217?pid=MOBFKCTSVZAXUHGR&lid=LSTMOBFKCTSVZAXUHGREPBFGI&marketplace=FLIPKART'\n",
    "driver.get(url)"
   ]
  },
  {
   "cell_type": "code",
   "execution_count": 3,
   "id": "017f84be",
   "metadata": {},
   "outputs": [],
   "source": [
    "import requests\n",
    "from bs4 import BeautifulSoup"
   ]
  },
  {
   "cell_type": "code",
   "execution_count": 10,
   "id": "65dd7f61",
   "metadata": {},
   "outputs": [
    {
     "name": "stdout",
     "output_type": "stream",
     "text": [
      "Enter number of pages:10\n",
      "phone in page 1\n",
      "10\n",
      "['Simply awesome', 'Perfect product!', 'Best in the market!', 'Highly recommended', 'Worth every penny', 'Fabulous!', 'Great product', 'Worth every penny', 'Good choice', 'Highly recommended']\n",
      "['5', '5', '5', '5', '5', '5', '5', '5', '4', '5']\n",
      "phone in page 2\n",
      "10\n",
      "['Simply awesome', 'Perfect product!', 'Best in the market!', 'Highly recommended', 'Worth every penny', 'Fabulous!', 'Great product', 'Worth every penny', 'Good choice', 'Highly recommended', 'Simply awesome', 'Perfect product!', 'Best in the market!', 'Highly recommended', 'Worth every penny', 'Fabulous!', 'Great product', 'Worth every penny', 'Good choice', 'Highly recommended']\n",
      "['5', '5', '5', '5', '5', '5', '5', '5', '4', '5', '5', '5', '5', '5', '5', '5', '5', '5', '4', '5']\n",
      "phone in page 3\n",
      "10\n",
      "['Simply awesome', 'Perfect product!', 'Best in the market!', 'Highly recommended', 'Worth every penny', 'Fabulous!', 'Great product', 'Worth every penny', 'Good choice', 'Highly recommended', 'Simply awesome', 'Perfect product!', 'Best in the market!', 'Highly recommended', 'Worth every penny', 'Fabulous!', 'Great product', 'Worth every penny', 'Good choice', 'Highly recommended', 'Simply awesome', 'Perfect product!', 'Best in the market!', 'Highly recommended', 'Worth every penny', 'Fabulous!', 'Great product', 'Worth every penny', 'Good choice', 'Highly recommended']\n",
      "['5', '5', '5', '5', '5', '5', '5', '5', '4', '5', '5', '5', '5', '5', '5', '5', '5', '5', '4', '5', '5', '5', '5', '5', '5', '5', '5', '5', '4', '5']\n",
      "phone in page 4\n",
      "10\n",
      "['Simply awesome', 'Perfect product!', 'Best in the market!', 'Highly recommended', 'Worth every penny', 'Fabulous!', 'Great product', 'Worth every penny', 'Good choice', 'Highly recommended', 'Simply awesome', 'Perfect product!', 'Best in the market!', 'Highly recommended', 'Worth every penny', 'Fabulous!', 'Great product', 'Worth every penny', 'Good choice', 'Highly recommended', 'Simply awesome', 'Perfect product!', 'Best in the market!', 'Highly recommended', 'Worth every penny', 'Fabulous!', 'Great product', 'Worth every penny', 'Good choice', 'Highly recommended', 'Simply awesome', 'Perfect product!', 'Best in the market!', 'Highly recommended', 'Worth every penny', 'Fabulous!', 'Great product', 'Worth every penny', 'Good choice', 'Highly recommended']\n",
      "['5', '5', '5', '5', '5', '5', '5', '5', '4', '5', '5', '5', '5', '5', '5', '5', '5', '5', '4', '5', '5', '5', '5', '5', '5', '5', '5', '5', '4', '5', '5', '5', '5', '5', '5', '5', '5', '5', '4', '5']\n",
      "phone in page 5\n",
      "10\n",
      "['Simply awesome', 'Perfect product!', 'Best in the market!', 'Highly recommended', 'Worth every penny', 'Fabulous!', 'Great product', 'Worth every penny', 'Good choice', 'Highly recommended', 'Simply awesome', 'Perfect product!', 'Best in the market!', 'Highly recommended', 'Worth every penny', 'Fabulous!', 'Great product', 'Worth every penny', 'Good choice', 'Highly recommended', 'Simply awesome', 'Perfect product!', 'Best in the market!', 'Highly recommended', 'Worth every penny', 'Fabulous!', 'Great product', 'Worth every penny', 'Good choice', 'Highly recommended', 'Simply awesome', 'Perfect product!', 'Best in the market!', 'Highly recommended', 'Worth every penny', 'Fabulous!', 'Great product', 'Worth every penny', 'Good choice', 'Highly recommended', 'Simply awesome', 'Perfect product!', 'Best in the market!', 'Highly recommended', 'Worth every penny', 'Fabulous!', 'Great product', 'Worth every penny', 'Good choice', 'Highly recommended']\n",
      "['5', '5', '5', '5', '5', '5', '5', '5', '4', '5', '5', '5', '5', '5', '5', '5', '5', '5', '4', '5', '5', '5', '5', '5', '5', '5', '5', '5', '4', '5', '5', '5', '5', '5', '5', '5', '5', '5', '4', '5', '5', '5', '5', '5', '5', '5', '5', '5', '4', '5']\n",
      "phone in page 6\n",
      "10\n",
      "['Simply awesome', 'Perfect product!', 'Best in the market!', 'Highly recommended', 'Worth every penny', 'Fabulous!', 'Great product', 'Worth every penny', 'Good choice', 'Highly recommended', 'Simply awesome', 'Perfect product!', 'Best in the market!', 'Highly recommended', 'Worth every penny', 'Fabulous!', 'Great product', 'Worth every penny', 'Good choice', 'Highly recommended', 'Simply awesome', 'Perfect product!', 'Best in the market!', 'Highly recommended', 'Worth every penny', 'Fabulous!', 'Great product', 'Worth every penny', 'Good choice', 'Highly recommended', 'Simply awesome', 'Perfect product!', 'Best in the market!', 'Highly recommended', 'Worth every penny', 'Fabulous!', 'Great product', 'Worth every penny', 'Good choice', 'Highly recommended', 'Simply awesome', 'Perfect product!', 'Best in the market!', 'Highly recommended', 'Worth every penny', 'Fabulous!', 'Great product', 'Worth every penny', 'Good choice', 'Highly recommended', 'Simply awesome', 'Perfect product!', 'Best in the market!', 'Highly recommended', 'Worth every penny', 'Fabulous!', 'Great product', 'Worth every penny', 'Good choice', 'Highly recommended']\n",
      "['5', '5', '5', '5', '5', '5', '5', '5', '4', '5', '5', '5', '5', '5', '5', '5', '5', '5', '4', '5', '5', '5', '5', '5', '5', '5', '5', '5', '4', '5', '5', '5', '5', '5', '5', '5', '5', '5', '4', '5', '5', '5', '5', '5', '5', '5', '5', '5', '4', '5', '5', '5', '5', '5', '5', '5', '5', '5', '4', '5']\n",
      "phone in page 7\n",
      "10\n",
      "['Simply awesome', 'Perfect product!', 'Best in the market!', 'Highly recommended', 'Worth every penny', 'Fabulous!', 'Great product', 'Worth every penny', 'Good choice', 'Highly recommended', 'Simply awesome', 'Perfect product!', 'Best in the market!', 'Highly recommended', 'Worth every penny', 'Fabulous!', 'Great product', 'Worth every penny', 'Good choice', 'Highly recommended', 'Simply awesome', 'Perfect product!', 'Best in the market!', 'Highly recommended', 'Worth every penny', 'Fabulous!', 'Great product', 'Worth every penny', 'Good choice', 'Highly recommended', 'Simply awesome', 'Perfect product!', 'Best in the market!', 'Highly recommended', 'Worth every penny', 'Fabulous!', 'Great product', 'Worth every penny', 'Good choice', 'Highly recommended', 'Simply awesome', 'Perfect product!', 'Best in the market!', 'Highly recommended', 'Worth every penny', 'Fabulous!', 'Great product', 'Worth every penny', 'Good choice', 'Highly recommended', 'Simply awesome', 'Perfect product!', 'Best in the market!', 'Highly recommended', 'Worth every penny', 'Fabulous!', 'Great product', 'Worth every penny', 'Good choice', 'Highly recommended', 'Simply awesome', 'Perfect product!', 'Best in the market!', 'Highly recommended', 'Worth every penny', 'Fabulous!', 'Great product', 'Worth every penny', 'Good choice', 'Highly recommended']\n",
      "['5', '5', '5', '5', '5', '5', '5', '5', '4', '5', '5', '5', '5', '5', '5', '5', '5', '5', '4', '5', '5', '5', '5', '5', '5', '5', '5', '5', '4', '5', '5', '5', '5', '5', '5', '5', '5', '5', '4', '5', '5', '5', '5', '5', '5', '5', '5', '5', '4', '5', '5', '5', '5', '5', '5', '5', '5', '5', '4', '5', '5', '5', '5', '5', '5', '5', '5', '5', '4', '5']\n",
      "phone in page 8\n",
      "10\n",
      "['Simply awesome', 'Perfect product!', 'Best in the market!', 'Highly recommended', 'Worth every penny', 'Fabulous!', 'Great product', 'Worth every penny', 'Good choice', 'Highly recommended', 'Simply awesome', 'Perfect product!', 'Best in the market!', 'Highly recommended', 'Worth every penny', 'Fabulous!', 'Great product', 'Worth every penny', 'Good choice', 'Highly recommended', 'Simply awesome', 'Perfect product!', 'Best in the market!', 'Highly recommended', 'Worth every penny', 'Fabulous!', 'Great product', 'Worth every penny', 'Good choice', 'Highly recommended', 'Simply awesome', 'Perfect product!', 'Best in the market!', 'Highly recommended', 'Worth every penny', 'Fabulous!', 'Great product', 'Worth every penny', 'Good choice', 'Highly recommended', 'Simply awesome', 'Perfect product!', 'Best in the market!', 'Highly recommended', 'Worth every penny', 'Fabulous!', 'Great product', 'Worth every penny', 'Good choice', 'Highly recommended', 'Simply awesome', 'Perfect product!', 'Best in the market!', 'Highly recommended', 'Worth every penny', 'Fabulous!', 'Great product', 'Worth every penny', 'Good choice', 'Highly recommended', 'Simply awesome', 'Perfect product!', 'Best in the market!', 'Highly recommended', 'Worth every penny', 'Fabulous!', 'Great product', 'Worth every penny', 'Good choice', 'Highly recommended', 'Simply awesome', 'Perfect product!', 'Best in the market!', 'Highly recommended', 'Worth every penny', 'Fabulous!', 'Great product', 'Worth every penny', 'Good choice', 'Highly recommended']\n",
      "['5', '5', '5', '5', '5', '5', '5', '5', '4', '5', '5', '5', '5', '5', '5', '5', '5', '5', '4', '5', '5', '5', '5', '5', '5', '5', '5', '5', '4', '5', '5', '5', '5', '5', '5', '5', '5', '5', '4', '5', '5', '5', '5', '5', '5', '5', '5', '5', '4', '5', '5', '5', '5', '5', '5', '5', '5', '5', '4', '5', '5', '5', '5', '5', '5', '5', '5', '5', '4', '5', '5', '5', '5', '5', '5', '5', '5', '5', '4', '5']\n",
      "phone in page 9\n",
      "10\n",
      "['Simply awesome', 'Perfect product!', 'Best in the market!', 'Highly recommended', 'Worth every penny', 'Fabulous!', 'Great product', 'Worth every penny', 'Good choice', 'Highly recommended', 'Simply awesome', 'Perfect product!', 'Best in the market!', 'Highly recommended', 'Worth every penny', 'Fabulous!', 'Great product', 'Worth every penny', 'Good choice', 'Highly recommended', 'Simply awesome', 'Perfect product!', 'Best in the market!', 'Highly recommended', 'Worth every penny', 'Fabulous!', 'Great product', 'Worth every penny', 'Good choice', 'Highly recommended', 'Simply awesome', 'Perfect product!', 'Best in the market!', 'Highly recommended', 'Worth every penny', 'Fabulous!', 'Great product', 'Worth every penny', 'Good choice', 'Highly recommended', 'Simply awesome', 'Perfect product!', 'Best in the market!', 'Highly recommended', 'Worth every penny', 'Fabulous!', 'Great product', 'Worth every penny', 'Good choice', 'Highly recommended', 'Simply awesome', 'Perfect product!', 'Best in the market!', 'Highly recommended', 'Worth every penny', 'Fabulous!', 'Great product', 'Worth every penny', 'Good choice', 'Highly recommended', 'Simply awesome', 'Perfect product!', 'Best in the market!', 'Highly recommended', 'Worth every penny', 'Fabulous!', 'Great product', 'Worth every penny', 'Good choice', 'Highly recommended', 'Simply awesome', 'Perfect product!', 'Best in the market!', 'Highly recommended', 'Worth every penny', 'Fabulous!', 'Great product', 'Worth every penny', 'Good choice', 'Highly recommended', 'Simply awesome', 'Perfect product!', 'Best in the market!', 'Highly recommended', 'Worth every penny', 'Fabulous!', 'Great product', 'Worth every penny', 'Good choice', 'Highly recommended']\n",
      "['5', '5', '5', '5', '5', '5', '5', '5', '4', '5', '5', '5', '5', '5', '5', '5', '5', '5', '4', '5', '5', '5', '5', '5', '5', '5', '5', '5', '4', '5', '5', '5', '5', '5', '5', '5', '5', '5', '4', '5', '5', '5', '5', '5', '5', '5', '5', '5', '4', '5', '5', '5', '5', '5', '5', '5', '5', '5', '4', '5', '5', '5', '5', '5', '5', '5', '5', '5', '4', '5', '5', '5', '5', '5', '5', '5', '5', '5', '4', '5', '5', '5', '5', '5', '5', '5', '5', '5', '4', '5']\n",
      "phone in page 10\n",
      "10\n",
      "['Simply awesome', 'Perfect product!', 'Best in the market!', 'Highly recommended', 'Worth every penny', 'Fabulous!', 'Great product', 'Worth every penny', 'Good choice', 'Highly recommended', 'Simply awesome', 'Perfect product!', 'Best in the market!', 'Highly recommended', 'Worth every penny', 'Fabulous!', 'Great product', 'Worth every penny', 'Good choice', 'Highly recommended', 'Simply awesome', 'Perfect product!', 'Best in the market!', 'Highly recommended', 'Worth every penny', 'Fabulous!', 'Great product', 'Worth every penny', 'Good choice', 'Highly recommended', 'Simply awesome', 'Perfect product!', 'Best in the market!', 'Highly recommended', 'Worth every penny', 'Fabulous!', 'Great product', 'Worth every penny', 'Good choice', 'Highly recommended', 'Simply awesome', 'Perfect product!', 'Best in the market!', 'Highly recommended', 'Worth every penny', 'Fabulous!', 'Great product', 'Worth every penny', 'Good choice', 'Highly recommended', 'Simply awesome', 'Perfect product!', 'Best in the market!', 'Highly recommended', 'Worth every penny', 'Fabulous!', 'Great product', 'Worth every penny', 'Good choice', 'Highly recommended', 'Simply awesome', 'Perfect product!', 'Best in the market!', 'Highly recommended', 'Worth every penny', 'Fabulous!', 'Great product', 'Worth every penny', 'Good choice', 'Highly recommended', 'Simply awesome', 'Perfect product!', 'Best in the market!', 'Highly recommended', 'Worth every penny', 'Fabulous!', 'Great product', 'Worth every penny', 'Good choice', 'Highly recommended', 'Simply awesome', 'Perfect product!', 'Best in the market!', 'Highly recommended', 'Worth every penny', 'Fabulous!', 'Great product', 'Worth every penny', 'Good choice', 'Highly recommended', 'Simply awesome', 'Perfect product!', 'Best in the market!', 'Highly recommended', 'Worth every penny', 'Fabulous!', 'Great product', 'Worth every penny', 'Good choice', 'Highly recommended']\n",
      "['5', '5', '5', '5', '5', '5', '5', '5', '4', '5', '5', '5', '5', '5', '5', '5', '5', '5', '4', '5', '5', '5', '5', '5', '5', '5', '5', '5', '4', '5', '5', '5', '5', '5', '5', '5', '5', '5', '4', '5', '5', '5', '5', '5', '5', '5', '5', '5', '4', '5', '5', '5', '5', '5', '5', '5', '5', '5', '4', '5', '5', '5', '5', '5', '5', '5', '5', '5', '4', '5', '5', '5', '5', '5', '5', '5', '5', '5', '4', '5', '5', '5', '5', '5', '5', '5', '5', '5', '4', '5', '5', '5', '5', '5', '5', '5', '5', '5', '4', '5']\n"
     ]
    }
   ],
   "source": [
    "Reviews=[]\n",
    "Ratings=[]\n",
    "page_num=input(\"Enter number of pages:\")\n",
    "for i in range(1,int(page_num)+1):\n",
    "    url='https://www.flipkart.com/apple-iphone-11-black-64-gb-includes-earpods-power-adapter/product-reviews/itm0f37c2240b217?pid=MOBFKCTSVZAXUHGR&lid=LSTMOBFKCTSVZAXUHGREPBFGI&marketplace=FLIPKART'+str(i)\n",
    "    req=requests.get(url)\n",
    "    content=BeautifulSoup(req.content,'html.parser')\n",
    "    review=content.find_all('p',{'class':\"_2-N8zT\"})\n",
    "    rates=content.find_all('div',{'class':\"_3LWZlK _1BLPMq\"})\n",
    "    print(\"phone in page\",str(i))\n",
    "    print(len(review))\n",
    "    \n",
    "    for i in review:\n",
    "        Reviews.append(i.text)\n",
    "    for i in rates:\n",
    "        Ratings.append(i.text)\n",
    "    print(Reviews)\n",
    "    print(Ratings)"
   ]
  },
  {
   "cell_type": "code",
   "execution_count": 12,
   "id": "ab20d3d6",
   "metadata": {},
   "outputs": [
    {
     "data": {
      "text/html": [
       "<div>\n",
       "<style scoped>\n",
       "    .dataframe tbody tr th:only-of-type {\n",
       "        vertical-align: middle;\n",
       "    }\n",
       "\n",
       "    .dataframe tbody tr th {\n",
       "        vertical-align: top;\n",
       "    }\n",
       "\n",
       "    .dataframe thead th {\n",
       "        text-align: right;\n",
       "    }\n",
       "</style>\n",
       "<table border=\"1\" class=\"dataframe\">\n",
       "  <thead>\n",
       "    <tr style=\"text-align: right;\">\n",
       "      <th></th>\n",
       "      <th>Customer Review</th>\n",
       "      <th>Customer Rating</th>\n",
       "    </tr>\n",
       "  </thead>\n",
       "  <tbody>\n",
       "    <tr>\n",
       "      <th>0</th>\n",
       "      <td>Simply awesome</td>\n",
       "      <td>5</td>\n",
       "    </tr>\n",
       "    <tr>\n",
       "      <th>1</th>\n",
       "      <td>Perfect product!</td>\n",
       "      <td>5</td>\n",
       "    </tr>\n",
       "    <tr>\n",
       "      <th>2</th>\n",
       "      <td>Best in the market!</td>\n",
       "      <td>5</td>\n",
       "    </tr>\n",
       "    <tr>\n",
       "      <th>3</th>\n",
       "      <td>Highly recommended</td>\n",
       "      <td>5</td>\n",
       "    </tr>\n",
       "    <tr>\n",
       "      <th>4</th>\n",
       "      <td>Worth every penny</td>\n",
       "      <td>5</td>\n",
       "    </tr>\n",
       "    <tr>\n",
       "      <th>...</th>\n",
       "      <td>...</td>\n",
       "      <td>...</td>\n",
       "    </tr>\n",
       "    <tr>\n",
       "      <th>95</th>\n",
       "      <td>Fabulous!</td>\n",
       "      <td>5</td>\n",
       "    </tr>\n",
       "    <tr>\n",
       "      <th>96</th>\n",
       "      <td>Great product</td>\n",
       "      <td>5</td>\n",
       "    </tr>\n",
       "    <tr>\n",
       "      <th>97</th>\n",
       "      <td>Worth every penny</td>\n",
       "      <td>5</td>\n",
       "    </tr>\n",
       "    <tr>\n",
       "      <th>98</th>\n",
       "      <td>Good choice</td>\n",
       "      <td>4</td>\n",
       "    </tr>\n",
       "    <tr>\n",
       "      <th>99</th>\n",
       "      <td>Highly recommended</td>\n",
       "      <td>5</td>\n",
       "    </tr>\n",
       "  </tbody>\n",
       "</table>\n",
       "<p>100 rows × 2 columns</p>\n",
       "</div>"
      ],
      "text/plain": [
       "        Customer Review Customer Rating\n",
       "0        Simply awesome               5\n",
       "1      Perfect product!               5\n",
       "2   Best in the market!               5\n",
       "3    Highly recommended               5\n",
       "4     Worth every penny               5\n",
       "..                  ...             ...\n",
       "95            Fabulous!               5\n",
       "96        Great product               5\n",
       "97    Worth every penny               5\n",
       "98          Good choice               4\n",
       "99   Highly recommended               5\n",
       "\n",
       "[100 rows x 2 columns]"
      ]
     },
     "execution_count": 12,
     "metadata": {},
     "output_type": "execute_result"
    }
   ],
   "source": [
    "Phone=pd.DataFrame()\n",
    "Phone['Customer Review']=Reviews\n",
    "Phone['Customer Rating']=Ratings\n",
    "Phone"
   ]
  },
  {
   "cell_type": "code",
   "execution_count": null,
   "id": "41183efa",
   "metadata": {},
   "outputs": [],
   "source": []
  }
 ],
 "metadata": {
  "kernelspec": {
   "display_name": "Python 3 (ipykernel)",
   "language": "python",
   "name": "python3"
  },
  "language_info": {
   "codemirror_mode": {
    "name": "ipython",
    "version": 3
   },
   "file_extension": ".py",
   "mimetype": "text/x-python",
   "name": "python",
   "nbconvert_exporter": "python",
   "pygments_lexer": "ipython3",
   "version": "3.9.7"
  }
 },
 "nbformat": 4,
 "nbformat_minor": 5
}
